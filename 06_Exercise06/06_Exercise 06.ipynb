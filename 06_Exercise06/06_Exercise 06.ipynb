{
 "cells": [
  {
   "cell_type": "markdown",
   "metadata": {},
   "source": [
    "# Serie 6\n",
    "\n",
    "## Aufgabe 6.1\n",
    "\n",
    "Ein Weinhändler behauptet, dass die von ihm gefüllten Weinflaschen 70 Zentiliter enthalten. Ein skeptischer Konsument vermutet aber, dass der Weinhändlerzu wenig Wein abfüllt und will diese Behauptung überprüfen. Deshalb kauft er 12 Weinflaschen und misst ihren Inhalt. Er findet:\n",
    "\n",
    "$$ 71, 69, 67, 68, 73, 72, 71, 71, 68, 72, 69, 72\\ \\text{(in Zentiliter)} $$\n",
    "\n",
    "Nehmen Sie zunächst an, dass die Standardabweichung der Abfüllung im Voraus bekannt ist. Sie beträgt $\\sigma = 1.5 Zentiliter$. Da die Standardabweichung der Messungen bekannt ist, können wir einen z-Test durchführen. Führen Sie den (einseitigen; in welche Richtung?) Test auf dem 5%- Signifikanzniveau durch. Geben Sie die Modellannahmen, $H_0$ , $H_A$, den Verwerfungsbereich, den Wert der Teststatistik und das Testergebnis explizit an.\n",
    "\n",
    "\n",
    "Formulieren Sie in einem Satz die Schlussfolgerung für den kritischen Konsumenten."
   ]
  },
  {
   "cell_type": "code",
   "execution_count": null,
   "metadata": {},
   "outputs": [],
   "source": []
  },
  {
   "cell_type": "markdown",
   "metadata": {},
   "source": [
    "## Aufgabe 6.2\n",
    "\n",
    "Ein Weinhändler behauptet, dass die von ihm gefüllten Weinflaschen 70 Zentiliter enthalten. Ein skeptischer Konsument vermutet aber, dass der Weinhändler zu wenig Wein abfüllt und will diese Behauptung überprüfen. Deshalb kauft er 12 Weinflaschen und misst ihren Inhalt. Er findet:\n",
    "\n",
    "$$ 71, 69, 67, 68, 73, 72, 71, 71, 68, 72, 69, 72\\ \\text{(in Zentiliter)} $$\n",
    "\n",
    "Die Standardabweichung der Abfüllungen ist nicht bekannt. Man muss sie also aus den gemachten Stichproben schätzen:\n",
    "\n",
    "$$ \\hat\\sigma_x^2 = \\frac{1}{n-1}\\sum_{i=1}^n{(x_i-\\bar{x})^2} ≈1.96^2 $$\n",
    "\n",
    "Da die Standardabweichung geschätzt wurde und nicht mehr exakt bekannt ist, kann der z-Test nicht durchgeführt werden. Verwenden Sie nun den t-Test auf dem 5%-Signifikanzniveau.\n",
    "\n",
    "Geben Sie die Modellannahmen, $H_0$ , $H_A$ , den Verwerfungsbereich, den Wert der Teststatistik und das Testergebnis explizit an.\n",
    "\n",
    "Was ändert sich an obigem Test?"
   ]
  },
  {
   "cell_type": "code",
   "execution_count": null,
   "metadata": {},
   "outputs": [],
   "source": []
  },
  {
   "cell_type": "markdown",
   "metadata": {},
   "source": [
    "## Aufgabe 6.3\n",
    "\n",
    "Unterhalb einer Kläranlage wurden 16 unabhängige Wasserproben aus einem Fluss entnommen und jeweils deren Ammoniumkonzentration $X_i$ (in $\\mu g$ NH_4-N/l) mit einem Messgerät bestimmt. Der Mittelwert der Proben ergab $\\bar{x}_{16} = 204.2$. Wir wollen nun wissen, ob mit diesem Experiment eine Überschreitung des Grenzwerts von 200$\\mu g$ NH_4-N/l nachgewiesen werden kann (auf dem 5% Niveau).\n",
    "\n",
    "### a)\n",
    "Nehmen Sie an, die Standardabweichung der Messungen sei im Voraus aufgrund früherer Studien bekannt. Sie betrage 10$\\mu g$ NH_4-N/l.\n",
    "\n",
    "Führen Sie unter dieser Annahme einen z-Test durch, um zu prüfen, ob eine Grenzwertüberschreitung nachgewiesen werden kann.\n",
    "\n",
    "Geben Sie die Modellannahmen, $H_0$ , $H_A$ , den Verwerfungsbereich, den Wert der Teststatistik und das Testergebnis explizit an."
   ]
  },
  {
   "cell_type": "code",
   "execution_count": null,
   "metadata": {},
   "outputs": [],
   "source": []
  },
  {
   "cell_type": "markdown",
   "metadata": {},
   "source": [
    "### b)\n",
    "Wie wahrscheinlich ist es, dass man mit 16 unabhängigen Wasserproben eine Grenzwertüberschreitung nachweisen kann, wenn die wahre Ammoniumkonzentration tatsächlich über dem Grenzwert, und zwar bei 205$\\mu g$ NH_4-N/l liegt?"
   ]
  },
  {
   "cell_type": "code",
   "execution_count": null,
   "metadata": {},
   "outputs": [],
   "source": []
  },
  {
   "cell_type": "markdown",
   "metadata": {},
   "source": [
    "### c)\n",
    "Wie wahrscheinlich ist es, dass man mit 16 unabhängigen Wasserproben fälschlicherweise eine Grenzwertüberschreitung nachweist, obwohl die wahre Ammoniumkonzentration bei 200$\\mu g$ NH-4-N/l liegt und den Grenzwert somit genau einhält?"
   ]
  },
  {
   "cell_type": "code",
   "execution_count": null,
   "metadata": {},
   "outputs": [],
   "source": []
  },
  {
   "cell_type": "markdown",
   "metadata": {},
   "source": [
    "### d)\n",
    "Nehmen Sie an, dass die Standardabweichung von 10$\\mu g$/l aus den 16 Proben geschätzt worden ist. Deshalb ist nun ein t-Test (Nullhypothese $\\mu_0$ = 200$\\mu g$/l) und nicht ein z-Test angebracht. Führen Sie den t-Test durch."
   ]
  },
  {
   "cell_type": "code",
   "execution_count": null,
   "metadata": {},
   "outputs": [],
   "source": []
  },
  {
   "cell_type": "markdown",
   "metadata": {},
   "source": [
    "### e)\n",
    "Welche Annahmen des t-Testes könnte verletzt sein und dazu führen, dass der t-Test schlechte Macht hat?"
   ]
  },
  {
   "cell_type": "code",
   "execution_count": null,
   "metadata": {},
   "outputs": [],
   "source": []
  }
 ],
 "metadata": {
  "kernelspec": {
   "display_name": "Python 3",
   "language": "python",
   "name": "python3"
  },
  "language_info": {
   "codemirror_mode": {
    "name": "ipython",
    "version": 3
   },
   "file_extension": ".py",
   "mimetype": "text/x-python",
   "name": "python",
   "nbconvert_exporter": "python",
   "pygments_lexer": "ipython3",
   "version": "3.7.0"
  }
 },
 "nbformat": 4,
 "nbformat_minor": 2
}
