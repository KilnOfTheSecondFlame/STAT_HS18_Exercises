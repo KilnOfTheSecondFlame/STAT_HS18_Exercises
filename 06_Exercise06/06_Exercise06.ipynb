{
 "cells": [
  {
   "cell_type": "markdown",
   "metadata": {},
   "source": [
    "# Aufgabenserie 06\n",
    "\n",
    "## Aufgabe 6.1\n",
    "\n",
    "Ein Weinhändler behauptet, dass die von ihm gefüllten Weinflaschen 70 Zentiliter enthalten. Ein skeptischer Konsument vermutet aber, dass der Weinhändlerzu wenig Wein abfüllt und will diese Behauptung überprüfen. Deshalb kauft er 12 Weinflaschen und misst ihren Inhalt. Er findet:\n",
    "\n",
    "$$ 71, 69, 67, 68, 73, 72, 71, 71, 68, 72, 69, 72 (in\\ Zentiliter) $$\n",
    "\n",
    "Nehmen Sie zunächst an, dass die Standardabweichung der Abfüllung im Voraus bekannt ist. Sie beträgt $\\sigma = 1.5 Zentiliter$. Da die Standardabweichung der Messungen bekannt ist, können wir einen z-Test durchführen. Führen Sie den (einseitigen; in welche Richtung?) Test auf dem 5%- Signifikanzniveau durch. Geben Sie die Modellannahmen, $H_0$ , $H_A$, den Verwerfungsbereich, den Wert der Teststatistik und das Testergebnis explizit an.\n",
    "\n",
    "\n",
    "Formulieren Sie in einem Satz die Schlussfolgerung für den kritischen Konsumenten."
   ]
  },
  {
   "cell_type": "code",
   "execution_count": 13,
   "metadata": {},
   "outputs": [
    {
     "name": "stdout",
     "output_type": "stream",
     "text": [
      "69.28775748677653\n",
      "-1.6448536269514729\n",
      "70.25\n",
      "68.98397388627933\n"
     ]
    }
   ],
   "source": [
    "import pandas as pd\n",
    "import scipy.stats as ss\n",
    "import numpy as np\n",
    "\n",
    "wein = pd.Series([71, 69, 67, 68, 73, 72, 71, 71, 68, 72, 69, 72])\n",
    "\n",
    "print(ss.norm.ppf(q=0.05, loc=70,scale =1.5/np.sqrt(12)))\n",
    "print(ss.norm.ppf(q=0.05))\n",
    "print(wein.mean())\n",
    "print(ss.t.ppf(q=0.05, df=11, loc=70,scale=wein.std()/np.sqrt(12)))"
   ]
  },
  {
   "cell_type": "markdown",
   "metadata": {},
   "source": [
    "Der Mittelwert liegt absolut in der zu erwartenden Abweichung."
   ]
  },
  {
   "cell_type": "code",
   "execution_count": null,
   "metadata": {},
   "outputs": [],
   "source": []
  }
 ],
 "metadata": {
  "kernelspec": {
   "display_name": "Python 3",
   "language": "python",
   "name": "python3"
  },
  "language_info": {
   "codemirror_mode": {
    "name": "ipython",
    "version": 3
   },
   "file_extension": ".py",
   "mimetype": "text/x-python",
   "name": "python",
   "nbconvert_exporter": "python",
   "pygments_lexer": "ipython3",
   "version": "3.7.0"
  }
 },
 "nbformat": 4,
 "nbformat_minor": 2
}
