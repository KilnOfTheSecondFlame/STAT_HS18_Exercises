{
 "cells": [
  {
   "cell_type": "markdown",
   "metadata": {},
   "source": [
    "# Serie 13\n",
    "\n",
    "## Aufgaben 13.1\n",
    "\n",
    "### a)\n",
    "Berechnen Sie die Wahrscheinlichkeit, dass ein besoffener Barbesucher nach 1000 Schritten der Grösse 1m zuhause ankommt, wenn sein Haus 1km vom Lokal entfernt ist. Der Besoffene ist so besoffen, dass Sie die Wahrscheinlichkeit, dass er einen Schritt nach rechts macht, gleich gross wie die Wahrscheinlichkeit, dass er einen Schritt nach links macht, wählen dürfen."
   ]
  },
  {
   "cell_type": "code",
   "execution_count": null,
   "metadata": {},
   "outputs": [],
   "source": []
  },
  {
   "cell_type": "markdown",
   "metadata": {},
   "source": [
    "### b)\n",
    "Die Position M N nach N Schritten ist dann gegeben durch\n",
    "\n",
    "$$M_N = X − ( N − X )$$\n",
    "\n",
    "wobei X die Anzahl Schritte nach rechts und ($N − X$) die Anzahl Schritte nach links bezeichnet. Wie gross ist die mittlere Position? Wie gross ist die quadratisch gemittelte Verschiebung ($\\equiv \\sqrt{E[M^2_N]}$), die unser Besoffener nach 1000 Schritten zurückgelegt hat?"
   ]
  },
  {
   "cell_type": "code",
   "execution_count": null,
   "metadata": {},
   "outputs": [],
   "source": []
  },
  {
   "cell_type": "markdown",
   "metadata": {},
   "source": [
    "### c)\n",
    "Wir betrachten wiederum einen betrunkenen Spaziergänger, der an einem Punkt $x_0$ in einer engen langen Gasse seinen Heimweg antritt. Er setzt seinen Fuss eine Schrittweite $X_1$ von $x_0$ entfernt hin (entweder links oder rechts von $x_0$). Wir fassen $X_1$ als eine normal-verteilte Zufallsvariable mit Erwartungswert $\\mu$ und Standardabweichung $\\sigma$ auf; somit ist die Position des Spaziergängers nach einem Schritt ebenfalls eine Zufallsvariable und gegeben durch \n",
    "\n",
    "$$S(1) = x_0 + X_1$$\n",
    "\n",
    "Nach einem weiteren Schritt der Länge $X_2$ mit demselben Erwartungswert $\\mu$ und Standardabweichung $\\sigma$ ist die Position des Spaziergängers $S(2) = x_0 + X_1 + X_2$. Nach $N$ Schritten ist die Position gegeben durch\n",
    "\n",
    "$$ S(N) = x_0+\\sum_{i=1}^N{X_i} $$\n",
    "\n",
    "Bestimmen Sie den Erwartungswert und die Varianz der Position des betrunkenen Spaziergängers nach $N = 1000$ Schritten, also $E[S(N)]$ und $Var[S(N)]$, wobei $x_0 = 0$, $\\mu=0$ und $\\sigma=1$ seien. Wie interpretieren Sie den Erwartungswert und die Varianz von $S(N)$?"
   ]
  },
  {
   "cell_type": "code",
   "execution_count": null,
   "metadata": {},
   "outputs": [],
   "source": []
  },
  {
   "cell_type": "markdown",
   "metadata": {},
   "source": [
    "### d)\n",
    "Das Beispiel des betrunkenen Spaziergängers ist ein Beispiel für einen (eindimensionalen) __Random Walk__. Wenn ein Aktienkurs als Random Walk beschrieben wird, dann ist die kurzzeitige Entwicklung des Aktienwertes zufällig und nicht vorhersagbar (siehe dazu die Hypothese effizienter Märkte). In untenstehender Abbildung ist der S&P 500 Kurs (Aktienkurs von 500 führenden Unternehmen) vom Jahre 2012 - bestehend aus 251 Tagen - aufgezeichnet.\n",
    "\n",
    "```python\n",
    "import matplotlib.pyplot as plt\n",
    "import pandas as pd\n",
    "from pandas import DataFrame\n",
    "import numpy as np\n",
    "sp2012 = pd.read_table('.../sp2012.txt')\n",
    "df = DataFrame(sp2012)\n",
    "plt.plot(df)\n",
    "plt.xlabel(\"Zeit (Tage)\")\n",
    "plt.ylabel(\"Wert\")\n",
    "plt.title('S&P 500 - Aktienkurs 2012')\n",
    "plt.show()\n",
    "```\n",
    "\n",
    "Der Werteverlauf von S&P500 während 2012 beginnt bei einem Wert von $1257.6$, die mittlere Schrittweite beträgt $0.483$ und die Standardabweichung der $250$ Schrittweiten beträgt $11$. Simulieren Sie den Werteverlauf als einen Random Walk, indem Sie annehmen, dass die Schrittweiten normalverteilte Zufallsvariablen mit $\\mu = 0.483$ und $\\sigma= 11$ sind.\n",
    "\n",
    "__Python-Hinweis__: Benützen Sie die Funktion\n",
    "\n",
    "```python\n",
    "norm.rvs(size = ..., loc = ..., scale = ...)\n",
    "```\n",
    "\n",
    "um normalverteilte Zufallsvariablen zu generieren.\n",
    "\n",
    "```python\n",
    "from scipy.stats import norm\n",
    "steps = np.array(norm.rvs(...))\n",
    "sp_simulated = np.empty([250])\n",
    "sp_simulated[0] = ...\n",
    "for i in range(249):\n",
    "sp_simulated[i+1] = sp_simulated[i]+ steps[i]\n",
    "plt.plot(sp_simulated)\n",
    "plt.xlabel(\"...\")\n",
    "plt.ylabel(\"...\")\n",
    "plt.title('...')\n",
    "plt.show()\n",
    "```"
   ]
  },
  {
   "cell_type": "code",
   "execution_count": null,
   "metadata": {},
   "outputs": [],
   "source": []
  },
  {
   "cell_type": "markdown",
   "metadata": {},
   "source": [
    "## Aufgabe 13.2\n",
    "\n",
    "Ein stochastischer Prozess sei definiert durch\n",
    "\n",
    "$$X(t) = T + ( 1 − t )$$\n",
    "\n",
    "wobei $T$ eine über dem Intervall $[ 0,1 ]$ uniform verteilte Zufallsvariable ist.\n",
    "\n",
    "### a)\n",
    "Bestimmen Sie die Kumulative Verteilungsfunktion von $X ( t )$ ."
   ]
  },
  {
   "cell_type": "code",
   "execution_count": null,
   "metadata": {},
   "outputs": [],
   "source": []
  },
  {
   "cell_type": "markdown",
   "metadata": {},
   "source": [
    "### b)\n",
    "Bestimmen Sie die Wahrscheinlichkeitsdichtefunktion von $X ( t )$ ."
   ]
  },
  {
   "cell_type": "code",
   "execution_count": null,
   "metadata": {},
   "outputs": [],
   "source": []
  },
  {
   "cell_type": "markdown",
   "metadata": {},
   "source": [
    "### c)\n",
    "Bestimmen Sie $\\mu_X ( t ) = E [ X ( t )]$."
   ]
  },
  {
   "cell_type": "code",
   "execution_count": null,
   "metadata": {},
   "outputs": [],
   "source": []
  },
  {
   "cell_type": "markdown",
   "metadata": {},
   "source": [
    "### d)\n",
    "Handelt es sich bei $X ( t )$ um einen stationären stochastischen Prozess?"
   ]
  },
  {
   "cell_type": "code",
   "execution_count": null,
   "metadata": {},
   "outputs": [],
   "source": []
  },
  {
   "cell_type": "markdown",
   "metadata": {},
   "source": [
    "## Aufgabe 13.3\n",
    "\n",
    "Betrachten Sie den stochastischen Prozess, der gegeben ist durch\n",
    "\n",
    "$$X ( t ) = A \\cdot e^{-t}$$\n",
    "\n",
    "wobei $A$ eine normalverteilte Zufallsvariable mit $A \\sim \\mathcal{N}( \\mu ,\\sigma^2 = 2^2 )$ ist.\n",
    "\n",
    "### a)\n",
    "Zum Zeitpunkt $t_0 = ln ( 2 )$ wurde über sehr viele Realisierungen von $X ( t )$ der\n",
    "empirische Scharmittelwert $\\bar{x} ( t = t_0 ) = 2.5$ ermittelt. Schätzen Sie $\\mu$."
   ]
  },
  {
   "cell_type": "code",
   "execution_count": null,
   "metadata": {},
   "outputs": [],
   "source": []
  },
  {
   "cell_type": "markdown",
   "metadata": {},
   "source": [
    "### b)\n",
    "Wie gross ist die Wahrscheinlichkeit $\\text{P}[ X ( t = t_0 ) > 0.5 ] $? Benützen Sie dazu die Schätzung von $\\mu$ aus Teilaufgabe (a)."
   ]
  },
  {
   "cell_type": "code",
   "execution_count": null,
   "metadata": {},
   "outputs": [],
   "source": []
  },
  {
   "cell_type": "markdown",
   "metadata": {},
   "source": [
    "### c)\n",
    "Berechnen Sie den Erwartungswert $\\mu_X ( t ) = \\text{E} [ X ( t )]$ zu einem beliebigen Zeitpunkt $t$."
   ]
  },
  {
   "cell_type": "code",
   "execution_count": null,
   "metadata": {},
   "outputs": [],
   "source": []
  },
  {
   "cell_type": "markdown",
   "metadata": {},
   "source": [
    "### d)\n",
    "Wie gross ist die Varianz $\\text{Var}[ X ( t )]$ zu einem beliebigen Zeitpunkt $t$?"
   ]
  },
  {
   "cell_type": "code",
   "execution_count": null,
   "metadata": {},
   "outputs": [],
   "source": []
  },
  {
   "cell_type": "markdown",
   "metadata": {},
   "source": [
    "### e)\n",
    "Bestimmen Sie die kumulative Verteilungsfunktion $F ( x,t )$ des stochastischen Prozesses $X ( t )$ . Benützen Sie dazu die obige Schätzung von $\\mu$ oder treffen Sie eine Annahme. Berechnen Sie den Wert von $F ( x = 10,t = ln ( \\frac{1}{2} ))$."
   ]
  },
  {
   "cell_type": "code",
   "execution_count": null,
   "metadata": {},
   "outputs": [],
   "source": []
  },
  {
   "cell_type": "markdown",
   "metadata": {},
   "source": [
    "### f)\n",
    "Wie lautet die Wahrscheinlichkeitsdichtefunktion $\\mathcal{f} ( x,t )$ von $X ( t )$ ? Berechnen Sie den Wert von $\\mathcal{f} ( x = 10,t = ln ( \\frac{1}{2} ))$ ."
   ]
  },
  {
   "cell_type": "code",
   "execution_count": null,
   "metadata": {},
   "outputs": [],
   "source": []
  },
  {
   "cell_type": "markdown",
   "metadata": {},
   "source": [
    "### g)\n",
    "Handelt es sich bei $X ( t )$ um einen stationären stochastischen Prozess?"
   ]
  },
  {
   "cell_type": "code",
   "execution_count": null,
   "metadata": {},
   "outputs": [],
   "source": []
  }
 ],
 "metadata": {
  "kernelspec": {
   "display_name": "Python 3",
   "language": "python",
   "name": "python3"
  },
  "language_info": {
   "codemirror_mode": {
    "name": "ipython",
    "version": 3
   },
   "file_extension": ".py",
   "mimetype": "text/x-python",
   "name": "python",
   "nbconvert_exporter": "python",
   "pygments_lexer": "ipython3",
   "version": "3.7.0"
  }
 },
 "nbformat": 4,
 "nbformat_minor": 2
}
