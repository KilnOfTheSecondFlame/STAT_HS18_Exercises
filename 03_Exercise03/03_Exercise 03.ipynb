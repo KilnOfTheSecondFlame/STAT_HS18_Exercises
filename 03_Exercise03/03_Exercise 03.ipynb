{
 "cells": [
  {
   "cell_type": "markdown",
   "metadata": {},
   "source": [
    "# Serie 3\n",
    "\n",
    "## Aufgabe 3.1\n",
    "Die monatlichen Aufwendungen X [CHF] für den Wasserverbrauch eines 2-Personenhaushalts seien durch eine Zufallsvariable mit der folgenden Wahrscheinlichkeitsdichtefunktion gegeben:\n",
    "\n",
    "$$f(x)=\\left\\{\n",
    "    \\begin{matrix}\n",
    "    cx(15-\\frac{x}{4})\\ && \\text{falls}\\ 0\\leq x\\leq 60 \\\\\n",
    "    0 && \\text{sonst}\n",
    "    \\end{matrix}\n",
    "\\right. $$"
   ]
  },
  {
   "cell_type": "markdown",
   "metadata": {},
   "source": [
    "### a)\n",
    "\n",
    "Welchen Wert muss $c$ annehmen?"
   ]
  },
  {
   "cell_type": "markdown",
   "metadata": {},
   "source": [
    "$$\\int\\limits_0^{60}{cx(15-\\frac{x}{4})} = 1 $$\n",
    "\n",
    "$$\\left.\\frac{15\\cdot c\\cdot x^2}{2}-\\frac{c\\cdot x^3}{12}\\right|_0^{60} = 1 $$\n",
    "\n",
    "$$\\frac{15\\cdot c\\cdot 60^2}{2}-\\frac{c\\cdot 60^3}{12} = 1 $$\n",
    "\n",
    "$$\\frac{54000\\cdot c}{2} - 18000\\cdot c = 1 $$\n",
    "\n",
    "$$27000\\cdot c - 18000\\cdot c = 1$$\n",
    "\n",
    "$$c = \\frac{1}{9000}$$"
   ]
  },
  {
   "cell_type": "code",
   "execution_count": 7,
   "metadata": {},
   "outputs": [
    {
     "name": "stdout",
     "output_type": "stream",
     "text": [
      "54000\n",
      "18000.0\n"
     ]
    }
   ],
   "source": [
    "print(str(15*60**2))\n",
    "print(str(60**3/12))"
   ]
  },
  {
   "cell_type": "markdown",
   "metadata": {},
   "source": [
    "### b)\n",
    "\n",
    "Geben Sie die Verteilungsfunktion $F$ der Zufallsvariablen $X$ an."
   ]
  },
  {
   "cell_type": "markdown",
   "metadata": {},
   "source": [
    "$$ F(x)=\\left\\{\n",
    "    \\begin{matrix}\n",
    "    0 && \\text{falls}\\ x<0\\\\\n",
    "    \\frac{1}{9000}(\\frac{15}{2}x^2-\\frac{1}{12}x^3)\\ && \\text{falls}\\ 0\\leq x\\leq 60\\\\\n",
    "    1 && \\text{falls}\\ x>60\n",
    "    \\end{matrix}\n",
    "\\right. $$"
   ]
  },
  {
   "cell_type": "markdown",
   "metadata": {},
   "source": [
    "### c)\n",
    "\n",
    "Welcher Wert der Aufwendungen wird nur mit 10% Wahrscheinlichkeit überschritten?"
   ]
  },
  {
   "cell_type": "markdown",
   "metadata": {},
   "source": [
    "Gesucht ist ein $a$ sodass $P(X>a)=0.1$ also ist $P(X\\leq a)=0.9$, somit muss gelten $F(a)=0.9$. Mit der Formel aus b):\n",
    "\n",
    "$$\\frac{1}{9000}(\\frac{15}{2}a^2-\\frac{1}{12}a^3) = 0.9$$\n",
    "\n",
    "$$\\frac{15}{2}a^2-\\frac{1}{12}a^3 = 0.9\\cdot 9000$$\n",
    "\n",
    "$$\\frac{15}{2}a^2-\\frac{1}{12}a^3 - 8100 = 0\\cdot 9000$$"
   ]
  },
  {
   "cell_type": "code",
   "execution_count": 10,
   "metadata": {},
   "outputs": [
    {
     "data": {
      "text/plain": [
       "{-28.6249720273366, 48.2519936604545, 70.3729783668821}"
      ]
     },
     "execution_count": 10,
     "metadata": {},
     "output_type": "execute_result"
    }
   ],
   "source": [
    "import sympy as sym\n",
    "\n",
    "a = sym.Symbol('a')\n",
    "sym.solveset(15/2*a**2-1/12*a**3-8100)"
   ]
  },
  {
   "cell_type": "markdown",
   "metadata": {},
   "source": [
    "Davon liegt nur $a = 48.252$ im Wertebereich von $F(x)$ und ist somit unsere gesuchte Grenze."
   ]
  },
  {
   "cell_type": "markdown",
   "metadata": {},
   "source": [
    "### d)\n",
    "\n",
    "Wie hoch sind die erwarteten monatlichen Aufwendungen für den Wasserverbrauch eines 2-Personenhaushalts?"
   ]
  },
  {
   "cell_type": "markdown",
   "metadata": {},
   "source": [
    "Der Erwartungswert für stetige Zufallsvariablen $X$ ist wie folgt definiert:\n",
    "\n",
    "$$\\int\\limits_{-\\infty}^{\\infty}{x \\cdot f(x)\\ dx} $$\n",
    "\n",
    "Da unsere Funktion $f(x)$ aber nur im Intervall $[0,60]$ definiert ist, erhalten wir folgendes Integral:\n",
    "\n",
    "$$\\int\\limits_0^{60}{x\\cdot \\frac{1}{9000}x\\ (15-\\frac{x}{4})}$$\n",
    "\n",
    "$$= \\frac{1}{9000}\\int\\limits_0^{60}{x^2\\ (15-\\frac{x}{4})}$$\n",
    "\n",
    "$$= \\frac{1}{9000}(\\left. 5x^3-\\frac{1}{16}x^4\\right|_0^{60})$$\n",
    "\n",
    "$$= 30$$"
   ]
  },
  {
   "cell_type": "code",
   "execution_count": 1,
   "metadata": {},
   "outputs": [
    {
     "data": {
      "text/plain": [
       "1080000"
      ]
     },
     "execution_count": 1,
     "metadata": {},
     "output_type": "execute_result"
    }
   ],
   "source": [
    "5*60**3"
   ]
  },
  {
   "cell_type": "code",
   "execution_count": 2,
   "metadata": {},
   "outputs": [
    {
     "data": {
      "text/plain": [
       "810000.0"
      ]
     },
     "execution_count": 2,
     "metadata": {},
     "output_type": "execute_result"
    }
   ],
   "source": [
    "1/16*60**4"
   ]
  },
  {
   "cell_type": "code",
   "execution_count": 4,
   "metadata": {},
   "outputs": [
    {
     "data": {
      "text/plain": [
       "30.0"
      ]
     },
     "execution_count": 4,
     "metadata": {},
     "output_type": "execute_result"
    }
   ],
   "source": [
    "1/9000*(1080000-810000)"
   ]
  },
  {
   "cell_type": "markdown",
   "metadata": {},
   "source": [
    "## Aufgabe 3.2\n",
    "\n",
    "In derStadt Luzern gibt es bekanntlich viele Baustellen. Die Dauer $X$ der Arbeiten bei einer Baustelle liege zwischen 0 und 20 Wochen. Die Dichte $f(x)$ habe die folgende Form:\n",
    "\n",
    "![Dauer Arbeiten auf Baustellen in Luzern](img/ArbeitenBaustelleLuzern.png)\n",
    "\n",
    "### a)\n",
    "Begründen Sie, warum $c = 0.1$ ist und schreiben Sie die Dichte $f(x)$ explizit auf."
   ]
  },
  {
   "cell_type": "markdown",
   "metadata": {},
   "source": [
    "Da die Fläche unter der Wahrscheinlichkeitsdichtefunktion 1 ergeben muss.\n",
    "\n",
    "Wenn wir das Ganze als Dreiecksfläche anschauen erhalten wir $\\frac{c\\cdot20}{2}=1$. und somit $c=\\frac{1}{10}$. Die Wahrscheinlichkeitsdichtefunktion ist also:\n",
    "\n",
    "$$f(x)=\\left\\{\n",
    "    \\begin{matrix}\n",
    "    0\\ && x<0\\ \\text{und}\\ x>20 \\\\\n",
    "    -\\frac{1}{200}x+\\frac{1}{10} && 0\\leq x\\leq 20\n",
    "    \\end{matrix}\n",
    "\\right. $$"
   ]
  },
  {
   "cell_type": "markdown",
   "metadata": {},
   "source": [
    "### b)\n",
    "Berechnen Sie die Wahrscheinlichkeit, dass die Bauzeit $X$ weniger als\n",
    "1. 5 Wochen\n",
    "2. 10 Wochen\n",
    "\n",
    "beträgt."
   ]
  },
  {
   "cell_type": "markdown",
   "metadata": {},
   "source": [
    "$$g(t) = F(t) = \\int\\limits_{0}^{t}{-\\frac{1}{200}x+\\frac{1}{10}\\ dx} = -\\frac{1}{400}x^2+\\frac{1}{10}x $$\n",
    "\n",
    "Und somit:\n",
    "\n",
    "$$g(5) = -\\frac{5^2}{400}+\\frac{5}{10}$$\n",
    "\n",
    "$$g(10) = -\\frac{10^2}{400}+\\frac{10}{10}$$"
   ]
  },
  {
   "cell_type": "code",
   "execution_count": 5,
   "metadata": {},
   "outputs": [
    {
     "data": {
      "text/plain": [
       "0.4375"
      ]
     },
     "execution_count": 5,
     "metadata": {},
     "output_type": "execute_result"
    }
   ],
   "source": [
    "-(5**2)/400+5/10"
   ]
  },
  {
   "cell_type": "code",
   "execution_count": 6,
   "metadata": {},
   "outputs": [
    {
     "data": {
      "text/plain": [
       "0.75"
      ]
     },
     "execution_count": 6,
     "metadata": {},
     "output_type": "execute_result"
    }
   ],
   "source": [
    "-10**2/400+1"
   ]
  },
  {
   "cell_type": "markdown",
   "metadata": {},
   "source": [
    "### c)\n",
    "\n",
    "Skizzieren Sie die kumulative Verteilungsfunktion."
   ]
  },
  {
   "cell_type": "code",
   "execution_count": null,
   "metadata": {},
   "outputs": [],
   "source": []
  },
  {
   "cell_type": "markdown",
   "metadata": {},
   "source": [
    "### d)\n",
    "\n",
    "Berechnen Sie den Erwartungswert, den Median und die Standardabweichung der Dauer $X$."
   ]
  },
  {
   "cell_type": "code",
   "execution_count": null,
   "metadata": {},
   "outputs": [],
   "source": []
  },
  {
   "cell_type": "markdown",
   "metadata": {},
   "source": [
    "### e)\n",
    "\n",
    "$K = 40′000\\cdot\\sqrt{X}$ entspreche dem Betrag in Franken, den die Arbeiten bei einer Baustelle kosten. Wie gross ist die Wahrscheinlichkeit, dass die Arbeiten bei einer Baustelle höchstens 120’000.- Fr. kosten?"
   ]
  },
  {
   "cell_type": "code",
   "execution_count": null,
   "metadata": {},
   "outputs": [],
   "source": []
  },
  {
   "cell_type": "markdown",
   "metadata": {},
   "source": [
    "Die vorgeschlagene Verteilung ist nur ein Modell. Man könnte die Dauer der Bauarbeiten zum Beispiel auch als exponentialverteilt annehmen.\n",
    "\n",
    "### f)\n",
    " Für welchen Parameter $\\lambda$ hat die Exponentialverteilung denselben Erwartungswert wie die bisherige angenommene Verteilung?"
   ]
  },
  {
   "cell_type": "code",
   "execution_count": null,
   "metadata": {},
   "outputs": [],
   "source": []
  },
  {
   "cell_type": "markdown",
   "metadata": {},
   "source": [
    " ### g)\n",
    "Berechnen Sie mit der gefundenen Exponentialverteilung nochmals Teilaufgabe e)."
   ]
  },
  {
   "cell_type": "code",
   "execution_count": null,
   "metadata": {},
   "outputs": [],
   "source": []
  }
 ],
 "metadata": {
  "kernelspec": {
   "display_name": "Python 3",
   "language": "python",
   "name": "python3"
  },
  "language_info": {
   "codemirror_mode": {
    "name": "ipython",
    "version": 3
   },
   "file_extension": ".py",
   "mimetype": "text/x-python",
   "name": "python",
   "nbconvert_exporter": "python",
   "pygments_lexer": "ipython3",
   "version": "3.6.5"
  }
 },
 "nbformat": 4,
 "nbformat_minor": 2
}
