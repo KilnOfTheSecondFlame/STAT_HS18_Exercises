{
 "cells": [
  {
   "cell_type": "markdown",
   "metadata": {},
   "source": [
    "# Serie 3\n",
    "\n",
    "## Aufgabe 3.1\n",
    "Die monatlichen Aufwendungen X [CHF] für den Wasserverbrauch eines 2-Personenhaushalts seien durch eine Zufallsvariable mit der folgenden Wahrscheinlichkeitsdichtefunktion gegeben:\n",
    "\n",
    "$$f(x)=\\left\\{\n",
    "    \\begin{matrix}\n",
    "    cx(15-\\frac{x}{4})\\ && \\text{falls}\\ 0\\leq x\\leq 60 \\\\\n",
    "    0 && \\text{sonst}\n",
    "    \\end{matrix}\n",
    "\\right. $$"
   ]
  },
  {
   "cell_type": "markdown",
   "metadata": {},
   "source": [
    "### a)\n",
    "\n",
    "Welchen Wert muss $c$ annehmen?"
   ]
  },
  {
   "cell_type": "markdown",
   "metadata": {},
   "source": [
    "$$\\int\\limits_0^{60}{cx(15-\\frac{x}{4})} = 1 $$\n",
    "\n",
    "$$\\left.\\frac{15\\cdot c\\cdot x^2}{2}-\\frac{c\\cdot x^3}{12}\\right|_0^{60} = 1 $$\n",
    "\n",
    "$$\\frac{15\\cdot c\\cdot 60^2}{2}-\\frac{c\\cdot 60^3}{12} = 1 $$\n",
    "\n",
    "$$\\frac{54000\\cdot c}{2} - 18000\\cdot c = 1 $$\n",
    "\n",
    "$$27000\\cdot c - 18000\\cdot c = 1$$\n",
    "\n",
    "$$c = \\frac{1}{9000}$$"
   ]
  },
  {
   "cell_type": "code",
   "execution_count": 7,
   "metadata": {},
   "outputs": [
    {
     "name": "stdout",
     "output_type": "stream",
     "text": [
      "54000\n",
      "18000.0\n"
     ]
    }
   ],
   "source": [
    "print(str(15*60**2))\n",
    "print(str(60**3/12))"
   ]
  },
  {
   "cell_type": "markdown",
   "metadata": {},
   "source": [
    "### b)\n",
    "\n",
    "Geben Sie die Verteilungsfunktion $F$ der Zufallsvariablen $X$ an."
   ]
  },
  {
   "cell_type": "markdown",
   "metadata": {},
   "source": [
    "$$ F(x)=\\left\\{\n",
    "    \\begin{matrix}\n",
    "    0 && \\text{falls}\\ x<0\\\\\n",
    "    \\frac{1}{9000}(\\frac{15}{2}x^2-\\frac{1}{12}x^3)\\ && \\text{falls}\\ 0\\leq x\\leq 60\\\\\n",
    "    1 && \\text{falls}\\ x>60\n",
    "    \\end{matrix}\n",
    "\\right. $$"
   ]
  },
  {
   "cell_type": "markdown",
   "metadata": {},
   "source": [
    "### c)\n",
    "\n",
    "Welcher Wert der Aufwendungen wird nur mit 10% Wahrscheinlichkeit überschritten?"
   ]
  },
  {
   "cell_type": "markdown",
   "metadata": {},
   "source": [
    "Gesucht ist ein $a$ sodass $P(X>a)=0.1$ also ist $P(X\\leq a)=0.9$, somit muss gelten $F(a)=0.9$. Mit der Formel aus b):\n",
    "\n",
    "$$\\frac{1}{9000}(\\frac{15}{2}a^2-\\frac{1}{12}a^3) = 0.9$$\n",
    "\n",
    "$$\\frac{15}{2}a^2-\\frac{1}{12}a^3 = 0.9\\cdot 9000$$\n",
    "\n",
    "$$\\frac{15}{2}a^2-\\frac{1}{12}a^3 - 8100 = 0\\cdot 9000$$"
   ]
  },
  {
   "cell_type": "code",
   "execution_count": 10,
   "metadata": {},
   "outputs": [
    {
     "data": {
      "text/plain": [
       "{-28.6249720273366, 48.2519936604545, 70.3729783668821}"
      ]
     },
     "execution_count": 10,
     "metadata": {},
     "output_type": "execute_result"
    }
   ],
   "source": [
    "import sympy as sym\n",
    "\n",
    "a = sym.Symbol('a')\n",
    "sym.solveset(15/2*a**2-1/12*a**3-8100)"
   ]
  },
  {
   "cell_type": "markdown",
   "metadata": {},
   "source": [
    "Davon liegt nur $a = 48.252$ im Wertebereich von $F(x)$ und ist somit unsere gesuchte Grenze."
   ]
  },
  {
   "cell_type": "markdown",
   "metadata": {},
   "source": [
    "### d)\n",
    "\n",
    "Wie hoch sind die erwarteten monatlichen Aufwendungen für den Wasserverbrauch eines 2-Personenhaushalts?"
   ]
  },
  {
   "cell_type": "code",
   "execution_count": null,
   "metadata": {},
   "outputs": [],
   "source": []
  }
 ],
 "metadata": {
  "kernelspec": {
   "display_name": "Python 3",
   "language": "python",
   "name": "python3"
  },
  "language_info": {
   "codemirror_mode": {
    "name": "ipython",
    "version": 3
   },
   "file_extension": ".py",
   "mimetype": "text/x-python",
   "name": "python",
   "nbconvert_exporter": "python",
   "pygments_lexer": "ipython3",
   "version": "3.6.5"
  }
 },
 "nbformat": 4,
 "nbformat_minor": 2
}
