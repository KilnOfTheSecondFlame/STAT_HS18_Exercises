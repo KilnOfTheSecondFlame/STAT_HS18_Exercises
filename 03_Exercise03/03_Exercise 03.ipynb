{
 "cells": [
  {
   "cell_type": "markdown",
   "metadata": {},
   "source": [
    "# Serie 3\n",
    "\n",
    "## Aufgabe 3.1\n",
    "Die monatlichen Aufwendungen X [CHF] für den Wasserverbrauch eines 2-Personenhaushalts seien durch eine Zufallsvariable mit der folgenden Wahrscheinlichkeitsdichtefunktion gegeben:\n",
    "\n",
    "$$f(x)=\\left\\{\n",
    "    \\begin{matrix}\n",
    "    cx(15-\\frac{x}{4})\\ && \\text{falls}\\ 0\\leq x\\leq 60 \\\\\n",
    "    0 && \\text{sonst}\n",
    "    \\end{matrix}\n",
    "\\right. $$"
   ]
  },
  {
   "cell_type": "markdown",
   "metadata": {},
   "source": [
    "### a)\n",
    "\n",
    "Welchen Wert muss $c$ annehmen?"
   ]
  },
  {
   "cell_type": "code",
   "execution_count": null,
   "metadata": {},
   "outputs": [],
   "source": []
  },
  {
   "cell_type": "markdown",
   "metadata": {},
   "source": [
    "### b)\n",
    "\n",
    "Geben Sie die Verteilungsfunktion $F$ der Zufallsvariablen $X$ an."
   ]
  },
  {
   "cell_type": "code",
   "execution_count": null,
   "metadata": {},
   "outputs": [],
   "source": []
  },
  {
   "cell_type": "markdown",
   "metadata": {},
   "source": [
    "### c)\n",
    "\n",
    "Welcher Wert der Aufwendungen wird nur mit 10% Wahrscheinlichkeit überschritten?"
   ]
  },
  {
   "cell_type": "code",
   "execution_count": null,
   "metadata": {},
   "outputs": [],
   "source": []
  },
  {
   "cell_type": "markdown",
   "metadata": {},
   "source": [
    "### d)\n",
    "\n",
    "Wie hoch sind die erwarteten monatlichen Aufwendungen für den Wasserverbrauch eines 2-Personenhaushalts?"
   ]
  },
  {
   "cell_type": "code",
   "execution_count": null,
   "metadata": {},
   "outputs": [],
   "source": []
  },
  {
   "cell_type": "markdown",
   "metadata": {},
   "source": [
    "## Aufgabe 3.2\n",
    "\n",
    "In derStadt Luzern gibt es bekanntlich viele Baustellen. Die Dauer $X$ der Arbeiten bei einer Baustelle liege zwischen 0 und 20 Wochen. Die Dichte $f(x)$ habe die folgende Form:\n",
    "\n",
    "![Dauer Arbeiten auf Baustellen in Luzern](img/ArbeitenBaustelleLuzern.png)\n",
    "\n",
    "### a)\n",
    "Begründen Sie, warum $c = 0.1$ ist und schreiben Sie die Dichte $f(x)$ explizit auf."
   ]
  },
  {
   "cell_type": "code",
   "execution_count": null,
   "metadata": {},
   "outputs": [],
   "source": []
  },
  {
   "cell_type": "markdown",
   "metadata": {},
   "source": [
    "### b)\n",
    "Berechnen Sie die Wahrscheinlichkeit, dass die Bauzeit $X$ weniger als\n",
    "1. 5 Wochen\n",
    "2. 10 Wochen\n",
    "\n",
    "beträgt."
   ]
  },
  {
   "cell_type": "code",
   "execution_count": null,
   "metadata": {},
   "outputs": [],
   "source": []
  },
  {
   "cell_type": "markdown",
   "metadata": {},
   "source": [
    "### c)\n",
    "\n",
    "Skizzieren Sie die kumulative Verteilungsfunktion."
   ]
  },
  {
   "cell_type": "code",
   "execution_count": null,
   "metadata": {},
   "outputs": [],
   "source": []
  },
  {
   "cell_type": "markdown",
   "metadata": {},
   "source": [
    "### d)\n",
    "\n",
    "Berechnen Sie den Erwartungswert, den Median und die Standardabweichung der Dauer $X$."
   ]
  },
  {
   "cell_type": "code",
   "execution_count": null,
   "metadata": {},
   "outputs": [],
   "source": []
  },
  {
   "cell_type": "markdown",
   "metadata": {},
   "source": [
    "### e)\n",
    "\n",
    "$K = 40′000\\cdot\\sqrt{X}$ entspreche dem Betrag in Franken, den die Arbeiten bei einer Baustelle kosten. Wie gross ist die Wahrscheinlichkeit, dass die Arbeiten bei einer Baustelle höchstens 120’000.- Fr. kosten?"
   ]
  },
  {
   "cell_type": "code",
   "execution_count": null,
   "metadata": {},
   "outputs": [],
   "source": []
  },
  {
   "cell_type": "markdown",
   "metadata": {},
   "source": [
    "Die vorgeschlagene Verteilung ist nur ein Modell. Man könnte die Dauer der Bauarbeiten zum Beispiel auch als exponentialverteilt annehmen.\n",
    "\n",
    "### f)\n",
    " Für welchen Parameter $\\lambda$ hat die Exponentialverteilung denselben Erwartungswert wie die bisherige angenommene Verteilung?"
   ]
  },
  {
   "cell_type": "code",
   "execution_count": null,
   "metadata": {},
   "outputs": [],
   "source": []
  },
  {
   "cell_type": "markdown",
   "metadata": {},
   "source": [
    " ### g)\n",
    "Berechnen Sie mit der gefundenen Exponentialverteilung nochmals Teilaufgabe e)."
   ]
  },
  {
   "cell_type": "code",
   "execution_count": null,
   "metadata": {},
   "outputs": [],
   "source": []
  },
  {
   "cell_type": "markdown",
   "metadata": {},
   "source": [
    "## Aufgabe 3.3\n",
    "\n",
    "Eine Maschine hat eine exponentialverteilte Lebensdauer $T_1$ (in Stunden) mit Parameter $\\lambda = 0.04$.\n",
    "\n",
    "### a)\n",
    "Berechnen Sie den Median und den Erwartungswert. Mit welcher Wahrscheinlichkeit überlebt das System seine Lebenserwartung?"
   ]
  },
  {
   "cell_type": "code",
   "execution_count": null,
   "metadata": {},
   "outputs": [],
   "source": []
  },
  {
   "cell_type": "markdown",
   "metadata": {},
   "source": [
    "### c)\n",
    "Nun betrachten wir eine zweite Maschine mit der Lebensdauer $T_2$ (in Stunden) mit der folgenden Dichte:\n",
    "\n",
    "$$f_{T_2}(t)=\\left\\{\n",
    "    \\begin{matrix}\n",
    "    0\\ && t \\leq 0 \\\\\n",
    "    c_2\\cdot e^{-\\frac{1}{1000}t} && t \\geq 0\n",
    "    \\end{matrix}\n",
    "\\right. $$\n",
    "\n",
    "Wie gross muss $c_2$ sein? Berechnen Sie den Erwartungswert und die Standardabweichung der Zufallsvariablen $T_2$."
   ]
  },
  {
   "cell_type": "code",
   "execution_count": null,
   "metadata": {},
   "outputs": [],
   "source": []
  },
  {
   "cell_type": "markdown",
   "metadata": {},
   "source": [
    "### d)\n",
    "Wir betrachten nun das System bestehend aus den beiden Maschinen mit Lebensdauern $T_1$ und $T_2$, welche unabhängig voneinander funktionieren. Berechnen Sie die Wahrscheinlichkeit, dass nach 200 Stunden beide Maschinen noch funktionieren."
   ]
  },
  {
   "cell_type": "code",
   "execution_count": null,
   "metadata": {},
   "outputs": [],
   "source": []
  },
  {
   "cell_type": "markdown",
   "metadata": {},
   "source": [
    "## Aufgabe 3.4\n",
    "\n",
    "Aufgrund langjähriger Untersuchungen ist bekannt, dass der Bleigehalt $X$ in einer Bodenprobe annähernd normalverteilt ist. Ausserdem weiss man, dass der Erwartungswert 32ppb beträgt und dass die Standardabweichung 6ppb beträgt.\n",
    "\n",
    "### a)\n",
    "Machen Sie eine Skizze der Dichte von X, und zeichnen Sie die Wahrscheinlichkeit, dass eine Bodenprobe zwischen 26 und 38 ppb Bleienthält, in die Skizze ein."
   ]
  },
  {
   "cell_type": "code",
   "execution_count": null,
   "metadata": {},
   "outputs": [],
   "source": []
  },
  {
   "cell_type": "markdown",
   "metadata": {},
   "source": [
    "## b)\n",
    "Wie gross ist die Wahrscheinlichkeit, dass eine Bodenprobe höchstens 40ppb\n",
    "Schwermetall enthält? _Hinweis_: Benützen Sie die **Python**-Funktion\n",
    "\n",
    "```python\n",
    "norm.cdf()\n",
    "```\n",
    "\n",
    "ÜberprüfenSiedasResultat, indemSiediestandardisierte Zufallsvariable Z ein-\n",
    "führen und mit der Standardnormalverteilung die Wahrscheinlichkeit berech-\n",
    "nen."
   ]
  },
  {
   "cell_type": "code",
   "execution_count": null,
   "metadata": {},
   "outputs": [],
   "source": []
  },
  {
   "cell_type": "markdown",
   "metadata": {},
   "source": [
    "### c)\n",
    "\n",
    "Wie gross ist die Wahrscheinlichkeit, dass eine Bodenprobe höchstens 27 ppb\n",
    "Schwermetall enthält?"
   ]
  },
  {
   "cell_type": "code",
   "execution_count": null,
   "metadata": {},
   "outputs": [],
   "source": []
  },
  {
   "cell_type": "markdown",
   "metadata": {},
   "source": [
    "### d)\n",
    "Welcher Bleigehalt wird mit einer Wahrscheinlichkeit von 97.5% unterschritten?\n",
    "Das heisst, bestimmen Sie dasjenige c, so dass die Wahrscheinlichkeit, dass der Bleigehalt kleiner oder gleich c ist, genau 97.5% beträgt. _Hinweis_: Benützen Sie die **Python**-Funktion\n",
    "```python\n",
    "norm.ppf()\n",
    "```"
   ]
  },
  {
   "cell_type": "code",
   "execution_count": null,
   "metadata": {},
   "outputs": [],
   "source": []
  },
  {
   "cell_type": "markdown",
   "metadata": {},
   "source": [
    "### e)\n",
    "Welcher Bleigehalt wird mit einer Wahrscheinlichkeit von 10% unterschritten?"
   ]
  },
  {
   "cell_type": "code",
   "execution_count": null,
   "metadata": {},
   "outputs": [],
   "source": []
  },
  {
   "cell_type": "markdown",
   "metadata": {},
   "source": [
    "### f)\n",
    "Wie gross ist die Wahrscheinlichkeit, die in Aufgabe a) eingezeichnet wurde?"
   ]
  },
  {
   "cell_type": "code",
   "execution_count": null,
   "metadata": {},
   "outputs": [],
   "source": []
  },
  {
   "cell_type": "markdown",
   "metadata": {},
   "source": [
    "## Aufgabe 3.5\n",
    "\n",
    "Wir gehen davon aus, dass bei der Detektion eines digitalen Signals das Hintergrundrauschen einer Normalverteilung folgt, und zwar mit einem Mittelwert von 0 Volt und einer Standardabweichung von 0.45 Volt. Das System geht davon aus, dass eine digitale 1 übertragen worden ist, wenn die Spannung 0.9 Volt überstiegen worden ist."
   ]
  },
  {
   "cell_type": "code",
   "execution_count": null,
   "metadata": {},
   "outputs": [],
   "source": []
  },
  {
   "cell_type": "markdown",
   "metadata": {},
   "source": [
    "### a)\n",
    "Wie gross ist die Wahrscheinlichkeit, dass eine 1 detektiert worden ist, wenn in Wahrheit keine gesendet wurde? Wie interpretieren Sie diese Wahrscheinlichkeit?"
   ]
  },
  {
   "cell_type": "code",
   "execution_count": null,
   "metadata": {},
   "outputs": [],
   "source": []
  },
  {
   "cell_type": "markdown",
   "metadata": {},
   "source": [
    "### b)\n",
    "Bestimmen Sie die symmetrischen Grenzen um 0 Volt, die 99% des Hintergrundrauschens einschliessen."
   ]
  },
  {
   "cell_type": "code",
   "execution_count": null,
   "metadata": {},
   "outputs": [],
   "source": []
  },
  {
   "cell_type": "markdown",
   "metadata": {},
   "source": [
    "### c)\n",
    "Nehmen Sie an, eine digitale 1 wird als eine Verschiebung des Mittelwertes um 1.8 Volt im Vergleich zum Rauschsignal dargestellt. Die Standardabweichung des Signals ist ebenfalls 0.45 Volt. Wie gross ist die Wahrscheinlichkeit, dass eine digitale 1 nicht detektiert wird?"
   ]
  },
  {
   "cell_type": "code",
   "execution_count": null,
   "metadata": {},
   "outputs": [],
   "source": []
  },
  {
   "cell_type": "markdown",
   "metadata": {},
   "source": [
    "## Aufgabe 3.6\n",
    "\n",
    "Der Schaftdurchmesser von optischen Speicherplatten ist normalverteilt mit einem Mittelwert von 0.2508 Millimeter und Standardabweichung 0.0005 Millimeter. Die technischen Angaben des Schafts sind 0.2500 ± 0.0015 Millimeter.\n",
    "\n",
    "### a)\n",
    "Welcher Anteil der Schaftdurchmesser entspricht den technischen Angaben?"
   ]
  },
  {
   "cell_type": "code",
   "execution_count": null,
   "metadata": {},
   "outputs": [],
   "source": []
  },
  {
   "cell_type": "markdown",
   "metadata": {},
   "source": [
    "### b)\n",
    "Die meisten Schaftdurchmesser sind zu gross, da der Mittelwert der Herstellung sehr nahe an der oberen Grenze der technischen Angabe liegt. Wenn der Herstellungsprozess derart geändert wird, dass der Mittelwert der Schaftdurchmesser nun beim Zielwert von 0.2500 liegt, welcher Anteil entspricht dann den technischen Angaben?"
   ]
  },
  {
   "cell_type": "code",
   "execution_count": null,
   "metadata": {},
   "outputs": [],
   "source": []
  },
  {
   "cell_type": "markdown",
   "metadata": {},
   "source": [
    "## Aufgabe 3.7\n",
    "\n",
    "Monte Carlo Algorithmen sind randomisierte Algorithmen und stellen ein gutes Werkzeug für Simulationen von stochastischen Prozessen dar. Auch die Zahl π lässt sich mit Hilfe von Monte Carlo Simulationen bestimmen. Im Folgenden möchten wir ein Computerprogramm erstellen, mit welchem man die Zahl $\\pi$ aufgrund von Monte Carlo Methoden simulieren kann. Man generiert hierzu zufällige Punkte\n",
    "\n",
    "$$ P \\in {( x,y )| x \\in [− 1,1 ]\\ \\text{und}\\ y \\in [−1,1 ]} $$\n",
    "\n",
    "und überprüft, ob diese innerhalb des Einheitskreises mit Kreismittelpunkt $M_K = ( 0,0 )$ und Radius $r = 1$ liegen. Die sich ergebende Wahrscheinlichkeitsverteilung $P [( x,y ) \\in \\text{Kreis} ]$ stellt die Fläche eines Viertels des Einheitskreises dar. $\\pi$ kann nunmit folgender Formel berechnet werden\n",
    "\n",
    "$$\\frac{\\text{Anzahl Treffer in Kreisfläche}}{\\text{Anzahl generierte Punkte Quadrat}}=\\frac{\\text{Kreisfläche}}{\\text{Quadratfläche}}$$\n",
    "$$=\\frac{r^2 \\cdot\\pi}{( 2 \\cdot r )^2}$$\n",
    "$$=\\frac{\\pi}{4}$$\n",
    "$$= P [( x,y ) \\in \\text{Kreis} ] $$\n",
    "\n",
    "Bestimmen Sie mit Hilfe dieser Überlegung die Zahl $\\pi$. \n",
    "\n",
    "__Python__-Hinweise:\n",
    "```python\n",
    "# Generieren von 100 gleichmaessig verteilten\n",
    "# Zufallszahlen im Intervall [-1,1]\n",
    "from scipy.stats import uniform\n",
    "import numpy as np\n",
    "x = uniform.rvs(size=100, loc=-1, scale=2)\n",
    "# Bestimmen der Anzahl Zahlen kleiner als eins; Beispiel:\n",
    "# Anzahl von 100 zufaellig im Intervall [0,10] generierten\n",
    "# Zahlen, die kleiner als 1 sind:\n",
    "np.sum(x<1)\n",
    "```"
   ]
  },
  {
   "cell_type": "code",
   "execution_count": null,
   "metadata": {},
   "outputs": [],
   "source": []
  }
 ],
 "metadata": {
  "kernelspec": {
   "display_name": "Python 3",
   "language": "python",
   "name": "python3"
  },
  "language_info": {
   "codemirror_mode": {
    "name": "ipython",
    "version": 3
   },
   "file_extension": ".py",
   "mimetype": "text/x-python",
   "name": "python",
   "nbconvert_exporter": "python",
   "pygments_lexer": "ipython3",
   "version": "3.7.0"
  }
 },
 "nbformat": 4,
 "nbformat_minor": 2
}
