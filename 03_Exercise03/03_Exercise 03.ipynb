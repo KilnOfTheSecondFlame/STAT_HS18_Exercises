{
 "cells": [
  {
   "cell_type": "markdown",
   "metadata": {},
   "source": [
    "# Serie 3\n",
    "\n",
    "## Aufgabe 3.1\n",
    "Die monatlichen Aufwendungen X [CHF] für den Wasserverbrauch eines 2-Personenhaushalts seien durch eine Zufallsvariable mit der folgenden Wahrscheinlichkeitsdichtefunktion gegeben:\n",
    "\n",
    "$$f(x)=\\left\\{\n",
    "    \\begin{matrix}\n",
    "    cx(15-\\frac{x}{4})\\ && \\text{falls}\\ 0\\leq x\\leq 60 \\\\\n",
    "    0 && \\text{sonst}\n",
    "    \\end{matrix}\n",
    "\\right. $$"
   ]
  },
  {
   "cell_type": "markdown",
   "metadata": {},
   "source": [
    "### a)\n",
    "\n",
    "Welchen Wert muss $c$ annehmen?"
   ]
  },
  {
   "cell_type": "markdown",
   "metadata": {},
   "source": [
    "$$\\int\\limits_0^{60}{cx(15-\\frac{x}{4})} = 1 $$\n",
    "\n",
    "$$\\left.\\frac{15\\cdot c\\cdot x^2}{2}-\\frac{c\\cdot x^3}{12}\\right|_0^{60} = 1 $$\n",
    "\n",
    "$$\\frac{15\\cdot c\\cdot 60^2}{2}-\\frac{c\\cdot 60^3}{12} = 1 $$\n",
    "\n",
    "$$\\frac{54000\\cdot c}{2} - 18000\\cdot c = 1 $$\n",
    "\n",
    "$$27000\\cdot c - 18000\\cdot c = 1$$\n",
    "\n",
    "$$c = \\frac{1}{9000}$$"
   ]
  },
  {
   "cell_type": "code",
   "execution_count": 9,
   "metadata": {},
   "outputs": [
    {
     "name": "stdout",
     "output_type": "stream",
     "text": [
      "54000\n",
      "18000.0\n"
     ]
    }
   ],
   "source": [
    "print(str(15*60**2))\n",
    "print(str(60**3/12))"
   ]
  },
  {
   "cell_type": "markdown",
   "metadata": {},
   "source": [
    "### b)\n",
    "\n",
    "Geben Sie die Verteilungsfunktion $F$ der Zufallsvariablen $X$ an."
   ]
  },
  {
   "cell_type": "markdown",
   "metadata": {},
   "source": [
    "$$ F(x)=\\left\\{\n",
    "    \\begin{matrix}\n",
    "    0 && \\text{falls}\\ x<0\\\\\n",
    "    \\frac{1}{9000}(\\frac{15}{2}x^2-\\frac{1}{12}x^3)\\ && \\text{falls}\\ 0\\leq x\\leq 60\\\\\n",
    "    1 && \\text{falls}\\ x>60\n",
    "    \\end{matrix}\n",
    "\\right. $$"
   ]
  },
  {
   "cell_type": "markdown",
   "metadata": {},
   "source": [
    "### c)\n",
    "\n",
    "Welcher Wert der Aufwendungen wird nur mit 10% Wahrscheinlichkeit überschritten?"
   ]
  },
  {
   "cell_type": "markdown",
   "metadata": {},
   "source": [
    "Gesucht ist ein $a$ sodass $P(X>a)=0.1$ also ist $P(X\\leq a)=0.9$, somit muss gelten $F(a)=0.9$. Mit der Formel aus b):\n",
    "\n",
    "$$\\frac{1}{9000}(\\frac{15}{2}a^2-\\frac{1}{12}a^3) = 0.9$$\n",
    "\n",
    "$$\\frac{15}{2}a^2-\\frac{1}{12}a^3 = 0.9\\cdot 9000$$\n",
    "\n",
    "$$\\frac{15}{2}a^2-\\frac{1}{12}a^3 - 8100 = 0\\cdot 9000$$"
   ]
  },
  {
   "cell_type": "code",
   "execution_count": 10,
   "metadata": {},
   "outputs": [
    {
     "data": {
      "text/plain": [
       "{-28.6249720273366, 48.2519936604545, 70.3729783668821}"
      ]
     },
     "execution_count": 10,
     "metadata": {},
     "output_type": "execute_result"
    }
   ],
   "source": [
    "import sympy as sym\n",
    "\n",
    "a = sym.Symbol('a')\n",
    "sym.solveset(15/2*a**2-1/12*a**3-8100)"
   ]
  },
  {
   "cell_type": "markdown",
   "metadata": {},
   "source": [
    "Davon liegt nur $a = 48.252$ im Wertebereich von $F(x)$ und ist somit unsere gesuchte Grenze."
   ]
  },
  {
   "cell_type": "markdown",
   "metadata": {},
   "source": [
    "### d)\n",
    "\n",
    "Wie hoch sind die erwarteten monatlichen Aufwendungen für den Wasserverbrauch eines 2-Personenhaushalts?"
   ]
  },
  {
   "cell_type": "markdown",
   "metadata": {},
   "source": [
    "Der Erwartungswert für stetige Zufallsvariablen $X$ ist wie folgt definiert:\n",
    "\n",
    "$$\\int\\limits_{-\\infty}^{\\infty}{x \\cdot f(x)\\ dx} $$\n",
    "\n",
    "Da unsere Funktion $f(x)$ aber nur im Intervall $[0,60]$ definiert ist, erhalten wir folgendes Integral:\n",
    "\n",
    "$$\\int\\limits_0^{60}{x\\cdot \\frac{1}{9000}x\\ (15-\\frac{x}{4})}$$\n",
    "\n",
    "$$= \\frac{1}{9000}\\int\\limits_0^{60}{x^2\\ (15-\\frac{x}{4})}$$\n",
    "\n",
    "$$= \\frac{1}{9000}(\\left. 5x^3-\\frac{1}{16}x^4\\right|_0^{60})$$\n",
    "\n",
    "$$= 30$$"
   ]
  },
  {
   "cell_type": "code",
   "execution_count": 11,
   "metadata": {},
   "outputs": [
    {
     "data": {
      "text/plain": [
       "1080000"
      ]
     },
     "execution_count": 11,
     "metadata": {},
     "output_type": "execute_result"
    }
   ],
   "source": [
    "5*60**3"
   ]
  },
  {
   "cell_type": "code",
   "execution_count": 12,
   "metadata": {},
   "outputs": [
    {
     "data": {
      "text/plain": [
       "810000.0"
      ]
     },
     "execution_count": 12,
     "metadata": {},
     "output_type": "execute_result"
    }
   ],
   "source": [
    "1/16*60**4"
   ]
  },
  {
   "cell_type": "code",
   "execution_count": 13,
   "metadata": {},
   "outputs": [
    {
     "data": {
      "text/plain": [
       "30.0"
      ]
     },
     "execution_count": 13,
     "metadata": {},
     "output_type": "execute_result"
    }
   ],
   "source": [
    "1/9000*(1080000-810000)"
   ]
  },
  {
   "cell_type": "markdown",
   "metadata": {},
   "source": [
    "## Aufgabe 3.2\n",
    "\n",
    "In derStadt Luzern gibt es bekanntlich viele Baustellen. Die Dauer $X$ der Arbeiten bei einer Baustelle liege zwischen 0 und 20 Wochen. Die Dichte $f(x)$ habe die folgende Form:\n",
    "\n",
    "![Dauer Arbeiten auf Baustellen in Luzern](img/ArbeitenBaustelleLuzern.png)\n",
    "\n",
    "### a)\n",
    "Begründen Sie, warum $c = 0.1$ ist und schreiben Sie die Dichte $f(x)$ explizit auf."
   ]
  },
  {
   "cell_type": "markdown",
   "metadata": {},
   "source": [
    "Da die Fläche unter der Wahrscheinlichkeitsdichtefunktion 1 ergeben muss.\n",
    "\n",
    "Wenn wir das Ganze als Dreiecksfläche anschauen erhalten wir $\\frac{c\\cdot20}{2}=1$. und somit $c=\\frac{1}{10}$. Die Wahrscheinlichkeitsdichtefunktion ist also:\n",
    "\n",
    "$$f(x)=\\left\\{\n",
    "    \\begin{matrix}\n",
    "    0\\ && x<0\\ \\text{und}\\ x>20 \\\\\n",
    "    -\\frac{1}{200}x+\\frac{1}{10} && 0\\leq x\\leq 20\n",
    "    \\end{matrix}\n",
    "\\right. $$"
   ]
  },
  {
   "cell_type": "markdown",
   "metadata": {},
   "source": [
    "### b)\n",
    "Berechnen Sie die Wahrscheinlichkeit, dass die Bauzeit $X$ weniger als\n",
    "1. 5 Wochen\n",
    "2. 10 Wochen\n",
    "\n",
    "beträgt."
   ]
  },
  {
   "cell_type": "markdown",
   "metadata": {},
   "source": [
    "$$g(t) = F(t) = \\int\\limits_{0}^{t}{-\\frac{1}{200}x+\\frac{1}{10}\\ dx} = -\\frac{1}{400}t^2+\\frac{1}{10}t $$\n",
    "\n",
    "Und somit:\n",
    "\n",
    "$$g(5) = -\\frac{5^2}{400}+\\frac{5}{10}$$\n",
    "\n",
    "$$g(10) = -\\frac{10^2}{400}+\\frac{10}{10}$$"
   ]
  },
  {
   "cell_type": "code",
   "execution_count": 14,
   "metadata": {},
   "outputs": [
    {
     "data": {
      "text/plain": [
       "0.4375"
      ]
     },
     "execution_count": 14,
     "metadata": {},
     "output_type": "execute_result"
    }
   ],
   "source": [
    "-(5**2)/400+5/10"
   ]
  },
  {
   "cell_type": "code",
   "execution_count": 15,
   "metadata": {},
   "outputs": [
    {
     "data": {
      "text/plain": [
       "0.75"
      ]
     },
     "execution_count": 15,
     "metadata": {},
     "output_type": "execute_result"
    }
   ],
   "source": [
    "-10**2/400+1"
   ]
  },
  {
   "cell_type": "markdown",
   "metadata": {},
   "source": [
    "### c)\n",
    "\n",
    "Skizzieren Sie die kumulative Verteilungsfunktion."
   ]
  },
  {
   "cell_type": "code",
   "execution_count": 16,
   "metadata": {},
   "outputs": [
    {
     "data": {
      "image/png": "[encoded data removed]",
      "text/plain": [
       "<Figure size 432x288 with 1 Axes>"
      ]
     },
     "metadata": {
      "needs_background": "light"
     },
     "output_type": "display_data"
    }
   ],
   "source": [
    "import numpy as np\n",
    "import matplotlib.pyplot as plt\n",
    "\n",
    "# Sample t between 0 and 20\n",
    "t = np.arange(0., 20.0, 0.5)\n",
    "\n",
    "plt.plot(t, -t**2/400+t/10, linewidth=1.0)\n",
    "plt.show()"
   ]
  },
  {
   "cell_type": "markdown",
   "metadata": {},
   "source": [
    "### d)\n",
    "\n",
    "Berechnen Sie den Erwartungswert, den Median und die Standardabweichung der Dauer $X$."
   ]
  },
  {
   "cell_type": "markdown",
   "metadata": {},
   "source": [
    "Wenn X stetig ist, ist der Erwartungswert $E(X)$ folgendermassen definiert:\n",
    "\n",
    "$$E(X) = \\int_{-\\infty}^{\\infty}xf(x)\\text{d}x $$\n",
    "\n",
    "Auf unser Problem angewandt bedeutet dies:\n",
    "\n",
    "$$E(X) = \\int_0^{20}{-\\frac{1}{200}x^2+\\frac{1}{10}x\\ \\text{d}x} = \\frac{20}{3} \\approx 6.6666$$"
   ]
  },
  {
   "cell_type": "code",
   "execution_count": 17,
   "metadata": {},
   "outputs": [
    {
     "data": {
      "text/plain": [
       "(6.666666666666666, 7.401486830834377e-14)"
      ]
     },
     "execution_count": 17,
     "metadata": {},
     "output_type": "execute_result"
    }
   ],
   "source": [
    "import scipy.integrate as integrate\n",
    "integrate.quad(lambda x:-1/200*x**2+1/10*x, 0, 20)"
   ]
  },
  {
   "cell_type": "markdown",
   "metadata": {},
   "source": [
    "Die Varianz für $E(X)$ ist definiert als $Var(X) = E(X^2)-(E(X)^2$\n",
    "\n",
    "$E(X)$ haben wir im ersten Schritt schon berechnet.\n",
    "\n",
    "$$E(X^2) = \\int_0^{20}{x^2 f(x) \\text{d}x} = \\int_0^{20}{-\\frac{1}{200}x^3+\\frac{1}{10}x^2\\text{d}x} = \\frac{200}{3}$$\n",
    "\n",
    "$$ Var(X) = E(X^2)-(E(X)^2 = \\frac{200}{3}-(\\frac{20}{3})^2 = \\frac{200}{9} \\approx 22.2222$$"
   ]
  },
  {
   "cell_type": "code",
   "execution_count": 18,
   "metadata": {},
   "outputs": [
    {
     "data": {
      "text/plain": [
       "22.22222222222222"
      ]
     },
     "execution_count": 18,
     "metadata": {},
     "output_type": "execute_result"
    }
   ],
   "source": [
    "200/3-(20/3)**2"
   ]
  },
  {
   "cell_type": "markdown",
   "metadata": {},
   "source": [
    "Standardabweichung $\\sigma(X) =\\sqrt{Var(X)}=\\sqrt{200/9}=\\sqrt{2}\\cdot\\frac{10}{3}\\approx4.7140$"
   ]
  },
  {
   "cell_type": "markdown",
   "metadata": {},
   "source": [
    "### e)\n",
    "\n",
    "$K = 40′000\\cdot\\sqrt{X}$ entspreche dem Betrag in Franken, den die Arbeiten bei einer Baustelle kosten. Wie gross ist die Wahrscheinlichkeit, dass die Arbeiten bei einer Baustelle höchstens 120’000.- Fr. kosten?"
   ]
  },
  {
   "cell_type": "markdown",
   "metadata": {},
   "source": [
    "$$\\int\\limits_{0}^{t}{-\\frac{1}{200}x+\\frac{1}{10}\\ dx}$$"
   ]
  },
  {
   "cell_type": "code",
   "execution_count": 24,
   "metadata": {},
   "outputs": [
    {
     "name": "stdout",
     "output_type": "stream",
     "text": [
      "9.0\n"
     ]
    },
    {
     "data": {
      "text/plain": [
       "0.6975000000000001"
      ]
     },
     "execution_count": 24,
     "metadata": {},
     "output_type": "execute_result"
    }
   ],
   "source": [
    "print((120000/40000)**2)\n",
    "integrate.quad(lambda x:-1/200*x+1/10, 0, 9)[0]"
   ]
  },
  {
   "cell_type": "markdown",
   "metadata": {},
   "source": [
    "Die vorgeschlagene Verteilung ist nur ein Modell. Man könnte die Dauer der Bauarbeiten zum Beispiel auch als exponentialverteilt annehmen.\n",
    "\n",
    "### f)\n",
    " Für welchen Parameter $\\lambda$ hat die Exponentialverteilung denselben Erwartungswert wie die bisherige angenommene Verteilung?"
   ]
  },
  {
   "cell_type": "markdown",
   "metadata": {},
   "source": [
    "$$E(X) = 6.666$$\n",
    "Erwartungswert einer Exponentialverteilung: $ E(X) = \\frac{1}{\\lambda}$\n",
    "$$\\frac{1}{\\lambda} = 6.666$$\n",
    "$$\\lambda = 0.15$$"
   ]
  },
  {
   "cell_type": "code",
   "execution_count": 25,
   "metadata": {},
   "outputs": [
    {
     "data": {
      "text/plain": [
       "0.15000000000000002"
      ]
     },
     "execution_count": 25,
     "metadata": {},
     "output_type": "execute_result"
    }
   ],
   "source": [
    "1/6.666666666666666"
   ]
  },
  {
   "cell_type": "markdown",
   "metadata": {},
   "source": [
    " ### g)\n",
    "Berechnen Sie mit der gefundenen Exponentialverteilung nochmals Teilaufgabe e)."
   ]
  },
  {
   "cell_type": "code",
   "execution_count": 30,
   "metadata": {},
   "outputs": [
    {
     "data": {
      "text/plain": [
       "0.7407597393541085"
      ]
     },
     "execution_count": 30,
     "metadata": {},
     "output_type": "execute_result"
    }
   ],
   "source": [
    "integrate.quad(lambda x:0.15*np.exp(-0.15*x), 0, 9)[0]"
   ]
  },
  {
   "cell_type": "markdown",
   "metadata": {},
   "source": [
    "## Aufgabe 3.3\n",
    "\n",
    "Eine Maschine hat eine exponentialverteilte Lebensdauer $T_1$ (in Stunden) mit Parameter $\\lambda = 0.04$.\n",
    "\n",
    "### a)\n",
    "Berechnen Sie den Median und den Erwartungswert. Mit welcher Wahrscheinlichkeit überlebt das System seine Lebenserwartung?"
   ]
  },
  {
   "cell_type": "markdown",
   "metadata": {},
   "source": [
    "Median:\n",
    "$$ 50\\% =\\int\\limits_{0}^{m}{\\lambda\\cdot e^{-\\lambda x}\\ dx}$$\n",
    "$$ 0.5 =\\int\\limits_{0}^{m}{0.04\\cdot e^{-0.04 x}\\ dx}$$\n",
    "$$ 0.5 = e^{0} - e^{-0.04*m} $$\n",
    "$$ m = 17.329 $$\n",
    "\n",
    "Erwartungswert:\n",
    "$$ E[X] = \\frac{1}{\\lambda}$$\n",
    "$$ E[X] = 25 $$"
   ]
  },
  {
   "cell_type": "markdown",
   "metadata": {},
   "source": [
    "Mit welcher Wahrscheinlichkeit liegt die Lebensdauer des Systems im Bereich\n",
    "$\\text{E}[T_1] \\pm \\sigma T_1$ ?"
   ]
  },
  {
   "cell_type": "markdown",
   "metadata": {},
   "source": [
    "$$ P(T_1 > E(T_1)) = P(T_1 > \\frac{1}{\\lambda_1})$$\n",
    "$$ = 1 - P(T_1 \\leq \\frac{1}{\\lambda_1})$$\n",
    "$$ = 1 - kumulativeVerteilungsfunktion(\\frac{1}{\\lambda_1})$$\n",
    "$$ = 1 - (1 - e^{-\\lambda\\cdot \\frac{1}{\\lambda}})$$\n",
    "$$ = e^-1 \\approx 0.368$$"
   ]
  },
  {
   "cell_type": "code",
   "execution_count": 33,
   "metadata": {},
   "outputs": [
    {
     "data": {
      "text/plain": [
       "0.36787944117144233"
      ]
     },
     "execution_count": 33,
     "metadata": {},
     "output_type": "execute_result"
    }
   ],
   "source": [
    "1/np.exp(1)"
   ]
  },
  {
   "cell_type": "markdown",
   "metadata": {},
   "source": [
    "### c)\n",
    "Nun betrachten wir eine zweite Maschine mit der Lebensdauer $T_2$ (in Stunden) mit der folgenden Dichte:\n",
    "\n",
    "$$f_{T_2}(t)=\\left\\{\n",
    "    \\begin{matrix}\n",
    "    0\\ && t \\leq 0 \\\\\n",
    "    c_2\\cdot e^{-\\frac{1}{1000}t} && t \\geq 0\n",
    "    \\end{matrix}\n",
    "\\right. $$\n",
    "\n",
    "Wie gross muss $c_2$ sein? Berechnen Sie den Erwartungswert und die Standardabweichung der Zufallsvariablen $T_2$."
   ]
  },
  {
   "cell_type": "code",
   "execution_count": null,
   "metadata": {},
   "outputs": [],
   "source": []
  },
  {
   "cell_type": "markdown",
   "metadata": {},
   "source": [
    "### d)\n",
    "Wir betrachten nun das System bestehend aus den beiden Maschinen mit Lebensdauern $T_1$ und $T_2$, welche unabhängig voneinander funktionieren. Berechnen Sie die Wahrscheinlichkeit, dass nach 200 Stunden beide Maschinen noch funktionieren."
   ]
  },
  {
   "cell_type": "code",
   "execution_count": null,
   "metadata": {},
   "outputs": [],
   "source": []
  },
  {
   "cell_type": "markdown",
   "metadata": {},
   "source": [
    "## Aufgabe 3.4\n",
    "\n",
    "Aufgrund langjähriger Untersuchungen ist bekannt, dass der Bleigehalt $X$ in einer Bodenprobe annähernd normalverteilt ist. Ausserdem weiss man, dass der Erwartungswert 32ppb beträgt und dass die Standardabweichung 6ppb beträgt.\n",
    "\n",
    "### a)\n",
    "Machen Sie eine Skizze der Dichte von X, und zeichnen Sie die Wahrscheinlichkeit, dass eine Bodenprobe zwischen 26 und 38 ppb Bleienthält, in die Skizze ein."
   ]
  },
  {
   "cell_type": "code",
   "execution_count": null,
   "metadata": {},
   "outputs": [],
   "source": []
  },
  {
   "cell_type": "markdown",
   "metadata": {},
   "source": [
    "## b)\n",
    "Wie gross ist die Wahrscheinlichkeit, dass eine Bodenprobe höchstens 40ppb\n",
    "Schwermetall enthält? _Hinweis_: Benützen Sie die **Python**-Funktion\n",
    "\n",
    "```python\n",
    "norm.cdf()\n",
    "```\n",
    "\n",
    "ÜberprüfenSiedasResultat, indemSiediestandardisierte Zufallsvariable Z ein-\n",
    "führen und mit der Standardnormalverteilung die Wahrscheinlichkeit berech-\n",
    "nen."
   ]
  },
  {
   "cell_type": "code",
   "execution_count": null,
   "metadata": {},
   "outputs": [],
   "source": []
  },
  {
   "cell_type": "markdown",
   "metadata": {},
   "source": [
    "### c)\n",
    "\n",
    "Wie gross ist die Wahrscheinlichkeit, dass eine Bodenprobe höchstens 27 ppb\n",
    "Schwermetall enthält?"
   ]
  },
  {
   "cell_type": "code",
   "execution_count": null,
   "metadata": {},
   "outputs": [],
   "source": []
  },
  {
   "cell_type": "markdown",
   "metadata": {},
   "source": [
    "### d)\n",
    "Welcher Bleigehalt wird mit einer Wahrscheinlichkeit von 97.5% unterschritten?\n",
    "Das heisst, bestimmen Sie dasjenige c, so dass die Wahrscheinlichkeit, dass der Bleigehalt kleiner oder gleich c ist, genau 97.5% beträgt. _Hinweis_: Benützen Sie die **Python**-Funktion\n",
    "```python\n",
    "norm.ppf()\n",
    "```"
   ]
  },
  {
   "cell_type": "code",
   "execution_count": null,
   "metadata": {},
   "outputs": [],
   "source": []
  },
  {
   "cell_type": "markdown",
   "metadata": {},
   "source": [
    "### e)\n",
    "Welcher Bleigehalt wird mit einer Wahrscheinlichkeit von 10% unterschritten?"
   ]
  },
  {
   "cell_type": "code",
   "execution_count": null,
   "metadata": {},
   "outputs": [],
   "source": []
  },
  {
   "cell_type": "markdown",
   "metadata": {},
   "source": [
    "### f)\n",
    "Wie gross ist die Wahrscheinlichkeit, die in Aufgabe a) eingezeichnet wurde?"
   ]
  },
  {
   "cell_type": "code",
   "execution_count": null,
   "metadata": {},
   "outputs": [],
   "source": []
  },
  {
   "cell_type": "markdown",
   "metadata": {},
   "source": [
    "## Aufgabe 3.5\n",
    "\n",
    "Wir gehen davon aus, dass bei der Detektion eines digitalen Signals das Hintergrundrauschen einer Normalverteilung folgt, und zwar mit einem Mittelwert von 0 Volt und einer Standardabweichung von 0.45 Volt. Das System geht davon aus, dass eine digitale 1 übertragen worden ist, wenn die Spannung 0.9 Volt überstiegen worden ist."
   ]
  },
  {
   "cell_type": "code",
   "execution_count": null,
   "metadata": {},
   "outputs": [],
   "source": []
  },
  {
   "cell_type": "markdown",
   "metadata": {},
   "source": []
  },
  {
   "cell_type": "code",
   "execution_count": null,
   "metadata": {},
   "outputs": [],
   "source": []
  }
 ],
 "metadata": {
  "kernelspec": {
   "display_name": "Python 3",
   "language": "python",
   "name": "python3"
  },
  "language_info": {
   "codemirror_mode": {
    "name": "ipython",
    "version": 3
   },
   "file_extension": ".py",
   "mimetype": "text/x-python",
   "name": "python",
   "nbconvert_exporter": "python",
   "pygments_lexer": "ipython3",
   "version": "3.7.0"
  }
 },
 "nbformat": 4,
 "nbformat_minor": 2
}
