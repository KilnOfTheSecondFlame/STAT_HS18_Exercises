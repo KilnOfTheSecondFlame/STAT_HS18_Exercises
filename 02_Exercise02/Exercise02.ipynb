{
 "cells": [
  {
   "cell_type": "markdown",
   "metadata": {},
   "source": [
    "# Serie 2"
   ]
  },
  {
   "cell_type": "markdown",
   "metadata": {},
   "source": [
    "## Aufgabe 2.1\n",
    "\n",
    "In einer Klasse wurden in einer Statistik-Prüfung folgende Noten geschrieben:\n",
    "\n",
    "4.2,2.3,5.6,4.5,4.8,3.9,5.9,2.4,5.9,6,4,3.7,5,5.2,4.5,3.6,5,6,2.8,3.3,5.5,4.2,4.9,5.1"
   ]
  },
  {
   "cell_type": "markdown",
   "metadata": {},
   "source": [
    "a) Ändern Sie drei Noten im Datensatz so ab, dass der Median gleich bleibt, aber\n",
    "der Mittelwert sich stark ändert."
   ]
  },
  {
   "cell_type": "code",
   "execution_count": 1,
   "metadata": {},
   "outputs": [],
   "source": [
    "import pandas as pd\n",
    "import numpy as np\n",
    "import matplotlib.pyplot as plt"
   ]
  },
  {
   "cell_type": "code",
   "execution_count": 2,
   "metadata": {},
   "outputs": [],
   "source": [
    "grades = pd.Series([4.2,2.3,5.6,4.5,4.8,3.9,5.9,2.4,5.9,6,4,3.7,5,5.2,4.5,3.6,5,6,2.8,3.3,5.5,4.2,4.9,5.1])"
   ]
  },
  {
   "cell_type": "code",
   "execution_count": 3,
   "metadata": {},
   "outputs": [
    {
     "data": {
      "text/plain": [
       "4.65"
      ]
     },
     "execution_count": 3,
     "metadata": {},
     "output_type": "execute_result"
    }
   ],
   "source": [
    "grades.median()"
   ]
  },
  {
   "cell_type": "code",
   "execution_count": 4,
   "metadata": {},
   "outputs": [
    {
     "data": {
      "text/plain": [
       "4.5125"
      ]
     },
     "execution_count": 4,
     "metadata": {},
     "output_type": "execute_result"
    }
   ],
   "source": [
    "grades.mean()"
   ]
  },
  {
   "cell_type": "code",
   "execution_count": 5,
   "metadata": {},
   "outputs": [
    {
     "name": "stdout",
     "output_type": "stream",
     "text": [
      "1     2.3\n",
      "2     2.4\n",
      "3     2.8\n",
      "4     3.3\n",
      "5     3.6\n",
      "6     3.7\n",
      "7     3.9\n",
      "8     4.0\n",
      "9     4.2\n",
      "10    4.2\n",
      "11    4.5\n",
      "12    4.5\n",
      "13    4.8\n",
      "14    4.9\n",
      "15    5.0\n",
      "16    5.0\n",
      "17    5.1\n",
      "18    5.2\n",
      "19    5.5\n",
      "20    5.6\n",
      "21    5.9\n",
      "22    5.9\n",
      "23    6.0\n",
      "24    6.0\n",
      "dtype: float64\n",
      "Median: 4.65\n",
      "Mean: 4.5125\n"
     ]
    }
   ],
   "source": [
    "grades_copy = grades.sort_values()\n",
    "# Modify the index\n",
    "grades_copy.index = np.arange(1, grades_copy.size+1)\n",
    "print(grades_copy)\n",
    "print(\"Median: \" + str(grades_copy.median()))\n",
    "print(\"Mean: \" + str(grades_copy.mean()))"
   ]
  },
  {
   "cell_type": "code",
   "execution_count": 6,
   "metadata": {},
   "outputs": [
    {
     "name": "stdout",
     "output_type": "stream",
     "text": [
      "Median: 4.65\n",
      "Mean: 4.641666666666667\n"
     ]
    }
   ],
   "source": [
    "grades_copy[14] = 6.0\n",
    "grades_copy[15] = 6.0\n",
    "grades_copy[16] = 6.0\n",
    "print(\"Median: \" + str(grades_copy.median()))\n",
    "print(\"Mean: \" + str(grades_copy.mean()))"
   ]
  },
  {
   "cell_type": "markdown",
   "metadata": {},
   "source": [
    "b) Erstellen Sie zu den beiden Datensätzen je ein Histogramm und einen Boxplot.\n",
    "Verwenden Sie `plt.subplot(...)` aus Aufgabe 1."
   ]
  },
  {
   "cell_type": "code",
   "execution_count": 47,
   "metadata": {},
   "outputs": [
    {
     "data": {
      "image/png": "[encoded data removed]",
      "text/plain": [
       "<Figure size 432x288 with 2 Axes>"
      ]
     },
     "metadata": {},
     "output_type": "display_data"
    }
   ],
   "source": [
    "plt.subplot(121)\n",
    "grades_copy.plot(kind=\"hist\", edgecolor=\"black\")\n",
    "plt.subplot(122)\n",
    "grades_copy.plot(kind=\"box\", title=\"Noten\")\n",
    "plt.show()"
   ]
  },
  {
   "cell_type": "markdown",
   "metadata": {},
   "source": [
    "## Aufgabe 2.2\n",
    "21 Labors bestimmten den Kupfergehalt von 9 verschiedenen Klärschlammproben.\n",
    "Die Daten stehen in der auf Ilias abgelegten Datei klaerschlamm.dat zur Verfü-\n",
    "gung. Die erste Spalte bezeichnet das Labor, die restlichen 9 Spalten sind die ver-\n",
    "schiedenen Klärschlammproben. Die Daten (in mg/kg) können mit dem Befehl\n",
    "\n",
    "``` python\n",
    "schlamm = pd.read_table(r\" * klaerschlamm.dat\", sep=\" \", index_col=0)\n",
    "```\n",
    "\n",
    "eingelesen werden (für * wieder der Dateipfad). Die erste Spalte `Labor` wollen wir\n",
    "noch entfernen, da sie uns nicht interessiert.\n",
    "\n",
    "``` python\n",
    "schlamm = schlamm.drop(\"Labor\",1)\n",
    "schlamm.head()\n",
    "```"
   ]
  },
  {
   "cell_type": "markdown",
   "metadata": {},
   "source": [
    "a) Erstellen Sie für jede Probe einen Boxplot, und berechnen Sie jeweils das arith-\n",
    "metische Mittel und den Median. Bei welchen Proben gibt es Ausreisser, und\n",
    "wounterscheidensich arithmetischesMittel undMedianwesentlich? Beiwelchen\n",
    "der 9 Proben ist es plausibel, dass die wahre Konzentration unter 400 mg/kg\n",
    "liegt?\n",
    "\n",
    "__Python-Hinweise__:\n",
    "```python\n",
    "schlamm.describe()\n",
    "schlamm.plot(kind=\"box\")\n",
    "```"
   ]
  },
  {
   "cell_type": "code",
   "execution_count": 8,
   "metadata": {},
   "outputs": [],
   "source": [
    "schlamm = pd.read_table(r\"klaerschlamm.dat\", sep=\" \", index_col=0)\n",
    "schlamm = schlamm.drop(\"Labor\",1)"
   ]
  },
  {
   "cell_type": "code",
   "execution_count": 9,
   "metadata": {},
   "outputs": [
    {
     "data": {
      "text/html": [
       "<div>\n",
       "<style scoped>\n",
       "    .dataframe tbody tr th:only-of-type {\n",
       "        vertical-align: middle;\n",
       "    }\n",
       "\n",
       "    .dataframe tbody tr th {\n",
       "        vertical-align: top;\n",
       "    }\n",
       "\n",
       "    .dataframe thead th {\n",
       "        text-align: right;\n",
       "    }\n",
       "</style>\n",
       "<table border=\"1\" class=\"dataframe\">\n",
       "  <thead>\n",
       "    <tr style=\"text-align: right;\">\n",
       "      <th></th>\n",
       "      <th>Pr1</th>\n",
       "      <th>Pr2</th>\n",
       "      <th>Pr3</th>\n",
       "      <th>Pr4</th>\n",
       "      <th>Pr5</th>\n",
       "      <th>Pr6</th>\n",
       "      <th>Pr7</th>\n",
       "      <th>Pr8</th>\n",
       "      <th>Pr9</th>\n",
       "    </tr>\n",
       "  </thead>\n",
       "  <tbody>\n",
       "    <tr>\n",
       "      <th>count</th>\n",
       "      <td>21.000000</td>\n",
       "      <td>21.000000</td>\n",
       "      <td>21.000000</td>\n",
       "      <td>21.000000</td>\n",
       "      <td>21.000000</td>\n",
       "      <td>21.000000</td>\n",
       "      <td>21.000000</td>\n",
       "      <td>21.000000</td>\n",
       "      <td>21.000000</td>\n",
       "    </tr>\n",
       "    <tr>\n",
       "      <th>mean</th>\n",
       "      <td>246.142857</td>\n",
       "      <td>511.428571</td>\n",
       "      <td>443.428571</td>\n",
       "      <td>389.238095</td>\n",
       "      <td>188.238095</td>\n",
       "      <td>394.857143</td>\n",
       "      <td>465.523810</td>\n",
       "      <td>449.952381</td>\n",
       "      <td>388.904762</td>\n",
       "    </tr>\n",
       "    <tr>\n",
       "      <th>std</th>\n",
       "      <td>18.210672</td>\n",
       "      <td>76.962050</td>\n",
       "      <td>34.156363</td>\n",
       "      <td>56.642656</td>\n",
       "      <td>16.866845</td>\n",
       "      <td>56.642110</td>\n",
       "      <td>91.361162</td>\n",
       "      <td>57.069673</td>\n",
       "      <td>104.159927</td>\n",
       "    </tr>\n",
       "    <tr>\n",
       "      <th>min</th>\n",
       "      <td>216.000000</td>\n",
       "      <td>268.000000</td>\n",
       "      <td>378.000000</td>\n",
       "      <td>223.000000</td>\n",
       "      <td>157.000000</td>\n",
       "      <td>337.000000</td>\n",
       "      <td>110.000000</td>\n",
       "      <td>323.000000</td>\n",
       "      <td>319.000000</td>\n",
       "    </tr>\n",
       "    <tr>\n",
       "      <th>25%</th>\n",
       "      <td>239.000000</td>\n",
       "      <td>491.000000</td>\n",
       "      <td>422.000000</td>\n",
       "      <td>373.000000</td>\n",
       "      <td>178.000000</td>\n",
       "      <td>366.000000</td>\n",
       "      <td>456.000000</td>\n",
       "      <td>423.000000</td>\n",
       "      <td>350.000000</td>\n",
       "    </tr>\n",
       "    <tr>\n",
       "      <th>50%</th>\n",
       "      <td>244.000000</td>\n",
       "      <td>521.000000</td>\n",
       "      <td>446.000000</td>\n",
       "      <td>390.000000</td>\n",
       "      <td>188.000000</td>\n",
       "      <td>385.000000</td>\n",
       "      <td>481.000000</td>\n",
       "      <td>451.000000</td>\n",
       "      <td>369.000000</td>\n",
       "    </tr>\n",
       "    <tr>\n",
       "      <th>75%</th>\n",
       "      <td>257.000000</td>\n",
       "      <td>530.000000</td>\n",
       "      <td>459.000000</td>\n",
       "      <td>405.000000</td>\n",
       "      <td>200.000000</td>\n",
       "      <td>393.000000</td>\n",
       "      <td>493.000000</td>\n",
       "      <td>467.000000</td>\n",
       "      <td>382.000000</td>\n",
       "    </tr>\n",
       "    <tr>\n",
       "      <th>max</th>\n",
       "      <td>296.000000</td>\n",
       "      <td>732.000000</td>\n",
       "      <td>548.000000</td>\n",
       "      <td>562.000000</td>\n",
       "      <td>221.000000</td>\n",
       "      <td>557.000000</td>\n",
       "      <td>642.000000</td>\n",
       "      <td>639.000000</td>\n",
       "      <td>819.000000</td>\n",
       "    </tr>\n",
       "  </tbody>\n",
       "</table>\n",
       "</div>"
      ],
      "text/plain": [
       "              Pr1         Pr2         Pr3         Pr4         Pr5         Pr6  \\\n",
       "count   21.000000   21.000000   21.000000   21.000000   21.000000   21.000000   \n",
       "mean   246.142857  511.428571  443.428571  389.238095  188.238095  394.857143   \n",
       "std     18.210672   76.962050   34.156363   56.642656   16.866845   56.642110   \n",
       "min    216.000000  268.000000  378.000000  223.000000  157.000000  337.000000   \n",
       "25%    239.000000  491.000000  422.000000  373.000000  178.000000  366.000000   \n",
       "50%    244.000000  521.000000  446.000000  390.000000  188.000000  385.000000   \n",
       "75%    257.000000  530.000000  459.000000  405.000000  200.000000  393.000000   \n",
       "max    296.000000  732.000000  548.000000  562.000000  221.000000  557.000000   \n",
       "\n",
       "              Pr7         Pr8         Pr9  \n",
       "count   21.000000   21.000000   21.000000  \n",
       "mean   465.523810  449.952381  388.904762  \n",
       "std     91.361162   57.069673  104.159927  \n",
       "min    110.000000  323.000000  319.000000  \n",
       "25%    456.000000  423.000000  350.000000  \n",
       "50%    481.000000  451.000000  369.000000  \n",
       "75%    493.000000  467.000000  382.000000  \n",
       "max    642.000000  639.000000  819.000000  "
      ]
     },
     "execution_count": 9,
     "metadata": {},
     "output_type": "execute_result"
    }
   ],
   "source": [
    "schlamm.describe()"
   ]
  },
  {
   "cell_type": "code",
   "execution_count": 10,
   "metadata": {},
   "outputs": [
    {
     "name": "stdout",
     "output_type": "stream",
     "text": [
      "Median:\n",
      "Pr1    244.0\n",
      "Pr2    521.0\n",
      "Pr3    446.0\n",
      "Pr4    390.0\n",
      "Pr5    188.0\n",
      "Pr6    385.0\n",
      "Pr7    481.0\n",
      "Pr8    451.0\n",
      "Pr9    369.0\n",
      "dtype: float64\n",
      "\n",
      "Mean:\n",
      "Pr1    246.142857\n",
      "Pr2    511.428571\n",
      "Pr3    443.428571\n",
      "Pr4    389.238095\n",
      "Pr5    188.238095\n",
      "Pr6    394.857143\n",
      "Pr7    465.523810\n",
      "Pr8    449.952381\n",
      "Pr9    388.904762\n",
      "dtype: float64\n"
     ]
    },
    {
     "data": {
      "image/png": "[encoded data removed]",
      "text/plain": [
       "<Figure size 432x288 with 1 Axes>"
      ]
     },
     "metadata": {},
     "output_type": "display_data"
    }
   ],
   "source": [
    "schlamm.plot(kind=\"box\")\n",
    "print(\"Median:\")\n",
    "print(schlamm.median())\n",
    "print(\"\\nMean:\")\n",
    "print(schlamm.mean())"
   ]
  },
  {
   "cell_type": "markdown",
   "metadata": {},
   "source": [
    "Bei Probe 2, 3, 7, 8 ist es plausibel das die Konzentration über 400mg/kg liegt."
   ]
  },
  {
   "cell_type": "markdown",
   "metadata": {},
   "source": [
    "b) Erstellen Sie für jedes Labor einen Boxplot der Messfehler. Unter dem Messfehler eines Labors bei einer Probe verstehen wir den gemessenen Wert minus den Median über alle Labors. Welche der 21 Labors haben systematischeFehler in ihrem Analyseverfahren? Welche haben grosse Zufallsfehler, und beiwelchen Labors ist die Qualität der Analysen besonders gut?\n",
    "\n",
    "__Python__-Hinweise: Wir ziehen zunächst von jeder Spalte den Median ab\n",
    "```python\n",
    "schlamm_centered = schlamm - schlamm.median()\n",
    "```\n",
    "und zeichnen den Boxplot mit vertauschten Zeilen und Spalten. Dies geschieht mit dem Attribut __.T__\n",
    "```python\n",
    "schlamm_centered.T.plot(kind=\"box\")\n",
    "```"
   ]
  },
  {
   "cell_type": "code",
   "execution_count": 15,
   "metadata": {},
   "outputs": [
    {
     "data": {
      "text/plain": [
       "<matplotlib.axes._subplots.AxesSubplot at 0x1adeb4e4208>"
      ]
     },
     "execution_count": 15,
     "metadata": {},
     "output_type": "execute_result"
    },
    {
     "data": {
      "image/png": "[encoded data removed]",
      "text/plain": [
       "<Figure size 432x288 with 1 Axes>"
      ]
     },
     "metadata": {},
     "output_type": "display_data"
    }
   ],
   "source": [
    "schlamm_centered = schlamm - schlamm.median()\n",
    "schlamm_centered.T.plot(kind=\"box\")"
   ]
  },
  {
   "cell_type": "markdown",
   "metadata": {},
   "source": [
    "Die Labors 15 und 21 haben systematische Messfehler, 6 und 12 grosse Zufallsfehler."
   ]
  },
  {
   "cell_type": "markdown",
   "metadata": {},
   "source": [
    "## Aufgabe 2.3\n",
    "\n",
    "Für drei Stichproben vom Umfang n = 100 wurden je ein Boxplot und die empirische Verteilungsfunktion gezeichnet. Ordnen Sie die drei Boxplots den entsprechenden empirischen Verteilungsfunktionen zu:\n",
    "![Boxplot und Verteilungsfunktionen](img/Boxplot.png)"
   ]
  },
  {
   "cell_type": "markdown",
   "metadata": {},
   "source": [
    "1 -> c\n",
    "\n",
    "2 -> b\n",
    "\n",
    "3 -> a"
   ]
  },
  {
   "cell_type": "markdown",
   "metadata": {},
   "source": [
    "# Aufgabe 2.4\n",
    "\n",
    "EdwinHubbleuntersuchte seit 1920 am Mount Wilson Observatory die Eigenschaften von Galaxien ausserhalb der Milchstrasse. Mit Überraschung bemerkte er einen Zusammenhang zwischen der Distanz einer Galaxie zur Erde und dessen Geschwindigkeit, sich von der Erde fortzubewegen (Fluchtgeschwindigkeit). Hubbles ursprüngliche Daten von 24 galaktischen Nebeln ( E. Hubble, \"‘Proceedings of the National Academy of Science 15 (1929): 168-73\"’) sind in Tabelle 1 gezeigt. Die Fluchtgeschwindigkeit ist in Kilometer pro Sekunde angegeben und konnte aufgrund der Rotverschiebung im Lichtspektrum der Galaxien mit grosser Genauigkeit bestimmt werden. Die Distanz einer Galaxie zur Erde wird in Megaparsec (Mpc) gemessen: ein Megaparsec entspricht etwa 3.09 × 10 10 m. Die Distanzen werden durch Vergleich der mittleren Luminosität von Galaxien mit der Luminosität von bestimmten bekannten Sternen bestimmt, wobei diese Methode relativ ungenau ist.\n",
    "\n",
    "![Zusammenhang zwischen Distanz und Fluchtgeschwindigkeit von Galaxien](img/GalaxyEscapeVelocity.png)\n",
    "Tabelle 1: Zusammenhang zwischen Distanz und Fluchtgeschwindigkeit von Galaxien."
   ]
  },
  {
   "cell_type": "markdown",
   "metadata": {},
   "source": [
    "a) Erstellen Sie von den Daten in Tabelle 1 ein Streudiagramm, in dem Sie die Distanz versus Fluchtgeschwindigkeit aufzeichnen.\n",
    "Lesen Sie dazu die Datei ein:\n",
    "```python\n",
    "hubble = pd.read_table(r\" * hubble.txt\", sep=\" \")\n",
    "```"
   ]
  },
  {
   "cell_type": "code",
   "execution_count": 22,
   "metadata": {},
   "outputs": [
    {
     "data": {
      "text/html": [
       "<div>\n",
       "<style scoped>\n",
       "    .dataframe tbody tr th:only-of-type {\n",
       "        vertical-align: middle;\n",
       "    }\n",
       "\n",
       "    .dataframe tbody tr th {\n",
       "        vertical-align: top;\n",
       "    }\n",
       "\n",
       "    .dataframe thead th {\n",
       "        text-align: right;\n",
       "    }\n",
       "</style>\n",
       "<table border=\"1\" class=\"dataframe\">\n",
       "  <thead>\n",
       "    <tr style=\"text-align: right;\">\n",
       "      <th></th>\n",
       "      <th>distance</th>\n",
       "      <th>recession.velocity</th>\n",
       "    </tr>\n",
       "  </thead>\n",
       "  <tbody>\n",
       "    <tr>\n",
       "      <th>count</th>\n",
       "      <td>24.000000</td>\n",
       "      <td>24.000000</td>\n",
       "    </tr>\n",
       "    <tr>\n",
       "      <th>mean</th>\n",
       "      <td>0.911375</td>\n",
       "      <td>373.125000</td>\n",
       "    </tr>\n",
       "    <tr>\n",
       "      <th>std</th>\n",
       "      <td>0.645496</td>\n",
       "      <td>371.254666</td>\n",
       "    </tr>\n",
       "    <tr>\n",
       "      <th>min</th>\n",
       "      <td>0.032000</td>\n",
       "      <td>-220.000000</td>\n",
       "    </tr>\n",
       "    <tr>\n",
       "      <th>25%</th>\n",
       "      <td>0.406250</td>\n",
       "      <td>165.000000</td>\n",
       "    </tr>\n",
       "    <tr>\n",
       "      <th>50%</th>\n",
       "      <td>0.900000</td>\n",
       "      <td>295.000000</td>\n",
       "    </tr>\n",
       "    <tr>\n",
       "      <th>75%</th>\n",
       "      <td>1.175000</td>\n",
       "      <td>537.500000</td>\n",
       "    </tr>\n",
       "    <tr>\n",
       "      <th>max</th>\n",
       "      <td>2.000000</td>\n",
       "      <td>1090.000000</td>\n",
       "    </tr>\n",
       "  </tbody>\n",
       "</table>\n",
       "</div>"
      ],
      "text/plain": [
       "        distance  recession.velocity\n",
       "count  24.000000           24.000000\n",
       "mean    0.911375          373.125000\n",
       "std     0.645496          371.254666\n",
       "min     0.032000         -220.000000\n",
       "25%     0.406250          165.000000\n",
       "50%     0.900000          295.000000\n",
       "75%     1.175000          537.500000\n",
       "max     2.000000         1090.000000"
      ]
     },
     "execution_count": 22,
     "metadata": {},
     "output_type": "execute_result"
    }
   ],
   "source": [
    "hubble = pd.read_table(r\"hubble.txt\", sep=\" \")\n",
    "hubble.describe()"
   ]
  },
  {
   "cell_type": "markdown",
   "metadata": {},
   "source": [
    "b) Bestimmen Sie mit dem Befehl `np.polyfit(...)` (siehe Skript) die Koeffizienten $\\beta_0$ und $\\beta_1$ für die Regressionsgerade\n",
    "\n",
    "$y = \\beta_0 + \\beta_1 x$\n",
    "\n",
    "Zeichnen Sie die Regressionsgerade (siehe Skript) in das Streudiagramm ein."
   ]
  },
  {
   "cell_type": "code",
   "execution_count": 18,
   "metadata": {},
   "outputs": [
    {
     "data": {
      "image/png": "[encoded data removed]",
      "text/plain": [
       "<Figure size 432x288 with 1 Axes>"
      ]
     },
     "metadata": {},
     "output_type": "display_data"
    }
   ],
   "source": [
    "hubble.plot(kind=\"scatter\", x='recession.velocity', y='distance')\n",
    "b, a = np.polyfit(hubble[\"recession.velocity\"], hubble[\"distance\"], deg=1)\n",
    "x = np.linspace(hubble[\"recession.velocity\"].min(),hubble[\"recession.velocity\"].max())\n",
    "plt.plot(x, a+b*x, c=\"red\")\n",
    "plt.xlabel(\"Distanz\")\n",
    "plt.ylabel(\"Rezession\")\n",
    "plt.show()"
   ]
  },
  {
   "cell_type": "markdown",
   "metadata": {},
   "source": [
    "c) Bestimmen Sie noch den Korrelationskoeffizienten und interpretieren Sie \n",
    "diesen."
   ]
  },
  {
   "cell_type": "code",
   "execution_count": 21,
   "metadata": {},
   "outputs": [
    {
     "name": "stdout",
     "output_type": "stream",
     "text": [
      "r: 0.7896394879353181\n",
      "r^2: 0.6235305209067514\n"
     ]
    }
   ],
   "source": [
    "print(\"r: \" + str(hubble.corr().iloc[0,1]))\n",
    "print(\"r^2: \" + str(hubble.corr().iloc[0,1]**2))"
   ]
  },
  {
   "cell_type": "markdown",
   "metadata": {},
   "source": [
    "Positiver linearer Zusammenhang: Je weiter entfernt die Galaxie von der Erde ist desto schneller bewegt sie sich von der Erde weg."
   ]
  },
  {
   "cell_type": "markdown",
   "metadata": {},
   "source": [
    "## Aufgabe 2.5\n",
    "\n",
    "Wir betrachten eine Studie, die 1979 in den Vereinigten Staaten durchgeführt wurde (National Longitudinal Study of Youth, NLSY79): von 2584 Amerikanern im Jahr 1981 wurde der Intelligenzquotient (gemäss AFQT - armed forces qualifying test score) gemessen; 2006 wurden dieselben Personen nach ihrem jährlichen Einkommen im Jahr 2005 und der Anzahl Jahre Schulbildung befragt. Uns interessiert hier natürlich, ob ein hoher IQ oder eine lange Schulbildung zu einem höheren Einkommen führen. In der auf Ilias abgelegten Datei `income.dat` finden Sie den Datensatz mit dem Einkommen, der Anzahl Jahre abgeschlossener Schulbildung und den ermittelten Intelligenzquotienten von 2584 Amerikanern."
   ]
  },
  {
   "cell_type": "markdown",
   "metadata": {},
   "source": [
    "a) Lesen Sie den Datensatz `income.dat` ein\n",
    "```python\n",
    "income = pd.read_table(r\" * income.dat\", sep=\" \")\n",
    "```\n",
    "und generieren Sie Streudiagramme, in welchen das Einkommen versus Anzahl Jahre Schulbildung und Einkommen versus Intelligenzquotient aufgetragen sind."
   ]
  },
  {
   "cell_type": "code",
   "execution_count": 26,
   "metadata": {},
   "outputs": [
    {
     "data": {
      "text/html": [
       "<div>\n",
       "<style scoped>\n",
       "    .dataframe tbody tr th:only-of-type {\n",
       "        vertical-align: middle;\n",
       "    }\n",
       "\n",
       "    .dataframe tbody tr th {\n",
       "        vertical-align: top;\n",
       "    }\n",
       "\n",
       "    .dataframe thead th {\n",
       "        text-align: right;\n",
       "    }\n",
       "</style>\n",
       "<table border=\"1\" class=\"dataframe\">\n",
       "  <thead>\n",
       "    <tr style=\"text-align: right;\">\n",
       "      <th></th>\n",
       "      <th>AFQT</th>\n",
       "      <th>Educ</th>\n",
       "      <th>Income2005</th>\n",
       "    </tr>\n",
       "  </thead>\n",
       "  <tbody>\n",
       "    <tr>\n",
       "      <th>count</th>\n",
       "      <td>2584.000000</td>\n",
       "      <td>2584.000000</td>\n",
       "      <td>2584.000000</td>\n",
       "    </tr>\n",
       "    <tr>\n",
       "      <th>mean</th>\n",
       "      <td>54.436702</td>\n",
       "      <td>13.890867</td>\n",
       "      <td>49416.998839</td>\n",
       "    </tr>\n",
       "    <tr>\n",
       "      <th>std</th>\n",
       "      <td>27.761409</td>\n",
       "      <td>2.503519</td>\n",
       "      <td>46727.925028</td>\n",
       "    </tr>\n",
       "    <tr>\n",
       "      <th>min</th>\n",
       "      <td>0.000000</td>\n",
       "      <td>6.000000</td>\n",
       "      <td>63.000000</td>\n",
       "    </tr>\n",
       "    <tr>\n",
       "      <th>25%</th>\n",
       "      <td>31.475000</td>\n",
       "      <td>12.000000</td>\n",
       "      <td>23000.000000</td>\n",
       "    </tr>\n",
       "    <tr>\n",
       "      <th>50%</th>\n",
       "      <td>56.801000</td>\n",
       "      <td>13.000000</td>\n",
       "      <td>38231.000000</td>\n",
       "    </tr>\n",
       "    <tr>\n",
       "      <th>75%</th>\n",
       "      <td>78.071750</td>\n",
       "      <td>16.000000</td>\n",
       "      <td>61000.000000</td>\n",
       "    </tr>\n",
       "    <tr>\n",
       "      <th>max</th>\n",
       "      <td>100.000000</td>\n",
       "      <td>20.000000</td>\n",
       "      <td>703637.000000</td>\n",
       "    </tr>\n",
       "  </tbody>\n",
       "</table>\n",
       "</div>"
      ],
      "text/plain": [
       "              AFQT         Educ     Income2005\n",
       "count  2584.000000  2584.000000    2584.000000\n",
       "mean     54.436702    13.890867   49416.998839\n",
       "std      27.761409     2.503519   46727.925028\n",
       "min       0.000000     6.000000      63.000000\n",
       "25%      31.475000    12.000000   23000.000000\n",
       "50%      56.801000    13.000000   38231.000000\n",
       "75%      78.071750    16.000000   61000.000000\n",
       "max     100.000000    20.000000  703637.000000"
      ]
     },
     "execution_count": 26,
     "metadata": {},
     "output_type": "execute_result"
    }
   ],
   "source": [
    "income = pd.read_table(r\"income.dat\", sep=\" \")\n",
    "income.describe()"
   ]
  },
  {
   "cell_type": "code",
   "execution_count": 31,
   "metadata": {},
   "outputs": [
    {
     "data": {
      "image/png": "[encoded data removed]",
      "text/plain": [
       "<Figure size 432x288 with 1 Axes>"
      ]
     },
     "metadata": {},
     "output_type": "display_data"
    }
   ],
   "source": [
    "income.plot(kind=\"scatter\", x=\"AFQT\", y=\"Income2005\")\n",
    "plt.xlabel(\"Intelligenzquotient\")\n",
    "plt.ylabel(\"Einkommen im Jahr 2005\")\n",
    "plt.show()"
   ]
  },
  {
   "cell_type": "code",
   "execution_count": 32,
   "metadata": {},
   "outputs": [
    {
     "data": {
      "image/png": "[encoded data removed]",
      "text/plain": [
       "<Figure size 432x288 with 1 Axes>"
      ]
     },
     "metadata": {},
     "output_type": "display_data"
    }
   ],
   "source": [
    "income.plot(kind=\"scatter\", x=\"Educ\", y=\"Income2005\")\n",
    "plt.xlabel(\"Bildung\")\n",
    "plt.ylabel(\"Einkommen im Jahr 2005\")\n",
    "plt.show()"
   ]
  },
  {
   "cell_type": "markdown",
   "metadata": {},
   "source": [
    "b) Bestimmen Sie die Parameter $a$ und $b$ des linearen Modells $y = a + bx$, wobei $y$\n",
    "das Einkommen bezeichnet und x die Anzahl Jahre Schulbildung. Zeichnen Sie\n",
    "die Regressionsgerade wie im Skript\n",
    "\n",
    "```python\n",
    "x = np.linspace(... , ...)\n",
    "plt.plot(x, a+b * x, c=\"orange\")\n",
    "```\n",
    "\n",
    "Wie interpretieren Sie die Parameter $a$ und $b$?"
   ]
  },
  {
   "cell_type": "code",
   "execution_count": 45,
   "metadata": {},
   "outputs": [
    {
     "name": "stdout",
     "output_type": "stream",
     "text": [
      "a: -40199.575352600026 , b: 6451.4745559458\n"
     ]
    },
    {
     "data": {
      "image/png": "[encoded data removed]",
      "text/plain": [
       "<Figure size 432x288 with 1 Axes>"
      ]
     },
     "metadata": {},
     "output_type": "display_data"
    }
   ],
   "source": [
    "income.plot(kind=\"scatter\", x=\"Educ\", y=\"Income2005\")\n",
    "b, a = np.polyfit(income[\"Educ\"], income[\"Income2005\"], deg=1)\n",
    "print(\"a: \" + str(a) + \" , b: \" + str(b))\n",
    "x = np.linspace(income[\"Educ\"].min(),income[\"Educ\"].max())\n",
    "plt.plot(x, a+b*x, c=\"red\")\n",
    "plt.xlabel(\"Bildung\")\n",
    "plt.ylabel(\"Einkommen im Jahr 2005\")\n",
    "plt.show()"
   ]
  },
  {
   "cell_type": "markdown",
   "metadata": {},
   "source": [
    "c) Berechnen Sie die Korrelation zwischen Einkommen und Anzahl Jahre Schulbildung. Wie angebracht ist ein Regressionsmodell für diesen Datensatz?"
   ]
  },
  {
   "cell_type": "code",
   "execution_count": 44,
   "metadata": {},
   "outputs": [
    {
     "data": {
      "text/html": [
       "<div>\n",
       "<style scoped>\n",
       "    .dataframe tbody tr th:only-of-type {\n",
       "        vertical-align: middle;\n",
       "    }\n",
       "\n",
       "    .dataframe tbody tr th {\n",
       "        vertical-align: top;\n",
       "    }\n",
       "\n",
       "    .dataframe thead th {\n",
       "        text-align: right;\n",
       "    }\n",
       "</style>\n",
       "<table border=\"1\" class=\"dataframe\">\n",
       "  <thead>\n",
       "    <tr style=\"text-align: right;\">\n",
       "      <th></th>\n",
       "      <th>AFQT</th>\n",
       "      <th>Educ</th>\n",
       "      <th>Income2005</th>\n",
       "    </tr>\n",
       "  </thead>\n",
       "  <tbody>\n",
       "    <tr>\n",
       "      <th>AFQT</th>\n",
       "      <td>1.000000</td>\n",
       "      <td>0.595160</td>\n",
       "      <td>0.308153</td>\n",
       "    </tr>\n",
       "    <tr>\n",
       "      <th>Educ</th>\n",
       "      <td>0.595160</td>\n",
       "      <td>1.000000</td>\n",
       "      <td>0.345647</td>\n",
       "    </tr>\n",
       "    <tr>\n",
       "      <th>Income2005</th>\n",
       "      <td>0.308153</td>\n",
       "      <td>0.345647</td>\n",
       "      <td>1.000000</td>\n",
       "    </tr>\n",
       "  </tbody>\n",
       "</table>\n",
       "</div>"
      ],
      "text/plain": [
       "                AFQT      Educ  Income2005\n",
       "AFQT        1.000000  0.595160    0.308153\n",
       "Educ        0.595160  1.000000    0.345647\n",
       "Income2005  0.308153  0.345647    1.000000"
      ]
     },
     "execution_count": 44,
     "metadata": {},
     "output_type": "execute_result"
    }
   ],
   "source": [
    "income.corr()"
   ]
  },
  {
   "cell_type": "markdown",
   "metadata": {},
   "source": [
    "Es besteht keine lineare Korrelation, weder für Einkommen/IQ noch für Einkommen/Bildung. Interessanterweise besteht eine höhere lineare Korrelation zwischen IQ/Bildung als zum Einkommen."
   ]
  },
  {
   "cell_type": "markdown",
   "metadata": {},
   "source": [
    "## Aufgabe 2.6\n",
    "\n",
    "In dieser Aufgabe betrachten wir 4 Datensätze, die von Anscombe konstruiert wurden.\n",
    "\n",
    "```python\n",
    "import matplotlib.pyplot as plt\n",
    "import numpy as np\n",
    "x = np.array([10, 8, 13, 9, 11, 14, 6, 4, 12, 7, 5])\n",
    "y1 = np.array([8.04, 6.95, 7.58, 8.81, 8.33, 9.96, 7.24, 4.26, 10.84, 4.82, 5.68])\n",
    "y2 = np.array([9.14, 8.14, 8.74, 8.77, 9.26, 8.10, 6.13, 3.10, 9.13, 7.26, 4.74])\n",
    "y3 = np.array([7.46, 6.77, 12.74, 7.11, 7.81, 8.84, 6.08, 5.39, 8.15, 6.42, 5.73])\n",
    "x4 = np.array([8, 8, 8, 8, 8, 8, 8, 19, 8, 8, 8])\n",
    "y4 = np.array([6.58, 5.76, 7.71, 8.84, 8.47, 7.04, 5.25, 12.50, 5.56, 7.91, 6.89])\n",
    "```\n",
    "\n",
    "In jedem der Datensätze gibt es eine Zielvariable $y$ und eine erklärende Variable $x$."
   ]
  },
  {
   "cell_type": "markdown",
   "metadata": {},
   "source": [
    "a) Stellen Sie jeden der 4 Datensätze als Streudiagramm dar, zeichnen Sie die Regressionsgerade ein und kommentieren Sie die Ergebnisse. Verwenden Sie wieder `plt.subplot(...)` aus Aufgabe 1 und `plt.scatter(...)`."
   ]
  },
  {
   "cell_type": "code",
   "execution_count": 46,
   "metadata": {},
   "outputs": [],
   "source": [
    "x = np.array([10, 8, 13, 9, 11, 14, 6, 4, 12, 7, 5])\n",
    "y1 = np.array([8.04, 6.95, 7.58, 8.81, 8.33, 9.96, 7.24, 4.26, 10.84, 4.82, 5.68])\n",
    "y2 = np.array([9.14, 8.14, 8.74, 8.77, 9.26, 8.10, 6.13, 3.10, 9.13, 7.26, 4.74])\n",
    "y3 = np.array([7.46, 6.77, 12.74, 7.11, 7.81, 8.84, 6.08, 5.39, 8.15, 6.42, 5.73])\n",
    "x4 = np.array([8, 8, 8, 8, 8, 8, 8, 19, 8, 8, 8])\n",
    "y4 = np.array([6.58, 5.76, 7.71, 8.84, 8.47, 7.04, 5.25, 12.50, 5.56, 7.91, 6.89])"
   ]
  },
  {
   "cell_type": "code",
   "execution_count": 49,
   "metadata": {
    "scrolled": true
   },
   "outputs": [
    {
     "data": {
      "image/png": "[encoded data removed]",
      "text/plain": [
       "<Figure size 432x288 with 4 Axes>"
      ]
     },
     "metadata": {},
     "output_type": "display_data"
    }
   ],
   "source": [
    "plt.subplot(221)\n",
    "plt.scatter(x, y1)\n",
    "plt.subplot(222)\n",
    "plt.scatter(x, y2)\n",
    "plt.subplot(223)\n",
    "plt.scatter(x, y3)\n",
    "plt.subplot(224)\n",
    "plt.scatter(x4, y4)\n",
    "plt.show()"
   ]
  },
  {
   "cell_type": "markdown",
   "metadata": {},
   "source": [
    "b) Vergleichen Sie die Schätzungen von $\\beta_0$ und $\\beta_1$ , wobei $y = \\beta_0 + \\beta_1 x$. Die Schätzungen für die Koeffizienten $\\beta_0$ und $\\beta_1$ des linearen Regressionsmodells kann man mit `np.polyfit(...)` berechnen und numerisch auswerten."
   ]
  },
  {
   "cell_type": "code",
   "execution_count": 58,
   "metadata": {},
   "outputs": [
    {
     "data": {
      "text/html": [
       "<div>\n",
       "<style scoped>\n",
       "    .dataframe tbody tr th:only-of-type {\n",
       "        vertical-align: middle;\n",
       "    }\n",
       "\n",
       "    .dataframe tbody tr th {\n",
       "        vertical-align: top;\n",
       "    }\n",
       "\n",
       "    .dataframe thead th {\n",
       "        text-align: right;\n",
       "    }\n",
       "</style>\n",
       "<table border=\"1\" class=\"dataframe\">\n",
       "  <thead>\n",
       "    <tr style=\"text-align: right;\">\n",
       "      <th></th>\n",
       "      <th>$b_0$</th>\n",
       "      <th>$b_1$</th>\n",
       "    </tr>\n",
       "  </thead>\n",
       "  <tbody>\n",
       "    <tr>\n",
       "      <th>0</th>\n",
       "      <td>0.500091</td>\n",
       "      <td>3.000091</td>\n",
       "    </tr>\n",
       "    <tr>\n",
       "      <th>1</th>\n",
       "      <td>0.500000</td>\n",
       "      <td>3.000909</td>\n",
       "    </tr>\n",
       "    <tr>\n",
       "      <th>2</th>\n",
       "      <td>0.499727</td>\n",
       "      <td>3.002455</td>\n",
       "    </tr>\n",
       "    <tr>\n",
       "      <th>3</th>\n",
       "      <td>0.499909</td>\n",
       "      <td>3.001727</td>\n",
       "    </tr>\n",
       "  </tbody>\n",
       "</table>\n",
       "</div>"
      ],
      "text/plain": [
       "      $b_0$     $b_1$\n",
       "0  0.500091  3.000091\n",
       "1  0.500000  3.000909\n",
       "2  0.499727  3.002455\n",
       "3  0.499909  3.001727"
      ]
     },
     "execution_count": 58,
     "metadata": {},
     "output_type": "execute_result"
    }
   ],
   "source": [
    "b0_1, b1_1 = np.polyfit(x, y1, deg=1)\n",
    "b0_2, b1_2 = np.polyfit(x, y2, deg=1)\n",
    "b0_3, b1_3 = np.polyfit(x, y3, deg=1)\n",
    "b0_4, b1_4 = np.polyfit(x4, y4, deg=1)\n",
    "data = np.matrix([[b0_1, b1_1],\n",
    "         [b0_2, b1_2],\n",
    "         [b0_3, b1_3],\n",
    "         [b0_4, b1_4]])\n",
    "\n",
    "pd.DataFrame(data, columns=[\"$b_0$\", \"$b_1$\"])"
   ]
  },
  {
   "cell_type": "markdown",
   "metadata": {},
   "source": [
    "c) Berechnen Sie die Korrelationskoeffizienten mit `np.corrcoef(...)`."
   ]
  },
  {
   "cell_type": "code",
   "execution_count": 66,
   "metadata": {},
   "outputs": [
    {
     "data": {
      "text/html": [
       "<div>\n",
       "<style scoped>\n",
       "    .dataframe tbody tr th:only-of-type {\n",
       "        vertical-align: middle;\n",
       "    }\n",
       "\n",
       "    .dataframe tbody tr th {\n",
       "        vertical-align: top;\n",
       "    }\n",
       "\n",
       "    .dataframe thead th {\n",
       "        text-align: right;\n",
       "    }\n",
       "</style>\n",
       "<table border=\"1\" class=\"dataframe\">\n",
       "  <thead>\n",
       "    <tr style=\"text-align: right;\">\n",
       "      <th></th>\n",
       "      <th>r</th>\n",
       "    </tr>\n",
       "  </thead>\n",
       "  <tbody>\n",
       "    <tr>\n",
       "      <th>0</th>\n",
       "      <td>0.816421</td>\n",
       "    </tr>\n",
       "    <tr>\n",
       "      <th>1</th>\n",
       "      <td>0.816237</td>\n",
       "    </tr>\n",
       "    <tr>\n",
       "      <th>2</th>\n",
       "      <td>0.816287</td>\n",
       "    </tr>\n",
       "    <tr>\n",
       "      <th>3</th>\n",
       "      <td>0.816521</td>\n",
       "    </tr>\n",
       "  </tbody>\n",
       "</table>\n",
       "</div>"
      ],
      "text/plain": [
       "          r\n",
       "0  0.816421\n",
       "1  0.816237\n",
       "2  0.816287\n",
       "3  0.816521"
      ]
     },
     "execution_count": 66,
     "metadata": {},
     "output_type": "execute_result"
    }
   ],
   "source": [
    "pd.DataFrame([np.corrcoef(x,y1)[1][0],\n",
    "np.corrcoef(x,y2)[1][0],\n",
    "np.corrcoef(x,y3)[1][0],\n",
    "np.corrcoef(x4,y4)[1][0]], columns=[\"r\"])\n"
   ]
  },
  {
   "cell_type": "code",
   "execution_count": null,
   "metadata": {},
   "outputs": [],
   "source": []
  }
 ],
 "metadata": {
  "kernelspec": {
   "display_name": "Python 3",
   "language": "python",
   "name": "python3"
  },
  "language_info": {
   "codemirror_mode": {
    "name": "ipython",
    "version": 3
   },
   "file_extension": ".py",
   "mimetype": "text/x-python",
   "name": "python",
   "nbconvert_exporter": "python",
   "pygments_lexer": "ipython3",
   "version": "3.6.5"
  }
 },
 "nbformat": 4,
 "nbformat_minor": 2
}
