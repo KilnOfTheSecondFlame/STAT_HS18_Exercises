{
 "cells": [
  {
   "cell_type": "markdown",
   "metadata": {},
   "source": [
    "# Serie 11\n",
    "\n",
    "## Aufgabe 11.1\n",
    "\n",
    "Eine Konsumentenschutzorganisation lässt den jährlichen Energieverbrauch von fünf verschiedenen Marken von Luftentfeuchtern vergleichen. Weil der Energieverbrauch von der aktuellen Luftfeuchtigkeit abhängt, wurde jede Marke bei vier verschiedenen Luftfeuchtigkeitsniveaus im Bereich moderat bis hohe Feuchtigkeit getestet. Von jeder Marke wurden deshalb vier Geräte zufällig den Luftfeuchtigkeitsniveaus zugeordnet. Der aus dem Versuch resultierende Energieverbrauch (in kWh) ist in folgender Tabelle festgehalten:\n",
    "\n",
    "```text\n",
    "Marke   Luftfeuchtigkeitsniveau\n",
    "        1   2   3   4\n",
    "    1   685 792 838 875\n",
    "    2   722 806 893 953\n",
    "    3   733 802 880 941\n",
    "    4   811 888 952 1005\n",
    "    5   828 920 978 1023\n",
    "```\n",
    "\n",
    "### a)\n",
    "Tippen Sie die Daten selber ein und lesen Sie sie in `Python` ein.\n",
    "`Python`-Hinweise: Die Daten werden in drei Spalten eingelesen: Spalte mit Energieverbrauch, mit Marke, mit Luftfeuchtigkeitsniveau.\n",
    "\n",
    "```python\n",
    "from pandas import DataFrame\n",
    "import pandas as pd\n",
    "import numpy as np\n",
    "import seaborn as sns\n",
    "import scipy.stats as st\n",
    "from statsmodels.formula.api import ols\n",
    "from statsmodels.stats.anova import anova_lm\n",
    "from statsmodels.graphics.factorplots import interaction_plot\n",
    "import matplotlib.pyplot as plt\n",
    "from patsy.contrasts import Sum\n",
    "\n",
    "df=DataFrame({\n",
    "\"Luftfeuchtigkeitsniveau\" : np.tile([\"1\", \"2\", \"3\", \"4\"], 5),\n",
    "\"Marke\": np.repeat([\"1\", \"2\", \"3\", \"4\", \"5\"], 4),\n",
    "\"Energieverbrauch\" : np.array([685, 792, 838 , ..])\n",
    "})\n",
    "```"
   ]
  },
  {
   "cell_type": "code",
   "execution_count": 6,
   "metadata": {},
   "outputs": [
    {
     "data": {
      "text/html": [
       "<div>\n",
       "<style scoped>\n",
       "    .dataframe tbody tr th:only-of-type {\n",
       "        vertical-align: middle;\n",
       "    }\n",
       "\n",
       "    .dataframe tbody tr th {\n",
       "        vertical-align: top;\n",
       "    }\n",
       "\n",
       "    .dataframe thead th {\n",
       "        text-align: right;\n",
       "    }\n",
       "</style>\n",
       "<table border=\"1\" class=\"dataframe\">\n",
       "  <thead>\n",
       "    <tr style=\"text-align: right;\">\n",
       "      <th></th>\n",
       "      <th>Marke</th>\n",
       "      <th>Luftfeuchtigkeitsniveau</th>\n",
       "      <th>Energieverbrauch</th>\n",
       "    </tr>\n",
       "  </thead>\n",
       "  <tbody>\n",
       "    <tr>\n",
       "      <th>0</th>\n",
       "      <td>1</td>\n",
       "      <td>1</td>\n",
       "      <td>685</td>\n",
       "    </tr>\n",
       "    <tr>\n",
       "      <th>1</th>\n",
       "      <td>1</td>\n",
       "      <td>2</td>\n",
       "      <td>792</td>\n",
       "    </tr>\n",
       "    <tr>\n",
       "      <th>2</th>\n",
       "      <td>1</td>\n",
       "      <td>3</td>\n",
       "      <td>838</td>\n",
       "    </tr>\n",
       "    <tr>\n",
       "      <th>3</th>\n",
       "      <td>1</td>\n",
       "      <td>4</td>\n",
       "      <td>875</td>\n",
       "    </tr>\n",
       "    <tr>\n",
       "      <th>4</th>\n",
       "      <td>2</td>\n",
       "      <td>1</td>\n",
       "      <td>722</td>\n",
       "    </tr>\n",
       "  </tbody>\n",
       "</table>\n",
       "</div>"
      ],
      "text/plain": [
       "  Marke Luftfeuchtigkeitsniveau  Energieverbrauch\n",
       "0     1                       1               685\n",
       "1     1                       2               792\n",
       "2     1                       3               838\n",
       "3     1                       4               875\n",
       "4     2                       1               722"
      ]
     },
     "execution_count": 6,
     "metadata": {},
     "output_type": "execute_result"
    }
   ],
   "source": [
    "from pandas import DataFrame\n",
    "import pandas as pd\n",
    "import numpy as np\n",
    "import seaborn as sns\n",
    "import scipy.stats as st\n",
    "from statsmodels.formula.api import ols\n",
    "from statsmodels.stats.anova import anova_lm\n",
    "from statsmodels.graphics.factorplots import interaction_plot\n",
    "import matplotlib.pyplot as plt\n",
    "from patsy.contrasts import Sum\n",
    "\n",
    "luftf = DataFrame({\n",
    "    \"Marke\": np.repeat([\"1\", \"2\", \"3\", \"4\", \"5\"], 4),\n",
    "    \"Luftfeuchtigkeitsniveau\" : np.tile([\"1\", \"2\", \"3\", \"4\"], 5),\n",
    "    \"Energieverbrauch\" : np.array([685, 792, 838, 875, 722, 806, 893, 953, 733, 802, 880, 941, 811, 888, 952, 1005, 828, 920, 978, 1023])\n",
    "})\n",
    "luftf.head()"
   ]
  },
  {
   "cell_type": "markdown",
   "metadata": {},
   "source": [
    "### b)\n",
    "Können Sie auf dem 5%-Signifikanzniveau schliessen, dass es zwischen den fünf verschiedenen Marken einen Unterschied im Energieverbrauch gibt?\n",
    "\n",
    "`Python`-Hinweise:\n",
    "\n",
    "```python\n",
    "fit = ols(\"Energieverbrauch ~ C(Marke, Sum) +\n",
    "    C(Luftfeuchtigkeitsniveau, Sum)\", data=df).fit()\n",
    "anova_lm(fit)\n",
    "```"
   ]
  },
  {
   "cell_type": "code",
   "execution_count": 9,
   "metadata": {
    "scrolled": true
   },
   "outputs": [
    {
     "data": {
      "text/html": [
       "<div>\n",
       "<style scoped>\n",
       "    .dataframe tbody tr th:only-of-type {\n",
       "        vertical-align: middle;\n",
       "    }\n",
       "\n",
       "    .dataframe tbody tr th {\n",
       "        vertical-align: top;\n",
       "    }\n",
       "\n",
       "    .dataframe thead th {\n",
       "        text-align: right;\n",
       "    }\n",
       "</style>\n",
       "<table border=\"1\" class=\"dataframe\">\n",
       "  <thead>\n",
       "    <tr style=\"text-align: right;\">\n",
       "      <th></th>\n",
       "      <th>df</th>\n",
       "      <th>sum_sq</th>\n",
       "      <th>mean_sq</th>\n",
       "      <th>F</th>\n",
       "      <th>PR(&gt;F)</th>\n",
       "    </tr>\n",
       "  </thead>\n",
       "  <tbody>\n",
       "    <tr>\n",
       "      <th>C(Marke, Sum)</th>\n",
       "      <td>4.0</td>\n",
       "      <td>53231.00</td>\n",
       "      <td>13307.75</td>\n",
       "      <td>95.567325</td>\n",
       "      <td>5.419353e-09</td>\n",
       "    </tr>\n",
       "    <tr>\n",
       "      <th>C(Luftfeuchtigkeitsniveau, Sum)</th>\n",
       "      <td>3.0</td>\n",
       "      <td>116217.75</td>\n",
       "      <td>38739.25</td>\n",
       "      <td>278.199282</td>\n",
       "      <td>2.363880e-11</td>\n",
       "    </tr>\n",
       "    <tr>\n",
       "      <th>Residual</th>\n",
       "      <td>12.0</td>\n",
       "      <td>1671.00</td>\n",
       "      <td>139.25</td>\n",
       "      <td>NaN</td>\n",
       "      <td>NaN</td>\n",
       "    </tr>\n",
       "  </tbody>\n",
       "</table>\n",
       "</div>"
      ],
      "text/plain": [
       "                                   df     sum_sq   mean_sq           F  \\\n",
       "C(Marke, Sum)                     4.0   53231.00  13307.75   95.567325   \n",
       "C(Luftfeuchtigkeitsniveau, Sum)   3.0  116217.75  38739.25  278.199282   \n",
       "Residual                         12.0    1671.00    139.25         NaN   \n",
       "\n",
       "                                       PR(>F)  \n",
       "C(Marke, Sum)                    5.419353e-09  \n",
       "C(Luftfeuchtigkeitsniveau, Sum)  2.363880e-11  \n",
       "Residual                                  NaN  "
      ]
     },
     "execution_count": 9,
     "metadata": {},
     "output_type": "execute_result"
    }
   ],
   "source": [
    "fit = ols(\"Energieverbrauch ~ C(Marke, Sum) + C(Luftfeuchtigkeitsniveau, Sum)\", data=luftf).fit()\n",
    "anova_lm(fit)"
   ]
  },
  {
   "cell_type": "markdown",
   "metadata": {},
   "source": [
    "Mit einem P-Wert von 5.419353e-09 verwerfen wir die Nullhypothese, dass es keinen Unterschied zwischen den Blöcken gibt,  auf dem 5%-Niveau"
   ]
  },
  {
   "cell_type": "markdown",
   "metadata": {},
   "source": [
    "### c)\n",
    "Können Sie auf dem 1% Signifikanzniveau schliessen, dass es zwischen den Niveaus (oder Stufen) des Block-Faktor `Luftfeuchtigkeit` einen Unterschied im Energieverbrauch gibt?\n",
    "\n",
    "Stützt dieses Resultat den Entscheid der Versuchsleiterin, `Luftfeuchtigkeit` als Block-Faktor einzusetzen?"
   ]
  },
  {
   "cell_type": "markdown",
   "metadata": {},
   "source": [
    "Mit einem p-Wert von 2.363880e-11 verwerfen wir die Nullhypothese, dass es keinen Unterschied zwischen den Blöcken gibt"
   ]
  },
  {
   "cell_type": "markdown",
   "metadata": {},
   "source": [
    "### d)\n",
    "Überprüfen Sie mit einem Interaktionsplot die Additivität.\n",
    "\n",
    "Könnte man mit diesen Daten auf Wechselwirkung testen?"
   ]
  },
  {
   "cell_type": "code",
   "execution_count": 19,
   "metadata": {},
   "outputs": [
    {
     "data": {
      "image/png": "[encoded data removed]",
      "text/plain": [
       "<Figure size 432x288 with 1 Axes>"
      ]
     },
     "metadata": {
      "needs_background": "light"
     },
     "output_type": "display_data"
    }
   ],
   "source": [
    "interaction_plot(x=luftf[\"Marke\"], trace=luftf[\"Luftfeuchtigkeitsniveau\"], response=luftf[\"Energieverbrauch\"])\n",
    "plt.ylabel(\"Energieverbrauch\")\n",
    "plt.show()"
   ]
  },
  {
   "cell_type": "markdown",
   "metadata": {},
   "source": [
    "Könnte man schon, aber aufgrund des Plots würde ich erwarten, dass keine Wechselwirkung vorliegt, also das additive Modell gilt."
   ]
  },
  {
   "cell_type": "code",
   "execution_count": 20,
   "metadata": {},
   "outputs": [
    {
     "data": {
      "text/html": [
       "<div>\n",
       "<style scoped>\n",
       "    .dataframe tbody tr th:only-of-type {\n",
       "        vertical-align: middle;\n",
       "    }\n",
       "\n",
       "    .dataframe tbody tr th {\n",
       "        vertical-align: top;\n",
       "    }\n",
       "\n",
       "    .dataframe thead th {\n",
       "        text-align: right;\n",
       "    }\n",
       "</style>\n",
       "<table border=\"1\" class=\"dataframe\">\n",
       "  <thead>\n",
       "    <tr style=\"text-align: right;\">\n",
       "      <th></th>\n",
       "      <th>df</th>\n",
       "      <th>sum_sq</th>\n",
       "      <th>mean_sq</th>\n",
       "      <th>F</th>\n",
       "      <th>PR(&gt;F)</th>\n",
       "    </tr>\n",
       "  </thead>\n",
       "  <tbody>\n",
       "    <tr>\n",
       "      <th>C(Marke, Sum)</th>\n",
       "      <td>4.0</td>\n",
       "      <td>5.323100e+04</td>\n",
       "      <td>1.330775e+04</td>\n",
       "      <td>0.0</td>\n",
       "      <td>NaN</td>\n",
       "    </tr>\n",
       "    <tr>\n",
       "      <th>C(Luftfeuchtigkeitsniveau, Sum)</th>\n",
       "      <td>3.0</td>\n",
       "      <td>1.162178e+05</td>\n",
       "      <td>3.873925e+04</td>\n",
       "      <td>0.0</td>\n",
       "      <td>NaN</td>\n",
       "    </tr>\n",
       "    <tr>\n",
       "      <th>C(Marke, Sum):C(Luftfeuchtigkeitsniveau, Sum)</th>\n",
       "      <td>12.0</td>\n",
       "      <td>1.671000e+03</td>\n",
       "      <td>1.392500e+02</td>\n",
       "      <td>0.0</td>\n",
       "      <td>NaN</td>\n",
       "    </tr>\n",
       "    <tr>\n",
       "      <th>Residual</th>\n",
       "      <td>0.0</td>\n",
       "      <td>1.201997e-24</td>\n",
       "      <td>inf</td>\n",
       "      <td>NaN</td>\n",
       "      <td>NaN</td>\n",
       "    </tr>\n",
       "  </tbody>\n",
       "</table>\n",
       "</div>"
      ],
      "text/plain": [
       "                                                 df        sum_sq  \\\n",
       "C(Marke, Sum)                                   4.0  5.323100e+04   \n",
       "C(Luftfeuchtigkeitsniveau, Sum)                 3.0  1.162178e+05   \n",
       "C(Marke, Sum):C(Luftfeuchtigkeitsniveau, Sum)  12.0  1.671000e+03   \n",
       "Residual                                        0.0  1.201997e-24   \n",
       "\n",
       "                                                    mean_sq    F  PR(>F)  \n",
       "C(Marke, Sum)                                  1.330775e+04  0.0     NaN  \n",
       "C(Luftfeuchtigkeitsniveau, Sum)                3.873925e+04  0.0     NaN  \n",
       "C(Marke, Sum):C(Luftfeuchtigkeitsniveau, Sum)  1.392500e+02  0.0     NaN  \n",
       "Residual                                                inf  NaN     NaN  "
      ]
     },
     "execution_count": 20,
     "metadata": {},
     "output_type": "execute_result"
    }
   ],
   "source": [
    "fit = ols(\"Energieverbrauch~C(Marke,Sum)*C(Luftfeuchtigkeitsniveau,Sum)\",data=luftf).fit()\n",
    "anova_lm(fit)"
   ]
  },
  {
   "cell_type": "markdown",
   "metadata": {},
   "source": [
    "## Aufgabe 11.2\n",
    "\n",
    "In drei Städten der USA (Variable `STADT`) wurde der Benzinverbrauch von 5 Automobil-Typen (Variable `AUTO`, Werte von 1 bis 5) ermittelt. Pro Kombination wurden 3 Testfahrten durchgeführt. Die Zielgrösse (Variable `KMP4L`) ist die Strecke in km, welche mit 4 Litern Benzin zurückgelegt werden konnte. Die Daten befinden sich im Datensatz `automob.dat`\n",
    "\n",
    "### a)\n",
    "Stellen Sie die Variablen `AUTO` und `KMP4L` graphisch dar (wenn möglich mit unterschiedlichen Symbolen oder Farben bezüglich der Variablen `STADT`).\n",
    "\n",
    "`Python`-Hinweise:\n",
    "\n",
    "```python\n",
    "from pandas import DataFrame\n",
    "import pandas as pd\n",
    "import numpy as np\n",
    "import seaborn as sns\n",
    "import matplotlib.pyplot as plt\n",
    "import scipy.stats as st\n",
    "automob = pd.read_csv(\".../automob.dat\", sep=\" \")\n",
    "df = DataFrame(automob)\n",
    "sns.stripplot(x=\"STADT\", y=\"KMP4L\", hue=\"AUTO\", jitter=True, data=automob)\n",
    "```"
   ]
  },
  {
   "cell_type": "code",
   "execution_count": null,
   "metadata": {},
   "outputs": [],
   "source": []
  },
  {
   "cell_type": "markdown",
   "metadata": {},
   "source": [
    "### b)\n",
    "Analysieren Sie die Zielgrösse `KMP4L` mit einer zweifaktoriellen Varianzanalyse. Verwenden Sie das volle Modell mit Interaktion. `Python`-Hinweise:\n",
    "\n",
    "```python\n",
    "from pandas import DataFrame\n",
    "import pandas as pd\n",
    "import numpy as np\n",
    "import seaborn as sns\n",
    "import scipy.stats as st\n",
    "from statsmodels.formula.api import ols\n",
    "from statsmodels.stats.anova import anova_lm\n",
    "from statsmodels.graphics.factorplots import interaction_plot\n",
    "import matplotlib.pyplot as plt\n",
    "fit = ols(\"KMP4L ~ C(STADT,Sum) * C(AUTO,Sum)\", data=automob).fit()\n",
    "anova_lm(fit)\n",
    "```"
   ]
  },
  {
   "cell_type": "code",
   "execution_count": null,
   "metadata": {},
   "outputs": [],
   "source": []
  },
  {
   "cell_type": "markdown",
   "metadata": {},
   "source": [
    "### c)\n",
    "Stellen Sie die Zellenmittelwerte als Interaktionsplot dar. Wie lässt sich die signifikante Wechselwirkung erklären?\n",
    "\n",
    "`Python`-Hinweis:\n",
    "\n",
    "```python\n",
    "automob = pd.read_table(\".../automob.dat\", sep = \" \")\n",
    "df = DataFrame(automob)\n",
    "# Data frame row index should start from 0\n",
    "df.reset_index(inplace = True)\n",
    "interaction_plot(x = df[\"...\"], trace = df[\"...\"],\n",
    "response = df[\"...\"])\n",
    "```"
   ]
  },
  {
   "cell_type": "code",
   "execution_count": null,
   "metadata": {},
   "outputs": [],
   "source": []
  },
  {
   "cell_type": "markdown",
   "metadata": {},
   "source": [
    "### d)\n",
    "Führen Sie für jede Stadt separat eine einfaktorielle Varianzanalyse durch."
   ]
  },
  {
   "cell_type": "code",
   "execution_count": null,
   "metadata": {},
   "outputs": [],
   "source": []
  },
  {
   "cell_type": "markdown",
   "metadata": {},
   "source": [
    "### e)\n",
    "Wiederholen Sie Teilaufgabe __b)__ ohne die Werte von San Francisco."
   ]
  },
  {
   "cell_type": "code",
   "execution_count": null,
   "metadata": {},
   "outputs": [],
   "source": []
  },
  {
   "cell_type": "markdown",
   "metadata": {},
   "source": [
    "## Aufgabe 11.3\n",
    "\n",
    "### a)\n",
    "Der Datensatz `stream` enthält die Zinkstufen (Variable `ZINC`) verschiedener Flüsse (Variable `STREAM`) und die entsprechende Biodiversität (Variable `DIVERSITY`).Zusätzlich kodiert die Variable `ZNGROUP` die verschiedenen Zink-Gruppen numerisch. Wir wollen untersuchen, ob eine signifikante Beziehung zwischen der Biodiversität und den Zink-Gruppen besteht.\n",
    "\n",
    "Lesen Sie den in der Datei `stream.dat` gespeicherten Datensatz ein. Erstellen Sie einen Boxplot und Stripchart von `DIVERSITY` versus `ZNGROUP`, und kommentieren Sie die Graphik in Bezug auf Unterschiede und Ausreisser.\n"
   ]
  },
  {
   "cell_type": "code",
   "execution_count": null,
   "metadata": {},
   "outputs": [],
   "source": []
  },
  {
   "cell_type": "markdown",
   "metadata": {},
   "source": [
    "### b)\n",
    "Sie möchten feststellen, ob es einen signifikanten Unterschied der `DIVERSITY` für die unterschiedlichen Zink-Gruppen gibt. Formulieren Sie ein entsprechendes Modell, und führen Sie die entsprechende Varianzanalyse durch."
   ]
  },
  {
   "cell_type": "code",
   "execution_count": null,
   "metadata": {},
   "outputs": [],
   "source": []
  },
  {
   "cell_type": "markdown",
   "metadata": {},
   "source": [
    "### c)\n",
    "Wie lauten die Schätzungen der Gruppenmittelwerte? Sind diese kompatibel\n",
    "mit Ihrer Beobachtung der Stripcharts?"
   ]
  },
  {
   "cell_type": "code",
   "execution_count": null,
   "metadata": {},
   "outputs": [],
   "source": []
  },
  {
   "cell_type": "markdown",
   "metadata": {},
   "source": [
    "### d)\n",
    "Nun möchten Sie überprüfen, ob die unterschiedlichen Flüsse `STREAM` neben der Zinkgruppe `ZNGROUP` einen Einfluss auf `DIVERSITY` haben. Führen Sie eine Zweiweg-Varianzanalyse durch. Wie interpretieren Sie die Variable `STREAM` in Bezug auf den Versuchsplan?"
   ]
  },
  {
   "cell_type": "code",
   "execution_count": null,
   "metadata": {},
   "outputs": [],
   "source": []
  }
 ],
 "metadata": {
  "kernelspec": {
   "display_name": "Python 3",
   "language": "python",
   "name": "python3"
  },
  "language_info": {
   "codemirror_mode": {
    "name": "ipython",
    "version": 3
   },
   "file_extension": ".py",
   "mimetype": "text/x-python",
   "name": "python",
   "nbconvert_exporter": "python",
   "pygments_lexer": "ipython3",
   "version": "3.7.0"
  }
 },
 "nbformat": 4,
 "nbformat_minor": 2
}
