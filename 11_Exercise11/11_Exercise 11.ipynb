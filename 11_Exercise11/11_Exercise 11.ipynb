{
 "cells": [
  {
   "cell_type": "markdown",
   "metadata": {},
   "source": [
    "# Serie 11\n",
    "\n",
    "## Aufgabe 11.1\n",
    "\n",
    "Eine Konsumentenschutzorganisation lässt den jährlichen Energieverbrauch von fünf verschiedenen Marken von Luftentfeuchtern vergleichen. Weil der Energieverbrauch von der aktuellen Luftfeuchtigkeit abhängt, wurde jede Marke bei vier verschiedenen Luftfeuchtigkeitsniveaus im Bereich moderat bis hohe Feuchtigkeit getestet. Von jeder Marke wurden deshalb vier Geräte zufällig den Luftfeuchtigkeitsniveaus zugeordnet. Der aus dem Versuch resultierende Energieverbrauch (in kWh) ist in folgender Tabelle festgehalten:\n",
    "\n",
    "```text\n",
    "Marke   Luftfeuchtigkeitsniveau\n",
    "        1   2   3   4\n",
    "    1   685 792 838 875\n",
    "    2   722 806 893 953\n",
    "    3   733 802 880 941\n",
    "    4   811 888 952 1005\n",
    "    5   828 920 978 1023\n",
    "```\n",
    "\n",
    "### a)\n",
    "Tippen Sie die Daten selber ein und lesen Sie sie in `Python` ein.\n",
    "`Python`-Hinweise: Die Daten werden in drei Spalten eingelesen: Spalte mit Energieverbrauch, mit Marke, mit Luftfeuchtigkeitsniveau.\n",
    "\n",
    "```python\n",
    "from pandas import DataFrame\n",
    "import pandas as pd\n",
    "import numpy as np\n",
    "import seaborn as sns\n",
    "import scipy.stats as st\n",
    "from statsmodels.formula.api import ols\n",
    "from statsmodels.stats.anova import anova_lm\n",
    "from statsmodels.graphics.factorplots import interaction_plot\n",
    "import matplotlib.pyplot as plt\n",
    "from patsy.contrasts import Sum\n",
    "\n",
    "df=DataFrame({\n",
    "\"Luftfeuchtigkeitsniveau\" : np.tile([\"1\", \"2\", \"3\", \"4\"], 5),\n",
    "\"Marke\": np.repeat([\"1\", \"2\", \"3\", \"4\", \"5\"], 4),\n",
    "\"Energieverbrauch\" : np.array([685, 792, 838 , ..])\n",
    "})\n",
    "```"
   ]
  },
  {
   "cell_type": "code",
   "execution_count": 1,
   "metadata": {},
   "outputs": [
    {
     "data": {
      "text/html": [
       "<div>\n",
       "<style scoped>\n",
       "    .dataframe tbody tr th:only-of-type {\n",
       "        vertical-align: middle;\n",
       "    }\n",
       "\n",
       "    .dataframe tbody tr th {\n",
       "        vertical-align: top;\n",
       "    }\n",
       "\n",
       "    .dataframe thead th {\n",
       "        text-align: right;\n",
       "    }\n",
       "</style>\n",
       "<table border=\"1\" class=\"dataframe\">\n",
       "  <thead>\n",
       "    <tr style=\"text-align: right;\">\n",
       "      <th></th>\n",
       "      <th>Marke</th>\n",
       "      <th>Luftfeuchtigkeitsniveau</th>\n",
       "      <th>Energieverbrauch</th>\n",
       "    </tr>\n",
       "  </thead>\n",
       "  <tbody>\n",
       "    <tr>\n",
       "      <th>0</th>\n",
       "      <td>1</td>\n",
       "      <td>1</td>\n",
       "      <td>685</td>\n",
       "    </tr>\n",
       "    <tr>\n",
       "      <th>1</th>\n",
       "      <td>1</td>\n",
       "      <td>2</td>\n",
       "      <td>792</td>\n",
       "    </tr>\n",
       "    <tr>\n",
       "      <th>2</th>\n",
       "      <td>1</td>\n",
       "      <td>3</td>\n",
       "      <td>838</td>\n",
       "    </tr>\n",
       "    <tr>\n",
       "      <th>3</th>\n",
       "      <td>1</td>\n",
       "      <td>4</td>\n",
       "      <td>875</td>\n",
       "    </tr>\n",
       "    <tr>\n",
       "      <th>4</th>\n",
       "      <td>2</td>\n",
       "      <td>1</td>\n",
       "      <td>722</td>\n",
       "    </tr>\n",
       "  </tbody>\n",
       "</table>\n",
       "</div>"
      ],
      "text/plain": [
       "  Marke Luftfeuchtigkeitsniveau  Energieverbrauch\n",
       "0     1                       1               685\n",
       "1     1                       2               792\n",
       "2     1                       3               838\n",
       "3     1                       4               875\n",
       "4     2                       1               722"
      ]
     },
     "execution_count": 1,
     "metadata": {},
     "output_type": "execute_result"
    }
   ],
   "source": [
    "from pandas import DataFrame\n",
    "import pandas as pd\n",
    "import numpy as np\n",
    "import seaborn as sns\n",
    "import scipy.stats as st\n",
    "from statsmodels.formula.api import ols\n",
    "from statsmodels.stats.anova import anova_lm\n",
    "from statsmodels.graphics.factorplots import interaction_plot\n",
    "import matplotlib.pyplot as plt\n",
    "from patsy.contrasts import Sum\n",
    "\n",
    "luftf = DataFrame({\n",
    "    \"Marke\": np.repeat([\"1\", \"2\", \"3\", \"4\", \"5\"], 4),\n",
    "    \"Luftfeuchtigkeitsniveau\" : np.tile([\"1\", \"2\", \"3\", \"4\"], 5),\n",
    "    \"Energieverbrauch\" : np.array([685, 792, 838, 875, 722, 806, 893, 953, 733, 802, 880, 941, 811, 888, 952, 1005, 828, 920, 978, 1023])\n",
    "})\n",
    "luftf.head()"
   ]
  },
  {
   "cell_type": "markdown",
   "metadata": {},
   "source": [
    "### b)\n",
    "Können Sie auf dem 5%-Signifikanzniveau schliessen, dass es zwischen den fünf verschiedenen Marken einen Unterschied im Energieverbrauch gibt?\n",
    "\n",
    "`Python`-Hinweise:\n",
    "\n",
    "```python\n",
    "fit = ols(\"Energieverbrauch ~ C(Marke, Sum) +\n",
    "    C(Luftfeuchtigkeitsniveau, Sum)\", data=df).fit()\n",
    "anova_lm(fit)\n",
    "```"
   ]
  },
  {
   "cell_type": "code",
   "execution_count": 2,
   "metadata": {
    "scrolled": true
   },
   "outputs": [
    {
     "data": {
      "text/html": [
       "<div>\n",
       "<style scoped>\n",
       "    .dataframe tbody tr th:only-of-type {\n",
       "        vertical-align: middle;\n",
       "    }\n",
       "\n",
       "    .dataframe tbody tr th {\n",
       "        vertical-align: top;\n",
       "    }\n",
       "\n",
       "    .dataframe thead th {\n",
       "        text-align: right;\n",
       "    }\n",
       "</style>\n",
       "<table border=\"1\" class=\"dataframe\">\n",
       "  <thead>\n",
       "    <tr style=\"text-align: right;\">\n",
       "      <th></th>\n",
       "      <th>df</th>\n",
       "      <th>sum_sq</th>\n",
       "      <th>mean_sq</th>\n",
       "      <th>F</th>\n",
       "      <th>PR(&gt;F)</th>\n",
       "    </tr>\n",
       "  </thead>\n",
       "  <tbody>\n",
       "    <tr>\n",
       "      <th>C(Marke, Sum)</th>\n",
       "      <td>4.0</td>\n",
       "      <td>53231.00</td>\n",
       "      <td>13307.75</td>\n",
       "      <td>95.567325</td>\n",
       "      <td>5.419353e-09</td>\n",
       "    </tr>\n",
       "    <tr>\n",
       "      <th>C(Luftfeuchtigkeitsniveau, Sum)</th>\n",
       "      <td>3.0</td>\n",
       "      <td>116217.75</td>\n",
       "      <td>38739.25</td>\n",
       "      <td>278.199282</td>\n",
       "      <td>2.363880e-11</td>\n",
       "    </tr>\n",
       "    <tr>\n",
       "      <th>Residual</th>\n",
       "      <td>12.0</td>\n",
       "      <td>1671.00</td>\n",
       "      <td>139.25</td>\n",
       "      <td>NaN</td>\n",
       "      <td>NaN</td>\n",
       "    </tr>\n",
       "  </tbody>\n",
       "</table>\n",
       "</div>"
      ],
      "text/plain": [
       "                                   df     sum_sq   mean_sq           F  \\\n",
       "C(Marke, Sum)                     4.0   53231.00  13307.75   95.567325   \n",
       "C(Luftfeuchtigkeitsniveau, Sum)   3.0  116217.75  38739.25  278.199282   \n",
       "Residual                         12.0    1671.00    139.25         NaN   \n",
       "\n",
       "                                       PR(>F)  \n",
       "C(Marke, Sum)                    5.419353e-09  \n",
       "C(Luftfeuchtigkeitsniveau, Sum)  2.363880e-11  \n",
       "Residual                                  NaN  "
      ]
     },
     "execution_count": 2,
     "metadata": {},
     "output_type": "execute_result"
    }
   ],
   "source": [
    "fit = ols(\"Energieverbrauch ~ C(Marke, Sum) + C(Luftfeuchtigkeitsniveau, Sum)\", data=luftf).fit()\n",
    "anova_lm(fit)"
   ]
  },
  {
   "cell_type": "markdown",
   "metadata": {},
   "source": [
    "Mit einem P-Wert von 5.419353e-09 verwerfen wir die Nullhypothese, dass es keinen Unterschied zwischen den Blöcken gibt,  auf dem 5%-Niveau"
   ]
  },
  {
   "cell_type": "markdown",
   "metadata": {},
   "source": [
    "### c)\n",
    "Können Sie auf dem 1% Signifikanzniveau schliessen, dass es zwischen den Niveaus (oder Stufen) des Block-Faktor `Luftfeuchtigkeit` einen Unterschied im Energieverbrauch gibt?\n",
    "\n",
    "Stützt dieses Resultat den Entscheid der Versuchsleiterin, `Luftfeuchtigkeit` als Block-Faktor einzusetzen?"
   ]
  },
  {
   "cell_type": "markdown",
   "metadata": {},
   "source": [
    "Mit einem p-Wert von 2.363880e-11 verwerfen wir die Nullhypothese, dass es keinen Unterschied zwischen den Blöcken gibt"
   ]
  },
  {
   "cell_type": "markdown",
   "metadata": {},
   "source": [
    "### d)\n",
    "Überprüfen Sie mit einem Interaktionsplot die Additivität.\n",
    "\n",
    "Könnte man mit diesen Daten auf Wechselwirkung testen?"
   ]
  },
  {
   "cell_type": "code",
   "execution_count": 3,
   "metadata": {},
   "outputs": [
    {
     "data": {
      "image/png": "[encoded data removed]",
      "text/plain": [
       "<Figure size 432x288 with 1 Axes>"
      ]
     },
     "metadata": {
      "needs_background": "light"
     },
     "output_type": "display_data"
    }
   ],
   "source": [
    "interaction_plot(x=luftf[\"Marke\"], trace=luftf[\"Luftfeuchtigkeitsniveau\"], response=luftf[\"Energieverbrauch\"])\n",
    "plt.ylabel(\"Energieverbrauch\")\n",
    "plt.show()"
   ]
  },
  {
   "cell_type": "markdown",
   "metadata": {},
   "source": [
    "Könnte man schon, aber aufgrund des Plots würde ich erwarten, dass keine Wechselwirkung vorliegt, also das additive Modell gilt."
   ]
  },
  {
   "cell_type": "code",
   "execution_count": 4,
   "metadata": {},
   "outputs": [
    {
     "name": "stderr",
     "output_type": "stream",
     "text": [
      "c:\\python37\\lib\\site-packages\\statsmodels\\stats\\anova.py:139: RuntimeWarning: divide by zero encountered in double_scalars\n",
      "  (model.ssr / model.df_resid))\n",
      "c:\\python37\\lib\\site-packages\\scipy\\stats\\_distn_infrastructure.py:879: RuntimeWarning: invalid value encountered in greater\n",
      "  return (self.a < x) & (x < self.b)\n",
      "c:\\python37\\lib\\site-packages\\scipy\\stats\\_distn_infrastructure.py:879: RuntimeWarning: invalid value encountered in less\n",
      "  return (self.a < x) & (x < self.b)\n",
      "c:\\python37\\lib\\site-packages\\scipy\\stats\\_distn_infrastructure.py:1821: RuntimeWarning: invalid value encountered in less_equal\n",
      "  cond2 = cond0 & (x <= self.a)\n"
     ]
    },
    {
     "data": {
      "text/html": [
       "<div>\n",
       "<style scoped>\n",
       "    .dataframe tbody tr th:only-of-type {\n",
       "        vertical-align: middle;\n",
       "    }\n",
       "\n",
       "    .dataframe tbody tr th {\n",
       "        vertical-align: top;\n",
       "    }\n",
       "\n",
       "    .dataframe thead th {\n",
       "        text-align: right;\n",
       "    }\n",
       "</style>\n",
       "<table border=\"1\" class=\"dataframe\">\n",
       "  <thead>\n",
       "    <tr style=\"text-align: right;\">\n",
       "      <th></th>\n",
       "      <th>df</th>\n",
       "      <th>sum_sq</th>\n",
       "      <th>mean_sq</th>\n",
       "      <th>F</th>\n",
       "      <th>PR(&gt;F)</th>\n",
       "    </tr>\n",
       "  </thead>\n",
       "  <tbody>\n",
       "    <tr>\n",
       "      <th>C(Marke, Sum)</th>\n",
       "      <td>4.0</td>\n",
       "      <td>5.323100e+04</td>\n",
       "      <td>1.330775e+04</td>\n",
       "      <td>0.0</td>\n",
       "      <td>NaN</td>\n",
       "    </tr>\n",
       "    <tr>\n",
       "      <th>C(Luftfeuchtigkeitsniveau, Sum)</th>\n",
       "      <td>3.0</td>\n",
       "      <td>1.162178e+05</td>\n",
       "      <td>3.873925e+04</td>\n",
       "      <td>0.0</td>\n",
       "      <td>NaN</td>\n",
       "    </tr>\n",
       "    <tr>\n",
       "      <th>C(Marke, Sum):C(Luftfeuchtigkeitsniveau, Sum)</th>\n",
       "      <td>12.0</td>\n",
       "      <td>1.671000e+03</td>\n",
       "      <td>1.392500e+02</td>\n",
       "      <td>0.0</td>\n",
       "      <td>NaN</td>\n",
       "    </tr>\n",
       "    <tr>\n",
       "      <th>Residual</th>\n",
       "      <td>0.0</td>\n",
       "      <td>1.201997e-24</td>\n",
       "      <td>inf</td>\n",
       "      <td>NaN</td>\n",
       "      <td>NaN</td>\n",
       "    </tr>\n",
       "  </tbody>\n",
       "</table>\n",
       "</div>"
      ],
      "text/plain": [
       "                                                 df        sum_sq  \\\n",
       "C(Marke, Sum)                                   4.0  5.323100e+04   \n",
       "C(Luftfeuchtigkeitsniveau, Sum)                 3.0  1.162178e+05   \n",
       "C(Marke, Sum):C(Luftfeuchtigkeitsniveau, Sum)  12.0  1.671000e+03   \n",
       "Residual                                        0.0  1.201997e-24   \n",
       "\n",
       "                                                    mean_sq    F  PR(>F)  \n",
       "C(Marke, Sum)                                  1.330775e+04  0.0     NaN  \n",
       "C(Luftfeuchtigkeitsniveau, Sum)                3.873925e+04  0.0     NaN  \n",
       "C(Marke, Sum):C(Luftfeuchtigkeitsniveau, Sum)  1.392500e+02  0.0     NaN  \n",
       "Residual                                                inf  NaN     NaN  "
      ]
     },
     "execution_count": 4,
     "metadata": {},
     "output_type": "execute_result"
    }
   ],
   "source": [
    "fit = ols(\"Energieverbrauch ~ C(Marke, Sum) * C(Luftfeuchtigkeitsniveau, Sum)\", data=luftf).fit()\n",
    "anova_lm(fit)"
   ]
  },
  {
   "cell_type": "markdown",
   "metadata": {},
   "source": [
    "## Aufgabe 11.2\n",
    "\n",
    "In drei Städten der USA (Variable `STADT`) wurde der Benzinverbrauch von 5 Automobil-Typen (Variable `AUTO`, Werte von 1 bis 5) ermittelt. Pro Kombination wurden 3 Testfahrten durchgeführt. Die Zielgrösse (Variable `KMP4L`) ist die Strecke in km, welche mit 4 Litern Benzin zurückgelegt werden konnte. Die Daten befinden sich im Datensatz `automob.dat`\n",
    "\n",
    "### a)\n",
    "Stellen Sie die Variablen `AUTO` und `KMP4L` graphisch dar (wenn möglich mit unterschiedlichen Symbolen oder Farben bezüglich der Variablen `STADT`).\n",
    "\n",
    "`Python`-Hinweise:\n",
    "\n",
    "```python\n",
    "from pandas import DataFrame\n",
    "import pandas as pd\n",
    "import numpy as np\n",
    "import seaborn as sns\n",
    "import matplotlib.pyplot as plt\n",
    "import scipy.stats as st\n",
    "automob = pd.read_csv(\".../automob.dat\", sep=\" \")\n",
    "df = DataFrame(automob)\n",
    "sns.stripplot(x=\"STADT\", y=\"KMP4L\", hue=\"AUTO\", jitter=True, data=automob)\n",
    "```"
   ]
  },
  {
   "cell_type": "code",
   "execution_count": 5,
   "metadata": {},
   "outputs": [
    {
     "data": {
      "text/plain": [
       "<matplotlib.axes._subplots.AxesSubplot at 0x13cf2f50>"
      ]
     },
     "execution_count": 5,
     "metadata": {},
     "output_type": "execute_result"
    },
    {
     "data": {
      "image/png": "[encoded data removed]",
      "text/plain": [
       "<Figure size 432x288 with 1 Axes>"
      ]
     },
     "metadata": {
      "needs_background": "light"
     },
     "output_type": "display_data"
    }
   ],
   "source": [
    "from pandas import DataFrame\n",
    "import pandas as pd\n",
    "import numpy as np\n",
    "import seaborn as sns\n",
    "import matplotlib.pyplot as plt\n",
    "import scipy.stats as st\n",
    "automob = pd.read_csv(\"./automob.dat\", sep=\" \")\n",
    "df = DataFrame(automob)\n",
    "sns.stripplot(x=\"STADT\", y=\"KMP4L\", hue=\"AUTO\", jitter=True, data=automob)"
   ]
  },
  {
   "cell_type": "markdown",
   "metadata": {},
   "source": [
    "### b)\n",
    "Analysieren Sie die Zielgrösse `KMP4L` mit einer zweifaktoriellen Varianzanalyse. Verwenden Sie das volle Modell mit Interaktion. `Python`-Hinweise:\n",
    "\n",
    "```python\n",
    "from pandas import DataFrame\n",
    "import pandas as pd\n",
    "import numpy as np\n",
    "import seaborn as sns\n",
    "import scipy.stats as st\n",
    "from statsmodels.formula.api import ols\n",
    "from statsmodels.stats.anova import anova_lm\n",
    "from statsmodels.graphics.factorplots import interaction_plot\n",
    "import matplotlib.pyplot as plt\n",
    "fit = ols(\"KMP4L ~ C(STADT,Sum) * C(AUTO,Sum)\", data=automob).fit()\n",
    "anova_lm(fit)\n",
    "```"
   ]
  },
  {
   "cell_type": "code",
   "execution_count": 6,
   "metadata": {},
   "outputs": [
    {
     "data": {
      "text/html": [
       "<div>\n",
       "<style scoped>\n",
       "    .dataframe tbody tr th:only-of-type {\n",
       "        vertical-align: middle;\n",
       "    }\n",
       "\n",
       "    .dataframe tbody tr th {\n",
       "        vertical-align: top;\n",
       "    }\n",
       "\n",
       "    .dataframe thead th {\n",
       "        text-align: right;\n",
       "    }\n",
       "</style>\n",
       "<table border=\"1\" class=\"dataframe\">\n",
       "  <thead>\n",
       "    <tr style=\"text-align: right;\">\n",
       "      <th></th>\n",
       "      <th>df</th>\n",
       "      <th>sum_sq</th>\n",
       "      <th>mean_sq</th>\n",
       "      <th>F</th>\n",
       "      <th>PR(&gt;F)</th>\n",
       "    </tr>\n",
       "  </thead>\n",
       "  <tbody>\n",
       "    <tr>\n",
       "      <th>C(STADT, Sum)</th>\n",
       "      <td>2.0</td>\n",
       "      <td>19.599255</td>\n",
       "      <td>9.799628</td>\n",
       "      <td>7.438263</td>\n",
       "      <td>2.379745e-03</td>\n",
       "    </tr>\n",
       "    <tr>\n",
       "      <th>C(AUTO, Sum)</th>\n",
       "      <td>4.0</td>\n",
       "      <td>179.741928</td>\n",
       "      <td>44.935482</td>\n",
       "      <td>34.107613</td>\n",
       "      <td>9.163330e-11</td>\n",
       "    </tr>\n",
       "    <tr>\n",
       "      <th>C(STADT, Sum):C(AUTO, Sum)</th>\n",
       "      <td>8.0</td>\n",
       "      <td>244.619694</td>\n",
       "      <td>30.577462</td>\n",
       "      <td>23.209370</td>\n",
       "      <td>7.578447e-11</td>\n",
       "    </tr>\n",
       "    <tr>\n",
       "      <th>Residual</th>\n",
       "      <td>30.0</td>\n",
       "      <td>39.523858</td>\n",
       "      <td>1.317462</td>\n",
       "      <td>NaN</td>\n",
       "      <td>NaN</td>\n",
       "    </tr>\n",
       "  </tbody>\n",
       "</table>\n",
       "</div>"
      ],
      "text/plain": [
       "                              df      sum_sq    mean_sq          F  \\\n",
       "C(STADT, Sum)                2.0   19.599255   9.799628   7.438263   \n",
       "C(AUTO, Sum)                 4.0  179.741928  44.935482  34.107613   \n",
       "C(STADT, Sum):C(AUTO, Sum)   8.0  244.619694  30.577462  23.209370   \n",
       "Residual                    30.0   39.523858   1.317462        NaN   \n",
       "\n",
       "                                  PR(>F)  \n",
       "C(STADT, Sum)               2.379745e-03  \n",
       "C(AUTO, Sum)                9.163330e-11  \n",
       "C(STADT, Sum):C(AUTO, Sum)  7.578447e-11  \n",
       "Residual                             NaN  "
      ]
     },
     "execution_count": 6,
     "metadata": {},
     "output_type": "execute_result"
    }
   ],
   "source": [
    "fit = ols(\"KMP4L ~ C(STADT,Sum) * C(AUTO,Sum)\", data=automob).fit()\n",
    "anova_lm(fit)"
   ]
  },
  {
   "cell_type": "markdown",
   "metadata": {},
   "source": [
    "### c)\n",
    "Stellen Sie die Zellenmittelwerte als Interaktionsplot dar. Wie lässt sich die signifikante Wechselwirkung erklären?\n",
    "\n",
    "`Python`-Hinweis:\n",
    "\n",
    "```python\n",
    "automob = pd.read_table(\".../automob.dat\", sep = \" \")\n",
    "df = DataFrame(automob)\n",
    "# Data frame row index should start from 0\n",
    "df.reset_index(inplace = True)\n",
    "interaction_plot(x = df[\"...\"], trace = df[\"...\"],\n",
    "response = df[\"...\"])\n",
    "```"
   ]
  },
  {
   "cell_type": "code",
   "execution_count": 7,
   "metadata": {},
   "outputs": [
    {
     "data": {
      "image/png": "[encoded data removed]",
      "text/plain": [
       "<Figure size 432x288 with 1 Axes>"
      ]
     },
     "metadata": {
      "needs_background": "light"
     },
     "output_type": "display_data"
    }
   ],
   "source": [
    "df = DataFrame(automob)\n",
    "# Data frame row index should start from 0\n",
    "df.reset_index(inplace = True)\n",
    "interaction_plot(x=df[\"STADT\"], trace=df[\"AUTO\"], response=df[\"KMP4L\"])\n",
    "plt.show()"
   ]
  },
  {
   "cell_type": "markdown",
   "metadata": {},
   "source": [
    "### d)\n",
    "Führen Sie für jede Stadt separat eine einfaktorielle Varianzanalyse durch."
   ]
  },
  {
   "cell_type": "code",
   "execution_count": 8,
   "metadata": {},
   "outputs": [
    {
     "name": "stdout",
     "output_type": "stream",
     "text": [
      "Los Angeles:\n",
      "            df      sum_sq    mean_sq         F    PR(>F)\n",
      "AUTO       1.0   40.531726  40.531726  2.601956  0.130732\n",
      "Residual  13.0  202.506243  15.577403       NaN       NaN\n",
      "\n",
      "Portland:\n",
      "            df      sum_sq    mean_sq         F   PR(>F)\n",
      "AUTO       1.0   42.128883  42.128883  5.087787  0.04197\n",
      "Residual  13.0  107.645126   8.280394       NaN      NaN\n",
      "\n",
      "San Francisco:\n",
      "            df     sum_sq    mean_sq          F   PR(>F)\n",
      "AUTO       1.0  56.017208  56.017208  48.366729  0.00001\n",
      "Residual  13.0  15.056294   1.158176        NaN      NaN\n",
      "\n"
     ]
    }
   ],
   "source": [
    "los_angeles = automob.groupby(\"STADT\").get_group('Los Angeles')\n",
    "fit = ols(\"KMP4L~AUTO\",data=los_angeles).fit()\n",
    "print(\"Los Angeles:\")\n",
    "print(anova_lm(fit))\n",
    "print(\"\")\n",
    "\n",
    "portland = automob.groupby(\"STADT\").get_group('Portland')\n",
    "fit = ols(\"KMP4L~AUTO\",data=portland).fit()\n",
    "print(\"Portland:\")\n",
    "print(anova_lm(fit))\n",
    "print(\"\")\n",
    "\n",
    "san_francisco = automob.groupby(\"STADT\").get_group('San Francisco')\n",
    "fit = ols(\"KMP4L~AUTO\",data=san_francisco).fit()\n",
    "print(\"San Francisco:\")\n",
    "print(anova_lm(fit))\n",
    "print(\"\")\n"
   ]
  },
  {
   "cell_type": "markdown",
   "metadata": {},
   "source": [
    "### e)\n",
    "Wiederholen Sie Teilaufgabe __b)__ ohne die Werte von San Francisco."
   ]
  },
  {
   "cell_type": "code",
   "execution_count": 9,
   "metadata": {},
   "outputs": [
    {
     "name": "stdout",
     "output_type": "stream",
     "text": [
      "    index  STADT.index  AUTO   MPG    KMP4L        STADT\n",
      "0       1            1     1  20.3  34.5303  Los Angeles\n",
      "1       2            1     1  19.8  33.6798  Los Angeles\n",
      "2       3            1     1  21.4  36.4014  Los Angeles\n",
      "3       4            1     2  19.5  33.1695  Los Angeles\n",
      "4       5            1     2  18.6  31.6386  Los Angeles\n",
      "5       6            1     2  18.9  32.1489  Los Angeles\n",
      "6       7            1     3  22.1  37.5921  Los Angeles\n",
      "7       8            1     3  23.0  39.1230  Los Angeles\n",
      "8       9            1     3  22.4  38.1024  Los Angeles\n",
      "9      10            1     4  17.6  29.9376  Los Angeles\n",
      "10     11            1     4  18.3  31.1283  Los Angeles\n",
      "11     12            1     4  18.2  30.9582  Los Angeles\n",
      "12     13            1     5  23.6  40.1436  Los Angeles\n",
      "13     14            1     5  24.5  41.6745  Los Angeles\n",
      "14     15            1     5  25.1  42.6951  Los Angeles\n",
      "30     31            3     1  19.8  33.6798     Portland\n",
      "31     32            3     1  18.6  31.6386     Portland\n",
      "32     33            3     1  21.0  35.7210     Portland\n",
      "33     34            3     2  19.6  33.3396     Portland\n",
      "34     35            3     2  18.3  31.1283     Portland\n",
      "35     36            3     2  19.8  33.6798     Portland\n",
      "36     37            3     3  22.3  37.9323     Portland\n",
      "37     38            3     3  22.0  37.4220     Portland\n",
      "38     39            3     3  21.6  36.7416     Portland\n",
      "39     40            3     4  19.4  32.9994     Portland\n",
      "40     41            3     4  18.5  31.4685     Portland\n",
      "41     42            3     4  19.1  32.4891     Portland\n",
      "42     43            3     5  22.1  37.5921     Portland\n",
      "43     44            3     5  24.3  41.3343     Portland\n",
      "44     45            3     5  23.8  40.4838     Portland\n"
     ]
    },
    {
     "data": {
      "text/html": [
       "<div>\n",
       "<style scoped>\n",
       "    .dataframe tbody tr th:only-of-type {\n",
       "        vertical-align: middle;\n",
       "    }\n",
       "\n",
       "    .dataframe tbody tr th {\n",
       "        vertical-align: top;\n",
       "    }\n",
       "\n",
       "    .dataframe thead th {\n",
       "        text-align: right;\n",
       "    }\n",
       "</style>\n",
       "<table border=\"1\" class=\"dataframe\">\n",
       "  <thead>\n",
       "    <tr style=\"text-align: right;\">\n",
       "      <th></th>\n",
       "      <th>df</th>\n",
       "      <th>sum_sq</th>\n",
       "      <th>mean_sq</th>\n",
       "      <th>F</th>\n",
       "      <th>PR(&gt;F)</th>\n",
       "    </tr>\n",
       "  </thead>\n",
       "  <tbody>\n",
       "    <tr>\n",
       "      <th>C(STADT, Sum)</th>\n",
       "      <td>1.0</td>\n",
       "      <td>0.926853</td>\n",
       "      <td>0.926853</td>\n",
       "      <td>0.575105</td>\n",
       "      <td>4.570817e-01</td>\n",
       "    </tr>\n",
       "    <tr>\n",
       "      <th>C(AUTO, Sum)</th>\n",
       "      <td>4.0</td>\n",
       "      <td>349.513196</td>\n",
       "      <td>87.378299</td>\n",
       "      <td>54.217534</td>\n",
       "      <td>1.870272e-10</td>\n",
       "    </tr>\n",
       "    <tr>\n",
       "      <th>C(STADT, Sum):C(AUTO, Sum)</th>\n",
       "      <td>4.0</td>\n",
       "      <td>11.066294</td>\n",
       "      <td>2.766574</td>\n",
       "      <td>1.716637</td>\n",
       "      <td>1.858312e-01</td>\n",
       "    </tr>\n",
       "    <tr>\n",
       "      <th>Residual</th>\n",
       "      <td>20.0</td>\n",
       "      <td>32.232487</td>\n",
       "      <td>1.611624</td>\n",
       "      <td>NaN</td>\n",
       "      <td>NaN</td>\n",
       "    </tr>\n",
       "  </tbody>\n",
       "</table>\n",
       "</div>"
      ],
      "text/plain": [
       "                              df      sum_sq    mean_sq          F  \\\n",
       "C(STADT, Sum)                1.0    0.926853   0.926853   0.575105   \n",
       "C(AUTO, Sum)                 4.0  349.513196  87.378299  54.217534   \n",
       "C(STADT, Sum):C(AUTO, Sum)   4.0   11.066294   2.766574   1.716637   \n",
       "Residual                    20.0   32.232487   1.611624        NaN   \n",
       "\n",
       "                                  PR(>F)  \n",
       "C(STADT, Sum)               4.570817e-01  \n",
       "C(AUTO, Sum)                1.870272e-10  \n",
       "C(STADT, Sum):C(AUTO, Sum)  1.858312e-01  \n",
       "Residual                             NaN  "
      ]
     },
     "execution_count": 9,
     "metadata": {},
     "output_type": "execute_result"
    }
   ],
   "source": [
    "concat = pd.concat([los_angeles, portland])\n",
    "fit = ols(\"KMP4L ~ C(STADT,Sum) * C(AUTO,Sum)\", data=concat).fit()\n",
    "print(concat)\n",
    "anova_lm(fit)"
   ]
  },
  {
   "cell_type": "markdown",
   "metadata": {},
   "source": [
    "## Aufgabe 11.3\n",
    "\n",
    "### a)\n",
    "Der Datensatz `stream` enthält die Zinkstufen (Variable `ZINC`) verschiedener Flüsse (Variable `STREAM`) und die entsprechende Biodiversität (Variable `DIVERSITY`).Zusätzlich kodiert die Variable `ZNGROUP` die verschiedenen Zink-Gruppen numerisch. Wir wollen untersuchen, ob eine signifikante Beziehung zwischen der Biodiversität und den Zink-Gruppen besteht.\n",
    "\n",
    "Lesen Sie den in der Datei `stream.dat` gespeicherten Datensatz ein. Erstellen Sie einen Boxplot und Stripchart von `DIVERSITY` versus `ZNGROUP`, und kommentieren Sie die Graphik in Bezug auf Unterschiede und Ausreisser.\n"
   ]
  },
  {
   "cell_type": "code",
   "execution_count": 22,
   "metadata": {},
   "outputs": [
    {
     "data": {
      "image/png": "[encoded data removed]",
      "text/plain": [
       "<Figure size 432x288 with 1 Axes>"
      ]
     },
     "metadata": {
      "needs_background": "light"
     },
     "output_type": "display_data"
    },
    {
     "data": {
      "image/png": "[encoded data removed]",
      "text/plain": [
       "<Figure size 432x288 with 1 Axes>"
      ]
     },
     "metadata": {
      "needs_background": "light"
     },
     "output_type": "display_data"
    }
   ],
   "source": [
    "stream = pd.read_csv(\"./stream.dat\", sep=\" \")\n",
    "streamframe = DataFrame(stream)\n",
    "sns.stripplot(x=\"STREAM\", y=\"DIVERSITY\", hue=\"ZNGROUP\", jitter=True, data=stream)\n",
    "plt.show()\n",
    "sns.boxplot(streamframe.DIVERSITY, streamframe.ZINC\n",
    "plt.show()"
   ]
  },
  {
   "cell_type": "code",
   "execution_count": 26,
   "metadata": {},
   "outputs": [
    {
     "data": {
      "text/html": [
       "<div>\n",
       "<style scoped>\n",
       "    .dataframe tbody tr th:only-of-type {\n",
       "        vertical-align: middle;\n",
       "    }\n",
       "\n",
       "    .dataframe tbody tr th {\n",
       "        vertical-align: top;\n",
       "    }\n",
       "\n",
       "    .dataframe thead th {\n",
       "        text-align: right;\n",
       "    }\n",
       "</style>\n",
       "<table border=\"1\" class=\"dataframe\">\n",
       "  <thead>\n",
       "    <tr style=\"text-align: right;\">\n",
       "      <th></th>\n",
       "      <th>DIVERSITY</th>\n",
       "      <th>ZNGROUP</th>\n",
       "    </tr>\n",
       "  </thead>\n",
       "  <tbody>\n",
       "    <tr>\n",
       "      <th>count</th>\n",
       "      <td>34.000000</td>\n",
       "      <td>34.000000</td>\n",
       "    </tr>\n",
       "    <tr>\n",
       "      <th>mean</th>\n",
       "      <td>1.694118</td>\n",
       "      <td>2.558824</td>\n",
       "    </tr>\n",
       "    <tr>\n",
       "      <th>std</th>\n",
       "      <td>0.524636</td>\n",
       "      <td>1.133276</td>\n",
       "    </tr>\n",
       "    <tr>\n",
       "      <th>min</th>\n",
       "      <td>0.630000</td>\n",
       "      <td>1.000000</td>\n",
       "    </tr>\n",
       "    <tr>\n",
       "      <th>25%</th>\n",
       "      <td>1.377500</td>\n",
       "      <td>2.000000</td>\n",
       "    </tr>\n",
       "    <tr>\n",
       "      <th>50%</th>\n",
       "      <td>1.855000</td>\n",
       "      <td>3.000000</td>\n",
       "    </tr>\n",
       "    <tr>\n",
       "      <th>75%</th>\n",
       "      <td>2.057500</td>\n",
       "      <td>3.750000</td>\n",
       "    </tr>\n",
       "    <tr>\n",
       "      <th>max</th>\n",
       "      <td>2.830000</td>\n",
       "      <td>4.000000</td>\n",
       "    </tr>\n",
       "  </tbody>\n",
       "</table>\n",
       "</div>"
      ],
      "text/plain": [
       "       DIVERSITY    ZNGROUP\n",
       "count  34.000000  34.000000\n",
       "mean    1.694118   2.558824\n",
       "std     0.524636   1.133276\n",
       "min     0.630000   1.000000\n",
       "25%     1.377500   2.000000\n",
       "50%     1.855000   3.000000\n",
       "75%     2.057500   3.750000\n",
       "max     2.830000   4.000000"
      ]
     },
     "execution_count": 26,
     "metadata": {},
     "output_type": "execute_result"
    }
   ],
   "source": [
    "stream.describe()"
   ]
  },
  {
   "cell_type": "markdown",
   "metadata": {},
   "source": [
    "### b)\n",
    "Sie möchten feststellen, ob es einen signifikanten Unterschied der `DIVERSITY` für die unterschiedlichen Zink-Gruppen gibt. Formulieren Sie ein entsprechendes Modell, und führen Sie die entsprechende Varianzanalyse durch."
   ]
  },
  {
   "cell_type": "code",
   "execution_count": 44,
   "metadata": {},
   "outputs": [
    {
     "data": {
      "text/html": [
       "<div>\n",
       "<style scoped>\n",
       "    .dataframe tbody tr th:only-of-type {\n",
       "        vertical-align: middle;\n",
       "    }\n",
       "\n",
       "    .dataframe tbody tr th {\n",
       "        vertical-align: top;\n",
       "    }\n",
       "\n",
       "    .dataframe thead th {\n",
       "        text-align: right;\n",
       "    }\n",
       "</style>\n",
       "<table border=\"1\" class=\"dataframe\">\n",
       "  <thead>\n",
       "    <tr style=\"text-align: right;\">\n",
       "      <th></th>\n",
       "      <th>df</th>\n",
       "      <th>sum_sq</th>\n",
       "      <th>mean_sq</th>\n",
       "      <th>F</th>\n",
       "      <th>PR(&gt;F)</th>\n",
       "    </tr>\n",
       "  </thead>\n",
       "  <tbody>\n",
       "    <tr>\n",
       "      <th>C(STREAM, Sum)</th>\n",
       "      <td>5.0</td>\n",
       "      <td>1.827846</td>\n",
       "      <td>0.365569</td>\n",
       "      <td>1.410846</td>\n",
       "      <td>0.250847</td>\n",
       "    </tr>\n",
       "    <tr>\n",
       "      <th>Residual</th>\n",
       "      <td>28.0</td>\n",
       "      <td>7.255178</td>\n",
       "      <td>0.259113</td>\n",
       "      <td>NaN</td>\n",
       "      <td>NaN</td>\n",
       "    </tr>\n",
       "  </tbody>\n",
       "</table>\n",
       "</div>"
      ],
      "text/plain": [
       "                  df    sum_sq   mean_sq         F    PR(>F)\n",
       "C(STREAM, Sum)   5.0  1.827846  0.365569  1.410846  0.250847\n",
       "Residual        28.0  7.255178  0.259113       NaN       NaN"
      ]
     },
     "execution_count": 44,
     "metadata": {},
     "output_type": "execute_result"
    }
   ],
   "source": [
    "fit = ols(\"DIVERSITY ~ C(STREAM,Sum)\", data=streamframe).fit()\n",
    "anova_lm(fit)"
   ]
  },
  {
   "cell_type": "code",
   "execution_count": 46,
   "metadata": {
    "scrolled": true
   },
   "outputs": [
    {
     "data": {
      "text/html": [
       "<table class=\"simpletable\">\n",
       "<caption>OLS Regression Results</caption>\n",
       "<tr>\n",
       "  <th>Dep. Variable:</th>        <td>DIVERSITY</td>    <th>  R-squared:         </th> <td>   0.201</td>\n",
       "</tr>\n",
       "<tr>\n",
       "  <th>Model:</th>                   <td>OLS</td>       <th>  Adj. R-squared:    </th> <td>   0.059</td>\n",
       "</tr>\n",
       "<tr>\n",
       "  <th>Method:</th>             <td>Least Squares</td>  <th>  F-statistic:       </th> <td>   1.411</td>\n",
       "</tr>\n",
       "<tr>\n",
       "  <th>Date:</th>             <td>Tue, 11 Dec 2018</td> <th>  Prob (F-statistic):</th>  <td> 0.251</td> \n",
       "</tr>\n",
       "<tr>\n",
       "  <th>Time:</th>                 <td>22:46:20</td>     <th>  Log-Likelihood:    </th> <td> -21.985</td>\n",
       "</tr>\n",
       "<tr>\n",
       "  <th>No. Observations:</th>      <td>    34</td>      <th>  AIC:               </th> <td>   55.97</td>\n",
       "</tr>\n",
       "<tr>\n",
       "  <th>Df Residuals:</th>          <td>    28</td>      <th>  BIC:               </th> <td>   65.13</td>\n",
       "</tr>\n",
       "<tr>\n",
       "  <th>Df Model:</th>              <td>     5</td>      <th>                     </th>     <td> </td>   \n",
       "</tr>\n",
       "<tr>\n",
       "  <th>Covariance Type:</th>      <td>nonrobust</td>    <th>                     </th>     <td> </td>   \n",
       "</tr>\n",
       "</table>\n",
       "<table class=\"simpletable\">\n",
       "<tr>\n",
       "             <td></td>                <th>coef</th>     <th>std err</th>      <th>t</th>      <th>P>|t|</th>  <th>[0.025</th>    <th>0.975]</th>  \n",
       "</tr>\n",
       "<tr>\n",
       "  <th>Intercept</th>               <td>    1.6916</td> <td>    0.089</td> <td>   18.991</td> <td> 0.000</td> <td>    1.509</td> <td>    1.874</td>\n",
       "</tr>\n",
       "<tr>\n",
       "  <th>C(STREAM, Sum)[S.Arkan]</th> <td>    0.2155</td> <td>    0.181</td> <td>    1.194</td> <td> 0.243</td> <td>   -0.154</td> <td>    0.585</td>\n",
       "</tr>\n",
       "<tr>\n",
       "  <th>C(STREAM, Sum)[S.Blue]</th>  <td>   -0.0216</td> <td>    0.181</td> <td>   -0.120</td> <td> 0.906</td> <td>   -0.392</td> <td>    0.348</td>\n",
       "</tr>\n",
       "<tr>\n",
       "  <th>C(STREAM, Sum)[S.Chalk]</th> <td>    0.2604</td> <td>    0.206</td> <td>    1.263</td> <td> 0.217</td> <td>   -0.162</td> <td>    0.683</td>\n",
       "</tr>\n",
       "<tr>\n",
       "  <th>C(STREAM, Sum)[S.Eagle]</th> <td>   -0.1191</td> <td>    0.226</td> <td>   -0.527</td> <td> 0.602</td> <td>   -0.582</td> <td>    0.344</td>\n",
       "</tr>\n",
       "<tr>\n",
       "  <th>C(STREAM, Sum)[S.Snake]</th> <td>    0.0864</td> <td>    0.206</td> <td>    0.419</td> <td> 0.678</td> <td>   -0.336</td> <td>    0.509</td>\n",
       "</tr>\n",
       "</table>\n",
       "<table class=\"simpletable\">\n",
       "<tr>\n",
       "  <th>Omnibus:</th>       <td> 1.252</td> <th>  Durbin-Watson:     </th> <td>   1.930</td>\n",
       "</tr>\n",
       "<tr>\n",
       "  <th>Prob(Omnibus):</th> <td> 0.535</td> <th>  Jarque-Bera (JB):  </th> <td>   1.211</td>\n",
       "</tr>\n",
       "<tr>\n",
       "  <th>Skew:</th>          <td>-0.352</td> <th>  Prob(JB):          </th> <td>   0.546</td>\n",
       "</tr>\n",
       "<tr>\n",
       "  <th>Kurtosis:</th>      <td> 2.400</td> <th>  Cond. No.          </th> <td>    2.92</td>\n",
       "</tr>\n",
       "</table><br/><br/>Warnings:<br/>[1] Standard Errors assume that the covariance matrix of the errors is correctly specified."
      ],
      "text/plain": [
       "<class 'statsmodels.iolib.summary.Summary'>\n",
       "\"\"\"\n",
       "                            OLS Regression Results                            \n",
       "==============================================================================\n",
       "Dep. Variable:              DIVERSITY   R-squared:                       0.201\n",
       "Model:                            OLS   Adj. R-squared:                  0.059\n",
       "Method:                 Least Squares   F-statistic:                     1.411\n",
       "Date:                Tue, 11 Dec 2018   Prob (F-statistic):              0.251\n",
       "Time:                        22:46:20   Log-Likelihood:                -21.985\n",
       "No. Observations:                  34   AIC:                             55.97\n",
       "Df Residuals:                      28   BIC:                             65.13\n",
       "Df Model:                           5                                         \n",
       "Covariance Type:            nonrobust                                         \n",
       "===========================================================================================\n",
       "                              coef    std err          t      P>|t|      [0.025      0.975]\n",
       "-------------------------------------------------------------------------------------------\n",
       "Intercept                   1.6916      0.089     18.991      0.000       1.509       1.874\n",
       "C(STREAM, Sum)[S.Arkan]     0.2155      0.181      1.194      0.243      -0.154       0.585\n",
       "C(STREAM, Sum)[S.Blue]     -0.0216      0.181     -0.120      0.906      -0.392       0.348\n",
       "C(STREAM, Sum)[S.Chalk]     0.2604      0.206      1.263      0.217      -0.162       0.683\n",
       "C(STREAM, Sum)[S.Eagle]    -0.1191      0.226     -0.527      0.602      -0.582       0.344\n",
       "C(STREAM, Sum)[S.Snake]     0.0864      0.206      0.419      0.678      -0.336       0.509\n",
       "==============================================================================\n",
       "Omnibus:                        1.252   Durbin-Watson:                   1.930\n",
       "Prob(Omnibus):                  0.535   Jarque-Bera (JB):                1.211\n",
       "Skew:                          -0.352   Prob(JB):                        0.546\n",
       "Kurtosis:                       2.400   Cond. No.                         2.92\n",
       "==============================================================================\n",
       "\n",
       "Warnings:\n",
       "[1] Standard Errors assume that the covariance matrix of the errors is correctly specified.\n",
       "\"\"\""
      ]
     },
     "execution_count": 46,
     "metadata": {},
     "output_type": "execute_result"
    }
   ],
   "source": [
    "fit.summary()"
   ]
  },
  {
   "cell_type": "markdown",
   "metadata": {},
   "source": [
    "### c)\n",
    "Wie lauten die Schätzungen der Gruppenmittelwerte? Sind diese kompatibel\n",
    "mit Ihrer Beobachtung der Stripcharts?"
   ]
  },
  {
   "cell_type": "code",
   "execution_count": 47,
   "metadata": {},
   "outputs": [
    {
     "name": "stdout",
     "output_type": "stream",
     "text": [
      "Arkan: 1.9071\n",
      "Blue: 1.67\n",
      "Chalk: 1.952\n",
      "Eagle: 1.5725\n",
      "Snake: 1.778\n",
      "Splat: 1.6916\n"
     ]
    }
   ],
   "source": [
    "intercept = 1.6916\n",
    "arkan = intercept + 0.2155\n",
    "blue = intercept - 0.0216\n",
    "chalk = intercept + 0.2604\n",
    "eagle = intercept - 0.1191\n",
    "snake = intercept + 0.0864\n",
    "print(\"Arkan: \" + str(arkan))\n",
    "print(\"Blue: \" + str(blue))\n",
    "print(\"Chalk: \" + str(chalk))\n",
    "print(\"Eagle: \" + str(eagle))\n",
    "print(\"Snake: \" + str(snake))\n",
    "print(\"Splat: \" + str(intercept))"
   ]
  },
  {
   "cell_type": "markdown",
   "metadata": {},
   "source": [
    "Mit 1.6916 liegt der Gruppenmittel absolut in der Region in der wir es erwarten."
   ]
  },
  {
   "cell_type": "markdown",
   "metadata": {},
   "source": [
    "### d)\n",
    "Nun möchten Sie überprüfen, ob die unterschiedlichen Flüsse `STREAM` neben der Zinkgruppe `ZNGROUP` einen Einfluss auf `DIVERSITY` haben. Führen Sie eine Zweiweg-Varianzanalyse durch. Wie interpretieren Sie die Variable `STREAM` in Bezug auf den Versuchsplan?"
   ]
  },
  {
   "cell_type": "code",
   "execution_count": 43,
   "metadata": {},
   "outputs": [
    {
     "data": {
      "text/html": [
       "<div>\n",
       "<style scoped>\n",
       "    .dataframe tbody tr th:only-of-type {\n",
       "        vertical-align: middle;\n",
       "    }\n",
       "\n",
       "    .dataframe tbody tr th {\n",
       "        vertical-align: top;\n",
       "    }\n",
       "\n",
       "    .dataframe thead th {\n",
       "        text-align: right;\n",
       "    }\n",
       "</style>\n",
       "<table border=\"1\" class=\"dataframe\">\n",
       "  <thead>\n",
       "    <tr style=\"text-align: right;\">\n",
       "      <th></th>\n",
       "      <th>df</th>\n",
       "      <th>sum_sq</th>\n",
       "      <th>mean_sq</th>\n",
       "      <th>F</th>\n",
       "      <th>PR(&gt;F)</th>\n",
       "    </tr>\n",
       "  </thead>\n",
       "  <tbody>\n",
       "    <tr>\n",
       "      <th>C(STREAM, Sum)</th>\n",
       "      <td>5.0</td>\n",
       "      <td>1.827846</td>\n",
       "      <td>0.365569</td>\n",
       "      <td>3.041693</td>\n",
       "      <td>0.038517</td>\n",
       "    </tr>\n",
       "    <tr>\n",
       "      <th>C(ZNGROUP, Sum)</th>\n",
       "      <td>3.0</td>\n",
       "      <td>4.043920</td>\n",
       "      <td>1.347973</td>\n",
       "      <td>11.215718</td>\n",
       "      <td>0.000268</td>\n",
       "    </tr>\n",
       "    <tr>\n",
       "      <th>C(STREAM, Sum):C(ZNGROUP, Sum)</th>\n",
       "      <td>15.0</td>\n",
       "      <td>1.904865</td>\n",
       "      <td>0.126991</td>\n",
       "      <td>1.056620</td>\n",
       "      <td>0.452712</td>\n",
       "    </tr>\n",
       "    <tr>\n",
       "      <th>Residual</th>\n",
       "      <td>17.0</td>\n",
       "      <td>2.043163</td>\n",
       "      <td>0.120186</td>\n",
       "      <td>NaN</td>\n",
       "      <td>NaN</td>\n",
       "    </tr>\n",
       "  </tbody>\n",
       "</table>\n",
       "</div>"
      ],
      "text/plain": [
       "                                  df    sum_sq   mean_sq          F    PR(>F)\n",
       "C(STREAM, Sum)                   5.0  1.827846  0.365569   3.041693  0.038517\n",
       "C(ZNGROUP, Sum)                  3.0  4.043920  1.347973  11.215718  0.000268\n",
       "C(STREAM, Sum):C(ZNGROUP, Sum)  15.0  1.904865  0.126991   1.056620  0.452712\n",
       "Residual                        17.0  2.043163  0.120186        NaN       NaN"
      ]
     },
     "execution_count": 43,
     "metadata": {},
     "output_type": "execute_result"
    }
   ],
   "source": [
    "fit = ols(\"DIVERSITY ~ C(STREAM,Sum)*C(ZNGROUP,Sum)\", data=streamframe).fit()\n",
    "anova_lm(fit)"
   ]
  },
  {
   "cell_type": "markdown",
   "metadata": {},
   "source": [
    "Die Variable STREAM hat einen Einfluss auf die Biodiversität, Sie Zeigt jedoch keine Wechselwirkung mit der Variable ZNGROUP."
   ]
  }
 ],
 "metadata": {
  "kernelspec": {
   "display_name": "Python 3",
   "language": "python",
   "name": "python3"
  },
  "language_info": {
   "codemirror_mode": {
    "name": "ipython",
    "version": 3
   },
   "file_extension": ".py",
   "mimetype": "text/x-python",
   "name": "python",
   "nbconvert_exporter": "python",
   "pygments_lexer": "ipython3",
   "version": "3.7.0"
  }
 },
 "nbformat": 4,
 "nbformat_minor": 2
}
