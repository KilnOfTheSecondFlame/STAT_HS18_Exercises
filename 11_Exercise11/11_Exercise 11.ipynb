{
 "cells": [
  {
   "cell_type": "markdown",
   "metadata": {},
   "source": [
    "# Serie 11\n",
    "\n",
    "## Aufgabe 11.1\n",
    "\n",
    "Eine Konsumentenschutzorganisation lässt den jährlichen Energieverbrauch von fünf verschiedenen Marken von Luftentfeuchtern vergleichen. Weil der Energieverbrauch von der aktuellen Luftfeuchtigkeit abhängt, wurde jede Marke bei vier verschiedenen Luftfeuchtigkeitsniveaus im Bereich moderat bis hohe Feuchtigkeit getestet. Von jeder Marke wurden deshalb vier Geräte zufällig den Luftfeuchtigkeitsniveaus zugeordnet. Der aus dem Versuch resultierende Energieverbrauch (in kWh) ist in folgender Tabelle festgehalten:\n",
    "\n",
    "```text\n",
    "Marke   Luftfeuchtigkeitsniveau\n",
    "        1   2   3   4\n",
    "    1   685 792 838 875\n",
    "    2   722 806 893 953\n",
    "    3   733 802 880 941\n",
    "    4   811 888 952 1005\n",
    "    5   828 920 978 1023\n",
    "```\n",
    "\n",
    "### a)\n",
    "Tippen Sie die Daten selber ein und lesen Sie sie in `Python` ein.\n",
    "`Python`-Hinweise: Die Daten werden in drei Spalten eingelesen: Spalte mit Energieverbrauch, mit Marke, mit Luftfeuchtigkeitsniveau.\n",
    "\n",
    "```python\n",
    "from pandas import DataFrame\n",
    "import pandas as pd\n",
    "import numpy as np\n",
    "import seaborn as sns\n",
    "import scipy.stats as st\n",
    "from statsmodels.formula.api import ols\n",
    "from statsmodels.stats.anova import anova_lm\n",
    "from statsmodels.graphics.factorplots import interaction_plot\n",
    "import matplotlib.pyplot as plt\n",
    "from patsy.contrasts import Sum\n",
    "\n",
    "df=DataFrame({\n",
    "\"Luftfeuchtigkeitsniveau\" : np.tile([\"1\", \"2\", \"3\", \"4\"], 5),\n",
    "\"Marke\": np.repeat([\"1\", \"2\", \"3\", \"4\", \"5\"], 4),\n",
    "\"Energieverbrauch\" : np.array([685, 792, 838 , ..])\n",
    "})\n",
    "```"
   ]
  },
  {
   "cell_type": "code",
   "execution_count": null,
   "metadata": {},
   "outputs": [],
   "source": []
  },
  {
   "cell_type": "markdown",
   "metadata": {},
   "source": [
    "### b)\n",
    "Können Sie auf dem 5%-Signifikanzniveau schliessen, dass es zwischen den fünf verschiedenen Marken einen Unterschied im Energieverbrauch gibt?\n",
    "\n",
    "`Python`-Hinweise:\n",
    "\n",
    "```python\n",
    "fit = ols(\"Energieverbrauch ~ C(Marke, Sum) +\n",
    "    C(Luftfeuchtigkeitsniveau, Sum)\", data=df).fit()\n",
    "anova_lm(fit)\n",
    "```"
   ]
  },
  {
   "cell_type": "code",
   "execution_count": null,
   "metadata": {},
   "outputs": [],
   "source": []
  },
  {
   "cell_type": "markdown",
   "metadata": {},
   "source": [
    "### c)\n",
    "Können Sie auf dem 1% Signifikanzniveau schliessen, dass es zwischen den Niveaus (oder Stufen) des Block-Faktor `Luftfeuchtigkeit` einen Unterschied im Energieverbrauch gibt?\n",
    "\n",
    "Stützt dieses Resultat den Entscheid der Versuchsleiterin, `Luftfeuchtigkeit` als Block-Faktor einzusetzen?"
   ]
  },
  {
   "cell_type": "code",
   "execution_count": null,
   "metadata": {},
   "outputs": [],
   "source": []
  },
  {
   "cell_type": "markdown",
   "metadata": {},
   "source": [
    "### d)\n",
    "Überprüfen Sie mit einem Interaktionsplot die Additivität.\n",
    "\n",
    "Könnte man mit diesen Daten auf Wechselwirkung testen?"
   ]
  },
  {
   "cell_type": "code",
   "execution_count": null,
   "metadata": {},
   "outputs": [],
   "source": []
  },
  {
   "cell_type": "markdown",
   "metadata": {},
   "source": [
    "## Aufgabe 11.2\n",
    "\n",
    "In drei Städten der USA (Variable `STADT`) wurde der Benzinverbrauch von 5 Automobil-Typen (Variable `AUTO`, Werte von 1 bis 5) ermittelt. Pro Kombination wurden 3 Testfahrten durchgeführt. Die Zielgrösse (Variable `KMP4L`) ist die Strecke in km, welche mit 4 Litern Benzin zurückgelegt werden konnte. Die Daten befinden sich im Datensatz `automob.dat`\n",
    "\n",
    "### a)\n",
    "Stellen Sie die Variablen `AUTO` und `KMP4L` graphisch dar (wenn möglich mit unterschiedlichen Symbolen oder Farben bezüglich der Variablen `STADT`).\n",
    "\n",
    "`Python`-Hinweise:\n",
    "\n",
    "```python\n",
    "from pandas import DataFrame\n",
    "import pandas as pd\n",
    "import numpy as np\n",
    "import seaborn as sns\n",
    "import matplotlib.pyplot as plt\n",
    "import scipy.stats as st\n",
    "automob = pd.read_csv(\".../automob.dat\", sep=\" \")\n",
    "df = DataFrame(automob)\n",
    "sns.stripplot(x=\"STADT\", y=\"KMP4L\", hue=\"AUTO\", jitter=True, data=automob)\n",
    "```"
   ]
  },
  {
   "cell_type": "code",
   "execution_count": null,
   "metadata": {},
   "outputs": [],
   "source": []
  },
  {
   "cell_type": "markdown",
   "metadata": {},
   "source": [
    "### b)\n",
    "Analysieren Sie die Zielgrösse `KMP4L` mit einer zweifaktoriellen Varianzanalyse. Verwenden Sie das volle Modell mit Interaktion. `Python`-Hinweise:\n",
    "\n",
    "```python\n",
    "from pandas import DataFrame\n",
    "import pandas as pd\n",
    "import numpy as np\n",
    "import seaborn as sns\n",
    "import scipy.stats as st\n",
    "from statsmodels.formula.api import ols\n",
    "from statsmodels.stats.anova import anova_lm\n",
    "from statsmodels.graphics.factorplots import interaction_plot\n",
    "import matplotlib.pyplot as plt\n",
    "fit = ols(\"KMP4L ~ C(STADT,Sum) * C(AUTO,Sum)\", data=automob).fit()\n",
    "anova_lm(fit)\n",
    "```"
   ]
  },
  {
   "cell_type": "code",
   "execution_count": null,
   "metadata": {},
   "outputs": [],
   "source": []
  },
  {
   "cell_type": "markdown",
   "metadata": {},
   "source": [
    "### c)\n",
    "Stellen Sie die Zellenmittelwerte als Interaktionsplot dar. Wie lässt sich die signifikante Wechselwirkung erklären?\n",
    "\n",
    "`Python`-Hinweis:\n",
    "\n",
    "```python\n",
    "automob = pd.read_table(\".../automob.dat\", sep = \" \")\n",
    "df = DataFrame(automob)\n",
    "# Data frame row index should start from 0\n",
    "df.reset_index(inplace = True)\n",
    "interaction_plot(x = df[\"...\"], trace = df[\"...\"],\n",
    "response = df[\"...\"])\n",
    "```"
   ]
  },
  {
   "cell_type": "code",
   "execution_count": null,
   "metadata": {},
   "outputs": [],
   "source": []
  },
  {
   "cell_type": "markdown",
   "metadata": {},
   "source": [
    "### d)\n",
    "Führen Sie für jede Stadt separat eine einfaktorielle Varianzanalyse durch."
   ]
  },
  {
   "cell_type": "code",
   "execution_count": null,
   "metadata": {},
   "outputs": [],
   "source": []
  },
  {
   "cell_type": "markdown",
   "metadata": {},
   "source": [
    "### e)\n",
    "Wiederholen Sie Teilaufgabe __b)__ ohne die Werte von San Francisco."
   ]
  },
  {
   "cell_type": "code",
   "execution_count": null,
   "metadata": {},
   "outputs": [],
   "source": []
  },
  {
   "cell_type": "markdown",
   "metadata": {},
   "source": [
    "## Aufgabe 11.3\n",
    "\n",
    "### a)\n",
    "Der Datensatz `stream` enthält die Zinkstufen (Variable `ZINC`) verschiedener Flüsse (Variable `STREAM`) und die entsprechende Biodiversität (Variable `DIVERSITY`).Zusätzlich kodiert die Variable `ZNGROUP` die verschiedenen Zink-Gruppen numerisch. Wir wollen untersuchen, ob eine signifikante Beziehung zwischen der Biodiversität und den Zink-Gruppen besteht.\n",
    "\n",
    "Lesen Sie den in der Datei `stream.dat` gespeicherten Datensatz ein. Erstellen Sie einen Boxplot und Stripchart von `DIVERSITY` versus `ZNGROUP`, und kommentieren Sie die Graphik in Bezug auf Unterschiede und Ausreisser.\n"
   ]
  },
  {
   "cell_type": "code",
   "execution_count": null,
   "metadata": {},
   "outputs": [],
   "source": []
  },
  {
   "cell_type": "markdown",
   "metadata": {},
   "source": [
    "### b)\n",
    "Sie möchten feststellen, ob es einen signifikanten Unterschied der `DIVERSITY` für die unterschiedlichen Zink-Gruppen gibt. Formulieren Sie ein entsprechendes Modell, und führen Sie die entsprechende Varianzanalyse durch."
   ]
  },
  {
   "cell_type": "code",
   "execution_count": null,
   "metadata": {},
   "outputs": [],
   "source": []
  },
  {
   "cell_type": "markdown",
   "metadata": {},
   "source": [
    "### c)\n",
    "Wie lauten die Schätzungen der Gruppenmittelwerte? Sind diese kompatibel\n",
    "mit Ihrer Beobachtung der Stripcharts?"
   ]
  },
  {
   "cell_type": "code",
   "execution_count": null,
   "metadata": {},
   "outputs": [],
   "source": []
  },
  {
   "cell_type": "markdown",
   "metadata": {},
   "source": [
    "### d)\n",
    "Nun möchten Sie überprüfen, ob die unterschiedlichen Flüsse `STREAM` neben der Zinkgruppe `ZNGROUP` einen Einfluss auf `DIVERSITY` haben. Führen Sie eine Zweiweg-Varianzanalyse durch. Wie interpretieren Sie die Variable `STREAM` in Bezug auf den Versuchsplan?"
   ]
  },
  {
   "cell_type": "code",
   "execution_count": null,
   "metadata": {},
   "outputs": [],
   "source": []
  }
 ],
 "metadata": {
  "kernelspec": {
   "display_name": "Python 3",
   "language": "python",
   "name": "python3"
  },
  "language_info": {
   "codemirror_mode": {
    "name": "ipython",
    "version": 3
   },
   "file_extension": ".py",
   "mimetype": "text/x-python",
   "name": "python",
   "nbconvert_exporter": "python",
   "pygments_lexer": "ipython3",
   "version": "3.7.0"
  }
 },
 "nbformat": 4,
 "nbformat_minor": 2
}
