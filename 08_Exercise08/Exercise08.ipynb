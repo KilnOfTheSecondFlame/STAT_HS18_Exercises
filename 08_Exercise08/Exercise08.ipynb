{
 "cells": [
  {
   "cell_type": "markdown",
   "metadata": {},
   "source": [
    "# Serie 8\n",
    "\n",
    "## Aufgabe 8.1\n",
    "\n",
    "Der skeptische Konsument gibt nicht auf und versucht weiterhin, den Weinhändler des Betrugs zu überführen. Der Weininhalt der 12 erworbenen Weinflaschen lauten:\n",
    "\n",
    "71, 69, 67, 68, 73, 72, 71, 71, 68, 72, 69, 72 (in Zentiliter).\n",
    "\n",
    "### a)\n",
    "\n",
    "Nun zweifeln wir daran, ob die Daten wirklich gut durch eine Normalverteilung beschrieben werden können (diese Annahme haben wir sowohl beim z- als auch beim t-Test gemacht). Wenn die Normalverteilungsannahme nicht gemacht werden kann, können wir den Vorzeichen-Test durchführen. Führen Sie also den Vorzeichen-Test auf dem 5%-Signifikanzniveau durch. Wie lautet nun das Ergebnis?\n",
    "\n",
    "__Python__-Hinweis:\n",
    "\n",
    "```python\n",
    "import scipy.stats as st\n",
    "st.binom.cdf(k=..., n=..., p=...)\n",
    "st.binom_test(x=..., n=..., p=..., alternative=\"...\")\n",
    "```"
   ]
  },
  {
   "cell_type": "markdown",
   "metadata": {},
   "source": []
  },
  {
   "cell_type": "markdown",
   "metadata": {},
   "source": [
    "### b)\n",
    "Wie lautet das Ergebnis mit dem Wilcoxon-Test?\n",
    "\n",
    "__Python__-Hinweis:\n",
    "\n",
    "```python\n",
    "import scipy.stats as st\n",
    "st.wilcoxon(..., zero_method=\"wilcox\", correction=True)\n",
    "```"
   ]
  },
  {
   "cell_type": "markdown",
   "metadata": {},
   "source": []
  },
  {
   "cell_type": "markdown",
   "metadata": {},
   "source": [
    "## Aufgabe 8.2\n",
    "Untenstehend finden Sie mehrere Beispiele für Vergleiche von 2 Stichproben. Beantworten Sie für jedes Beispiel kurz die folgenden Fragen:\n",
    "* Handelt es sich um gepaarte oder um ungepaarte Stichproben? Begründen Sie!\n",
    "* Ist der Test einseitig oder zweiseitig durchzuführen? Begründen Sie!\n",
    "* Wie lautet die Nullhypothese in Worten?\n",
    "* Wie lautet die Alternativhypothese in Worten?\n",
    "\n",
    "### a)\n",
    "In einem Experiment sollte der Effekt von Zigarettenrauchen auf Blutplättchenanhäufungen untersucht werden. Dazu wurden 11 Probanden vor und nach dem Rauchen einer Zigarette Blutproben entnommen, und es wurde gemessen, wie stark sich die Blutplättchen anhäuften. Es interessiert, ob sich Blutplättchen durch das Rauchen vermehrt anhäufen."
   ]
  },
  {
   "cell_type": "markdown",
   "metadata": {},
   "source": []
  },
  {
   "cell_type": "markdown",
   "metadata": {},
   "source": [
    "### b)\n",
    "Die nächsten Daten sind aus einer Studie von Charles Darwin über die Fremdund Selbstbefruchtung. 15 Paare von Setzlingen mit demselben Alter, je einer durch Selbst- und einer durch Fremdbefruchtung produziert, wurden gezüchtet.\n",
    "Beide Teile je eines Paares hatten nahezu gleiche Bedingungen. Das Ziel bestand darin zu sehen, ob die fremdbefruchteten Pflanzen mehr Lebenskraft besitzen als die selbstbefruchteten (d.h., ob sie grösser werden). Es wurden die Höhen jeder Pflanze nach einer fixen Zeitspanne gemessen."
   ]
  },
  {
   "cell_type": "markdown",
   "metadata": {},
   "source": []
  },
  {
   "cell_type": "markdown",
   "metadata": {},
   "source": [
    "### c)\n",
    "\n",
    "Beeinflusst der Kalziumgehalt in der Nahrung den systolischen Blutdruck? Zur Überprüfung dieser Frage wurde einer Versuchsgruppe von 10 Männern während 12 Wochen ein Kalziumzusatz verabreicht. Einer Kontrollgruppe von 11 Männern gab man ein Placebopräparat."
   ]
  },
  {
   "cell_type": "markdown",
   "metadata": {},
   "source": []
  },
  {
   "cell_type": "markdown",
   "metadata": {},
   "source": [
    "### d)\n",
    "\n",
    "In einem Experiment wurde untersucht, ob Mäuse zwei Formen von Eisen ($\\text{Fe}^{2+}$ und $\\text{Fe}^{3+}$) unterschiedlich gut aufnehmen. Dazu wurden 36 Mäuse in zwei Gruppen zu je 18 unterteilt und die eine Gruppe mit $\\text{Fe}^{2+}$ und die andere mit $\\text{Fe}^{3+}$ „gefüttert”. Da das Eisen radioaktiv markiert war, konnte sowohl die Anfangskonzentration wie auch die Konzentration einige Zeit später gemessen werden. Daraus wurde für jede Maus der Anteil des aufgenommenen Eisens berechnet."
   ]
  },
  {
   "cell_type": "markdown",
   "metadata": {},
   "source": [
    "## Aufgabe 8.3\n",
    "\n",
    "Zwei Tiefen-Messgeräte messen für die Tiefe einer Gesteins-Schicht an 9 verschiedenen Orten die folgenden Werte: Kennzahlen für die Differenz: $\\bar{d}_n$ beträgt − 5.78, die Standardabweichung $\\sigma_D$ = 6.2.\n",
    "\n",
    "![Tiefenmessungen Messgeräte](img\\Tiefenmessungen.png)\n",
    "\n",
    "Es wird vermutet, dass Gerät B systematisch grössere Werte misst. Bestätigen die Messwerte diese Vermutung oder ist eine zufällige Schwankung als Erklärung plausibel?\n",
    "\n",
    "### a)\n",
    "Handelt es sich um verbundene (gepaarte) oder um unabhängige Stichproben?\n"
   ]
  },
  {
   "cell_type": "code",
   "execution_count": null,
   "metadata": {},
   "outputs": [],
   "source": []
  },
  {
   "cell_type": "markdown",
   "metadata": {},
   "source": [
    "### b)\n",
    "Führen Sie einen $t$-Test auf dem Niveau $\\alpha = 0.05$ durch. Formulieren Sie explizit: Modellannahmen, Nullhypothese, Alternative, Teststatistik, Verwerfungsbereich und Testergebnis."
   ]
  },
  {
   "cell_type": "code",
   "execution_count": null,
   "metadata": {},
   "outputs": [],
   "source": []
  },
  {
   "cell_type": "markdown",
   "metadata": {},
   "source": [
    "### c)\n",
    "Sei Z die Zufallsvariable, die zählt, bei wie vielen der 9 Messungen Gerät A einen grösseren Wert misst, als Gerät B. Wie ist Z verteilt, wenn die Geräte bis auf Zufallsschwankungen das Gleiche messen?"
   ]
  },
  {
   "cell_type": "code",
   "execution_count": null,
   "metadata": {},
   "outputs": [],
   "source": []
  },
  {
   "cell_type": "markdown",
   "metadata": {},
   "source": [
    "## Aufgabe 8.4\n",
    "\n",
    "In der folgenden Tabelle sind die Kieferlängen von 10 männlichen und 10 weiblichen Goldschakalen eingetragen: Einige Kennzahlen: $\\bar{x}_n = 113.4$ , $\\bar{y}_n = 108.6$, $\\hat{\\sigma}^2_x = 13.82$,\n",
    "\n",
    "$\\hat{\\sigma}_y^2 = 5.16$. Es stellt sich nun die Frage, ob es einen Unterschied zwischen der Kieferlänge von Männchen und Weibchen gibt.\n",
    "\n",
    "### a)\n",
    "Handelt es sich um gepaarte oder ungepaarte Stichproben? Begründen Sie Ihre Antwort.\n"
   ]
  },
  {
   "cell_type": "code",
   "execution_count": null,
   "metadata": {},
   "outputs": [],
   "source": []
  },
  {
   "cell_type": "markdown",
   "metadata": {},
   "source": [
    "### b)\n",
    "Formulieren Sie Nullhypothese und Alternativhypothese.\n"
   ]
  },
  {
   "cell_type": "code",
   "execution_count": null,
   "metadata": {},
   "outputs": [],
   "source": []
  },
  {
   "cell_type": "markdown",
   "metadata": {},
   "source": [
    "### c)\n",
    "Führen Sie den t-Test nun noch mit Hilfe von Python durch. Geben Sie den resultierenden p-Wert sowie den daraus folgenden Testentscheid an.\n",
    "\n",
    "```python\n",
    "import pandas as pd\n",
    "import scipy.stats as st\n",
    "jackals = pd.read_table(r\" * /jackals.txt\", sep = \" \")\n",
    "jackals\n",
    "st.ttest_ind(jackals[\"M\"], jackals[\"W\"], equal_var=False)\n",
    "```\n",
    "\n",
    "Für * muss Ihr Pfad stehen, wo sich die Datei befindet.\n"
   ]
  },
  {
   "cell_type": "code",
   "execution_count": null,
   "metadata": {},
   "outputs": [],
   "source": []
  },
  {
   "cell_type": "markdown",
   "metadata": {},
   "source": [
    "### d)\n",
    "Führen Sie mit Hilfe von Python einen Wilcoxon-Test durch. Geben Sie wiederum p-Wert und Testentscheid an.\n",
    "\n",
    "```python\n",
    "st.mannwhitneyu(jackals[\"M\"], jackals[\"W\"], alternative = \"two-sided\")\n",
    "```"
   ]
  },
  {
   "cell_type": "code",
   "execution_count": null,
   "metadata": {},
   "outputs": [],
   "source": []
  },
  {
   "cell_type": "markdown",
   "metadata": {},
   "source": [
    "### e)\n",
    "Falls die Resultate der beiden Tests unterschiedlich ausgefallen wären, welchem\n",
    "würden Sie eher vertrauen? Weshalb?"
   ]
  },
  {
   "cell_type": "code",
   "execution_count": null,
   "metadata": {},
   "outputs": [],
   "source": []
  },
  {
   "cell_type": "markdown",
   "metadata": {},
   "source": [
    "## Aufgabe 8.5\n",
    "\n",
    "Im Jahr 2013 wurden im Rahmen einer internationalen Zusammenarbeit unter der Leitung der EAWAG in Dübendorf Konzentrationen von illegalen Substanzen im Abwasser von 42 europäischen Städten während einer Woche untersucht (Ort C. et al., _Spatial differencesand temporal changes in illicit drug use in Europe quantified by wastewater analysis_, Addiction 2014 Aug).\n",
    "\n",
    "Dabei wurden an 7 aufeinanderfolgenden Tagen (6.-12. März) neben anderen Substanzen die medianen Konzentrationen von Ecstasy (MDMA) im Abwasser gemessenen. Aufgrund dieser Studie war eine Aussage einer vielgelesenen Schweizer Gratiszeitung, dass in Zürich viel mehr Drogen konsumiert werden als anderswo.\n",
    "\n",
    "In der nachfolgenden Tabellle sind für die Städte Zürich und Basel die an den untersuchten Tagen ausgeschiedenen Mengen MDMA aufgeführt. Die Angaben sind in mg pro 1000 Einwohner pro Tag. Nehmen Sie an, dass die täglichen Differenzen $D_i$ zwischen den pro tausend Einwohner ausgeschiedenen Mengen von MDMA im Abwasser von Zürich und Basel unabhängig voneinander normalverteilt mit Erwartungswert $\\mu_D$ und Standardabweichung $\\sigma_D$ sind.\n",
    "\n",
    "| Stadt | Mi | Do | Fr | Sa | So | Mo | Di |\n",
    "| :--- | :--- | :--- | :--- | :--- | :--- | :--- | :--- |\n",
    "| Zürich | 16.3 | 12.7 | 14.0 | 53.3 | 117 | 62.6 | 27.6 |\n",
    "| Basel | 10.4 | 8.91 | 11.7 | 29.9 | 46.3 | 25.0 | 29.4 |\n",
    "\n",
    "### a)\n",
    "Schätzen Sie aus den Daten den Mittelwert und die Standardabweichung der\n",
    "Differenzen, d.h., $\\hat{\\mu}_D$ und $\\hat{\\sigma}_D$ ."
   ]
  },
  {
   "cell_type": "code",
   "execution_count": null,
   "metadata": {},
   "outputs": [],
   "source": []
  },
  {
   "attachments": {},
   "cell_type": "markdown",
   "metadata": {},
   "source": [
    "### b)\n",
    "Handelt es sich um gepaarte oder ungepaarte Stichproben? Begründen Sie Ihre Antwort."
   ]
  },
  {
   "cell_type": "code",
   "execution_count": null,
   "metadata": {},
   "outputs": [],
   "source": []
  },
  {
   "cell_type": "markdown",
   "metadata": {},
   "source": [
    "### c)\n",
    "Formulieren Sie die Nullhypothese und die Alternativhypothese, wenn Sie die Aussage der besagten Gratiszeitung überprüfen möchten."
   ]
  },
  {
   "cell_type": "code",
   "execution_count": null,
   "metadata": {},
   "outputs": [],
   "source": []
  },
  {
   "cell_type": "markdown",
   "metadata": {},
   "source": [
    "### d)\n",
    "Führen Sie einen statistischen Test mit Hilfe von __Python__ auf dem Signifikanzniveau 95% durch, unter der Annahme, dass die Daten normalverteilt sind.\n",
    "\n",
    "Wie lautet die Teststatistik und wie ist diese unter der Nullhypothese verteilt?"
   ]
  },
  {
   "cell_type": "code",
   "execution_count": null,
   "metadata": {},
   "outputs": [],
   "source": []
  },
  {
   "cell_type": "markdown",
   "metadata": {},
   "source": [
    "### e)\n",
    "Führen Sie nun einen statistischen Test mit Hilfe von __Python__ auf dem Signifikanzniveau 95% durch, unter der Annahme, dass die Daten nicht normalverteilt sind."
   ]
  },
  {
   "cell_type": "code",
   "execution_count": null,
   "metadata": {},
   "outputs": [],
   "source": []
  }
 ],
 "metadata": {
  "kernelspec": {
   "display_name": "Python 3",
   "language": "python",
   "name": "python3"
  },
  "language_info": {
   "codemirror_mode": {
    "name": "ipython",
    "version": 3
   },
   "file_extension": ".py",
   "mimetype": "text/x-python",
   "name": "python",
   "nbconvert_exporter": "python",
   "pygments_lexer": "ipython3",
   "version": "3.7.0"
  }
 },
 "nbformat": 4,
 "nbformat_minor": 2
}
