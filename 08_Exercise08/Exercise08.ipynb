{
 "cells": [
  {
   "cell_type": "markdown",
   "metadata": {},
   "source": [
    "# Serie 8\n",
    "\n",
    "## Aufgabe 8.1\n",
    "\n",
    "Der skeptische Konsument gibt nicht auf und versucht weiterhin, den Weinhändler des Betrugs zu überführen. Der Weininhalt der 12 erworbenen Weinflaschen lauten:\n",
    "\n",
    "71, 69, 67, 68, 73, 72, 71, 71, 68, 72, 69, 72 (in Zentiliter).\n",
    "\n",
    "### a)\n",
    "\n",
    "Nun zweifeln wir daran, ob die Daten wirklich gut durch eine Normalverteilung beschrieben werden können (diese Annahme haben wir sowohl beim z- als auch beim t-Test gemacht). Wenn die Normalverteilungsannahme nicht gemacht werden kann, können wir den Vorzeichen-Test durchführen. Führen Sie also den Vorzeichen-Test auf dem 5%-Signifikanzniveau durch. Wie lautet nun das Ergebnis? `Python`-Hinweis:\n",
    "\n",
    "```python\n",
    "import scipy.stats as st\n",
    "st.binom.cdf(k=..., n=..., p=...)\n",
    "st.binom_test(x=..., n=..., p=..., alternative=\"...\")\n",
    "```"
   ]
  },
  {
   "cell_type": "markdown",
   "metadata": {},
   "source": []
  },
  {
   "cell_type": "markdown",
   "metadata": {},
   "source": [
    "### b)\n",
    "Wie lautet das Ergebnis mit dem Wilcoxon-Test? `Python`-Hinweis:\n",
    "\n",
    "```python\n",
    "import scipy.stats as st\n",
    "st.wilcoxon(..., zero_method=\"wilcox\", correction=True)\n",
    "```"
   ]
  },
  {
   "cell_type": "markdown",
   "metadata": {},
   "source": []
  },
  {
   "cell_type": "markdown",
   "metadata": {},
   "source": [
    "## Aufgabe 8.2\n",
    "Untenstehend finden Sie mehrere Beispiele für Vergleiche von 2 Stichproben. Beantworten Sie für jedes Beispiel kurz die folgenden Fragen:\n",
    "* Handelt es sich um gepaarte oder um ungepaarte Stichproben? Begründen Sie!\n",
    "* Ist der Test einseitig oder zweiseitig durchzuführen? Begründen Sie!\n",
    "* Wie lautet die Nullhypothese in Worten?\n",
    "* Wie lautet die Alternativhypothese in Worten?\n",
    "\n",
    "### a)\n",
    "In einem Experiment sollte der Effekt von Zigarettenrauchen auf Blutplättchenanhäufungen untersucht werden. Dazu wurden 11 Probanden vor und nach dem Rauchen einer Zigarette Blutproben entnommen, und es wurde gemessen, wie stark sich die Blutplättchen anhäuften. Es interessiert, ob sich Blutplättchen durch das Rauchen vermehrt anhäufen."
   ]
  },
  {
   "cell_type": "markdown",
   "metadata": {},
   "source": []
  },
  {
   "cell_type": "markdown",
   "metadata": {},
   "source": [
    "### b)\n",
    "Die nächsten Daten sind aus einer Studie von Charles Darwin über die Fremdund Selbstbefruchtung. 15 Paare von Setzlingen mit demselben Alter, je einer durch Selbst- und einer durch Fremdbefruchtung produziert, wurden gezüchtet.\n",
    "Beide Teile je eines Paares hatten nahezu gleiche Bedingungen. Das Ziel bestand darin zu sehen, ob die fremdbefruchteten Pflanzen mehr Lebenskraft besitzen als die selbstbefruchteten (d.h., ob sie grösser werden). Es wurden die Höhen jeder Pflanze nach einer fixen Zeitspanne gemessen."
   ]
  },
  {
   "cell_type": "markdown",
   "metadata": {},
   "source": []
  },
  {
   "cell_type": "markdown",
   "metadata": {},
   "source": [
    "### c)\n",
    "\n",
    "Beeinflusst der Kalziumgehalt in der Nahrung den systolischen Blutdruck? Zur Überprüfung dieser Frage wurde einer Versuchsgruppe von 10 Männern während 12 Wochen ein Kalziumzusatz verabreicht. Einer Kontrollgruppe von 11 Männern gab man ein Placebopräparat."
   ]
  },
  {
   "cell_type": "markdown",
   "metadata": {},
   "source": []
  },
  {
   "cell_type": "markdown",
   "metadata": {},
   "source": [
    "### d)\n",
    "\n",
    "In einem Experiment wurde untersucht, ob Mäuse zwei Formen von Eisen ($\\text{Fe}^{2+}$ und $\\text{Fe}^{3+}$) unterschiedlich gut aufnehmen. Dazu wurden 36 Mäuse in zwei Gruppen zu je 18 unterteilt und die eine Gruppe mit $\\text{Fe}^{2+}$ und die andere mit $\\text{Fe}^{3+}$ „gefüttert”. Da das Eisen radioaktiv markiert war, konnte sowohl die Anfangskonzentration wie auch die Konzentration einige Zeit später gemessen werden. Daraus wurde für jede Maus der Anteil des aufgenommenen Eisens berechnet."
   ]
  },
  {
   "cell_type": "code",
   "execution_count": null,
   "metadata": {},
   "outputs": [],
   "source": []
  }
 ],
 "metadata": {
  "kernelspec": {
   "display_name": "Python 3",
   "language": "python",
   "name": "python3"
  },
  "language_info": {
   "codemirror_mode": {
    "name": "ipython",
    "version": 3
   },
   "file_extension": ".py",
   "mimetype": "text/x-python",
   "name": "python",
   "nbconvert_exporter": "python",
   "pygments_lexer": "ipython3",
   "version": "3.7.0"
  }
 },
 "nbformat": 4,
 "nbformat_minor": 2
}
