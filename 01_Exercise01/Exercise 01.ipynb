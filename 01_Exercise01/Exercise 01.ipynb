{
 "cells": [
  {
   "cell_type": "markdown",
   "metadata": {},
   "source": [
    "# Serie 1\n",
    "\n",
    "## Aufgabe 1.1\n",
    "\n",
    "Der Datensatz der OECD enthält Messgrössen, die das Wohlergehen von Kindern in den Mitgliedsstaaten ermitteln sollen. Im Jahr 2009 wurde abgefragt:\n",
    "\n",
    "* Einkommen (Average disposable income): das durchschnittliche Einkommen der Eltern [in tausend US Dollar pro Kind].\n",
    "* Armut (Children in poor homes): der Anteil [immer in Prozent] an Kindern in einem armen Elternhaus.\n",
    "* Bildung(Educational Deprivation): derAnteilanKindern, die ohne Grundausstattung(Bücher, Schreibtisch, Computer, Internet) für Bildung auskommen müssen.\n",
    "* Wenig Raum (Overcrowding): der Anteil an Kindern, die auf zu wenig Raum wohnen.\n",
    "* Umwelt (Poor environmental conditions): der Anteil an Kindern, die unter schlechten Umweltbedingungen leben.\n",
    "* Lesen (Average mean literacy score): mittlerer PISA-Score zur Lesefähigkeit.\n",
    "* Geburtsgewicht (Low birth weight): der Anteil an Kindern, die bei der Geburt weniger als 2.5kg wiegen.\n",
    "* Säuglingssterblichkeit (Infant mortality): Säuglingssterblichkeit ( < 1 Jahr) [$x$ in Tausend].\n",
    "* Sterblichkeit (Mortality rates): Sterblichkeit ( < 20 Jahre) [$x$ in 100 000].\n",
    "* Selbstmord (Suicide rates): Selbstmord von Jugendlichen im Alter von 15 bis 19 [$x$ in 100 000].\n",
    "* Bewegung (Physical activity): derAnteil an 11, 13 und 15 jährigen Jugendlichen, die sich regelmässig bewegen.\n",
    "* Rauchen (Smoking): der Anteil an 15 jährigen Jugendlichen, die mindestens einmal die Woche rauchen.\n",
    "* Alkohol (Drunkenness): der Anteil an 13-15 jährigen Jugendlichen, die mindestens zweimal betrunken waren.\n",
    "* Bullying (Bullying): der Anteil an Kindern, die angeben, in der Schule bedroht zu werden.\n",
    "* Schule (Liking school): der Anteil an Kindern, die angeben die Schule zu mögen.\n",
    "\n",
    "### a) \n",
    "Speichern Sie die Datei `child.csv` und lesen Sie den Datensatz `child.csv` mit der Funktion\n",
    "\n",
    "```python\n",
    "from pandas import Series,DataFrame\n",
    "import pandas as pd\n",
    "data = pd.read_csv(r\" * child.csv\", sep=\",\", index_col=0)\n",
    "```\n",
    "\n",
    "__Achtung: Für * muss der gesamte Pfad angegeben werden, wo sich ihr File `child.csv` befindet.__\n",
    "\n",
    "Das Argument `sep=\",\"` braucht es, weil die Kolonnen im File `child.csv` durch Kommata getrennt sind.\n",
    "\n",
    "Das Argument `index_col=0` erreicht, dass die 1. Spalte des Files als Index erkannt wird.\n",
    "\n",
    "Mögliche Schwierigkeiten beim Einlesen:\n",
    "\n",
    "* Fehlermeldung: „... file not found...” → Falscher Pfad\n",
    "* Fehlermeldung: „... unicodexxxx ...” → Leerzeichen in Ordnernamen (vermeiden Sie diese)\n",
    "* Fehlermeldung: „... list has no end ...” → File wurde falsch eingelesen (nicht Ihr Fehler). Versuchen Sie es nochmals.\n",
    "* Achtung: Die Datei nicht mit Excel oder einem anderen Spreadsheet öffnen und abspeichern!\n"
   ]
  },
  {
   "cell_type": "code",
   "execution_count": 1,
   "metadata": {},
   "outputs": [],
   "source": [
    "from pandas import Series,DataFrame\n",
    "import pandas as pd\n",
    "\n",
    "data = pd.read_csv(r\"child.csv\", sep=\",\", index_col=0)"
   ]
  },
  {
   "cell_type": "markdown",
   "metadata": {},
   "source": [
    "### b)\n",
    "Überprüfen Sie mit dem Attribut `.shape` die Dimension der Daten."
   ]
  },
  {
   "cell_type": "code",
   "execution_count": 2,
   "metadata": {
    "scrolled": true
   },
   "outputs": [
    {
     "data": {
      "text/plain": [
       "(30, 21)"
      ]
     },
     "execution_count": 2,
     "metadata": {},
     "output_type": "execute_result"
    }
   ],
   "source": [
    "data.shape"
   ]
  },
  {
   "cell_type": "markdown",
   "metadata": {},
   "source": [
    "### c)\n",
    "Bestimmen Sie den Mittelwert und Median der einzelnen Variablen mit dem Python-Attribut `.describe()`."
   ]
  },
  {
   "cell_type": "code",
   "execution_count": 3,
   "metadata": {},
   "outputs": [
    {
     "data": {
      "text/plain": [
       "<bound method NDFrame.describe of                  Average.disposable.income  Children.in.poor.homes  \\\n",
       "Australia                        20.813221               11.791352   \n",
       "Austria                          22.162446                6.166094   \n",
       "Belgium                          21.401153                9.974720   \n",
       "Canada                           25.606245               15.057585   \n",
       "Czech Republic                   10.849270               10.270000   \n",
       "Denmark                          23.175894                2.740000   \n",
       "Finland                          22.027651                4.170000   \n",
       "France                           18.960382                7.640000   \n",
       "Germany                          19.894067               16.289270   \n",
       "Greece                           17.183647               13.230296   \n",
       "Hungary                           9.463130                8.724203   \n",
       "Iceland                          22.286852                8.250000   \n",
       "Ireland                          22.364689               16.299416   \n",
       "Italy                            17.180761               15.500000   \n",
       "Japan                            22.479705               13.688033   \n",
       "Korea                            21.651918               10.746834   \n",
       "Luxembourg                       34.241822               12.390000   \n",
       "Mexico                            5.335074               22.164514   \n",
       "Netherlands                      25.041012               11.526755   \n",
       "New Zealand                      17.197108               15.000000   \n",
       "Norway                           28.574371                4.600000   \n",
       "Poland                            7.939399               21.500000   \n",
       "Portugal                          3.839462               16.550398   \n",
       "Slovak Republic                   7.797596               10.930000   \n",
       "Spain                            16.430249               17.300000   \n",
       "Sweden                           19.916998                3.969106   \n",
       "Switzerland                      24.651815                9.433293   \n",
       "Turkey                            5.071860               24.590000   \n",
       "United Kingdom                   22.697062               10.080000   \n",
       "United States                    29.196531               20.593932   \n",
       "\n",
       "                 Educational.Deprivation  Overcrowding  \\\n",
       "Australia                            2.2     19.700000   \n",
       "Austria                              0.6     34.014601   \n",
       "Belgium                              1.0     12.614505   \n",
       "Canada                               2.1           NaN   \n",
       "Czech Republic                       1.2     58.899347   \n",
       "Denmark                              0.7     17.552965   \n",
       "Finland                              1.0     15.228876   \n",
       "France                               1.2     20.284619   \n",
       "Germany                              0.5     19.967763   \n",
       "Greece                               6.1     54.922056   \n",
       "Hungary                              2.1     73.306021   \n",
       "Iceland                              0.4     21.652526   \n",
       "Ireland                              2.9     16.429028   \n",
       "Italy                                1.2     47.851602   \n",
       "Japan                                5.6     22.540000   \n",
       "Korea                                1.8           NaN   \n",
       "Luxembourg                           1.1     16.893185   \n",
       "Mexico                              13.7     69.600000   \n",
       "Netherlands                          0.6     10.326503   \n",
       "New Zealand                          2.2     31.000000   \n",
       "Norway                               1.3     15.113671   \n",
       "Poland                               2.1     73.957667   \n",
       "Portugal                             1.4     31.952303   \n",
       "Slovak Republic                      3.8     68.356284   \n",
       "Spain                                0.9     10.831831   \n",
       "Sweden                               1.6     20.011460   \n",
       "Switzerland                          0.7           NaN   \n",
       "Turkey                              13.6           NaN   \n",
       "United Kingdom                       1.8     21.497427   \n",
       "United States                        4.8     26.200000   \n",
       "\n",
       "                 Poor.environmental.conditions  Average.mean.literacy.score  \\\n",
       "Australia                            10.500000                       520.00   \n",
       "Austria                              20.154186                       502.00   \n",
       "Belgium                              29.754526                       510.33   \n",
       "Canada                                     NaN                       529.33   \n",
       "Czech Republic                       29.748594                       502.00   \n",
       "Denmark                              20.151467                       501.00   \n",
       "Finland                              22.802362                       552.67   \n",
       "France                               25.830298                       493.00   \n",
       "Germany                              37.374708                       505.00   \n",
       "Greece                               25.070654                       464.00   \n",
       "Hungary                              22.213785                       492.33   \n",
       "Iceland                              15.534688                       493.67   \n",
       "Ireland                              19.300100                       508.67   \n",
       "Italy                                32.577363                       468.67   \n",
       "Japan                                32.380000                       517.33   \n",
       "Korea                                      NaN                       541.67   \n",
       "Luxembourg                           25.574231                       485.00   \n",
       "Mexico                                     NaN                       408.67   \n",
       "Netherlands                          38.712874                       521.00   \n",
       "New Zealand                                NaN                       524.33   \n",
       "Norway                               11.992789                       487.00   \n",
       "Poland                               22.841904                       500.33   \n",
       "Portugal                             33.457898                       470.67   \n",
       "Slovak Republic                      27.348691                       482.00   \n",
       "Spain                                31.683347                       476.33   \n",
       "Sweden                               15.746422                       504.00   \n",
       "Switzerland                                NaN                       513.67   \n",
       "Turkey                                     NaN                       431.67   \n",
       "United Kingdom                       29.069052                       501.67   \n",
       "United States                        25.400000                       481.50   \n",
       "\n",
       "                 Literacy.inequality  Youth.NEET.rate  Low.birth.weight  \\\n",
       "Australia                   1.610349              7.4               6.4   \n",
       "Austria                     1.716942              6.9               6.8   \n",
       "Belgium                     1.740258              6.2               7.8   \n",
       "Canada                      1.573912              6.1               5.9   \n",
       "Czech Republic              1.743012              5.3               6.7   \n",
       "Denmark                     1.594974              4.3               4.9   \n",
       "Finland                     1.475432              5.2               4.1   \n",
       "France                      1.728004              6.2               6.8   \n",
       "Germany                     1.719702              4.4               6.8   \n",
       "Greece                      1.722499              9.8               8.8   \n",
       "Hungary                     1.620710              6.4               8.2   \n",
       "Iceland                     1.654064              NaN               3.9   \n",
       "Ireland                     1.590217              4.4               4.9   \n",
       "Italy                       1.752955             11.2               6.7   \n",
       "Japan                       1.652194              8.4               9.5   \n",
       "Korea                       1.545777              NaN               4.3   \n",
       "Luxembourg                  1.701361              2.2               4.9   \n",
       "Mexico                      1.755798              NaN               8.8   \n",
       "Netherlands                 1.614444              3.9               6.2   \n",
       "New Zealand                 1.676001              8.5               6.1   \n",
       "Norway                      1.692809              2.5               4.8   \n",
       "Poland                      1.632217              1.7               6.1   \n",
       "Portugal                    1.689477              8.4               7.5   \n",
       "Slovak Republic             1.712179              6.3               7.2   \n",
       "Spain                       1.636259              8.5               7.1   \n",
       "Sweden                      1.630063              4.7               4.2   \n",
       "Switzerland                 1.650385              7.2               7.0   \n",
       "Turkey                      1.704249             37.7              11.3   \n",
       "United Kingdom              1.690351              9.3               7.5   \n",
       "United States               1.725965              6.1               8.1   \n",
       "\n",
       "                 Infant.mortality      ...        \\\n",
       "Australia                     5.0      ...         \n",
       "Austria                       4.2      ...         \n",
       "Belgium                       3.7      ...         \n",
       "Canada                        5.3      ...         \n",
       "Czech Republic                3.4      ...         \n",
       "Denmark                       4.4      ...         \n",
       "Finland                       3.0      ...         \n",
       "France                        3.6      ...         \n",
       "Germany                       3.9      ...         \n",
       "Greece                        3.8      ...         \n",
       "Hungary                       6.2      ...         \n",
       "Iceland                       2.3      ...         \n",
       "Ireland                       4.0      ...         \n",
       "Italy                         4.7      ...         \n",
       "Japan                         2.8      ...         \n",
       "Korea                         5.3      ...         \n",
       "Luxembourg                    2.6      ...         \n",
       "Mexico                       18.8      ...         \n",
       "Netherlands                   4.9      ...         \n",
       "New Zealand                   5.1      ...         \n",
       "Norway                        3.1      ...         \n",
       "Poland                        6.4      ...         \n",
       "Portugal                      3.5      ...         \n",
       "Slovak Republic               7.2      ...         \n",
       "Spain                         4.1      ...         \n",
       "Sweden                        2.4      ...         \n",
       "Switzerland                   4.2      ...         \n",
       "Turkey                       23.6      ...         \n",
       "United Kingdom                5.1      ...         \n",
       "United States                 6.8      ...         \n",
       "\n",
       "                 Vaccination.rates..pertussis.  Vaccination.rates.measles.  \\\n",
       "Australia                                 92.2                        94.0   \n",
       "Austria                                   83.0                        74.0   \n",
       "Belgium                                   97.0                        88.0   \n",
       "Canada                                    78.0                        94.0   \n",
       "Czech Republic                            98.7                        96.6   \n",
       "Denmark                                   95.0                        96.0   \n",
       "Finland                                   97.0                        97.0   \n",
       "France                                    98.0                        87.1   \n",
       "Germany                                   97.8                        94.0   \n",
       "Greece                                    88.0                        88.0   \n",
       "Hungary                                   99.8                        99.8   \n",
       "Iceland                                   97.0                        94.0   \n",
       "Ireland                                   90.0                        84.0   \n",
       "Italy                                     94.7                        87.3   \n",
       "Japan                                     93.0                        94.0   \n",
       "Korea                                     97.0                        90.2   \n",
       "Luxembourg                                 NaN                         NaN   \n",
       "Mexico                                    98.1                        96.4   \n",
       "Netherlands                               95.8                        96.3   \n",
       "New Zealand                               88.6                        82.0   \n",
       "Norway                                    91.0                        88.0   \n",
       "Poland                                    99.0                        97.0   \n",
       "Portugal                                  93.3                        92.7   \n",
       "Slovak Republic                           99.2                        99.5   \n",
       "Spain                                     96.2                        96.8   \n",
       "Sweden                                    99.0                        95.0   \n",
       "Switzerland                               96.0                        86.0   \n",
       "Turkey                                    90.0                        91.0   \n",
       "United Kingdom                            91.4                        83.8   \n",
       "United States                             85.7                        91.5   \n",
       "\n",
       "                 Physical.activity  Mortality.rates  Suicide.rates  Smoking  \\\n",
       "Australia                      NaN            23.66       8.512646      NaN   \n",
       "Austria                       19.6            24.57       9.482761     27.1   \n",
       "Belgium                       19.1            28.97       8.977713     16.7   \n",
       "Canada                        23.6            23.43      10.047535      8.6   \n",
       "Czech Republic                22.0            24.92       6.212492     21.5   \n",
       "Denmark                       22.7            22.93       5.942231     15.0   \n",
       "Finland                       24.8            23.54      12.158687     22.0   \n",
       "France                        13.5            21.04       4.906704     19.0   \n",
       "Germany                       17.0            21.23       5.507378     19.5   \n",
       "Greece                        15.5            23.15       1.263026     16.5   \n",
       "Hungary                       19.5            25.75       6.806580     21.5   \n",
       "Iceland                       20.6            16.95       7.841312     13.5   \n",
       "Ireland                       31.1            21.97       9.517063     19.5   \n",
       "Italy                         15.1            21.76       2.437998     20.0   \n",
       "Japan                          NaN            18.23       7.728493      NaN   \n",
       "Korea                          NaN            22.36       6.784772      NaN   \n",
       "Luxembourg                    15.2            14.84       6.357194     19.0   \n",
       "Mexico                        18.1            50.23       5.128754      NaN   \n",
       "Netherlands                   21.2            20.49       3.496134     18.5   \n",
       "New Zealand                    NaN            32.05      15.949567      NaN   \n",
       "Norway                        15.6            21.49      10.094030     10.4   \n",
       "Poland                        17.3            28.13       8.863713     16.4   \n",
       "Portugal                      14.6            34.60       2.430484     10.6   \n",
       "Slovak Republic               42.1            30.15       5.036520     16.4   \n",
       "Spain                         20.3            23.49       2.599717     17.1   \n",
       "Sweden                        16.4            19.27       6.783234      8.5   \n",
       "Switzerland                   13.1            20.33       7.280508     15.0   \n",
       "Turkey                        20.0              NaN            NaN      NaN   \n",
       "United Kingdom                18.7            21.17       2.987869     15.9   \n",
       "United States                 26.8            32.67       7.696773      8.1   \n",
       "\n",
       "                 Drunkenness  Teenage.births  Bullying  Liking.school  \n",
       "Australia                NaN            14.3       NaN            NaN  \n",
       "Austria                 18.6            12.3      15.6           38.1  \n",
       "Belgium                 13.9             7.8      12.2           21.6  \n",
       "Canada                  18.8            13.2      14.0           29.5  \n",
       "Czech Republic          16.8            11.4       5.5           11.7  \n",
       "Denmark                 24.8             6.6       8.0           25.6  \n",
       "Finland                 22.4             9.7       8.0           16.1  \n",
       "France                  11.2             6.7      13.6           21.4  \n",
       "Germany                 15.1             9.8      13.9           34.9  \n",
       "Greece                  10.3             8.7      22.0           25.6  \n",
       "Hungary                 17.7            20.7       6.6           27.6  \n",
       "Iceland                 10.5            16.9       5.4           36.6  \n",
       "Ireland                 16.3            13.5       8.6           24.0  \n",
       "Italy                   10.0             6.8       7.9           12.8  \n",
       "Japan                    NaN             3.7       NaN            NaN  \n",
       "Korea                    NaN             3.7       NaN            NaN  \n",
       "Luxembourg              11.7             8.6      13.8           20.7  \n",
       "Mexico                   NaN            65.8       NaN            NaN  \n",
       "Netherlands             12.1             4.7       8.5           39.7  \n",
       "New Zealand              NaN            23.4       NaN            NaN  \n",
       "Norway                  14.0             9.4       8.3           41.7  \n",
       "Poland                  19.9            14.5       9.6           21.1  \n",
       "Portugal                10.9            18.1      14.1           22.8  \n",
       "Slovak Republic         16.8            20.0       NaN           13.0  \n",
       "Spain                   16.1             9.1       4.7           23.9  \n",
       "Sweden                  13.8             6.8       4.2           24.1  \n",
       "Switzerland             11.4             4.5      12.1           27.3  \n",
       "Turkey                   NaN            39.7      25.3           57.4  \n",
       "United Kingdom          22.1            24.8       9.7           35.7  \n",
       "United States           10.2            49.8      11.9           26.4  \n",
       "\n",
       "[30 rows x 21 columns]>"
      ]
     },
     "execution_count": 3,
     "metadata": {},
     "output_type": "execute_result"
    }
   ],
   "source": [
    "data.describe"
   ]
  },
  {
   "cell_type": "markdown",
   "metadata": {},
   "source": [
    "### d)\n",
    "Überprüfen Sie, ob die Niederlande in der Länderliste des Datensatzes auftaucht. Gibt es auch einen Eintrag für China? Die Zeilennamen ermitteln Sie mit dem Attribut `.index`.\n",
    "\n",
    "Wie erhalten Sie die Spaltennamen?"
   ]
  },
  {
   "cell_type": "code",
   "execution_count": 4,
   "metadata": {
    "scrolled": true
   },
   "outputs": [
    {
     "data": {
      "text/plain": [
       "Index(['Australia', 'Austria', 'Belgium', 'Canada', 'Czech Republic',\n",
       "       'Denmark', 'Finland', 'France', 'Germany', 'Greece', 'Hungary',\n",
       "       'Iceland', 'Ireland', 'Italy', 'Japan', 'Korea', 'Luxembourg', 'Mexico',\n",
       "       'Netherlands', 'New Zealand', 'Norway', 'Poland', 'Portugal',\n",
       "       'Slovak Republic', 'Spain', 'Sweden', 'Switzerland', 'Turkey',\n",
       "       'United Kingdom', 'United States'],\n",
       "      dtype='object')"
      ]
     },
     "execution_count": 4,
     "metadata": {},
     "output_type": "execute_result"
    }
   ],
   "source": [
    "data.index"
   ]
  },
  {
   "cell_type": "code",
   "execution_count": 5,
   "metadata": {},
   "outputs": [
    {
     "data": {
      "text/plain": [
       "Index(['Average.disposable.income', 'Children.in.poor.homes',\n",
       "       'Educational.Deprivation', 'Overcrowding',\n",
       "       'Poor.environmental.conditions', 'Average.mean.literacy.score',\n",
       "       'Literacy.inequality', 'Youth.NEET.rate', 'Low.birth.weight',\n",
       "       'Infant.mortality', 'Breastfeeding.rates',\n",
       "       'Vaccination.rates..pertussis.', 'Vaccination.rates.measles.',\n",
       "       'Physical.activity', 'Mortality.rates', 'Suicide.rates', 'Smoking',\n",
       "       'Drunkenness', 'Teenage.births', 'Bullying', 'Liking.school'],\n",
       "      dtype='object')"
      ]
     },
     "execution_count": 5,
     "metadata": {},
     "output_type": "execute_result"
    }
   ],
   "source": [
    "data.columns"
   ]
  },
  {
   "cell_type": "markdown",
   "metadata": {},
   "source": [
    "### e)\n",
    "In welchen fünf Ländern waren die meisten Jugendlichen mindestens zweimal betrunken? Wie hoch ist der maximale Prozentsatz? Benützen Sie die Methode `.sort_values(by=..., ascending=...)`. Verwenden Sie die Internetseiten oben, um die Punkte auszufüllen.\n"
   ]
  },
  {
   "cell_type": "code",
   "execution_count": 6,
   "metadata": {},
   "outputs": [
    {
     "data": {
      "text/plain": [
       "Italy              10.0\n",
       "United States      10.2\n",
       "Greece             10.3\n",
       "Iceland            10.5\n",
       "Portugal           10.9\n",
       "France             11.2\n",
       "Switzerland        11.4\n",
       "Luxembourg         11.7\n",
       "Netherlands        12.1\n",
       "Sweden             13.8\n",
       "Belgium            13.9\n",
       "Norway             14.0\n",
       "Germany            15.1\n",
       "Spain              16.1\n",
       "Ireland            16.3\n",
       "Slovak Republic    16.8\n",
       "Czech Republic     16.8\n",
       "Hungary            17.7\n",
       "Austria            18.6\n",
       "Canada             18.8\n",
       "Poland             19.9\n",
       "United Kingdom     22.1\n",
       "Finland            22.4\n",
       "Denmark            24.8\n",
       "Australia           NaN\n",
       "Japan               NaN\n",
       "Korea               NaN\n",
       "Mexico              NaN\n",
       "New Zealand         NaN\n",
       "Turkey              NaN\n",
       "Name: Drunkenness, dtype: float64"
      ]
     },
     "execution_count": 6,
     "metadata": {},
     "output_type": "execute_result"
    }
   ],
   "source": [
    "data.sort_values(by='Drunkenness',ascending=True)['Drunkenness']"
   ]
  },
  {
   "cell_type": "markdown",
   "metadata": {},
   "source": [
    "### f)\n",
    "In welchem Land ist die Säuglingssterblichkeit am geringsten? Wie hoch ist sie in diesem Land? Benützen Sie die Methode `.nsmallest(...)`\n"
   ]
  },
  {
   "cell_type": "code",
   "execution_count": 7,
   "metadata": {
    "scrolled": true
   },
   "outputs": [
    {
     "data": {
      "text/plain": [
       "Iceland    2.3\n",
       "Name: Infant.mortality, dtype: float64"
      ]
     },
     "execution_count": 7,
     "metadata": {},
     "output_type": "execute_result"
    }
   ],
   "source": [
    "data.nsmallest(columns='Infant.mortality', n=1)['Infant.mortality']"
   ]
  },
  {
   "cell_type": "markdown",
   "metadata": {},
   "source": [
    "### g)\n",
    "In welchen Ländern ist der Prozentsatz an Jugendlichen, die sich regelmässig bewegen, kleiner als der Durchschnitt? Benützen Sie dasAttribut `.mean()` und\n",
    "```python\n",
    "data.loc[... < ..., :]\n",
    "```"
   ]
  },
  {
   "cell_type": "code",
   "execution_count": 8,
   "metadata": {},
   "outputs": [
    {
     "data": {
      "text/plain": [
       "Austria           19.6\n",
       "Belgium           19.1\n",
       "France            13.5\n",
       "Germany           17.0\n",
       "Greece            15.5\n",
       "Hungary           19.5\n",
       "Italy             15.1\n",
       "Luxembourg        15.2\n",
       "Mexico            18.1\n",
       "Norway            15.6\n",
       "Poland            17.3\n",
       "Portugal          14.6\n",
       "Sweden            16.4\n",
       "Switzerland       13.1\n",
       "Turkey            20.0\n",
       "United Kingdom    18.7\n",
       "Name: Physical.activity, dtype: float64"
      ]
     },
     "execution_count": 8,
     "metadata": {},
     "output_type": "execute_result"
    }
   ],
   "source": [
    "mean = data.mean()['Physical.activity']\n",
    "data.loc[data['Physical.activity'] < mean]['Physical.activity']"
   ]
  },
  {
   "cell_type": "markdown",
   "metadata": {},
   "source": [
    "## Aufgabe 1.2\n",
    "\n",
    "Das Dataframe `d.fuel` enthält die Daten verschiedener Fahrzeuge aus einer amerikanischen Untersuchung der 80er-Jahre. Jede Zeile (row) enthält die Daten eines Fahrzeuges (ein Fahrzeug entspricht einer Beobachtung).\n",
    "\n",
    "### a)\n",
    "Lesen Sie die auf Ilias abgelegte Datei `d.fuel.dat` ein mit dem folgenden __Pandas__-Befehl:\n",
    "\n",
    "```python\n",
    "import pandas as pd\n",
    "from pandas import DataFrame, Series\n",
    "fuel = pd.read_table(r\" * d.fuel.dat\", sep=\",\", index_col=0)\n",
    "```\n",
    "\n",
    "Die Spalten (columns) enthalten die folgenden Variablen:\n",
    "\n",
    "| Spaltenname | Beschreibung |\n",
    "| :--- | :--- |\n",
    "| weight | Gewicht in Pounds (1 Pound = 0.45359kg) |\n",
    "| mpg | Reichweite in Miles Per Gallon (1 gallon = 3.789l; 1 mile = 1.6093km) |\n",
    "| type | Autotyp |"
   ]
  },
  {
   "cell_type": "code",
   "execution_count": 30,
   "metadata": {},
   "outputs": [],
   "source": [
    "fuel = pd.read_table(r\"d.fuel.dat\", sep=\",\", index_col=0)"
   ]
  },
  {
   "cell_type": "markdown",
   "metadata": {},
   "source": [
    "### b)\n",
    "Wählen Sie nur die fünfte Zeile des Dataframe `d.fuel` aus. Welche Werte stehen in der fünften Zeile? Verwenden Sie das Attribut `.loc` (siehe Aufgabe 1.1).\n"
   ]
  },
  {
   "cell_type": "code",
   "execution_count": 10,
   "metadata": {},
   "outputs": [
    {
     "data": {
      "text/plain": [
       "weight     2440\n",
       "mpg          32\n",
       "type      Small\n",
       "Name: 5, dtype: object"
      ]
     },
     "execution_count": 10,
     "metadata": {},
     "output_type": "execute_result"
    }
   ],
   "source": [
    "fuel.loc[5]"
   ]
  },
  {
   "cell_type": "markdown",
   "metadata": {},
   "source": [
    "### c)\n",
    "\n",
    "Wählen Sie nun die erste bis fünfte Beobachtung des Datensatzes aus. So lässt sich übrigens bei einem unbekannten Datensatz ein schneller Überblick über die Art des Dataframe gewinnen."
   ]
  },
  {
   "cell_type": "code",
   "execution_count": 11,
   "metadata": {},
   "outputs": [
    {
     "data": {
      "text/html": [
       "<div>\n",
       "<style scoped>\n",
       "    .dataframe tbody tr th:only-of-type {\n",
       "        vertical-align: middle;\n",
       "    }\n",
       "\n",
       "    .dataframe tbody tr th {\n",
       "        vertical-align: top;\n",
       "    }\n",
       "\n",
       "    .dataframe thead th {\n",
       "        text-align: right;\n",
       "    }\n",
       "</style>\n",
       "<table border=\"1\" class=\"dataframe\">\n",
       "  <thead>\n",
       "    <tr style=\"text-align: right;\">\n",
       "      <th></th>\n",
       "      <th>weight</th>\n",
       "      <th>mpg</th>\n",
       "      <th>type</th>\n",
       "    </tr>\n",
       "    <tr>\n",
       "      <th>X</th>\n",
       "      <th></th>\n",
       "      <th></th>\n",
       "      <th></th>\n",
       "    </tr>\n",
       "  </thead>\n",
       "  <tbody>\n",
       "    <tr>\n",
       "      <th>1</th>\n",
       "      <td>2560</td>\n",
       "      <td>33</td>\n",
       "      <td>Small</td>\n",
       "    </tr>\n",
       "    <tr>\n",
       "      <th>2</th>\n",
       "      <td>2345</td>\n",
       "      <td>33</td>\n",
       "      <td>Small</td>\n",
       "    </tr>\n",
       "    <tr>\n",
       "      <th>3</th>\n",
       "      <td>1845</td>\n",
       "      <td>37</td>\n",
       "      <td>Small</td>\n",
       "    </tr>\n",
       "    <tr>\n",
       "      <th>4</th>\n",
       "      <td>2260</td>\n",
       "      <td>32</td>\n",
       "      <td>Small</td>\n",
       "    </tr>\n",
       "    <tr>\n",
       "      <th>5</th>\n",
       "      <td>2440</td>\n",
       "      <td>32</td>\n",
       "      <td>Small</td>\n",
       "    </tr>\n",
       "  </tbody>\n",
       "</table>\n",
       "</div>"
      ],
      "text/plain": [
       "   weight  mpg   type\n",
       "X                    \n",
       "1    2560   33  Small\n",
       "2    2345   33  Small\n",
       "3    1845   37  Small\n",
       "4    2260   32  Small\n",
       "5    2440   32  Small"
      ]
     },
     "execution_count": 11,
     "metadata": {},
     "output_type": "execute_result"
    }
   ],
   "source": [
    "fuel.loc[1:5]"
   ]
  },
  {
   "cell_type": "markdown",
   "metadata": {},
   "source": [
    "### d)\n",
    "Berechnen Sie den Mittelwert der Reichweiten aller Autos in Miles/Gallon.\n",
    "\n",
    "__Python__-Hinweis: Methode `.mean()`"
   ]
  },
  {
   "cell_type": "code",
   "execution_count": 12,
   "metadata": {},
   "outputs": [
    {
     "data": {
      "text/plain": [
       "24.583333333333332"
      ]
     },
     "execution_count": 12,
     "metadata": {},
     "output_type": "execute_result"
    }
   ],
   "source": [
    "fuel.mean()[\"mpg\"]"
   ]
  },
  {
   "cell_type": "markdown",
   "metadata": {},
   "source": [
    "### e)\n",
    "Berechnen Sie den Mittelwert der Reichweite der Autos 7 bis 22."
   ]
  },
  {
   "cell_type": "code",
   "execution_count": 13,
   "metadata": {
    "scrolled": true
   },
   "outputs": [
    {
     "data": {
      "text/plain": [
       "27.75"
      ]
     },
     "execution_count": 13,
     "metadata": {},
     "output_type": "execute_result"
    }
   ],
   "source": [
    "fuel.loc[7:22].mean()[\"mpg\"]"
   ]
  },
  {
   "cell_type": "markdown",
   "metadata": {},
   "source": [
    "### f)\n",
    "Erzeugen Sie einen neuen Vektor `t_kml`, der alle Reichweiten in km/l, und einen Vektor `t_kg`, der alle Gewichte in kg enthält."
   ]
  },
  {
   "cell_type": "code",
   "execution_count": 14,
   "metadata": {},
   "outputs": [],
   "source": [
    "t_kml = fuel[\"mpg\"]*(1.6093/3.789)\n",
    "t_kg = fuel[\"weight\"]*0.45359"
   ]
  },
  {
   "cell_type": "markdown",
   "metadata": {},
   "source": [
    "### g)\n",
    "Berechnen Sie den Mittelwert der Reichweiten in km/l und denjenigen der Fahrzeuggewichte in kg."
   ]
  },
  {
   "cell_type": "code",
   "execution_count": 15,
   "metadata": {},
   "outputs": [
    {
     "name": "stdout",
     "output_type": "stream",
     "text": [
      "Mittelwert Reichweite: 10.441266385149996\n",
      "Mittelwert Fahrzeuggewichte: 1315.7889916666668\n"
     ]
    }
   ],
   "source": [
    "print(\"Mittelwert Reichweite: \" + str(t_kml.mean()))\n",
    "print(\"Mittelwert Fahrzeuggewichte: \" + str(t_kg.mean()))"
   ]
  },
  {
   "cell_type": "markdown",
   "metadata": {},
   "source": [
    "## Aufgabe 1.3\n",
    "\n",
    "Bei der Ermittlung der landwirtschaftlichen Nutzfläche von Bauernhöfen in einem Bezirk ergaben sich folgende Werte (in ha):\n",
    "`2.1,2.4,2.8,3.1,4.2,4.9,5.1,6.0,6.4,7.3,10.8,12.5,13.0,13.7,14.8,17.6,19.6,23.0,25.0,35.2,39.6`\n",
    "\n",
    "### a)\n",
    "Berechnen Sie die Summen $\\sum x_i$ und $\\sum x_i^2$\n",
    "\n",
    "__Python__-Hinweis: Verwenden Sie die Methode `.sum()`"
   ]
  },
  {
   "cell_type": "code",
   "execution_count": 16,
   "metadata": {},
   "outputs": [],
   "source": [
    "import numpy as np\n",
    "farm_area = pd.Series([2.1,2.4,2.8,3.1,4.2,4.9,5.1,6.0,6.4,7.3,10.8,12.5,13.0,13.7,14.8,17.6,19.6,23.0,25.0,35.2,39.6])"
   ]
  },
  {
   "cell_type": "code",
   "execution_count": 17,
   "metadata": {
    "scrolled": true
   },
   "outputs": [
    {
     "name": "stdout",
     "output_type": "stream",
     "text": [
      "269.1\n",
      "5729.27\n"
     ]
    }
   ],
   "source": [
    "print(farm_area.sum())\n",
    "print((farm_area**2).sum())"
   ]
  },
  {
   "cell_type": "markdown",
   "metadata": {},
   "source": [
    "### b)\n",
    "Berechnen Sie den Mittelwert und die Standardabweichung (ohne die in pandas implementierten Funktionen, sondern aufgrund der Definition der Grössen).\n",
    "\n",
    "__Python__-Hinweis: Verwenden Sie die Methode `.size()`"
   ]
  },
  {
   "cell_type": "code",
   "execution_count": 18,
   "metadata": {},
   "outputs": [
    {
     "name": "stdout",
     "output_type": "stream",
     "text": [
      "12.814285714285715\n"
     ]
    }
   ],
   "source": [
    "mittelwert = farm_area.sum()/farm_area.size\n",
    "print(mittelwert)"
   ]
  },
  {
   "cell_type": "code",
   "execution_count": 31,
   "metadata": {},
   "outputs": [
    {
     "name": "stdout",
     "output_type": "stream",
     "text": [
      "10.679292378911898\n"
     ]
    }
   ],
   "source": [
    "std_abw = np.sqrt(1/(farm_area.size - 1)*((farm_area-mittelwert)**2).sum())\n",
    "print(std_abw)"
   ]
  },
  {
   "cell_type": "markdown",
   "metadata": {},
   "source": [
    "### c)\n",
    "Bestimmen Sie den Median (ohne die in pandas implementierte Funktion, sondern aufgrund der Definition der Grössen).\n",
    "\n",
    "__Python__-Hinweis: Verwenden Sie zum Sortieren die Methode `.sort_values()` und den Befehl `np.round()` zum Runden.\n"
   ]
  },
  {
   "cell_type": "code",
   "execution_count": 20,
   "metadata": {
    "scrolled": true
   },
   "outputs": [
    {
     "name": "stdout",
     "output_type": "stream",
     "text": [
      "10.8\n"
     ]
    }
   ],
   "source": [
    "middle = (farm_area.size-1)/2\n",
    "median = farm_area.sort_values().loc[int(np.floor(middle)):int(np.ceil(middle))].sum()\n",
    "if (farm_area.size%2!=1):\n",
    "    median = median / 2\n",
    "print(median)"
   ]
  },
  {
   "cell_type": "markdown",
   "metadata": {},
   "source": [
    "### d)\n",
    "Bestimmen Sie nun Mittelwert, Standardabweichung, Median und das 75%\n",
    "Quantil mit den Methoden `.mean()`, `.std()`, `.median()`."
   ]
  },
  {
   "cell_type": "code",
   "execution_count": 21,
   "metadata": {
    "scrolled": false
   },
   "outputs": [
    {
     "name": "stdout",
     "output_type": "stream",
     "text": [
      "12.814285714285715\n",
      "10.679292378911898\n",
      "10.8\n"
     ]
    }
   ],
   "source": [
    "print(farm_area.mean())\n",
    "print(farm_area.std())\n",
    "print(farm_area.median())"
   ]
  },
  {
   "cell_type": "markdown",
   "metadata": {},
   "source": [
    "### d)\n",
    "Bestimmen Sie nun Mittelwert, Standardabweichung, Median und das 75%\n",
    "Quantil mit den Methoden `.mean()`, `.std()`, `.median()`."
   ]
  },
  {
   "cell_type": "code",
   "execution_count": 22,
   "metadata": {
    "scrolled": true
   },
   "outputs": [
    {
     "name": "stdout",
     "output_type": "stream",
     "text": [
      "-2.114710523095536e-17\n"
     ]
    }
   ],
   "source": [
    "std_var = ((farm_area-farm_area.mean())/farm_area.std())\n",
    "ar_mittel = std_var.sum()/farm_area.size\n",
    "print(ar_mittel)"
   ]
  },
  {
   "cell_type": "markdown",
   "metadata": {},
   "source": [
    "### e)\n",
    "Überprüfen Sie aufgrund des Datenvektors mit den landwirtschaftlichen Nutzflächen, dass das arithmetische Mittel der standardisierten Variablen\n",
    "\n",
    "$$ z_i = \\frac{x_i − x}{s_x},\\ \\text{mit}\\ i = 1,...,n $$\n",
    "\n",
    "gleich null und die empirische Standardabweichung von $z_i$ gleich 1 ist."
   ]
  },
  {
   "cell_type": "code",
   "execution_count": 23,
   "metadata": {},
   "outputs": [
    {
     "name": "stdout",
     "output_type": "stream",
     "text": [
      "1.0\n"
     ]
    }
   ],
   "source": [
    "std_var = np.sqrt(1/(farm_area.size - 1)*((std_var - ar_mittel)**2).sum())\n",
    "print(std_var)"
   ]
  },
  {
   "cell_type": "markdown",
   "metadata": {},
   "source": [
    "## Aufgabe 1.4\n",
    "\n",
    "Für drei Stichproben vom Umfang n = 100 wurden je ein Boxplot und die empirische Verteilungsfunktion gezeichnet. Ordnen Sie die drei Boxplots den entsprechenden empirischen Verteilungsfunktionen zu:\n",
    "\n",
    "![Boxplots](img\\boxplots.png)\n",
    "\n",
    "\n",
    "| Boxplot | Empirische Verteilungsfunktion |\n",
    "| :--- | :--- |\n",
    "| 1 | c |\n",
    "| 2 | b |\n",
    "| 3 | a |"
   ]
  },
  {
   "cell_type": "markdown",
   "metadata": {},
   "source": [
    "## Aufgabe 1.5\n",
    "\n",
    "Der Geysir Old Faithful im Yellowstone National Park ist eine der bekanntesten heissen Quellen. Für die Zuschauer und den Nationalparkdienst ist die Zeitspanne zwischen zwei Ausbrüchen und die Eruptionsdauer von grossem Interesse. Auf Ilias sind die Messungen in der Datei `geysir.dat` vom 1.8.1978 - 8.8.1978 in 3 Spalten abgelegt: `Tag`, `Zeitspanne` und `Eruptionsdauer`.\n",
    "\n",
    "### a)\n",
    "Zeichnen Sie Histogramme von der Zeitspanne zwischen zwei Ausbrüchen.\n",
    "Lesen Sie zuerst die Datei ein\n",
    "\n",
    "```python\n",
    "from pandas import Series, DataFrame\n",
    "import pandas as pd\n",
    "import matplotlib.pyplot as plt\n",
    "import numpy as np\n",
    "geysir = pd.read_table(r\" * geysir.dat\", sep=\" \", index_col=0)\n",
    "```\n",
    "\n",
    "Für * geben Sie wieder den gesamten Dateipfad der Datei ein.\n",
    "\n",
    "Mit der Methode `.head()` können Sie überprüfen, ob die Datei richtig eingelesen wurde:\n",
    "\n",
    "```python\n",
    "geysir.head()\n",
    "## Tag Zeitspanne Eruptionsdauer\n",
    "## 1 1 78 4.4\n",
    "## 2 1 74 3.9\n",
    "## 3 1 68 4.0\n",
    "## 4 1 76 4.0\n",
    "## 5 1 80 3.5\n",
    "```\n",
    "\n",
    "Wir zeichnen nun die Histogramme. Um die Histogramme besser mit einander vergleichen zu können, zeichnen wir diese in Teilplots. Die geschieht mit dem Befehl\n",
    "\n",
    "```python\n",
    "plt.subplot(221)\n",
    "```\n",
    "\n",
    "Dies erzeugt vier Fenster in der Graphik, nämlich zwei Zeilen und zwei Spalten.\n",
    "Die 1 am Schluss bedeutet, dass der nächste Plot in das erste Fenster gezeichnet wird.\n",
    "\n",
    "```python\n",
    "plt.subplot(221)\n",
    "geysir[\"Zeitspanne\"].plot(kind=\"hist\", edgecolor=\"black\")\n",
    "plt.xlabel(\"10 Klassen\")\n",
    "\n",
    "plt.subplot(222)\n",
    "geysir[\"Zeitspanne\"].plot(kind=\"hist\",\n",
    "                          bins=20,\n",
    "                          edgecolor=\"black\")\n",
    "plt.xlabel(\"20 Klassen\")\n",
    "\n",
    "plt.subplot(223)\n",
    "geysir[\"Zeitspanne\"].plot(kind=\"hist\",\n",
    "                          bins=np.arange(41,107,11),\n",
    "                          edgecolor=\"black\")\n",
    "plt.xlabel(\"Klassengrenzen 41, 52 , 63, 74 , 85, 96\")\n",
    "\n",
    "plt.show()\n",
    "```\n",
    "Was fällt auf? Was ist der Unterschied zwischen den drei Histogrammen?"
   ]
  },
  {
   "cell_type": "code",
   "execution_count": 24,
   "metadata": {},
   "outputs": [],
   "source": [
    "from pandas import Series, DataFrame\n",
    "import pandas as pd\n",
    "import matplotlib.pyplot as plt\n",
    "import numpy as np"
   ]
  },
  {
   "cell_type": "code",
   "execution_count": 25,
   "metadata": {},
   "outputs": [],
   "source": [
    "geysir = pd.read_table(r\"geysir.dat\", sep=\" \", index_col=0)"
   ]
  },
  {
   "cell_type": "code",
   "execution_count": 26,
   "metadata": {},
   "outputs": [
    {
     "data": {
      "text/html": [
       "<div>\n",
       "<style scoped>\n",
       "    .dataframe tbody tr th:only-of-type {\n",
       "        vertical-align: middle;\n",
       "    }\n",
       "\n",
       "    .dataframe tbody tr th {\n",
       "        vertical-align: top;\n",
       "    }\n",
       "\n",
       "    .dataframe thead th {\n",
       "        text-align: right;\n",
       "    }\n",
       "</style>\n",
       "<table border=\"1\" class=\"dataframe\">\n",
       "  <thead>\n",
       "    <tr style=\"text-align: right;\">\n",
       "      <th></th>\n",
       "      <th>Tag</th>\n",
       "      <th>Zeitspanne</th>\n",
       "      <th>Eruptionsdauer</th>\n",
       "    </tr>\n",
       "  </thead>\n",
       "  <tbody>\n",
       "    <tr>\n",
       "      <th>1</th>\n",
       "      <td>1</td>\n",
       "      <td>78</td>\n",
       "      <td>4.4</td>\n",
       "    </tr>\n",
       "    <tr>\n",
       "      <th>2</th>\n",
       "      <td>1</td>\n",
       "      <td>74</td>\n",
       "      <td>3.9</td>\n",
       "    </tr>\n",
       "    <tr>\n",
       "      <th>3</th>\n",
       "      <td>1</td>\n",
       "      <td>68</td>\n",
       "      <td>4.0</td>\n",
       "    </tr>\n",
       "    <tr>\n",
       "      <th>4</th>\n",
       "      <td>1</td>\n",
       "      <td>76</td>\n",
       "      <td>4.0</td>\n",
       "    </tr>\n",
       "    <tr>\n",
       "      <th>5</th>\n",
       "      <td>1</td>\n",
       "      <td>80</td>\n",
       "      <td>3.5</td>\n",
       "    </tr>\n",
       "  </tbody>\n",
       "</table>\n",
       "</div>"
      ],
      "text/plain": [
       "   Tag  Zeitspanne  Eruptionsdauer\n",
       "1    1          78             4.4\n",
       "2    1          74             3.9\n",
       "3    1          68             4.0\n",
       "4    1          76             4.0\n",
       "5    1          80             3.5"
      ]
     },
     "execution_count": 26,
     "metadata": {},
     "output_type": "execute_result"
    }
   ],
   "source": [
    "geysir.head()"
   ]
  },
  {
   "cell_type": "code",
   "execution_count": 27,
   "metadata": {},
   "outputs": [
    {
     "data": {
      "image/png": "[encoded data removed]",
      "text/plain": [
       "<Figure size 432x288 with 3 Axes>"
      ]
     },
     "metadata": {
      "needs_background": "light"
     },
     "output_type": "display_data"
    }
   ],
   "source": [
    "# 2x2 plot, next plot in position 1\n",
    "plt.subplot(221)\n",
    "geysir[\"Zeitspanne\"].plot(kind=\"hist\", edgecolor=\"black\")\n",
    "plt.xlabel(\"10 Klassen\")\n",
    "# same 2x2 plot, nex plot in position 2\n",
    "plt.subplot(222)\n",
    "geysir[\"Zeitspanne\"].plot(kind=\"hist\", bins=20, edgecolor=\"black\")\n",
    "plt.xlabel(\"20 Klassen\")\n",
    "# plot position 3\n",
    "plt.subplot(223)\n",
    "# arange 41:107, step=11 -> 41,52,63,74,85,96,107\n",
    "geysir[\"Zeitspanne\"].plot(kind=\"hist\", bins=np.arange(41,107,11), edgecolor=\"black\")\n",
    "plt.xlabel(\"Klassengrenzen 41, 52 , 63, 74 , 85, 96\")\n",
    "plt.show()"
   ]
  },
  {
   "cell_type": "markdown",
   "metadata": {},
   "source": [
    "Es fällt auf, dass unser Histogramm bimodal ist, diese Eigenschaft aber mit (un-)geschickt gewählten Klassengrenzen verschwindet und man annehmen könnte, dass bei 80 die einzige Spitze liegt."
   ]
  },
  {
   "cell_type": "markdown",
   "metadata": {},
   "source": [
    "### b)\n",
    "\n",
    "Zeichnen Sie Histogramme (Anzahl Klassen variieren) von der Eruptionsdauer:\n",
    "\n",
    "```python\n",
    "geysir[\"Eruptionsdauer\"].plot(kind=\"hist\")\n",
    "```\n",
    "\n",
    "Was fällt auf? Vergleichen Sie mit der ersten Teilaufgabe."
   ]
  },
  {
   "cell_type": "code",
   "execution_count": 32,
   "metadata": {},
   "outputs": [
    {
     "data": {
      "image/png": "[encoded data removed]",
      "text/plain": [
       "<Figure size 432x288 with 1 Axes>"
      ]
     },
     "metadata": {
      "needs_background": "light"
     },
     "output_type": "display_data"
    }
   ],
   "source": [
    "geysir[\"Eruptionsdauer\"].plot(kind=\"hist\")\n",
    "plt.show()"
   ]
  },
  {
   "cell_type": "markdown",
   "metadata": {},
   "source": [
    "Auch hier ist das Histogramm bimodal. Wir haben eine hohe Frequenz von kurzen Ausbrüchen (2.0 Minuten) und eine hohe Frequenz an langen Ausbrüchen (3.5-5.0 Minuten)."
   ]
  },
  {
   "cell_type": "markdown",
   "metadata": {},
   "source": [
    "### c)\n",
    "Zeichnen Sie die empirische kumulative Verteilungsfunktion von der Eruptionsdauer von Old Faithful Geysir. Untersuchen Sie, wie viel Prozent der Eruptionen höchstens 2 Minuten gedauert haben, sowie welche Eruptionsdauer der 60% Eruptionen, die am längsten gedauert haben, mindestens gedauert haben.\n",
    "\n",
    "```python\n",
    "geysir[\"Eruptionsdauer\"].plot(kind=\"hist\",\n",
    "normed=True,\n",
    "cumulative=True)\n",
    "```"
   ]
  },
  {
   "cell_type": "code",
   "execution_count": 33,
   "metadata": {},
   "outputs": [
    {
     "data": {
      "image/png": "[encoded data removed]",
      "text/plain": [
       "<Figure size 432x288 with 1 Axes>"
      ]
     },
     "metadata": {
      "needs_background": "light"
     },
     "output_type": "display_data"
    }
   ],
   "source": [
    "geysir[\"Eruptionsdauer\"].plot(kind=\"hist\",\n",
    "                              density=True,\n",
    "                              cumulative=True)\n",
    "plt.show()"
   ]
  },
  {
   "cell_type": "markdown",
   "metadata": {},
   "source": [
    "Gut 20% (~22% ;-) ) dauern weniger als 2 Minuten (der \"erste\" Balken), und 60% haben mindesten 3.75 Minuten angehalten."
   ]
  }
 ],
 "metadata": {
  "kernelspec": {
   "display_name": "Python 3",
   "language": "python",
   "name": "python3"
  },
  "language_info": {
   "codemirror_mode": {
    "name": "ipython",
    "version": 3
   },
   "file_extension": ".py",
   "mimetype": "text/x-python",
   "name": "python",
   "nbconvert_exporter": "python",
   "pygments_lexer": "ipython3",
   "version": "3.7.0"
  }
 },
 "nbformat": 4,
 "nbformat_minor": 2
}
