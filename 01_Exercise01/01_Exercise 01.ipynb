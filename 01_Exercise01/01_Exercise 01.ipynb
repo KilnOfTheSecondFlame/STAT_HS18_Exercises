{
 "cells": [
  {
   "cell_type": "markdown",
   "metadata": {},
   "source": [
    "# Serie 1\n",
    "\n",
    "## Aufgabe 1.1\n",
    "\n",
    "Der Datensatz der OECD enthält Messgrössen, die das Wohlergehen von Kindern in den Mitgliedsstaaten ermitteln sollen. Im Jahr 2009 wurde abgefragt:\n",
    "\n",
    "* Einkommen (Average disposable income): das durchschnittliche Einkommen der Eltern [in tausend US Dollar pro Kind].\n",
    "* Armut (Children in poor homes): der Anteil [immer in Prozent] an Kindern in einem armen Elternhaus.\n",
    "* Bildung(Educational Deprivation): derAnteilanKindern, die ohne Grundausstattung(Bücher, Schreibtisch, Computer, Internet) für Bildung auskommen müssen.\n",
    "* Wenig Raum (Overcrowding): der Anteil an Kindern, die auf zu wenig Raum wohnen.\n",
    "* Umwelt (Poor environmental conditions): der Anteil an Kindern, die unter schlechten Umweltbedingungen leben.\n",
    "* Lesen (Average mean literacy score): mittlerer PISA-Score zur Lesefähigkeit.\n",
    "* Geburtsgewicht (Low birth weight): der Anteil an Kindern, die bei der Geburt weniger als 2.5kg wiegen.\n",
    "* Säuglingssterblichkeit (Infant mortality): Säuglingssterblichkeit ( < 1 Jahr) [$x$ in Tausend].\n",
    "* Sterblichkeit (Mortality rates): Sterblichkeit ( < 20 Jahre) [$x$ in 100 000].\n",
    "* Selbstmord (Suicide rates): Selbstmord von Jugendlichen im Alter von 15 bis 19 [$x$ in 100 000].\n",
    "* Bewegung (Physical activity): derAnteil an 11, 13 und 15 jährigen Jugendlichen, die sich regelmässig bewegen.\n",
    "* Rauchen (Smoking): der Anteil an 15 jährigen Jugendlichen, die mindestens einmal die Woche rauchen.\n",
    "* Alkohol (Drunkenness): der Anteil an 13-15 jährigen Jugendlichen, die mindestens zweimal betrunken waren.\n",
    "* Bullying (Bullying): der Anteil an Kindern, die angeben, in der Schule bedroht zu werden.\n",
    "* Schule (Liking school): der Anteil an Kindern, die angeben die Schule zu mögen.\n",
    "\n",
    "### a) \n",
    "Speichern Sie die Datei `child.csv` und lesen Sie den Datensatz `child.csv` mit der Funktion\n",
    "\n",
    "```python\n",
    "from pandas import Series,DataFrame\n",
    "import pandas as pd\n",
    "data = pd.read_csv(r\" * child.csv\", sep=\",\", index_col=0)\n",
    "```\n",
    "\n",
    "__Achtung: Für * muss der gesamte Pfad angegeben werden, wo sich ihr File `child.csv` befindet.__\n",
    "\n",
    "Das Argument `sep=\",\"` braucht es, weil die Kolonnen im File `child.csv` durch Kommata getrennt sind.\n",
    "\n",
    "Das Argument `index_col=0` erreicht, dass die 1. Spalte des Files als Index erkannt wird.\n",
    "\n",
    "Mögliche Schwierigkeiten beim Einlesen:\n",
    "\n",
    "* Fehlermeldung: „... file not found...” → Falscher Pfad\n",
    "* Fehlermeldung: „... unicodexxxx ...” → Leerzeichen in Ordnernamen (vermeiden Sie diese)\n",
    "* Fehlermeldung: „... list has no end ...” → File wurde falsch eingelesen (nicht Ihr Fehler). Versuchen Sie es nochmals.\n",
    "* Achtung: Die Datei nicht mit Excel oder einem anderen Spreadsheet öffnen und abspeichern!\n"
   ]
  },
  {
   "cell_type": "code",
   "execution_count": null,
   "metadata": {},
   "outputs": [],
   "source": []
  },
  {
   "cell_type": "markdown",
   "metadata": {},
   "source": [
    "### b)\n",
    "Überprüfen Sie mit dem Attribut `.shape` die Dimension der Daten."
   ]
  },
  {
   "cell_type": "code",
   "execution_count": null,
   "metadata": {},
   "outputs": [],
   "source": []
  },
  {
   "cell_type": "markdown",
   "metadata": {},
   "source": [
    "### c)\n",
    "Bestimmen Sie den Mittelwert und Median der einzelnen Variablen mit dem Python-Attribut `.describe()`."
   ]
  },
  {
   "cell_type": "code",
   "execution_count": null,
   "metadata": {},
   "outputs": [],
   "source": []
  },
  {
   "cell_type": "markdown",
   "metadata": {},
   "source": [
    "### d)\n",
    "Überprüfen Sie, ob die Niederlande in der Länderliste des Datensatzes auftaucht. Gibt es auch einen Eintrag für China? Die Zeilennamen ermitteln Sie mit dem Attribut `.index`.\n",
    "\n",
    "Wie erhalten Sie die Spaltennamen?"
   ]
  },
  {
   "cell_type": "code",
   "execution_count": null,
   "metadata": {},
   "outputs": [],
   "source": []
  },
  {
   "cell_type": "markdown",
   "metadata": {},
   "source": [
    "### e)\n",
    "In welchen fünf Ländern waren die meisten Jugendlichen mindestens zweimal betrunken? Wie hoch ist der maximale Prozentsatz? Benützen Sie die Methode `.sort_values(by=..., ascending=...)`. Verwenden Sie die Internetseiten oben, um die Punkte auszufüllen.\n"
   ]
  },
  {
   "cell_type": "code",
   "execution_count": null,
   "metadata": {},
   "outputs": [],
   "source": []
  },
  {
   "cell_type": "markdown",
   "metadata": {},
   "source": [
    "### f)\n",
    "In welchem Land ist die Säuglingssterblichkeit am geringsten? Wie hoch ist sie in diesem Land? Benützen Sie die Methode `.nsmallest(...)`\n"
   ]
  },
  {
   "cell_type": "code",
   "execution_count": null,
   "metadata": {},
   "outputs": [],
   "source": []
  },
  {
   "cell_type": "markdown",
   "metadata": {},
   "source": [
    "### g)\n",
    "In welchen Ländern ist der Prozentsatz an Jugendlichen, die sich regelmässig bewegen, kleiner als der Durchschnitt? Benützen Sie dasAttribut `.mean()` und\n",
    "```python\n",
    "data.loc[... < ..., :]\n",
    "```"
   ]
  },
  {
   "cell_type": "code",
   "execution_count": null,
   "metadata": {},
   "outputs": [],
   "source": []
  },
  {
   "cell_type": "markdown",
   "metadata": {},
   "source": [
    "## Aufgabe 1.2\n",
    "\n",
    "Das Dataframe `d.fuel` enthält die Daten verschiedener Fahrzeuge aus einer amerikanischen Untersuchung der 80er-Jahre. Jede Zeile (row) enthält die Daten eines Fahrzeuges (ein Fahrzeug entspricht einer Beobachtung).\n",
    "\n",
    "### a)\n",
    "Lesen Sie die auf Ilias abgelegte Datei `d.fuel.dat` ein mit dem folgenden __Pandas__-Befehl:\n",
    "\n",
    "```python\n",
    "import pandas as pd\n",
    "from pandas import DataFrame, Series\n",
    "fuel = pd.read_table(r\" * d.fuel.dat\", sep=\",\", index_col=0)\n",
    "```\n",
    "\n",
    "Die Spalten (columns) enthalten die folgenden Variablen:\n",
    "\n",
    "| Spaltenname | Beschreibung |\n",
    "| :--- | :--- |\n",
    "| weight | Gewicht in Pounds (1 Pound = 0.45359kg) |\n",
    "| mpg | Reichweite in Miles Per Gallon (1 gallon = 3.789l; 1 mile = 1.6093km) |\n",
    "| type | Autotyp |"
   ]
  },
  {
   "cell_type": "code",
   "execution_count": null,
   "metadata": {},
   "outputs": [],
   "source": []
  },
  {
   "cell_type": "markdown",
   "metadata": {},
   "source": [
    "### b)\n",
    "Wählen Sie nur die fünfte Zeile des Dataframe `d.fuel` aus. Welche Werte stehen in der fünften Zeile? Verwenden Sie das Attribut `.loc` (siehe Aufgabe 1.1).\n"
   ]
  },
  {
   "cell_type": "code",
   "execution_count": null,
   "metadata": {},
   "outputs": [],
   "source": []
  },
  {
   "cell_type": "markdown",
   "metadata": {},
   "source": [
    "### c)\n",
    "\n",
    "Wählen Sie nun die erste bis fünfte Beobachtung des Datensatzes aus. So lässt sich übrigens bei einem unbekannten Datensatz ein schneller Überblick über die Art des Dataframe gewinnen."
   ]
  },
  {
   "cell_type": "code",
   "execution_count": null,
   "metadata": {},
   "outputs": [],
   "source": []
  },
  {
   "cell_type": "markdown",
   "metadata": {},
   "source": [
    "### d)\n",
    "Berechnen Sie den Mittelwert der Reichweiten aller Autos in Miles/Gallon.\n",
    "\n",
    "__Python__-Hinweis: Methode `.mean()`"
   ]
  },
  {
   "cell_type": "code",
   "execution_count": null,
   "metadata": {},
   "outputs": [],
   "source": []
  },
  {
   "cell_type": "markdown",
   "metadata": {},
   "source": [
    "### e)\n",
    "Berechnen Sie den Mittelwert der Reichweite der Autos 7 bis 22."
   ]
  },
  {
   "cell_type": "code",
   "execution_count": null,
   "metadata": {},
   "outputs": [],
   "source": []
  },
  {
   "cell_type": "markdown",
   "metadata": {},
   "source": [
    "### f)\n",
    "Erzeugen Sie einen neuen Vektor `t_kml`, der alle Reichweiten in km/l, und einen Vektor `t_kg`, der alle Gewichte in kg enthält."
   ]
  },
  {
   "cell_type": "code",
   "execution_count": null,
   "metadata": {},
   "outputs": [],
   "source": []
  },
  {
   "cell_type": "markdown",
   "metadata": {},
   "source": [
    "### g)\n",
    "Berechnen Sie den Mittelwert der Reichweiten in km/l und denjenigen der Fahrzeuggewichte in kg."
   ]
  },
  {
   "cell_type": "code",
   "execution_count": null,
   "metadata": {},
   "outputs": [],
   "source": []
  },
  {
   "cell_type": "markdown",
   "metadata": {},
   "source": [
    "## Aufgabe 1.3\n",
    "\n",
    "Bei der Ermittlung der landwirtschaftlichen Nutzfläche von Bauernhöfen in einem Bezirk ergaben sich folgende Werte (in ha):\n",
    "`2.1,2.4,2.8,3.1,4.2,4.9,5.1,6.0,6.4,7.3,10.8,12.5,13.0,13.7,14.8,17.6,19.6,23.0,25.0,35.2,39.6`\n",
    "\n",
    "### a)\n",
    "Berechnen Sie die Summen $\\sum x_i$ und $\\sum x_i^2$\n",
    "\n",
    "__Python__-Hinweis: Verwenden Sie die Methode `.sum()`"
   ]
  },
  {
   "cell_type": "code",
   "execution_count": null,
   "metadata": {},
   "outputs": [],
   "source": []
  },
  {
   "cell_type": "markdown",
   "metadata": {},
   "source": [
    "### b)\n",
    "Berechnen Sie den Mittelwert und die Standardabweichung (ohne die in pandas implementierten Funktionen, sondern aufgrund der Definition der Grössen).\n",
    "\n",
    "__Python__-Hinweis: Verwenden Sie die Methode `.size()`"
   ]
  },
  {
   "cell_type": "code",
   "execution_count": null,
   "metadata": {},
   "outputs": [],
   "source": []
  },
  {
   "cell_type": "markdown",
   "metadata": {},
   "source": [
    "### c)\n",
    "Bestimmen Sie den Median (ohne die in pandas implementierte Funktion, sondern aufgrund der Definition der Grössen).\n",
    "\n",
    "__Python__-Hinweis: Verwenden Sie zum Sortieren die Methode `.sort_values()` und den Befehl `np.round()` zum Runden.\n"
   ]
  },
  {
   "cell_type": "code",
   "execution_count": null,
   "metadata": {},
   "outputs": [],
   "source": []
  },
  {
   "cell_type": "markdown",
   "metadata": {},
   "source": [
    "### d)\n",
    "Bestimmen Sie nun Mittelwert, Standardabweichung, Median und das 75%\n",
    "Quantil mit den Methoden `.mean()`, `.std()`, `.median()`."
   ]
  },
  {
   "cell_type": "code",
   "execution_count": null,
   "metadata": {},
   "outputs": [],
   "source": []
  },
  {
   "cell_type": "markdown",
   "metadata": {},
   "source": [
    "### d)\n",
    "Bestimmen Sie nun Mittelwert, Standardabweichung, Median und das 75%\n",
    "Quantil mit den Methoden `.mean()`, `.std()`, `.median()`."
   ]
  },
  {
   "cell_type": "code",
   "execution_count": null,
   "metadata": {},
   "outputs": [],
   "source": []
  },
  {
   "cell_type": "markdown",
   "metadata": {},
   "source": [
    "### e)\n",
    "Überprüfen Sie aufgrund des Datenvektors mit den landwirtschaftlichen Nutzflächen, dass das arithmetische Mittel der standardisierten Variablen\n",
    "\n",
    "$$ z_i = \\frac{x_i − x}{s_x},\\ \\text{mit}\\ i = 1,...,n $$\n",
    "\n",
    "gleich null und die empirische Standardabweichung von $z_i$ gleich 1 ist."
   ]
  },
  {
   "cell_type": "code",
   "execution_count": null,
   "metadata": {},
   "outputs": [],
   "source": []
  },
  {
   "cell_type": "markdown",
   "metadata": {},
   "source": [
    "## Aufgabe 1.4\n",
    "\n",
    "Für drei Stichproben vom Umfang n = 100 wurden je ein Boxplot und die empirische Verteilungsfunktion gezeichnet. Ordnen Sie die drei Boxplots den entsprechenden empirischen Verteilungsfunktionen zu:\n",
    "\n",
    "![Boxplots](img\\boxplots.png)"
   ]
  },
  {
   "cell_type": "markdown",
   "metadata": {},
   "source": []
  },
  {
   "cell_type": "markdown",
   "metadata": {},
   "source": [
    "## Aufgabe 1.5\n",
    "\n",
    "Der Geysir Old Faithful im Yellowstone National Park ist eine der bekanntesten heissen Quellen. Für die Zuschauer und den Nationalparkdienst ist die Zeitspanne zwischen zwei Ausbrüchen und die Eruptionsdauer von grossem Interesse. Auf Ilias sind die Messungen in der Datei `geysir.dat` vom 1.8.1978 - 8.8.1978 in 3 Spalten abgelegt: `Tag`, `Zeitspanne` und `Eruptionsdauer`.\n",
    "\n",
    "### a)\n",
    "Zeichnen Sie Histogramme von der Zeitspanne zwischen zwei Ausbrüchen.\n",
    "Lesen Sie zuerst die Datei ein\n",
    "\n",
    "```python\n",
    "from pandas import Series, DataFrame\n",
    "import pandas as pd\n",
    "import matplotlib.pyplot as plt\n",
    "import numpy as np\n",
    "geysir = pd.read_table(r\" * geysir.dat\", sep=\" \", index_col=0)\n",
    "```\n",
    "\n",
    "Für * geben Sie wieder den gesamten Dateipfad der Datei ein.\n",
    "\n",
    "Mit der Methode `.head()` können Sie überprüfen, ob die Datei richtig eingelesen wurde:\n",
    "\n",
    "```python\n",
    "geysir.head()\n",
    "## Tag Zeitspanne Eruptionsdauer\n",
    "## 1 1 78 4.4\n",
    "## 2 1 74 3.9\n",
    "## 3 1 68 4.0\n",
    "## 4 1 76 4.0\n",
    "## 5 1 80 3.5\n",
    "```\n",
    "\n",
    "Wir zeichnen nun die Histogramme. Um die Histogramme besser mit einander vergleichen zu können, zeichnen wir diese in Teilplots. Die geschieht mit dem Befehl\n",
    "\n",
    "```python\n",
    "plt.subplot(221)\n",
    "```\n",
    "\n",
    "Dies erzeugt vier Fenster in der Graphik, nämlich zwei Zeilen und zwei Spalten.\n",
    "Die 1 am Schluss bedeutet, dass der nächste Plot in das erste Fenster gezeichnet wird.\n",
    "\n",
    "```python\n",
    "plt.subplot(221)\n",
    "geysir[\"Zeitspanne\"].plot(kind=\"hist\", edgecolor=\"black\")\n",
    "plt.xlabel(\"10 Klassen\")\n",
    "\n",
    "plt.subplot(222)\n",
    "geysir[\"Zeitspanne\"].plot(kind=\"hist\",\n",
    "                          bins=20,\n",
    "                          edgecolor=\"black\")\n",
    "plt.xlabel(\"20 Klassen\")\n",
    "\n",
    "plt.subplot(223)\n",
    "geysir[\"Zeitspanne\"].plot(kind=\"hist\",\n",
    "                          bins=np.arange(41,107,11),\n",
    "                          edgecolor=\"black\")\n",
    "plt.xlabel(\"Klassengrenzen 41, 52 , 63, 74 , 85, 96\")\n",
    "\n",
    "plt.show()\n",
    "```\n",
    "Was fällt auf? Was ist der Unterschied zwischen den drei Histogrammen?"
   ]
  },
  {
   "cell_type": "code",
   "execution_count": null,
   "metadata": {},
   "outputs": [],
   "source": []
  },
  {
   "cell_type": "markdown",
   "metadata": {},
   "source": [
    "### b)\n",
    "\n",
    "Zeichnen Sie Histogramme (Anzahl Klassen variieren) von der Eruptionsdauer:\n",
    "\n",
    "```python\n",
    "geysir[\"Eruptionsdauer\"].plot(kind=\"hist\")\n",
    "```\n",
    "\n",
    "Was fällt auf? Vergleichen Sie mit der ersten Teilaufgabe."
   ]
  },
  {
   "cell_type": "code",
   "execution_count": null,
   "metadata": {},
   "outputs": [],
   "source": []
  },
  {
   "cell_type": "markdown",
   "metadata": {},
   "source": [
    "### c)\n",
    "Zeichnen Sie die empirische kumulative Verteilungsfunktion von der Eruptionsdauer von Old Faithful Geysir. Untersuchen Sie, wie viel Prozent der Eruptionen höchstens 2 Minuten gedauert haben, sowie welche Eruptionsdauer der 60% Eruptionen, die am längsten gedauert haben, mindestens gedauert haben.\n",
    "\n",
    "```python\n",
    "geysir[\"Eruptionsdauer\"].plot(kind=\"hist\",\n",
    "normed=True,\n",
    "cumulative=True)\n",
    "```"
   ]
  },
  {
   "cell_type": "code",
   "execution_count": null,
   "metadata": {},
   "outputs": [],
   "source": []
  }
 ],
 "metadata": {
  "kernelspec": {
   "display_name": "Python 3",
   "language": "python",
   "name": "python3"
  },
  "language_info": {
   "codemirror_mode": {
    "name": "ipython",
    "version": 3
   },
   "file_extension": ".py",
   "mimetype": "text/x-python",
   "name": "python",
   "nbconvert_exporter": "python",
   "pygments_lexer": "ipython3",
   "version": "3.7.0"
  }
 },
 "nbformat": 4,
 "nbformat_minor": 2
}
