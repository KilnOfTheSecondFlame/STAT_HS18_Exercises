{
 "cells": [
  {
   "cell_type": "markdown",
   "metadata": {},
   "source": [
    "# Serie 10\n",
    "\n",
    "## Aufgabe 10.1\n",
    "\n",
    "Der Fachartikel _Compression of Single-Wall Corrugated Containers Using Fixed and Floating Test Platens_ (J. Testing and Evaluation, 1992: 318-320) beschreibt ein Experiment, in dem verschiedene Typen von Container-Hüllen in Bezug auf Druckfestigkeit (lb) verglichen wurden.\n",
    "```text\n",
    "Typ Druckfestigkeit\n",
    "\n",
    "1 655.5 788.3 734.3 721.4 679.1 699.4\n",
    "2 789.2 772.5 786.9 686.1 732.1 774.8\n",
    "3 737.1 639.0 696.3 671.7 717.2 727.1\n",
    "4 535.1 628.7 542.4 559.0 586.9 520.0\n",
    "```\n",
    "\n",
    "### a) \n",
    "Geben Sie die Daten selber in Python ein, und stellen Sie sie mit Stripcharts und Boxplots dar.\n",
    "\n",
    "`Python`-Hinweise: Die Daten werden in ein Dataframe mit zwei Spalten eingelesen: eine Spalte mit Druckfestigkeitsangaben und eine Spalte mit Hüllentyp:\n",
    "\n",
    "```python\n",
    "from pandas import DataFrame\n",
    "import pandas as pd\n",
    "import numpy as np\n",
    "import seaborn as sns\n",
    "import matplotlib.pyplot as plt\n",
    "import scipy.stats as st\n",
    "df=DataFrame({\n",
    "\"Typ\": np.repeat([\"T1\", \"T2\", \"T3\", \"T4\"], [6, 6, 6, 6]),\n",
    "\"Druckfestigkeit\" : [655.5, 788.3, 734.3, ..]\n",
    "})\n",
    "sns.stripplot(x=\"Typ\", y=\"Druckfestigkeit\", data=df)\n",
    "plt.xlabel(\"Typ\")\n",
    "plt.ylabel(\"Druckfestigkeit\")\n",
    "plt.show()\n",
    "sns.boxplot(x=\"Typ\", y=\"Druckfestigkeit\", data=df)\n",
    "plt.xlabel(\"Typ\")\n",
    "plt.ylabel(\"Druckfestigkeit\")\n",
    "plt.show()\n",
    "```"
   ]
  },
  {
   "cell_type": "code",
   "execution_count": 1,
   "metadata": {},
   "outputs": [
    {
     "name": "stdout",
     "output_type": "stream",
     "text": [
      "   Typ  Druckfestigkeit\n",
      "0   T1            655.5\n",
      "1   T1            788.3\n",
      "2   T1            734.3\n",
      "3   T1            721.4\n",
      "4   T1            679.1\n",
      "5   T1            699.4\n",
      "6   T2            789.2\n",
      "7   T2            772.5\n",
      "8   T2            786.9\n",
      "9   T2            686.1\n",
      "10  T2            732.1\n",
      "11  T2            774.8\n",
      "12  T3            737.1\n",
      "13  T3            639.0\n",
      "14  T3            696.3\n",
      "15  T3            671.7\n",
      "16  T3            717.2\n",
      "17  T3            727.1\n",
      "18  T4            535.1\n",
      "19  T4            628.7\n",
      "20  T4            542.4\n",
      "21  T4            559.0\n",
      "22  T4            586.9\n",
      "23  T4            520.0\n"
     ]
    },
    {
     "data": {
      "text/plain": [
       "<Figure size 640x480 with 1 Axes>"
      ]
     },
     "metadata": {},
     "output_type": "display_data"
    },
    {
     "data": {
      "text/plain": [
       "<Figure size 640x480 with 1 Axes>"
      ]
     },
     "metadata": {},
     "output_type": "display_data"
    }
   ],
   "source": [
    "from pandas import DataFrame\n",
    "import pandas as pd\n",
    "import numpy as np\n",
    "import seaborn as sns\n",
    "import matplotlib.pyplot as plt\n",
    "import scipy.stats as st\n",
    "df=DataFrame({\n",
    "\"Typ\": np.repeat([\"T1\", \"T2\", \"T3\", \"T4\"], [6, 6, 6, 6]),\n",
    "\"Druckfestigkeit\" : [655.5, 788.3, 734.3, 721.4, 679.1, 699.4, 789.2, 772.5, 786.9, 686.1, 732.1, 774.8, 737.1, 639.0, 696.3, 671.7, 717.2, 727.1, 535.1, 628.7, 542.4, 559.0, 586.9, 520.0]\n",
    "})\n",
    "\n",
    "print(df)\n",
    "\n",
    "sns.stripplot(x=\"Typ\", y=\"Druckfestigkeit\", data=df)\n",
    "plt.xlabel(\"Typ\")\n",
    "plt.ylabel(\"Druckfestigkeit\")\n",
    "plt.show()\n",
    "\n",
    "sns.boxplot(x=\"Typ\", y=\"Druckfestigkeit\", data=df)\n",
    "plt.xlabel(\"Typ\")\n",
    "plt.ylabel(\"Druckfestigkeit\")\n",
    "plt.show()"
   ]
  },
  {
   "cell_type": "markdown",
   "metadata": {},
   "source": [
    "## b)\n",
    "Wie lautet ein Gruppenmittelmodell passend zum Datensatz und zur Fragestellung? Schätzen Sie die Parameter Ihres Modelles."
   ]
  },
  {
   "cell_type": "markdown",
   "metadata": {},
   "source": [
    "Unser Gruppenmittelmodell lautet: $Y_{ij} = \\mu + \\tau_i + \\varepsilon_i$"
   ]
  },
  {
   "cell_type": "code",
   "execution_count": 2,
   "metadata": {},
   "outputs": [
    {
     "data": {
      "text/html": [
       "<table class=\"simpletable\">\n",
       "<caption>OLS Regression Results</caption>\n",
       "<tr>\n",
       "  <th>Dep. Variable:</th>     <td>Druckfestigkeit</td> <th>  R-squared:         </th> <td>   0.790</td>\n",
       "</tr>\n",
       "<tr>\n",
       "  <th>Model:</th>                   <td>OLS</td>       <th>  Adj. R-squared:    </th> <td>   0.759</td>\n",
       "</tr>\n",
       "<tr>\n",
       "  <th>Method:</th>             <td>Least Squares</td>  <th>  F-statistic:       </th> <td>   25.09</td>\n",
       "</tr>\n",
       "<tr>\n",
       "  <th>Date:</th>             <td>Thu, 06 Dec 2018</td> <th>  Prob (F-statistic):</th> <td>5.53e-07</td>\n",
       "</tr>\n",
       "<tr>\n",
       "  <th>Time:</th>                 <td>12:11:56</td>     <th>  Log-Likelihood:    </th> <td> -121.07</td>\n",
       "</tr>\n",
       "<tr>\n",
       "  <th>No. Observations:</th>      <td>    24</td>      <th>  AIC:               </th> <td>   250.1</td>\n",
       "</tr>\n",
       "<tr>\n",
       "  <th>Df Residuals:</th>          <td>    20</td>      <th>  BIC:               </th> <td>   254.9</td>\n",
       "</tr>\n",
       "<tr>\n",
       "  <th>Df Model:</th>              <td>     3</td>      <th>                     </th>     <td> </td>   \n",
       "</tr>\n",
       "<tr>\n",
       "  <th>Covariance Type:</th>      <td>nonrobust</td>    <th>                     </th>     <td> </td>   \n",
       "</tr>\n",
       "</table>\n",
       "<table class=\"simpletable\">\n",
       "<tr>\n",
       "      <td></td>         <th>coef</th>     <th>std err</th>      <th>t</th>      <th>P>|t|</th>  <th>[0.025</th>    <th>0.975]</th>  \n",
       "</tr>\n",
       "<tr>\n",
       "  <th>Intercept</th> <td>  713.0000</td> <td>   16.793</td> <td>   42.459</td> <td> 0.000</td> <td>  677.971</td> <td>  748.029</td>\n",
       "</tr>\n",
       "<tr>\n",
       "  <th>Typ[T.T2]</th> <td>   43.9333</td> <td>   23.748</td> <td>    1.850</td> <td> 0.079</td> <td>   -5.605</td> <td>   93.471</td>\n",
       "</tr>\n",
       "<tr>\n",
       "  <th>Typ[T.T3]</th> <td>  -14.9333</td> <td>   23.748</td> <td>   -0.629</td> <td> 0.537</td> <td>  -64.471</td> <td>   34.605</td>\n",
       "</tr>\n",
       "<tr>\n",
       "  <th>Typ[T.T4]</th> <td> -150.9833</td> <td>   23.748</td> <td>   -6.358</td> <td> 0.000</td> <td> -200.521</td> <td> -101.445</td>\n",
       "</tr>\n",
       "</table>\n",
       "<table class=\"simpletable\">\n",
       "<tr>\n",
       "  <th>Omnibus:</th>       <td> 0.228</td> <th>  Durbin-Watson:     </th> <td>   2.382</td>\n",
       "</tr>\n",
       "<tr>\n",
       "  <th>Prob(Omnibus):</th> <td> 0.892</td> <th>  Jarque-Bera (JB):  </th> <td>   0.426</td>\n",
       "</tr>\n",
       "<tr>\n",
       "  <th>Skew:</th>          <td>-0.014</td> <th>  Prob(JB):          </th> <td>   0.808</td>\n",
       "</tr>\n",
       "<tr>\n",
       "  <th>Kurtosis:</th>      <td> 2.348</td> <th>  Cond. No.          </th> <td>    4.79</td>\n",
       "</tr>\n",
       "</table><br/><br/>Warnings:<br/>[1] Standard Errors assume that the covariance matrix of the errors is correctly specified."
      ],
      "text/plain": [
       "<class 'statsmodels.iolib.summary.Summary'>\n",
       "\"\"\"\n",
       "                            OLS Regression Results                            \n",
       "==============================================================================\n",
       "Dep. Variable:        Druckfestigkeit   R-squared:                       0.790\n",
       "Model:                            OLS   Adj. R-squared:                  0.759\n",
       "Method:                 Least Squares   F-statistic:                     25.09\n",
       "Date:                Thu, 06 Dec 2018   Prob (F-statistic):           5.53e-07\n",
       "Time:                        12:11:56   Log-Likelihood:                -121.07\n",
       "No. Observations:                  24   AIC:                             250.1\n",
       "Df Residuals:                      20   BIC:                             254.9\n",
       "Df Model:                           3                                         \n",
       "Covariance Type:            nonrobust                                         \n",
       "==============================================================================\n",
       "                 coef    std err          t      P>|t|      [0.025      0.975]\n",
       "------------------------------------------------------------------------------\n",
       "Intercept    713.0000     16.793     42.459      0.000     677.971     748.029\n",
       "Typ[T.T2]     43.9333     23.748      1.850      0.079      -5.605      93.471\n",
       "Typ[T.T3]    -14.9333     23.748     -0.629      0.537     -64.471      34.605\n",
       "Typ[T.T4]   -150.9833     23.748     -6.358      0.000    -200.521    -101.445\n",
       "==============================================================================\n",
       "Omnibus:                        0.228   Durbin-Watson:                   2.382\n",
       "Prob(Omnibus):                  0.892   Jarque-Bera (JB):                0.426\n",
       "Skew:                          -0.014   Prob(JB):                        0.808\n",
       "Kurtosis:                       2.348   Cond. No.                         4.79\n",
       "==============================================================================\n",
       "\n",
       "Warnings:\n",
       "[1] Standard Errors assume that the covariance matrix of the errors is correctly specified.\n",
       "\"\"\""
      ]
     },
     "execution_count": 2,
     "metadata": {},
     "output_type": "execute_result"
    }
   ],
   "source": [
    "from statsmodels.formula.api import ols\n",
    "fit = ols(\"Druckfestigkeit~Typ\", data=df).fit()\n",
    "fit.summary()"
   ]
  },
  {
   "cell_type": "markdown",
   "metadata": {},
   "source": [
    "# c)\n",
    "Besteht ein Unterschied zwischen den Hüllentypen? Führen Sie einen statistischen Hypothesentest auf dem 5% Niveau durch."
   ]
  },
  {
   "cell_type": "code",
   "execution_count": 3,
   "metadata": {},
   "outputs": [
    {
     "data": {
      "text/html": [
       "<div>\n",
       "<style scoped>\n",
       "    .dataframe tbody tr th:only-of-type {\n",
       "        vertical-align: middle;\n",
       "    }\n",
       "\n",
       "    .dataframe tbody tr th {\n",
       "        vertical-align: top;\n",
       "    }\n",
       "\n",
       "    .dataframe thead th {\n",
       "        text-align: right;\n",
       "    }\n",
       "</style>\n",
       "<table border=\"1\" class=\"dataframe\">\n",
       "  <thead>\n",
       "    <tr style=\"text-align: right;\">\n",
       "      <th></th>\n",
       "      <th>df</th>\n",
       "      <th>sum_sq</th>\n",
       "      <th>mean_sq</th>\n",
       "      <th>F</th>\n",
       "      <th>PR(&gt;F)</th>\n",
       "    </tr>\n",
       "  </thead>\n",
       "  <tbody>\n",
       "    <tr>\n",
       "      <th>Typ</th>\n",
       "      <td>3.0</td>\n",
       "      <td>127374.754583</td>\n",
       "      <td>42458.251528</td>\n",
       "      <td>25.094289</td>\n",
       "      <td>5.525450e-07</td>\n",
       "    </tr>\n",
       "    <tr>\n",
       "      <th>Residual</th>\n",
       "      <td>20.0</td>\n",
       "      <td>33838.975000</td>\n",
       "      <td>1691.948750</td>\n",
       "      <td>NaN</td>\n",
       "      <td>NaN</td>\n",
       "    </tr>\n",
       "  </tbody>\n",
       "</table>\n",
       "</div>"
      ],
      "text/plain": [
       "            df         sum_sq       mean_sq          F        PR(>F)\n",
       "Typ        3.0  127374.754583  42458.251528  25.094289  5.525450e-07\n",
       "Residual  20.0   33838.975000   1691.948750        NaN           NaN"
      ]
     },
     "execution_count": 3,
     "metadata": {},
     "output_type": "execute_result"
    }
   ],
   "source": [
    "from statsmodels.stats.anova import anova_lm\n",
    "anova_lm(fit)"
   ]
  },
  {
   "cell_type": "markdown",
   "metadata": {},
   "source": [
    "## Aufgabe 10.2\n",
    "\n",
    "24 Tiere werden zufällig zu 4 unterschiedlichen Ernährungsdiäten zugeordnet, um den Effekt auf die Blutkoagulationszeit zu untersuchen.\n",
    "\n",
    "```text\n",
    "Behandlung   Koagulationszeit\n",
    "         A   62   60   63   59\n",
    "         B   63   67   71   64   65   66\n",
    "         C   68   66   71   67   68   68\n",
    "         D   56   62   60   61   63   64   63   59\n",
    "```\n",
    "\n",
    "\n",
    "\n",
    "### a)\n",
    "Geben Sie die Daten selber in Python ein, und stellen Sie sie mit Stripcharts und Boxplots dar.\n",
    "\n",
    "`Python`-Hinweise: Die Daten werden in ein Dataframe mit zwei Spalten eingelesen: eine Spalte mit Druckfestigkeitsangaben und eine Spalte mit Hüllentyp:\n",
    "\n",
    "```python\n",
    "from pandas import DataFrame\n",
    "import pandas as pd\n",
    "import numpy as np\n",
    "import seaborn as sns\n",
    "import matplotlib.pyplot as plt\n",
    "import scipy.stats as st\n",
    "\n",
    "df=DataFrame({\n",
    "\"Behandlung\": np.repeat([\"A\", \"B\", \"C\", \"D\"], [4, 6, 6, 8]),\n",
    "\"Koagulationszeit\" : [62, 60, 63, ..]\n",
    "})\n",
    "\n",
    "sns.stripplot(x=\"Behandlung\", y=\"Koagulationszeit\", data=df)\n",
    "plt.xlabel(\"Behandlung\")\n",
    "plt.ylabel(\"Koagulationszeit\")\n",
    "plt.show()\n",
    "\n",
    "sns.boxplot(x=\"Behandlung\", y=\"Koagulationszeit\", data=df)\n",
    "plt.xlabel(\"Behandlung\")\n",
    "plt.ylabel(\"Koagulationszeit\")\n",
    "plt.show()\n",
    "```"
   ]
  },
  {
   "cell_type": "code",
   "execution_count": 4,
   "metadata": {},
   "outputs": [
    {
     "data": {
      "image/png": "[encoded data removed]",
      "text/plain": [
       "<Figure size 432x288 with 1 Axes>"
      ]
     },
     "metadata": {
      "needs_background": "light"
     },
     "output_type": "display_data"
    },
    {
     "data": {
      "image/png": "[encoded data removed]",
      "text/plain": [
       "<Figure size 432x288 with 1 Axes>"
      ]
     },
     "metadata": {
      "needs_background": "light"
     },
     "output_type": "display_data"
    }
   ],
   "source": [
    "df=DataFrame({\n",
    "\"Behandlung\": np.repeat([\"A\", \"B\", \"C\", \"D\"], [4, 6, 6, 8]),\n",
    "\"Koagulationszeit\" : [62, 60, 63, 59, 63, 67, 71, 64, 65, 66, 68, 66, 71, 67, 68, 68, 56, 62, 60, 61, 63, 64, 63, 59]\n",
    "})\n",
    "\n",
    "sns.stripplot(x=\"Behandlung\", y=\"Koagulationszeit\", data=df)\n",
    "plt.xlabel(\"Behandlung\")\n",
    "plt.ylabel(\"Koagulationszeit\")\n",
    "plt.show()\n",
    "\n",
    "sns.boxplot(x=\"Behandlung\", y=\"Koagulationszeit\", data=df)\n",
    "plt.xlabel(\"Behandlung\")\n",
    "plt.ylabel(\"Koagulationszeit\")\n",
    "plt.show()"
   ]
  },
  {
   "cell_type": "markdown",
   "metadata": {},
   "source": [
    "### b)\n",
    "\n",
    "Berechnen Sie den globalen Mittelwert (grand mean) und die Gruppenmittelwerte mit Hilfe eines Taschenrechners."
   ]
  },
  {
   "cell_type": "code",
   "execution_count": 5,
   "metadata": {},
   "outputs": [
    {
     "name": "stdout",
     "output_type": "stream",
     "text": [
      "Überprüfung: 61.0 = 61.0\n",
      "\n",
      "Gruppenmittelwerte \n",
      "A: 61.0\n",
      "B: 66.0\n",
      "C: 68.0\n",
      "D: 61.0\n",
      "\n",
      "globaler Mittelwert (Mittelwert der Mittelwerte):\n",
      "64.0\n"
     ]
    }
   ],
   "source": [
    "df_group = df.groupby('Behandlung')\n",
    "mu_A = df_group.get_group('A')['Koagulationszeit'].sum()/df_group.get_group('A')['Koagulationszeit'].size\n",
    "A_check = (62 + 60 + 63 + 59)/4\n",
    "print(\"Überprüfung: \" + str(mu_A) + \" = \" + str(A_check))\n",
    "print(\"\")\n",
    "\n",
    "mu_A = df_group.get_group('A')['Koagulationszeit'].sum()/df_group.get_group('A')['Koagulationszeit'].size\n",
    "mu_B = df_group.get_group('B')['Koagulationszeit'].sum()/df_group.get_group('B')['Koagulationszeit'].size\n",
    "mu_C = df_group.get_group('C')['Koagulationszeit'].sum()/df_group.get_group('C')['Koagulationszeit'].size\n",
    "mu_D = df_group.get_group('D')['Koagulationszeit'].sum()/df_group.get_group('D')['Koagulationszeit'].size\n",
    "\n",
    "print(\"Gruppenmittelwerte \")\n",
    "print(\"A: \" + str(mu_A))\n",
    "print(\"B: \" + str(mu_B))\n",
    "print(\"C: \" + str(mu_C))\n",
    "print(\"D: \" + str(mu_D))\n",
    "print(\"\")\n",
    "print(\"globaler Mittelwert (Mittelwert der Mittelwerte):\")\n",
    "\n",
    "mu = (mu_A+mu_B+mu_C+mu_D)/4\n",
    "print(mu)"
   ]
  },
  {
   "cell_type": "markdown",
   "metadata": {},
   "source": [
    "### c)\n",
    "\n",
    "Berechnen Sie mit Hilfe eines Taschenrechners die empirischen Gruppenvarianzen\n",
    "$$s_i^2 = \\frac{1}{n_i-1}\\sum\\limits_{j=1}^{n_i}r_{ji}^2 = \\frac{1}{n_i-1}\\sum\\limits_{j=1}^{n_i}(y_{ij}-y_{i\\cdot})^2$$"
   ]
  },
  {
   "cell_type": "code",
   "execution_count": 6,
   "metadata": {},
   "outputs": [
    {
     "name": "stdout",
     "output_type": "stream",
     "text": [
      "s_A^2: 3.333333333333333\n",
      "s_B^2: 8.0\n",
      "s_C^2: 2.8000000000000003\n",
      "s_D^2: 6.857142857142857\n"
     ]
    }
   ],
   "source": [
    "s_A_2 = 1/(df_group.get_group('A')['Koagulationszeit'].size-1)*((df_group.get_group('A')['Koagulationszeit']-mu_A)**2).sum()\n",
    "s_B_2 = 1/(df_group.get_group('B')['Koagulationszeit'].size-1)*((df_group.get_group('B')['Koagulationszeit']-mu_B)**2).sum()\n",
    "s_C_2 = 1/(df_group.get_group('C')['Koagulationszeit'].size-1)*((df_group.get_group('C')['Koagulationszeit']-mu_C)**2).sum()\n",
    "s_D_2 = 1/(df_group.get_group('D')['Koagulationszeit'].size-1)*((df_group.get_group('D')['Koagulationszeit']-mu_D)**2).sum()\n",
    "\n",
    "print(\"s_A^2: \" + str(s_A_2))\n",
    "print(\"s_B^2: \" + str(s_B_2))\n",
    "print(\"s_C^2: \" + str(s_C_2))\n",
    "print(\"s_D^2: \" + str(s_D_2))"
   ]
  },
  {
   "cell_type": "markdown",
   "metadata": {},
   "source": [
    "### d)\n",
    "\n",
    "Berechnen Sie die pooled Varianz $S^2_{Pool}$, resp. $MS_E$."
   ]
  },
  {
   "cell_type": "markdown",
   "metadata": {},
   "source": [
    "### e)\n",
    "\n",
    "Berechnen Sie $MS_G$ und vergleichen Sie den Wert mit $MS_E$."
   ]
  },
  {
   "cell_type": "markdown",
   "metadata": {},
   "source": [
    "### f)\n",
    "\n",
    " Konstruieren Sie eine ANOVA Tabelle mit Hilfe von `Python`."
   ]
  },
  {
   "cell_type": "code",
   "execution_count": 16,
   "metadata": {},
   "outputs": [
    {
     "data": {
      "text/html": [
       "<div>\n",
       "<style scoped>\n",
       "    .dataframe tbody tr th:only-of-type {\n",
       "        vertical-align: middle;\n",
       "    }\n",
       "\n",
       "    .dataframe tbody tr th {\n",
       "        vertical-align: top;\n",
       "    }\n",
       "\n",
       "    .dataframe thead th {\n",
       "        text-align: right;\n",
       "    }\n",
       "</style>\n",
       "<table border=\"1\" class=\"dataframe\">\n",
       "  <thead>\n",
       "    <tr style=\"text-align: right;\">\n",
       "      <th></th>\n",
       "      <th>df</th>\n",
       "      <th>sum_sq</th>\n",
       "      <th>mean_sq</th>\n",
       "      <th>F</th>\n",
       "      <th>PR(&gt;F)</th>\n",
       "    </tr>\n",
       "  </thead>\n",
       "  <tbody>\n",
       "    <tr>\n",
       "      <th>Behandlung</th>\n",
       "      <td>3.0</td>\n",
       "      <td>228.0</td>\n",
       "      <td>76.0</td>\n",
       "      <td>13.571429</td>\n",
       "      <td>0.000047</td>\n",
       "    </tr>\n",
       "    <tr>\n",
       "      <th>Residual</th>\n",
       "      <td>20.0</td>\n",
       "      <td>112.0</td>\n",
       "      <td>5.6</td>\n",
       "      <td>NaN</td>\n",
       "      <td>NaN</td>\n",
       "    </tr>\n",
       "  </tbody>\n",
       "</table>\n",
       "</div>"
      ],
      "text/plain": [
       "              df  sum_sq  mean_sq          F    PR(>F)\n",
       "Behandlung   3.0   228.0     76.0  13.571429  0.000047\n",
       "Residual    20.0   112.0      5.6        NaN       NaN"
      ]
     },
     "execution_count": 16,
     "metadata": {},
     "output_type": "execute_result"
    }
   ],
   "source": [
    "fit = ols(\"Koagulationszeit~Behandlung\", data=df).fit()\n",
    "anova_lm(fit)"
   ]
  },
  {
   "cell_type": "markdown",
   "metadata": {},
   "source": [
    "### g)\n",
    "\n",
    "Besteht ein signifikanter Unterschied zwischen den Behandlungsarten in Bezug auf die Koagulationszeit?\n",
    "\n",
    "Führen Sie einen statistischen Hypothesentest auf dem 5% Niveau durch."
   ]
  },
  {
   "cell_type": "markdown",
   "metadata": {},
   "source": []
  }
 ],
 "metadata": {
  "kernelspec": {
   "display_name": "Python 3",
   "language": "python",
   "name": "python3"
  },
  "language_info": {
   "codemirror_mode": {
    "name": "ipython",
    "version": 3
   },
   "file_extension": ".py",
   "mimetype": "text/x-python",
   "name": "python",
   "nbconvert_exporter": "python",
   "pygments_lexer": "ipython3",
   "version": "3.7.0"
  }
 },
 "nbformat": 4,
 "nbformat_minor": 2
}
