{
 "cells": [
  {
   "cell_type": "markdown",
   "metadata": {},
   "source": [
    "# Serie 10\n",
    "\n",
    "## Aufgabe 10.1\n",
    "\n",
    "Der Fachartikel _Compression of Single-Wall Corrugated Containers Using Fixed and Floating Test Platens_ (J. Testing and Evaluation, 1992: 318-320) beschreibt ein Experiment, in dem verschiedene Typen von Container-Hüllen in Bezug auf Druckfestigkeit (lb) verglichen wurden.\n",
    "```text\n",
    "Typ Druckfestigkeit\n",
    "\n",
    "1 655.5 788.3 734.3 721.4 679.1 699.4\n",
    "2 789.2 772.5 786.9 686.1 732.1 774.8\n",
    "3 737.1 639.0 696.3 671.7 717.2 727.1\n",
    "4 535.1 628.7 542.4 559.0 586.9 520.0\n",
    "```\n",
    "\n",
    "### a) \n",
    "Geben Sie die Daten selber in Python ein, und stellen Sie sie mit Stripcharts und Boxplots dar.\n",
    "\n",
    "`Python`-Hinweise: Die Daten werden in ein Dataframe mit zwei Spalten eingelesen: eine Spalte mit Druckfestigkeitsangaben und eine Spalte mit Hüllentyp:\n",
    "\n",
    "```python\n",
    "from pandas import DataFrame\n",
    "import pandas as pd\n",
    "import numpy as np\n",
    "import seaborn as sns\n",
    "import matplotlib.pyplot as plt\n",
    "import scipy.stats as st\n",
    "df=DataFrame({\n",
    "\"Typ\": np.repeat([\"T1\", \"T2\", \"T3\", \"T4\"], [6, 6, 6, 6]),\n",
    "\"Druckfestigkeit\" : [655.5, 788.3, 734.3, ..]\n",
    "})\n",
    "sns.stripplot(x=\"Typ\", y=\"Druckfestigkeit\", data=df)\n",
    "plt.xlabel(\"Typ\")\n",
    "plt.ylabel(\"Druckfestigkeit\")\n",
    "plt.show()\n",
    "sns.boxplot(x=\"Typ\", y=\"Druckfestigkeit\", data=df)\n",
    "plt.xlabel(\"Typ\")\n",
    "plt.ylabel(\"Druckfestigkeit\")\n",
    "plt.show()\n",
    "```"
   ]
  },
  {
   "cell_type": "code",
   "execution_count": null,
   "metadata": {},
   "outputs": [],
   "source": []
  },
  {
   "cell_type": "markdown",
   "metadata": {},
   "source": [
    "## b)\n",
    "Wie lautet ein Gruppenmittelmodell passend zum Datensatz und zur Fragestellung? Schätzen Sie die Parameter Ihres Modelles."
   ]
  },
  {
   "cell_type": "code",
   "execution_count": null,
   "metadata": {},
   "outputs": [],
   "source": []
  },
  {
   "cell_type": "markdown",
   "metadata": {},
   "source": [
    "# c)\n",
    "Besteht ein Unterschied zwischen den Hüllentypen? Führen Sie einen statistischen Hypothesentest auf dem 5% Niveau durch."
   ]
  },
  {
   "cell_type": "code",
   "execution_count": null,
   "metadata": {},
   "outputs": [],
   "source": []
  },
  {
   "cell_type": "markdown",
   "metadata": {},
   "source": [
    "## Aufgabe 10.2\n",
    "\n",
    "24 Tiere werden zufällig zu 4 unterschiedlichen Ernährungsdiäten zugeordnet, um den Effekt auf die Blutkoagulationszeit zu untersuchen.\n",
    "\n",
    "```text\n",
    "Behandlung   Koagulationszeit\n",
    "         A   62   60   63   59\n",
    "         B   63   67   71   64   65   66\n",
    "         C   68   66   71   67   68   68\n",
    "         D   56   62   60   61   63   64   63   59\n",
    "```\n",
    "\n",
    "\n",
    "\n",
    "### a)\n",
    "Geben Sie die Daten selber in Python ein, und stellen Sie sie mit Stripcharts und Boxplots dar.\n",
    "\n",
    "`Python`-Hinweise: Die Daten werden in ein Dataframe mit zwei Spalten eingelesen: eine Spalte mit Druckfestigkeitsangaben und eine Spalte mit Hüllentyp:\n",
    "\n",
    "```python\n",
    "from pandas import DataFrame\n",
    "import pandas as pd\n",
    "import numpy as np\n",
    "import seaborn as sns\n",
    "import matplotlib.pyplot as plt\n",
    "import scipy.stats as st\n",
    "\n",
    "df=DataFrame({\n",
    "\"Behandlung\": np.repeat([\"A\", \"B\", \"C\", \"D\"], [4, 6, 6, 8]),\n",
    "\"Koagulationszeit\" : [62, 60, 63, ..]\n",
    "})\n",
    "\n",
    "sns.stripplot(x=\"Behandlung\", y=\"Koagulationszeit\", data=df)\n",
    "plt.xlabel(\"Behandlung\")\n",
    "plt.ylabel(\"Koagulationszeit\")\n",
    "plt.show()\n",
    "\n",
    "sns.boxplot(x=\"Behandlung\", y=\"Koagulationszeit\", data=df)\n",
    "plt.xlabel(\"Behandlung\")\n",
    "plt.ylabel(\"Koagulationszeit\")\n",
    "plt.show()\n",
    "```"
   ]
  },
  {
   "cell_type": "code",
   "execution_count": null,
   "metadata": {},
   "outputs": [],
   "source": []
  },
  {
   "cell_type": "markdown",
   "metadata": {},
   "source": [
    "### b)\n",
    "\n",
    "Berechnen Sie den globalen Mittelwert (grand mean) und die Gruppenmittelwerte mit Hilfe eines Taschenrechners."
   ]
  },
  {
   "cell_type": "code",
   "execution_count": null,
   "metadata": {},
   "outputs": [],
   "source": []
  },
  {
   "cell_type": "markdown",
   "metadata": {},
   "source": [
    "### c)\n",
    "\n",
    "Berechnen Sie mit Hilfe eines Taschenrechners die empirischen Gruppenvarianzen\n",
    "$$s_i^2 = \\frac{1}{n_i-1}\\sum\\limits_{j=1}^{n_i}r_{ji}^2 = \\frac{1}{n_i-1}\\sum\\limits_{j=1}^{n_i}(y_{ij}-y_{i\\cdot})^2$$"
   ]
  },
  {
   "cell_type": "code",
   "execution_count": null,
   "metadata": {},
   "outputs": [],
   "source": []
  },
  {
   "cell_type": "markdown",
   "metadata": {},
   "source": [
    "### d)\n",
    "\n",
    "Berechnen Sie die pooled Varianz $S^2_{Pool}$, resp. $MS_E$."
   ]
  },
  {
   "cell_type": "code",
   "execution_count": null,
   "metadata": {},
   "outputs": [],
   "source": []
  },
  {
   "cell_type": "markdown",
   "metadata": {},
   "source": [
    "### e)\n",
    "\n",
    "Berechnen Sie $MS_G$ und vergleichen Sie den Wert mit $MS_E$."
   ]
  },
  {
   "cell_type": "code",
   "execution_count": null,
   "metadata": {},
   "outputs": [],
   "source": []
  },
  {
   "cell_type": "markdown",
   "metadata": {},
   "source": [
    "### f)\n",
    "\n",
    " Konstruieren Sie eine ANOVA Tabelle mit Hilfe von `Python`."
   ]
  },
  {
   "cell_type": "code",
   "execution_count": null,
   "metadata": {},
   "outputs": [],
   "source": []
  },
  {
   "cell_type": "markdown",
   "metadata": {},
   "source": [
    "### g)\n",
    "\n",
    "Besteht ein signifikanter Unterschied zwischen den Behandlungsarten in Bezug auf die Koagulationszeit?\n",
    "\n",
    "Führen Sie einen statistischen Hypothesentest auf dem 5% Niveau durch."
   ]
  },
  {
   "cell_type": "code",
   "execution_count": null,
   "metadata": {},
   "outputs": [],
   "source": []
  }
 ],
 "metadata": {
  "kernelspec": {
   "display_name": "Python 3",
   "language": "python",
   "name": "python3"
  },
  "language_info": {
   "codemirror_mode": {
    "name": "ipython",
    "version": 3
   },
   "file_extension": ".py",
   "mimetype": "text/x-python",
   "name": "python",
   "nbconvert_exporter": "python",
   "pygments_lexer": "ipython3",
   "version": "3.7.0"
  }
 },
 "nbformat": 4,
 "nbformat_minor": 2
}
