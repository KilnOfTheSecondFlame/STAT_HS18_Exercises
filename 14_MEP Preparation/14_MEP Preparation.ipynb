{
 "cells": [
  {
   "cell_type": "markdown",
   "metadata": {},
   "source": [
    "# MEP Preparation\n",
    "\n",
    "## Aufgabe 1 - Erwartungswert und Schätzmethoden\n",
    "\n",
    "Betrachten Sie die Zufallsvariable X mit der folgenden Dichtefunktion:\n",
    "\n",
    "$$f ( x;m ) = \\left\\{\n",
    "\\begin{matrix}\n",
    "0 & falls x < 0 \\\\\n",
    "c \\cdot x^m & falls 0 ≤ x ≤ 1 \\\\\n",
    "0 & falls x > 1\\\\\n",
    "\\end{matrix}\n",
    "\\right.\n",
    "$$\n",
    "wobei $m$ den Verteilungsparameter darstellt und $c$ ein Faktor ist, der von $m$ abhängt.\n",
    "\n",
    "### (a) \n",
    "Bestimmen Sie den Faktor c, so dass $f(x;m)$ eine Wahrscheinlichkeitsdichtefunktion ist."
   ]
  },
  {
   "cell_type": "code",
   "execution_count": null,
   "metadata": {},
   "outputs": [],
   "source": []
  },
  {
   "cell_type": "markdown",
   "metadata": {},
   "source": [
    "### (b)\n",
    "Berechnen Sie den Erwartungswert $E[ X ]$ ."
   ]
  },
  {
   "cell_type": "code",
   "execution_count": null,
   "metadata": {},
   "outputs": [],
   "source": []
  },
  {
   "cell_type": "markdown",
   "metadata": {},
   "source": [
    "### (c)\n",
    "Berechnen Sie die Varianz $Var[ X ]$ ."
   ]
  },
  {
   "cell_type": "code",
   "execution_count": null,
   "metadata": {},
   "outputs": [],
   "source": []
  },
  {
   "cell_type": "markdown",
   "metadata": {},
   "source": [
    "### (d)\n",
    "Es wurden folgende Datenpunkte beobachtet: $x_1 = 0.3$, $x_2 = 0.5$ und $x_3 = 0.7$. Schätzen Sie den Parameter $m$ mit Hilfe der Momentenmethode."
   ]
  },
  {
   "cell_type": "code",
   "execution_count": null,
   "metadata": {},
   "outputs": [],
   "source": []
  },
  {
   "cell_type": "markdown",
   "metadata": {},
   "source": [
    "### (e)\n",
    "Schreiben Sie die Likelihood-Funktion für die Beobachtungen $x_1 = 0.3$, $x_2 = 0.5$ und $x_3 = 0.7$. Beschreiben Sie in 2-3 Sätzen, wie Sie mit der Maximum-Likelihood-Methode den Parameter m schätzen."
   ]
  },
  {
   "cell_type": "code",
   "execution_count": null,
   "metadata": {},
   "outputs": [],
   "source": []
  },
  {
   "cell_type": "markdown",
   "metadata": {},
   "source": [
    "## Aufgabe 2: An die wahren Helden der WM18\n",
    "Als ein Schiedsrichter im Jahre 1990 bei den U.S. Major League Baseball Games zusammenbrach und verstarb, wurde spekuliert, dass der mit diesem Beruf verbundene Stress ein ernsthaftes Gesundheitsrisiko darstellt. Forscher haben darauf historische und damals aktuelle Daten über Schiedsrichter gesammelt, um deren Lebenserwartung zu untersuchen (Cohen et al., _Life expectancy of Major League Baseball Umpires_, The Physician and Sportsmedicine, 28(5) (2000):83-89).\n",
    "Die in dieser Studie erhobenen Daten beinhalten eine Liste von 227 Schiedsrichtern, die entweder gestorben oder aber pensioniert und immer noch am Leben waren. Sie finden in der Datei `Lebenserwartung_Schiedsrichter` auf dem USB-Stick im Verzeichnis Austausch die erhobenen Daten: In der ersten Spalte ist die beobachtete Lebenszeit (Alter) in Jahren aufgeführt, in der zweiten Spalte befindet sich die Angabe, ob der betreffende Schiedsrichter tot ( = 0) oder noch am Leben ( = 1) ist. In der dritten und letzten Spalte ist die aufgrund von einer Lebensversicherung geschätzte erwartete Lebenszeit aufgeführt. Berücksichtigen Sie in Teilaufgaben (a) bis (d) bloss die Schiedsrichter, die bereits gestorben sind. \n",
    "\n",
    "__Hinweis__: Falls Sie die toten Schiedsrichter nicht von den lebendigen unterscheiden können, dann berücksichtigen Sie alle, ob tot oder lebendig.\n",
    "\n",
    "### (a)\n",
    "Führen Sie einen t-Test auf dem 1%-Signifikanzniveau durch, um zu ermitteln, ob Schiedsrichter eine kleinere beobachtete Lebenszeit (Alter) haben als erwartet.\n",
    "Formulieren Sie die Null- und Alternativhypothese, und geben Sie den Verwerfungsbereich an. Wie lautet das Testergebnis?"
   ]
  },
  {
   "cell_type": "code",
   "execution_count": null,
   "metadata": {},
   "outputs": [],
   "source": []
  },
  {
   "cell_type": "markdown",
   "metadata": {},
   "source": [
    "### (b)\n",
    "Erklären Sie die Teststatistik im t-Test in 4-5 Sätzen. Verwenden Sie in Ihrer\n",
    "Argumentation die folgenden Begriffe:\n",
    "\n",
    "i) Teststatistik\n",
    "\n",
    "ii) Zufallsvariable\n",
    "\n",
    "iii) standardisierte Zufallsvariable\n",
    "\n",
    "iv) Abhängigkeit der Teststatistik vom Stichprobenumfang n\n",
    "\n",
    "v) Zentraler Grenzwertsatz"
   ]
  },
  {
   "cell_type": "code",
   "execution_count": null,
   "metadata": {},
   "outputs": [],
   "source": []
  },
  {
   "cell_type": "markdown",
   "metadata": {},
   "source": [
    "### (c)\n",
    "Geben Sie ein 99%-Vertrauensintervall an, und erklären Sie, wie Sie das Testergebnis daraus bestimmen.\n"
   ]
  },
  {
   "cell_type": "code",
   "execution_count": null,
   "metadata": {},
   "outputs": [],
   "source": []
  },
  {
   "cell_type": "markdown",
   "metadata": {},
   "source": [
    "### (d)\n",
    "Führen Sie einen Vorzeichen- oder Wilcoxon-Test durch. Erläutern Sie die Annahmen an die Teststatistik, und formulieren Sie die Null- und Alternativhypothese.\n",
    "\n",
    "Kommen Sie zum selben Testergebnis wie beim t-Test?"
   ]
  },
  {
   "cell_type": "code",
   "execution_count": null,
   "metadata": {},
   "outputs": [],
   "source": []
  },
  {
   "cell_type": "markdown",
   "metadata": {},
   "source": [
    "### (e)\n",
    "Geben Sie die mittlere beobachtete Lebenszeit (Alter) der noch lebenden Schiedsrichter mit relativem Fehler an."
   ]
  },
  {
   "cell_type": "code",
   "execution_count": null,
   "metadata": {},
   "outputs": [],
   "source": []
  },
  {
   "cell_type": "markdown",
   "metadata": {},
   "source": [
    "## Aufgabe 3 - Varianzanalyse\n",
    "\n",
    "Eine trendige Weinbar führt ein Experiment durch, in welchem die Qualität von 3 Weinen bewertet werden. Dazu werden fünf Weinkenner eingeladen und gebeten, jeden Wein zu probieren und mit einer Bewertung zwischen 0 und 10 zu versehen. Die Reihenfolge der Degustation war randomisiert, und die Testleiter wussten nicht, welchen Wein sie tranken.\n",
    "\n",
    "Die folgende Tabelle zeigt die gesammelten Daten:\n",
    "\n",
    "| Tester | Wein 1 | Wein 2 | Wein 3 |\n",
    "| :--- | :--- | :--- | :--- |\n",
    "| Person | 1 | 1 | 7 | 5 |\n",
    "| Person | 2 | 0 | 4 | 0 |\n",
    "| Person | 3 | 1 | 6 | 4 |\n",
    "| Person | 4 | 1 | 5 | 2 |\n",
    "| Person | 5 | 1 | 8 | 10 |\n",
    "\n",
    "In Python kann die Tabelle folgendermassen eingelesen werden:\n",
    "```python\n",
    "from pandas import DataFrame\n",
    "from statsmodels.formula.api import ols\n",
    "from patsy.contrasts import Sum\n",
    "from statsmodels.stats.anova import anova_lm\n",
    "import numpy as np\n",
    "import warnings\n",
    "warnings.filterwarnings(\"ignore\")\n",
    "df = DataFrame({\"Person\": np.repeat([\"P1\", \"P2\", \"P3\",\"P4\",\"P5\"],3),\n",
    "\"Wein\": np.tile([\"W1\", \"W2\", \"W3\"],5),\n",
    "\"Y\": np.array([1,7,5,0,4,0,1,6,4,1,5,2,1,8,10])\n",
    "})\n",
    "fit = ols(\"Y ~ C(Person,Sum)+C(Wein,Sum)\",data=df).fit()\n",
    "```\n",
    "\n",
    "### (a)\n",
    "Schreiben Sie das der Python-Ausgabe zugrunde liegende (allgemeine) Gruppenmittel-Modell auf. Welche Nebenbedingungen wurden benützt? Um welches Versuchsdesign handelt es sich hier?\n",
    "\n",
    "Welche Rolle haben die einzelnen Faktoren im Modell?"
   ]
  },
  {
   "cell_type": "code",
   "execution_count": null,
   "metadata": {},
   "outputs": [],
   "source": []
  },
  {
   "cell_type": "markdown",
   "metadata": {},
   "source": [
    "### (b) \n",
    "Hat die Weinsorte einen Effekt auf die Bewertung? Wie lautet die Nullhypothese in Bezug auf die entsprechenden Parameterwerte? \n",
    "\n",
    "Geben Sie die Teststatistik, deren Bedeutung und Verteilung und den p-Wert der Realisierung der Teststatistik unter\n",
    "der Nullhypothese an."
   ]
  },
  {
   "cell_type": "code",
   "execution_count": null,
   "metadata": {},
   "outputs": [],
   "source": []
  },
  {
   "cell_type": "markdown",
   "metadata": {},
   "source": [
    "### (c)\n",
    "Wie gross ist die geschätzte Differenz der Bewertung zwischen Weinsorte 1 und Weinsorte 2?"
   ]
  },
  {
   "cell_type": "code",
   "execution_count": null,
   "metadata": {},
   "outputs": [],
   "source": []
  },
  {
   "cell_type": "markdown",
   "metadata": {},
   "source": [
    "### (d)\n",
    "Muss der Effekt der Testperson im Gruppenmittel-Modell berücksichtigt werden? Begründen Sie Ihre Antwort.\n"
   ]
  },
  {
   "cell_type": "code",
   "execution_count": null,
   "metadata": {},
   "outputs": [],
   "source": []
  },
  {
   "cell_type": "markdown",
   "metadata": {},
   "source": [
    "### (e)\n",
    "Ihre Kollegin möchte folgenden Python-Code anwenden: Die Python-Ausgabe sieht folgendermassen aus:\n",
    "\n",
    "```python\n",
    "from pandas import DataFrame\n",
    "from statsmodels.formula.api import ols\n",
    "from patsy.contrasts import Sum\n",
    "from statsmodels.stats.anova import anova_lm\n",
    "import numpy as np\n",
    "import warnings\n",
    "\n",
    "warnings.filterwarnings(\"ignore\")\n",
    "\n",
    "df = DataFrame({\n",
    "\t\"Person\": np.repeat([\"P1\", \"P2\", \"P3\",\"P4\",\"P5\"],3),\n",
    "\t\"Wein\": np.tile([\"W1\", \"W2\", \"W3\"],5),\n",
    "\t\"Y\": np.array([1,7,5,0,4,0,1,6,4,1,5,2,1,8,10])\n",
    "})\n",
    "\n",
    "fit2 = ols(\"Y ~ C(Person,Sum) * C(Wein,Sum)\", data=df).fit()\n",
    "```\n",
    "Welches Modell passt sie an die Daten an? Kann sie statistische Tests durchführen?\n",
    "Begründen Sie Ihre Antwort."
   ]
  },
  {
   "cell_type": "code",
   "execution_count": null,
   "metadata": {},
   "outputs": [],
   "source": []
  },
  {
   "cell_type": "markdown",
   "metadata": {},
   "source": [
    "### (f)\n",
    "Beurteilen Sie graphisch, ob es einen Interaktionseffekt gibt"
   ]
  },
  {
   "cell_type": "code",
   "execution_count": null,
   "metadata": {},
   "outputs": [],
   "source": []
  }
 ],
 "metadata": {
  "kernelspec": {
   "display_name": "Python 3",
   "language": "python",
   "name": "python3"
  },
  "language_info": {
   "codemirror_mode": {
    "name": "ipython",
    "version": 3
   },
   "file_extension": ".py",
   "mimetype": "text/x-python",
   "name": "python",
   "nbconvert_exporter": "python",
   "pygments_lexer": "ipython3",
   "version": "3.7.0"
  }
 },
 "nbformat": 4,
 "nbformat_minor": 2
}
