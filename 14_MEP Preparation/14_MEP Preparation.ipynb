{
 "cells": [
  {
   "cell_type": "markdown",
   "metadata": {},
   "source": [
    "# MEP Preparation\n",
    "\n",
    "## Aufgabe 1 - Erwartungswert und Schätzmethoden\n",
    "\n",
    "Betrachten Sie die Zufallsvariable X mit der folgenden Dichtefunktion:\n",
    "\n",
    "$$f ( x;m ) = \\left\\{\n",
    "\\begin{matrix}\n",
    "0 & \\text{falls } x < 0 \\\\\n",
    "c \\cdot x^m & \\text{falls } 0 ≤ x ≤ 1 \\\\\n",
    "0 & \\text{falls } x > 1\\\\\n",
    "\\end{matrix}\n",
    "\\right.\n",
    "$$\n",
    "wobei $m$ den Verteilungsparameter darstellt und $c$ ein Faktor ist, der von $m$ abhängt.\n",
    "\n",
    "### (a) \n",
    "Bestimmen Sie den Faktor c, so dass $f(x;m)$ eine Wahrscheinlichkeitsdichtefunktion ist."
   ]
  },
  {
   "cell_type": "markdown",
   "metadata": {},
   "source": [
    "Da die Fläche unserer Dichtefunktion 1 ergeben muss können wir das Integral zwischen 0 und 1 bestimmen.\n",
    "\n",
    "$$ \\int\\limits_0^1 {c\\cdot x^m}\\ dx = 1 $$\n",
    "$$ F(x) = \\frac{c}{m+1}\\cdot x^{m+1} $$\n",
    "$$ \\left. F(x) = \\frac{c}{m+1}\\cdot x^{m+1}\\right|_0^1 = 1 $$\n",
    "$$ \\frac{c}{m+1}\\cdot 1^{m+1} - \\frac{c}{m+1}\\cdot 0^{m+1} = 1$$\n",
    "$$ \\frac{c}{m+1}\\cdot 1= 1 $$\n",
    "$$ \\frac{c}{m+1} = 1 $$\n",
    "$$ c = m+1 $$"
   ]
  },
  {
   "cell_type": "markdown",
   "metadata": {},
   "source": [
    "### (b)\n",
    "Berechnen Sie den Erwartungswert $E[ X ]$ ."
   ]
  },
  {
   "cell_type": "markdown",
   "metadata": {},
   "source": [
    "$$ E[X] = \\int\\limits_0^1 x\\cdot f(x)\\ dx $$\n",
    "\n",
    "$$ f(x;m) = (m + 1) \\cdot x^{m} $$\n",
    "\n",
    "$$ E[X] =  \\int\\limits_0^1 { (m+1)\\cdot x\\cdot x^m}\\ dx$$\n",
    "$$ E[X] =  \\int\\limits_0^1 { (m+1)\\cdot x^{m+1}} dx  $$\n",
    "\n",
    "$$ E[X] =  \\left. \\frac{m+1}{m+2}\\cdot x^{m+2}\\right|_0^1 $$\n",
    "\n",
    "$$ E[X] =  \\frac{m+1}{m+2} $$\n"
   ]
  },
  {
   "cell_type": "markdown",
   "metadata": {},
   "source": [
    "### (c)\n",
    "Berechnen Sie die Varianz $Var[ X ]$ ."
   ]
  },
  {
   "cell_type": "markdown",
   "metadata": {},
   "source": [
    "$$ Var[X] = \\int\\limits_0^1 (x-E[X])^2\\cdot f(x)\\ dx $$\n",
    "$$ = \\int\\limits_0^1 \\left(x-\\frac{m+1}{m+2}\\right)^2\\cdot (m+1)\\cdot x^m\\ dx $$\n",
    "$$ e_x = \\frac{m+1}{m+2}$$\n",
    "$$ = (m+1)\\cdot\\int\\limits_0^1 \\left(x-e_x\\right)^2\\cdot x^m\\ dx $$\n",
    "$$ = (m+1)\\cdot\\int\\limits_0^1 \\left(x^2-2\\cdot x\\cdot e_x + e_x^2\\right)\\cdot x^m\\ dx $$\n",
    "$$ = (m+1)\\cdot\\int\\limits_0^1 x^{m+2}-2\\cdot e_x \\cdot x^{m+1} + e_x^2\\cdot x^m\\ dx $$\n",
    "$$ = (m+1)\\left(\\left. \\frac{1}{m+3} x^{m+3}-\\frac{2}{m+2} \\frac{m+1}{m+2} x^{m+2} + \\frac{1}{m+1}\\left(\\frac{m+1}{m+2}\\right)^2 x^{m+1} \\right|_0^1 \\right) $$\n",
    "$$ = (m+1)\\left( \\frac{1}{m+3}-\\frac{2}{m+2} \\frac{m+1}{m+2} + \\frac{1}{m+1}\\left(\\frac{m+1}{m+2}\\right)^2 \\right) $$\n",
    "$$ = \\frac{m+1}{m+3}-2\\frac{m+1}{m+2} \\frac{m+1}{m+2} + \\left(\\frac{m+1}{m+2}\\right)^2 $$\n",
    "$$ = \\frac{m+1}{m+3}-2 \\left(\\frac{m+1}{m+2}\\right)^2 + \\left(\\frac{m+1}{m+2}\\right)^2 $$\n",
    "$$ = \\frac{m+1}{m+3}- \\left(\\frac{m+1}{m+2}\\right)^2 $$"
   ]
  },
  {
   "cell_type": "markdown",
   "metadata": {},
   "source": [
    "### (d)\n",
    "Es wurden folgende Datenpunkte beobachtet: $x_1 = 0.3$, $x_2 = 0.5$ und $x_3 = 0.7$. Schätzen Sie den Parameter $m$ mit Hilfe der Momentenmethode."
   ]
  },
  {
   "cell_type": "markdown",
   "metadata": {},
   "source": [
    "$$ E[X] = \\hat\\mu $$\n",
    "$$ \\hat\\mu = \\frac{0.3+0.5+0.7}{3} $$\n",
    "$$ \\frac{\\hat m+1}{\\hat m+2} = 0.5 $$\n",
    "$$ \\hat m+1 = \\frac{1}{2}\\hat m + 1$$\n",
    "$$ \\hat m = \\frac{1}{2}\\hat m $$\n",
    "$$ \\frac{1}{2}\\hat m = 0 $$\n",
    "$$ \\hat m = 0 $$"
   ]
  },
  {
   "cell_type": "markdown",
   "metadata": {},
   "source": [
    "### (e)\n",
    "Schreiben Sie die Likelihood-Funktion für die Beobachtungen $x_1 = 0.3$, $x_2 = 0.5$ und $x_3 = 0.7$. Beschreiben Sie in 2-3 Sätzen, wie Sie mit der Maximum-Likelihood-Methode den Parameter m schätzen."
   ]
  },
  {
   "cell_type": "markdown",
   "metadata": {},
   "source": [
    "Die Likelihood-Funktion in diesem Fall ist $\\prod\\limits_1^3 c\\cdot x_i^m$, und somit mit den Werten eingesetzt:\n",
    "$$ f(m) = (m+1)^3\\cdot(0.3)^m\\cdot(0.5)^m\\cdot(0.7)^m $$\n",
    "\n",
    "Um das Maximum dieser Funktion herauszufinden leiten wir nun diesen Ausdruck nach m ab und berechnen die Nullstellen. Dies würde jedoch bei dieser Funktion mühsam sein. Wir bedienen uns daher an der Eigenschaft das die Extrema einer Funktion auch Extreme der $log(f(x))$ sind. Meistens ist diese log Funktion einfacher abzuleiten.\n",
    "\n",
    "In unserem Fall wäre $log(f(m))$:\n",
    "$$ log(f(m)) = 3\\cdot log(m+1) + m\\cdot log(0.3) + m\\cdot log(0.5) +m \\cdot log(0.7) $$\n",
    "Und deren Ableitung:\n",
    "$$ \\frac{d}{dm}log(f(m)) = \\frac{3}{m+1} + log(0.3) + log(0.5) + log(0.7)$$\n",
    "Um die Extrema herauszufinden:\n",
    "$$ 0 = \\frac{3}{m+1} + log(0.3) + log(0.5) + log(0.7)$$ "
   ]
  },
  {
   "cell_type": "markdown",
   "metadata": {},
   "source": [
    "## Aufgabe 2: An die wahren Helden der WM18\n",
    "Als ein Schiedsrichter im Jahre 1990 bei den U.S. Major League Baseball Games zusammenbrach und verstarb, wurde spekuliert, dass der mit diesem Beruf verbundene Stress ein ernsthaftes Gesundheitsrisiko darstellt. Forscher haben darauf historische und damals aktuelle Daten über Schiedsrichter gesammelt, um deren Lebenserwartung zu untersuchen (Cohen et al., _Life expectancy of Major League Baseball Umpires_, The Physician and Sportsmedicine, 28(5) (2000):83-89).\n",
    "Die in dieser Studie erhobenen Daten beinhalten eine Liste von 227 Schiedsrichtern, die entweder gestorben oder aber pensioniert und immer noch am Leben waren. Sie finden in der Datei `Lebenserwartung_Schiedsrichter` auf dem USB-Stick im Verzeichnis Austausch die erhobenen Daten: In der ersten Spalte ist die beobachtete Lebenszeit (Alter) in Jahren aufgeführt, in der zweiten Spalte befindet sich die Angabe, ob der betreffende Schiedsrichter tot ( = 0) oder noch am Leben ( = 1) ist. In der dritten und letzten Spalte ist die aufgrund von einer Lebensversicherung geschätzte erwartete Lebenszeit aufgeführt. Berücksichtigen Sie in Teilaufgaben (a) bis (d) bloss die Schiedsrichter, die bereits gestorben sind. \n",
    "\n",
    "__Hinweis__: Falls Sie die toten Schiedsrichter nicht von den lebendigen unterscheiden können, dann berücksichtigen Sie alle, ob tot oder lebendig.\n",
    "\n",
    "### (a)\n",
    "Führen Sie einen t-Test auf dem 1%-Signifikanzniveau durch, um zu ermitteln, ob Schiedsrichter eine kleinere beobachtete Lebenszeit (Alter) haben als erwartet.\n",
    "Formulieren Sie die Null- und Alternativhypothese, und geben Sie den Verwerfungsbereich an. Wie lautet das Testergebnis?"
   ]
  },
  {
   "cell_type": "code",
   "execution_count": 1,
   "metadata": {},
   "outputs": [],
   "source": [
    "import matplotlib.pyplot as plt\n",
    "import scipy.stats as st\n",
    "import seaborn as sns\n",
    "import pandas as pd\n",
    "import numpy as np"
   ]
  },
  {
   "cell_type": "code",
   "execution_count": 27,
   "metadata": {},
   "outputs": [
    {
     "data": {
      "text/html": [
       "<div>\n",
       "<style scoped>\n",
       "    .dataframe tbody tr th:only-of-type {\n",
       "        vertical-align: middle;\n",
       "    }\n",
       "\n",
       "    .dataframe tbody tr th {\n",
       "        vertical-align: top;\n",
       "    }\n",
       "\n",
       "    .dataframe thead th {\n",
       "        text-align: right;\n",
       "    }\n",
       "</style>\n",
       "<table border=\"1\" class=\"dataframe\">\n",
       "  <thead>\n",
       "    <tr style=\"text-align: right;\">\n",
       "      <th></th>\n",
       "      <th>Age</th>\n",
       "      <th>Alive</th>\n",
       "      <th>Age_Estimated</th>\n",
       "    </tr>\n",
       "  </thead>\n",
       "  <tbody>\n",
       "    <tr>\n",
       "      <th>0</th>\n",
       "      <td>63</td>\n",
       "      <td>0</td>\n",
       "      <td>70</td>\n",
       "    </tr>\n",
       "    <tr>\n",
       "      <th>1</th>\n",
       "      <td>69</td>\n",
       "      <td>0</td>\n",
       "      <td>71</td>\n",
       "    </tr>\n",
       "    <tr>\n",
       "      <th>2</th>\n",
       "      <td>58</td>\n",
       "      <td>0</td>\n",
       "      <td>71</td>\n",
       "    </tr>\n",
       "    <tr>\n",
       "      <th>3</th>\n",
       "      <td>70</td>\n",
       "      <td>0</td>\n",
       "      <td>70</td>\n",
       "    </tr>\n",
       "    <tr>\n",
       "      <th>4</th>\n",
       "      <td>68</td>\n",
       "      <td>0</td>\n",
       "      <td>69</td>\n",
       "    </tr>\n",
       "  </tbody>\n",
       "</table>\n",
       "</div>"
      ],
      "text/plain": [
       "   Age  Alive  Age_Estimated\n",
       "0   63      0             70\n",
       "1   69      0             71\n",
       "2   58      0             71\n",
       "3   70      0             70\n",
       "4   68      0             69"
      ]
     },
     "execution_count": 27,
     "metadata": {},
     "output_type": "execute_result"
    }
   ],
   "source": [
    "umpires = pd.read_csv(\"Schiedsrichter_Lebenserwartung.txt\", sep=\" \")\n",
    "umpires_dead = umpires[umpires[\"Alive\"] == 0]\n",
    "umpires_dead = umpires_dead.reset_index(drop=True)\n",
    "umpires_dead.head()"
   ]
  },
  {
   "cell_type": "markdown",
   "metadata": {},
   "source": [
    "Nullhypothese: Es gibt keinen Unterschied zwischen der Erwarteten Lebenserwartung und der effektiven. $\\mu_E = \\mu_0$\n",
    "\n",
    "Alternativhypothese: Die Schiedsrichter werder weniger alt als ihre Lebenserwartung ist. $\\mu_E<\\mu_0$\n",
    "\n",
    "Verwerfungsbereich: $[-\\infty,t_{n-1};\\alpha]$"
   ]
  },
  {
   "cell_type": "code",
   "execution_count": 33,
   "metadata": {},
   "outputs": [
    {
     "data": {
      "text/plain": [
       "195"
      ]
     },
     "execution_count": 33,
     "metadata": {},
     "output_type": "execute_result"
    }
   ],
   "source": [
    "umpires_dead.Age.size"
   ]
  },
  {
   "cell_type": "code",
   "execution_count": 35,
   "metadata": {},
   "outputs": [
    {
     "data": {
      "text/plain": [
       "(67.09608915395012, 69.85775699989603)"
      ]
     },
     "execution_count": 35,
     "metadata": {},
     "output_type": "execute_result"
    }
   ],
   "source": [
    "st.t.interval(alpha=0.99, df=194, loc=umpires_dead.Age.mean(), scale=umpires_dead.Age.std()/np.sqrt(195))"
   ]
  },
  {
   "cell_type": "code",
   "execution_count": 36,
   "metadata": {},
   "outputs": [
    {
     "data": {
      "text/plain": [
       "-2.3457228057724366"
      ]
     },
     "execution_count": 36,
     "metadata": {},
     "output_type": "execute_result"
    }
   ],
   "source": [
    "st.t.ppf(q=0.01, df=194)"
   ]
  },
  {
   "cell_type": "markdown",
   "metadata": {},
   "source": [
    "Verwerfungsbereich daher $[-\\infty;-2.345]$"
   ]
  },
  {
   "cell_type": "markdown",
   "metadata": {},
   "source": [
    "Formel t-Test:\n",
    "$$ \\frac{beobachtet - erwartet}{Standardfehler} $$"
   ]
  },
  {
   "cell_type": "code",
   "execution_count": 45,
   "metadata": {},
   "outputs": [
    {
     "name": "stdout",
     "output_type": "stream",
     "text": [
      "-0.9870367754367101\n"
     ]
    }
   ],
   "source": [
    "umpires_diff = (umpires_dead.Age-umpires_dead.Age_Estimated)\n",
    "t_statistic = umpires_diff.mean()/(umpires_diff.std()/np.sqrt(umpires_diff.size))\n",
    "print(t_statistic)"
   ]
  },
  {
   "cell_type": "code",
   "execution_count": 39,
   "metadata": {
    "scrolled": true
   },
   "outputs": [
    {
     "data": {
      "text/plain": [
       "-0.9870367754367101"
      ]
     },
     "execution_count": 39,
     "metadata": {},
     "output_type": "execute_result"
    }
   ],
   "source": [
    "t_res = st.ttest_rel(umpires_dead.Age, umpires_dead.Age_Estimated)\n",
    "t_res.statistic"
   ]
  },
  {
   "cell_type": "code",
   "execution_count": 40,
   "metadata": {},
   "outputs": [
    {
     "data": {
      "text/plain": [
       "0.162427018369938"
      ]
     },
     "execution_count": 40,
     "metadata": {},
     "output_type": "execute_result"
    }
   ],
   "source": [
    "t_res.pvalue/2"
   ]
  },
  {
   "cell_type": "markdown",
   "metadata": {},
   "source": [
    "Die Statistik liegt nicht im Verwerfungsbereich, auch der p-Wert mit 0.162 nicht im Signifikanzniveau von 0.0.1  und weist nicht auf eine Verwerfung der Nullhypothese hin."
   ]
  },
  {
   "cell_type": "markdown",
   "metadata": {},
   "source": [
    "### (b)\n",
    "Erklären Sie die Teststatistik im t-Test in 4-5 Sätzen. Verwenden Sie in Ihrer\n",
    "Argumentation die folgenden Begriffe:\n",
    "\n",
    "i) Teststatistik\n",
    "\n",
    "ii) Zufallsvariable\n",
    "\n",
    "iii) standardisierte Zufallsvariable\n",
    "\n",
    "iv) Abhängigkeit der Teststatistik vom Stichprobenumfang n\n",
    "\n",
    "v) Zentraler Grenzwertsatz"
   ]
  },
  {
   "cell_type": "markdown",
   "metadata": {},
   "source": [
    "Siehe Lösung"
   ]
  },
  {
   "cell_type": "markdown",
   "metadata": {},
   "source": [
    "### (c)\n",
    "Geben Sie ein 99%-Vertrauensintervall an, und erklären Sie, wie Sie das Testergebnis daraus bestimmen.\n"
   ]
  },
  {
   "cell_type": "code",
   "execution_count": 55,
   "metadata": {},
   "outputs": [
    {
     "data": {
      "text/plain": [
       "(-1.8181317009452997, 0.7412086240222228)"
      ]
     },
     "execution_count": 55,
     "metadata": {},
     "output_type": "execute_result"
    }
   ],
   "source": [
    "st.t.interval(alpha=0.98, df=194, loc=umpires_diff.mean(), scale=umpires_diff.std()/np.sqrt(195))"
   ]
  },
  {
   "cell_type": "markdown",
   "metadata": {},
   "source": [
    "Wir haben in diesem 99%Vertrauensintervall die Streuung der Differenz berechnet, da 0 darin enthalten ist, können wir davon ausgehen, dass der wahre Wert der Nullhypothese darin liegt."
   ]
  },
  {
   "cell_type": "markdown",
   "metadata": {},
   "source": [
    "### (d)\n",
    "Führen Sie einen Vorzeichen- oder Wilcoxon-Test durch. Erläutern Sie die Annahmen an die Teststatistik, und formulieren Sie die Null- und Alternativhypothese.\n",
    "\n",
    "Kommen Sie zum selben Testergebnis wie beim t-Test?"
   ]
  },
  {
   "cell_type": "code",
   "execution_count": 59,
   "metadata": {},
   "outputs": [
    {
     "data": {
      "text/plain": [
       "0    -7\n",
       "1    -2\n",
       "2   -13\n",
       "3     0\n",
       "4    -1\n",
       "dtype: int64"
      ]
     },
     "execution_count": 59,
     "metadata": {},
     "output_type": "execute_result"
    }
   ],
   "source": [
    "umpires_diff.head()"
   ]
  },
  {
   "cell_type": "code",
   "execution_count": 67,
   "metadata": {},
   "outputs": [
    {
     "data": {
      "text/plain": [
       "WilcoxonResult(statistic=8013.0, pvalue=0.6591227576438576)"
      ]
     },
     "execution_count": 67,
     "metadata": {},
     "output_type": "execute_result"
    }
   ],
   "source": [
    "st.wilcoxon(umpires_dead.Age, umpires_dead.Age_Estimated, zero_method=\"wilcox\")"
   ]
  },
  {
   "cell_type": "markdown",
   "metadata": {},
   "source": [
    "Der Wilcoxon Test vergleicht die Differenz zweier Serien. Er gibt jeder absoluten Differenz ein Rang und berechnet die Wahrscheinlichkeit, dass dieser normalverteilt um die Hälfte der Rangsumme zu liegen kommt."
   ]
  },
  {
   "cell_type": "markdown",
   "metadata": {},
   "source": [
    "### (e)\n",
    "Geben Sie die mittlere beobachtete Lebenszeit (Alter) der noch lebenden Schiedsrichter mit relativem Fehler an."
   ]
  },
  {
   "cell_type": "code",
   "execution_count": 71,
   "metadata": {},
   "outputs": [
    {
     "data": {
      "text/html": [
       "<div>\n",
       "<style scoped>\n",
       "    .dataframe tbody tr th:only-of-type {\n",
       "        vertical-align: middle;\n",
       "    }\n",
       "\n",
       "    .dataframe tbody tr th {\n",
       "        vertical-align: top;\n",
       "    }\n",
       "\n",
       "    .dataframe thead th {\n",
       "        text-align: right;\n",
       "    }\n",
       "</style>\n",
       "<table border=\"1\" class=\"dataframe\">\n",
       "  <thead>\n",
       "    <tr style=\"text-align: right;\">\n",
       "      <th></th>\n",
       "      <th>Age</th>\n",
       "      <th>Alive</th>\n",
       "      <th>Age_Estimated</th>\n",
       "    </tr>\n",
       "  </thead>\n",
       "  <tbody>\n",
       "    <tr>\n",
       "      <th>0</th>\n",
       "      <td>61</td>\n",
       "      <td>1</td>\n",
       "      <td>70</td>\n",
       "    </tr>\n",
       "    <tr>\n",
       "      <th>1</th>\n",
       "      <td>53</td>\n",
       "      <td>1</td>\n",
       "      <td>69</td>\n",
       "    </tr>\n",
       "    <tr>\n",
       "      <th>2</th>\n",
       "      <td>57</td>\n",
       "      <td>1</td>\n",
       "      <td>68</td>\n",
       "    </tr>\n",
       "    <tr>\n",
       "      <th>3</th>\n",
       "      <td>69</td>\n",
       "      <td>1</td>\n",
       "      <td>70</td>\n",
       "    </tr>\n",
       "    <tr>\n",
       "      <th>4</th>\n",
       "      <td>60</td>\n",
       "      <td>1</td>\n",
       "      <td>61</td>\n",
       "    </tr>\n",
       "  </tbody>\n",
       "</table>\n",
       "</div>"
      ],
      "text/plain": [
       "   Age  Alive  Age_Estimated\n",
       "0   61      1             70\n",
       "1   53      1             69\n",
       "2   57      1             68\n",
       "3   69      1             70\n",
       "4   60      1             61"
      ]
     },
     "execution_count": 71,
     "metadata": {},
     "output_type": "execute_result"
    }
   ],
   "source": [
    "umpires_alive.head()"
   ]
  },
  {
   "cell_type": "code",
   "execution_count": 76,
   "metadata": {},
   "outputs": [
    {
     "name": "stdout",
     "output_type": "stream",
     "text": [
      "59.125 +- 1.6857816590150323%\n"
     ]
    }
   ],
   "source": [
    "print(str(umpires_alive.Age.mean()) + \" +- \" + str(umpires_alive.Age.std()/np.sqrt(umpires_alive.Age.size)/umpires_alive.Age.mean()*100) + \"%\")"
   ]
  },
  {
   "cell_type": "markdown",
   "metadata": {},
   "source": [
    "## Aufgabe 3 - Varianzanalyse\n",
    "\n",
    "Eine trendige Weinbar führt ein Experiment durch, in welchem die Qualität von 3 Weinen bewertet werden. Dazu werden fünf Weinkenner eingeladen und gebeten, jeden Wein zu probieren und mit einer Bewertung zwischen 0 und 10 zu versehen. Die Reihenfolge der Degustation war randomisiert, und die Testleiter wussten nicht, welchen Wein sie tranken.\n",
    "\n",
    "Die folgende Tabelle zeigt die gesammelten Daten:\n",
    "\n",
    "| Tester | Wein 1 | Wein 2 | Wein 3 |\n",
    "| :--- | :--- | :--- | :--- |\n",
    "| Person 1 | 1 | 7 | 5 |\n",
    "| Person 2 | 0 | 4 | 0 |\n",
    "| Person 3 | 1 | 6 | 4 |\n",
    "| Person 4 | 1 | 5 | 2 |\n",
    "| Person 5 | 1 | 8 | 10 |\n",
    "\n",
    "In Python kann die Tabelle folgendermassen eingelesen werden:\n",
    "```python\n",
    "from pandas import DataFrame\n",
    "from statsmodels.formula.api import ols\n",
    "from patsy.contrasts import Sum\n",
    "from statsmodels.stats.anova import anova_lm\n",
    "import numpy as np\n",
    "import warnings\n",
    "warnings.filterwarnings(\"ignore\")\n",
    "df = DataFrame({\"Person\": np.repeat([\"P1\", \"P2\", \"P3\",\"P4\",\"P5\"],3),\n",
    "\"Wein\": np.tile([\"W1\", \"W2\", \"W3\"],5),\n",
    "\"Y\": np.array([1,7,5,0,4,0,1,6,4,1,5,2,1,8,10])\n",
    "})\n",
    "fit = ols(\"Y ~ C(Person,Sum)+C(Wein,Sum)\",data=df).fit()\n",
    "```\n",
    "\n",
    "### (a)\n",
    "Schreiben Sie das der Python-Ausgabe zugrunde liegende (allgemeine) Gruppenmittel-Modell auf. Welche Nebenbedingungen wurden benützt? Um welches Versuchsdesign handelt es sich hier?\n",
    "\n",
    "Welche Rolle haben die einzelnen Faktoren im Modell?"
   ]
  },
  {
   "cell_type": "markdown",
   "metadata": {},
   "source": [
    "Wir gehen davon aus, dass die beobachteten Werte der einzelnen Gruppen realisierungen einer normalverteilten Zufallsvariable um den jeweiligen Gruppenmittelwert $\\mu_i$ sind. Nebenbedingungen, sowohl Beobachtungen wie auch die Fehler sind unabhängig, identisch normalverteilt.\n",
    "\n",
    "Es handelt sich dabei um ein Blockdesign, mit randomisierten Durchführungen der Beobachtung. Wir wollen damit Confounding verhindern (bspw. das der Konsum von schlechtem Wein, den nächsten Wein automatisch besser macht, wenn dies immer der gleiche wäre würden wir das Ergebnis künstlich beinflussen).\n",
    "\n",
    "$\\mu$: globaler Mittelwert. $\\tau_i$ Blockspezifische Abweichung vom globalen Mittelwert. $\\varepsilon_{ij}$: i.i.d. Fehlerterm der Beobachtung"
   ]
  },
  {
   "cell_type": "code",
   "execution_count": 3,
   "metadata": {},
   "outputs": [
    {
     "data": {
      "text/html": [
       "<div>\n",
       "<style scoped>\n",
       "    .dataframe tbody tr th:only-of-type {\n",
       "        vertical-align: middle;\n",
       "    }\n",
       "\n",
       "    .dataframe tbody tr th {\n",
       "        vertical-align: top;\n",
       "    }\n",
       "\n",
       "    .dataframe thead th {\n",
       "        text-align: right;\n",
       "    }\n",
       "</style>\n",
       "<table border=\"1\" class=\"dataframe\">\n",
       "  <thead>\n",
       "    <tr style=\"text-align: right;\">\n",
       "      <th></th>\n",
       "      <th>df</th>\n",
       "      <th>sum_sq</th>\n",
       "      <th>mean_sq</th>\n",
       "      <th>F</th>\n",
       "      <th>PR(&gt;F)</th>\n",
       "    </tr>\n",
       "  </thead>\n",
       "  <tbody>\n",
       "    <tr>\n",
       "      <th>C(Person, Sum)</th>\n",
       "      <td>4.0</td>\n",
       "      <td>42.000000</td>\n",
       "      <td>10.500000</td>\n",
       "      <td>3.281250</td>\n",
       "      <td>0.071681</td>\n",
       "    </tr>\n",
       "    <tr>\n",
       "      <th>C(Wein, Sum)</th>\n",
       "      <td>2.0</td>\n",
       "      <td>69.733333</td>\n",
       "      <td>34.866667</td>\n",
       "      <td>10.895833</td>\n",
       "      <td>0.005200</td>\n",
       "    </tr>\n",
       "    <tr>\n",
       "      <th>Residual</th>\n",
       "      <td>8.0</td>\n",
       "      <td>25.600000</td>\n",
       "      <td>3.200000</td>\n",
       "      <td>NaN</td>\n",
       "      <td>NaN</td>\n",
       "    </tr>\n",
       "  </tbody>\n",
       "</table>\n",
       "</div>"
      ],
      "text/plain": [
       "                 df     sum_sq    mean_sq          F    PR(>F)\n",
       "C(Person, Sum)  4.0  42.000000  10.500000   3.281250  0.071681\n",
       "C(Wein, Sum)    2.0  69.733333  34.866667  10.895833  0.005200\n",
       "Residual        8.0  25.600000   3.200000        NaN       NaN"
      ]
     },
     "execution_count": 3,
     "metadata": {},
     "output_type": "execute_result"
    }
   ],
   "source": [
    "from pandas import DataFrame\n",
    "from statsmodels.formula.api import ols\n",
    "from patsy.contrasts import Sum\n",
    "from statsmodels.stats.anova import anova_lm\n",
    "import numpy as np\n",
    "import warnings\n",
    "\n",
    "warnings.filterwarnings(\"ignore\")\n",
    "\n",
    "df = DataFrame({\"Person\": np.repeat([\"P1\", \"P2\", \"P3\",\"P4\",\"P5\"],3),\n",
    "\"Wein\": np.tile([\"W1\", \"W2\", \"W3\"],5),\n",
    "\"Y\": np.array([1,7,5,0,4,0,1,6,4,1,5,2,1,8,10])\n",
    "})\n",
    "fit = ols(\"Y ~ C(Person,Sum)+C(Wein,Sum)\",data=df).fit()\n",
    "anova_lm(fit)"
   ]
  },
  {
   "cell_type": "markdown",
   "metadata": {},
   "source": [
    "### (b) \n",
    "Hat die Weinsorte einen Effekt auf die Bewertung? Wie lautet die Nullhypothese in Bezug auf die entsprechenden Parameterwerte? \n",
    "\n",
    "Geben Sie die Teststatistik, deren Bedeutung und Verteilung und den p-Wert der Realisierung der Teststatistik unter\n",
    "der Nullhypothese an."
   ]
  },
  {
   "cell_type": "markdown",
   "metadata": {},
   "source": [
    "Ja die Weinsorte hat einen Effekt auf die Bewertung.\n",
    "\n",
    "Nullhypothese im Bezug auf die Parameterwerte: Die Weinsorte hat keinen Effekt auf den Gruppenmittelwert im Vergleich zu den anderen Gruppenmittelwerte.\n",
    "$ \\mu_{w1} = \\mu_{w2} = \\mu_{w3}$\n",
    "\n",
    "Teststatistik F gegeben durch: $F = \\frac{Streuung\\ zwischen\\ den\\ Gruppen}{Streuung\\ innerhalb\\ der\\ Gruppe} = \\frac{MS_G}{MS_E}$\n",
    "\n",
    "Falls die Nullhypothese richtig wäre, würde die F Statistik einen Wert nahe 1 annehmen. Bei uns wird die Teststatistik F mit 10.89583 und einem p-Wert von 0.0052 auf einem Niveau von 1% verworfen."
   ]
  },
  {
   "cell_type": "markdown",
   "metadata": {},
   "source": [
    "### (c)\n",
    "Wie gross ist die geschätzte Differenz der Bewertung zwischen Weinsorte 1 und Weinsorte 2?"
   ]
  },
  {
   "cell_type": "code",
   "execution_count": 4,
   "metadata": {},
   "outputs": [
    {
     "data": {
      "text/html": [
       "<table class=\"simpletable\">\n",
       "<caption>OLS Regression Results</caption>\n",
       "<tr>\n",
       "  <th>Dep. Variable:</th>            <td>Y</td>        <th>  R-squared:         </th> <td>   0.814</td>\n",
       "</tr>\n",
       "<tr>\n",
       "  <th>Model:</th>                   <td>OLS</td>       <th>  Adj. R-squared:    </th> <td>   0.674</td>\n",
       "</tr>\n",
       "<tr>\n",
       "  <th>Method:</th>             <td>Least Squares</td>  <th>  F-statistic:       </th> <td>   5.819</td>\n",
       "</tr>\n",
       "<tr>\n",
       "  <th>Date:</th>             <td>Mon, 28 Jan 2019</td> <th>  Prob (F-statistic):</th>  <td>0.0131</td> \n",
       "</tr>\n",
       "<tr>\n",
       "  <th>Time:</th>                 <td>21:50:38</td>     <th>  Log-Likelihood:    </th> <td> -25.293</td>\n",
       "</tr>\n",
       "<tr>\n",
       "  <th>No. Observations:</th>      <td>    15</td>      <th>  AIC:               </th> <td>   64.59</td>\n",
       "</tr>\n",
       "<tr>\n",
       "  <th>Df Residuals:</th>          <td>     8</td>      <th>  BIC:               </th> <td>   69.54</td>\n",
       "</tr>\n",
       "<tr>\n",
       "  <th>Df Model:</th>              <td>     6</td>      <th>                     </th>     <td> </td>   \n",
       "</tr>\n",
       "<tr>\n",
       "  <th>Covariance Type:</th>      <td>nonrobust</td>    <th>                     </th>     <td> </td>   \n",
       "</tr>\n",
       "</table>\n",
       "<table class=\"simpletable\">\n",
       "<tr>\n",
       "            <td></td>              <th>coef</th>     <th>std err</th>      <th>t</th>      <th>P>|t|</th>  <th>[0.025</th>    <th>0.975]</th>  \n",
       "</tr>\n",
       "<tr>\n",
       "  <th>Intercept</th>            <td>    3.6667</td> <td>    0.462</td> <td>    7.939</td> <td> 0.000</td> <td>    2.602</td> <td>    4.732</td>\n",
       "</tr>\n",
       "<tr>\n",
       "  <th>C(Person, Sum)[S.P1]</th> <td>    0.6667</td> <td>    0.924</td> <td>    0.722</td> <td> 0.491</td> <td>   -1.464</td> <td>    2.797</td>\n",
       "</tr>\n",
       "<tr>\n",
       "  <th>C(Person, Sum)[S.P2]</th> <td>   -2.3333</td> <td>    0.924</td> <td>   -2.526</td> <td> 0.035</td> <td>   -4.464</td> <td>   -0.203</td>\n",
       "</tr>\n",
       "<tr>\n",
       "  <th>C(Person, Sum)[S.P3]</th> <td> 5.551e-16</td> <td>    0.924</td> <td> 6.01e-16</td> <td> 1.000</td> <td>   -2.130</td> <td>    2.130</td>\n",
       "</tr>\n",
       "<tr>\n",
       "  <th>C(Person, Sum)[S.P4]</th> <td>   -1.0000</td> <td>    0.924</td> <td>   -1.083</td> <td> 0.311</td> <td>   -3.130</td> <td>    1.130</td>\n",
       "</tr>\n",
       "<tr>\n",
       "  <th>C(Wein, Sum)[S.W1]</th>   <td>   -2.8667</td> <td>    0.653</td> <td>   -4.389</td> <td> 0.002</td> <td>   -4.373</td> <td>   -1.360</td>\n",
       "</tr>\n",
       "<tr>\n",
       "  <th>C(Wein, Sum)[S.W2]</th>   <td>    2.3333</td> <td>    0.653</td> <td>    3.572</td> <td> 0.007</td> <td>    0.827</td> <td>    3.840</td>\n",
       "</tr>\n",
       "</table>\n",
       "<table class=\"simpletable\">\n",
       "<tr>\n",
       "  <th>Omnibus:</th>       <td> 2.108</td> <th>  Durbin-Watson:     </th> <td>   1.461</td>\n",
       "</tr>\n",
       "<tr>\n",
       "  <th>Prob(Omnibus):</th> <td> 0.349</td> <th>  Jarque-Bera (JB):  </th> <td>   0.546</td>\n",
       "</tr>\n",
       "<tr>\n",
       "  <th>Skew:</th>          <td> 0.375</td> <th>  Prob(JB):          </th> <td>   0.761</td>\n",
       "</tr>\n",
       "<tr>\n",
       "  <th>Kurtosis:</th>      <td> 3.559</td> <th>  Cond. No.          </th> <td>    2.24</td>\n",
       "</tr>\n",
       "</table><br/><br/>Warnings:<br/>[1] Standard Errors assume that the covariance matrix of the errors is correctly specified."
      ],
      "text/plain": [
       "<class 'statsmodels.iolib.summary.Summary'>\n",
       "\"\"\"\n",
       "                            OLS Regression Results                            \n",
       "==============================================================================\n",
       "Dep. Variable:                      Y   R-squared:                       0.814\n",
       "Model:                            OLS   Adj. R-squared:                  0.674\n",
       "Method:                 Least Squares   F-statistic:                     5.819\n",
       "Date:                Mon, 28 Jan 2019   Prob (F-statistic):             0.0131\n",
       "Time:                        21:50:38   Log-Likelihood:                -25.293\n",
       "No. Observations:                  15   AIC:                             64.59\n",
       "Df Residuals:                       8   BIC:                             69.54\n",
       "Df Model:                           6                                         \n",
       "Covariance Type:            nonrobust                                         \n",
       "========================================================================================\n",
       "                           coef    std err          t      P>|t|      [0.025      0.975]\n",
       "----------------------------------------------------------------------------------------\n",
       "Intercept                3.6667      0.462      7.939      0.000       2.602       4.732\n",
       "C(Person, Sum)[S.P1]     0.6667      0.924      0.722      0.491      -1.464       2.797\n",
       "C(Person, Sum)[S.P2]    -2.3333      0.924     -2.526      0.035      -4.464      -0.203\n",
       "C(Person, Sum)[S.P3]  5.551e-16      0.924   6.01e-16      1.000      -2.130       2.130\n",
       "C(Person, Sum)[S.P4]    -1.0000      0.924     -1.083      0.311      -3.130       1.130\n",
       "C(Wein, Sum)[S.W1]      -2.8667      0.653     -4.389      0.002      -4.373      -1.360\n",
       "C(Wein, Sum)[S.W2]       2.3333      0.653      3.572      0.007       0.827       3.840\n",
       "==============================================================================\n",
       "Omnibus:                        2.108   Durbin-Watson:                   1.461\n",
       "Prob(Omnibus):                  0.349   Jarque-Bera (JB):                0.546\n",
       "Skew:                           0.375   Prob(JB):                        0.761\n",
       "Kurtosis:                       3.559   Cond. No.                         2.24\n",
       "==============================================================================\n",
       "\n",
       "Warnings:\n",
       "[1] Standard Errors assume that the covariance matrix of the errors is correctly specified.\n",
       "\"\"\""
      ]
     },
     "execution_count": 4,
     "metadata": {},
     "output_type": "execute_result"
    }
   ],
   "source": [
    "fit.summary()"
   ]
  },
  {
   "cell_type": "code",
   "execution_count": 5,
   "metadata": {},
   "outputs": [
    {
     "data": {
      "text/plain": [
       "5.199999999999999"
      ]
     },
     "execution_count": 5,
     "metadata": {},
     "output_type": "execute_result"
    }
   ],
   "source": [
    "2.8667+2.3333"
   ]
  },
  {
   "cell_type": "markdown",
   "metadata": {},
   "source": [
    "$$ |-2.8667| + |2.3333| = 5.200 $$"
   ]
  },
  {
   "cell_type": "markdown",
   "metadata": {},
   "source": [
    "### (d)\n",
    "Muss der Effekt der Testperson im Gruppenmittel-Modell berücksichtigt werden? Begründen Sie Ihre Antwort.\n"
   ]
  },
  {
   "cell_type": "markdown",
   "metadata": {},
   "source": [
    "Nein, der p-Wert 0.07 der Blockvariable Person ist auf dem 5% Niveau nicht signifikant und könnte weggelassen werden."
   ]
  },
  {
   "cell_type": "markdown",
   "metadata": {},
   "source": [
    "### (e)\n",
    "Ihre Kollegin möchte folgenden Python-Code anwenden: Die Python-Ausgabe sieht folgendermassen aus:\n",
    "\n",
    "```python\n",
    "from pandas import DataFrame\n",
    "from statsmodels.formula.api import ols\n",
    "from patsy.contrasts import Sum\n",
    "from statsmodels.stats.anova import anova_lm\n",
    "import numpy as np\n",
    "import warnings\n",
    "\n",
    "warnings.filterwarnings(\"ignore\")\n",
    "\n",
    "df = DataFrame({\n",
    "\t\"Person\": np.repeat([\"P1\", \"P2\", \"P3\",\"P4\",\"P5\"],3),\n",
    "\t\"Wein\": np.tile([\"W1\", \"W2\", \"W3\"],5),\n",
    "\t\"Y\": np.array([1,7,5,0,4,0,1,6,4,1,5,2,1,8,10])\n",
    "})\n",
    "\n",
    "fit2 = ols(\"Y ~ C(Person,Sum) * C(Wein,Sum)\", data=df).fit()\n",
    "```\n",
    "Welches Modell passt sie an die Daten an? Kann sie statistische Tests durchführen?\n",
    "Begründen Sie Ihre Antwort."
   ]
  },
  {
   "cell_type": "code",
   "execution_count": 7,
   "metadata": {},
   "outputs": [
    {
     "data": {
      "text/html": [
       "<table class=\"simpletable\">\n",
       "<caption>OLS Regression Results</caption>\n",
       "<tr>\n",
       "  <th>Dep. Variable:</th>            <td>Y</td>        <th>  R-squared:         </th> <td>   1.000</td>\n",
       "</tr>\n",
       "<tr>\n",
       "  <th>Model:</th>                   <td>OLS</td>       <th>  Adj. R-squared:    </th> <td>     nan</td>\n",
       "</tr>\n",
       "<tr>\n",
       "  <th>Method:</th>             <td>Least Squares</td>  <th>  F-statistic:       </th> <td>   0.000</td>\n",
       "</tr>\n",
       "<tr>\n",
       "  <th>Date:</th>             <td>Mon, 28 Jan 2019</td> <th>  Prob (F-statistic):</th>  <td>   nan</td> \n",
       "</tr>\n",
       "<tr>\n",
       "  <th>Time:</th>                 <td>21:57:31</td>     <th>  Log-Likelihood:    </th> <td>  487.88</td>\n",
       "</tr>\n",
       "<tr>\n",
       "  <th>No. Observations:</th>      <td>    15</td>      <th>  AIC:               </th> <td>  -945.8</td>\n",
       "</tr>\n",
       "<tr>\n",
       "  <th>Df Residuals:</th>          <td>     0</td>      <th>  BIC:               </th> <td>  -935.1</td>\n",
       "</tr>\n",
       "<tr>\n",
       "  <th>Df Model:</th>              <td>    14</td>      <th>                     </th>     <td> </td>   \n",
       "</tr>\n",
       "<tr>\n",
       "  <th>Covariance Type:</th>      <td>nonrobust</td>    <th>                     </th>     <td> </td>   \n",
       "</tr>\n",
       "</table>\n",
       "<table class=\"simpletable\">\n",
       "<tr>\n",
       "                     <td></td>                        <th>coef</th>     <th>std err</th>      <th>t</th>      <th>P>|t|</th>  <th>[0.025</th>    <th>0.975]</th>  \n",
       "</tr>\n",
       "<tr>\n",
       "  <th>Intercept</th>                               <td>    3.6667</td> <td>      inf</td> <td>        0</td> <td>   nan</td> <td>      nan</td> <td>      nan</td>\n",
       "</tr>\n",
       "<tr>\n",
       "  <th>C(Person, Sum)[S.P1]</th>                    <td>    0.6667</td> <td>      inf</td> <td>        0</td> <td>   nan</td> <td>      nan</td> <td>      nan</td>\n",
       "</tr>\n",
       "<tr>\n",
       "  <th>C(Person, Sum)[S.P2]</th>                    <td>   -2.3333</td> <td>      inf</td> <td>       -0</td> <td>   nan</td> <td>      nan</td> <td>      nan</td>\n",
       "</tr>\n",
       "<tr>\n",
       "  <th>C(Person, Sum)[S.P3]</th>                    <td> -2.22e-16</td> <td>      inf</td> <td>       -0</td> <td>   nan</td> <td>      nan</td> <td>      nan</td>\n",
       "</tr>\n",
       "<tr>\n",
       "  <th>C(Person, Sum)[S.P4]</th>                    <td>   -1.0000</td> <td>      inf</td> <td>       -0</td> <td>   nan</td> <td>      nan</td> <td>      nan</td>\n",
       "</tr>\n",
       "<tr>\n",
       "  <th>C(Wein, Sum)[S.W1]</th>                      <td>   -2.8667</td> <td>      inf</td> <td>       -0</td> <td>   nan</td> <td>      nan</td> <td>      nan</td>\n",
       "</tr>\n",
       "<tr>\n",
       "  <th>C(Wein, Sum)[S.W2]</th>                      <td>    2.3333</td> <td>      inf</td> <td>        0</td> <td>   nan</td> <td>      nan</td> <td>      nan</td>\n",
       "</tr>\n",
       "<tr>\n",
       "  <th>C(Person, Sum)[S.P1]:C(Wein, Sum)[S.W1]</th> <td>   -0.4667</td> <td>      inf</td> <td>       -0</td> <td>   nan</td> <td>      nan</td> <td>      nan</td>\n",
       "</tr>\n",
       "<tr>\n",
       "  <th>C(Person, Sum)[S.P2]:C(Wein, Sum)[S.W1]</th> <td>    1.5333</td> <td>      inf</td> <td>        0</td> <td>   nan</td> <td>      nan</td> <td>      nan</td>\n",
       "</tr>\n",
       "<tr>\n",
       "  <th>C(Person, Sum)[S.P3]:C(Wein, Sum)[S.W1]</th> <td>    0.2000</td> <td>      inf</td> <td>        0</td> <td>   nan</td> <td>      nan</td> <td>      nan</td>\n",
       "</tr>\n",
       "<tr>\n",
       "  <th>C(Person, Sum)[S.P4]:C(Wein, Sum)[S.W1]</th> <td>    1.2000</td> <td>      inf</td> <td>        0</td> <td>   nan</td> <td>      nan</td> <td>      nan</td>\n",
       "</tr>\n",
       "<tr>\n",
       "  <th>C(Person, Sum)[S.P1]:C(Wein, Sum)[S.W2]</th> <td>    0.3333</td> <td>      inf</td> <td>        0</td> <td>   nan</td> <td>      nan</td> <td>      nan</td>\n",
       "</tr>\n",
       "<tr>\n",
       "  <th>C(Person, Sum)[S.P2]:C(Wein, Sum)[S.W2]</th> <td>    0.3333</td> <td>      inf</td> <td>        0</td> <td>   nan</td> <td>      nan</td> <td>      nan</td>\n",
       "</tr>\n",
       "<tr>\n",
       "  <th>C(Person, Sum)[S.P3]:C(Wein, Sum)[S.W2]</th> <td>         0</td> <td>      inf</td> <td>        0</td> <td>   nan</td> <td>      nan</td> <td>      nan</td>\n",
       "</tr>\n",
       "<tr>\n",
       "  <th>C(Person, Sum)[S.P4]:C(Wein, Sum)[S.W2]</th> <td> -1.11e-16</td> <td>      inf</td> <td>       -0</td> <td>   nan</td> <td>      nan</td> <td>      nan</td>\n",
       "</tr>\n",
       "</table>\n",
       "<table class=\"simpletable\">\n",
       "<tr>\n",
       "  <th>Omnibus:</th>       <td> 0.090</td> <th>  Durbin-Watson:     </th> <td>   1.073</td>\n",
       "</tr>\n",
       "<tr>\n",
       "  <th>Prob(Omnibus):</th> <td> 0.956</td> <th>  Jarque-Bera (JB):  </th> <td>   0.205</td>\n",
       "</tr>\n",
       "<tr>\n",
       "  <th>Skew:</th>          <td>-0.146</td> <th>  Prob(JB):          </th> <td>   0.903</td>\n",
       "</tr>\n",
       "<tr>\n",
       "  <th>Kurtosis:</th>      <td> 2.507</td> <th>  Cond. No.          </th> <td>    3.87</td>\n",
       "</tr>\n",
       "</table><br/><br/>Warnings:<br/>[1] Standard Errors assume that the covariance matrix of the errors is correctly specified."
      ],
      "text/plain": [
       "<class 'statsmodels.iolib.summary.Summary'>\n",
       "\"\"\"\n",
       "                            OLS Regression Results                            \n",
       "==============================================================================\n",
       "Dep. Variable:                      Y   R-squared:                       1.000\n",
       "Model:                            OLS   Adj. R-squared:                    nan\n",
       "Method:                 Least Squares   F-statistic:                     0.000\n",
       "Date:                Mon, 28 Jan 2019   Prob (F-statistic):                nan\n",
       "Time:                        21:57:31   Log-Likelihood:                 487.88\n",
       "No. Observations:                  15   AIC:                            -945.8\n",
       "Df Residuals:                       0   BIC:                            -935.1\n",
       "Df Model:                          14                                         \n",
       "Covariance Type:            nonrobust                                         \n",
       "===========================================================================================================\n",
       "                                              coef    std err          t      P>|t|      [0.025      0.975]\n",
       "-----------------------------------------------------------------------------------------------------------\n",
       "Intercept                                   3.6667        inf          0        nan         nan         nan\n",
       "C(Person, Sum)[S.P1]                        0.6667        inf          0        nan         nan         nan\n",
       "C(Person, Sum)[S.P2]                       -2.3333        inf         -0        nan         nan         nan\n",
       "C(Person, Sum)[S.P3]                     -2.22e-16        inf         -0        nan         nan         nan\n",
       "C(Person, Sum)[S.P4]                       -1.0000        inf         -0        nan         nan         nan\n",
       "C(Wein, Sum)[S.W1]                         -2.8667        inf         -0        nan         nan         nan\n",
       "C(Wein, Sum)[S.W2]                          2.3333        inf          0        nan         nan         nan\n",
       "C(Person, Sum)[S.P1]:C(Wein, Sum)[S.W1]    -0.4667        inf         -0        nan         nan         nan\n",
       "C(Person, Sum)[S.P2]:C(Wein, Sum)[S.W1]     1.5333        inf          0        nan         nan         nan\n",
       "C(Person, Sum)[S.P3]:C(Wein, Sum)[S.W1]     0.2000        inf          0        nan         nan         nan\n",
       "C(Person, Sum)[S.P4]:C(Wein, Sum)[S.W1]     1.2000        inf          0        nan         nan         nan\n",
       "C(Person, Sum)[S.P1]:C(Wein, Sum)[S.W2]     0.3333        inf          0        nan         nan         nan\n",
       "C(Person, Sum)[S.P2]:C(Wein, Sum)[S.W2]     0.3333        inf          0        nan         nan         nan\n",
       "C(Person, Sum)[S.P3]:C(Wein, Sum)[S.W2]          0        inf          0        nan         nan         nan\n",
       "C(Person, Sum)[S.P4]:C(Wein, Sum)[S.W2]  -1.11e-16        inf         -0        nan         nan         nan\n",
       "==============================================================================\n",
       "Omnibus:                        0.090   Durbin-Watson:                   1.073\n",
       "Prob(Omnibus):                  0.956   Jarque-Bera (JB):                0.205\n",
       "Skew:                          -0.146   Prob(JB):                        0.903\n",
       "Kurtosis:                       2.507   Cond. No.                         3.87\n",
       "==============================================================================\n",
       "\n",
       "Warnings:\n",
       "[1] Standard Errors assume that the covariance matrix of the errors is correctly specified.\n",
       "\"\"\""
      ]
     },
     "execution_count": 7,
     "metadata": {},
     "output_type": "execute_result"
    }
   ],
   "source": [
    "from pandas import DataFrame\n",
    "from statsmodels.formula.api import ols\n",
    "from patsy.contrasts import Sum\n",
    "from statsmodels.stats.anova import anova_lm\n",
    "import numpy as np\n",
    "import warnings\n",
    "\n",
    "warnings.filterwarnings(\"ignore\")\n",
    "\n",
    "df = DataFrame({\n",
    "    \"Person\": np.repeat([\"P1\", \"P2\", \"P3\",\"P4\",\"P5\"],3),\n",
    "    \"Wein\": np.tile([\"W1\", \"W2\", \"W3\"],5),\n",
    "    \"Y\": np.array([1,7,5,0,4,0,1,6,4,1,5,2,1,8,10])\n",
    "})\n",
    "\n",
    "fit2 = ols(\"Y ~ C(Person,Sum) * C(Wein,Sum)\", data=df).fit()\n",
    "fit2.summary()"
   ]
  },
  {
   "cell_type": "markdown",
   "metadata": {},
   "source": [
    "Sie berücksichtigt in ihrem Modell Interaktionseffekte zwischen den Blockvariablen.\n",
    "\n",
    "Um in einem Modell mit Wechselwirkungseffekt die Standardabweichung der Residuen zu schätzen, bräuchte sie mindestens zwei Replikate pro Wechselwirkung. Dies ist hier nicht der Fall. Also kann sie in diesem Fall keine statistischen Tests durchführen"
   ]
  },
  {
   "cell_type": "markdown",
   "metadata": {},
   "source": [
    "### (f)\n",
    "Beurteilen Sie graphisch, ob es einen Interaktionseffekt gibt"
   ]
  },
  {
   "cell_type": "code",
   "execution_count": 11,
   "metadata": {},
   "outputs": [
    {
     "data": {
      "image/png": "[encoded data removed]",
      "text/plain": [
       "<Figure size 432x288 with 1 Axes>"
      ]
     },
     "metadata": {
      "needs_background": "light"
     },
     "output_type": "display_data"
    }
   ],
   "source": [
    "from statsmodels.graphics.factorplots import interaction_plot\n",
    "import matplotlib.pyplot as plt\n",
    "interaction_plot(x=df[\"Person\"], trace=df[\"Wein\"], response=df[\"Y\"])\n",
    "plt.show()"
   ]
  },
  {
   "cell_type": "markdown",
   "metadata": {},
   "source": [
    "Aufgrund des Interaktionsplot würde man auf einen Effekt schliessen, ausschlaggebend ist Weinsorte 3 (vor allem bei Person 5)"
   ]
  },
  {
   "cell_type": "code",
   "execution_count": null,
   "metadata": {},
   "outputs": [],
   "source": []
  }
 ],
 "metadata": {
  "kernelspec": {
   "display_name": "Python 3",
   "language": "python",
   "name": "python3"
  },
  "language_info": {
   "codemirror_mode": {
    "name": "ipython",
    "version": 3
   },
   "file_extension": ".py",
   "mimetype": "text/x-python",
   "name": "python",
   "nbconvert_exporter": "python",
   "pygments_lexer": "ipython3",
   "version": "3.7.0"
  }
 },
 "nbformat": 4,
 "nbformat_minor": 2
}
