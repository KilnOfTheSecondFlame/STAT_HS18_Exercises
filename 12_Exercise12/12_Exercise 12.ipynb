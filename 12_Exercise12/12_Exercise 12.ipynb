{
 "cells": [
  {
   "cell_type": "markdown",
   "metadata": {},
   "source": [
    "# Serie 12\n",
    "\n",
    "## Aufgabe 12.1\n",
    "Das Bundesamt für Statistik stellt eine sehr grosse Anzahl von Datensätzen auf ihrer Webseite zur Verfügung. Mit Hilfe des Tools `STAT-TAB` ist es relativ einfach, nach bestimmten Datensätze Ausschau zu halten and spezifische Tabellen herunterzuladen und individuell zusammenzustellen.\n",
    "\n",
    "### a)\n",
    "Besuchen Sie die Webseite\n",
    "[STAT TAB](https://www.bfs.admin.ch/bfs/en/home/services/recherche/stat-tab-online-data-search.html)\n",
    "und versuchen Sie, mit dem Datenbrowser zurechtzukommen.\n",
    "\n",
    "Hinweis: Konsultieren Sie folgendes Hilfsmenu: _Guideline for online data search_, welches Sie am Ende der Seite herunterladen können.\n",
    "\n",
    "### b)\n",
    "Die Mehrzahl der Datensätze auf dieser Webseite beinhalten tatsächlich Zeitreihen. Versuchen Sie die Zeitreihe zu finden, welche die Anzahl Elektro-Personenwagen(PW) von 1990-2017 enthält (separat für jeden Kanton). Laden Sie die entsprechende Tabelle als `.csv` Datei herunter.\n",
    "\n",
    "### c) Lesen Sie die Datei in Python ein, und definieren Sie eine Zeitreihe für die\n",
    "Anzahl Elektro-Autos in Luzern. Erstellen Sie eine Graphik der Zeitreihe.\n",
    "\n",
    "__Hinweis__: Die Dateien, welche mit Hilfe von `STAT-TAB` generiert werden, enthalten manchmal zusätzliche Informationen neben den regulären Headern mit den Variablennamen. Schauen Sie sich die `.csv` Datei in einem Texteditoran. Finden Sie heraus, wieviele Zeilen dem tatsächlichen Datensatz vorangehen (ausgenommen vom Header). Dann können Sie mit der Python-Funktion `pd.read_csv()` die Daten einlesen, wobei Sie mit Hilfe des Parameters `skiprows=k` die ersten `k` Zeilen überspringen können:\n",
    "\n",
    "```python\n",
    "import matplotlib.pyplot as plt\n",
    "import pandas as pd\n",
    "from pandas import DataFrame\n",
    "\n",
    "pw_electric = pd.read_csv('.../PW_electric.csv', sep=',',\n",
    "    skiprows=2, header=0,\n",
    "    encoding = \"utf-8\",\n",
    "    index_col=0)\n",
    "\n",
    "pw_electric.head()\n",
    "pw_electric_luzern = DataFrame(pw_electric.ix[\"Luzern\",1:])\n",
    "pw_electric_luzern\n",
    "pw_electric_luzern[\"Year\"] = pd.DatetimeIndex(pw_electric_luzern.index)\n",
    "pw_electric_luzern.set_index(\"Year\", inplace=True)\n",
    "pw_electric_luzern.plot()\n",
    "plt.xlabel(\"Jahr\")\n",
    "plt.ylabel(\"Anzahl Elektro-Autos Luzern\")\n",
    "plt.show()\n",
    "```"
   ]
  },
  {
   "cell_type": "code",
   "execution_count": 21,
   "metadata": {},
   "outputs": [],
   "source": [
    "import matplotlib.pyplot as plt\n",
    "from matplotlib.colors import LinearSegmentedColormap\n",
    "import pandas as pd\n",
    "import numpy as np\n",
    "from pandas import DataFrame"
   ]
  },
  {
   "cell_type": "code",
   "execution_count": null,
   "metadata": {},
   "outputs": [],
   "source": []
  },
  {
   "cell_type": "markdown",
   "metadata": {},
   "source": [
    " ### d)\n",
    " Wiederholen Sie die Vorgehensweise aus Teilaufgabe (c) für den Kanton Zürich."
   ]
  },
  {
   "cell_type": "code",
   "execution_count": null,
   "metadata": {},
   "outputs": [],
   "source": []
  },
  {
   "cell_type": "markdown",
   "metadata": {},
   "source": [
    "### e) \n",
    "Wie können Sie die Daten zwischen den Kantonen Luzern und Zürich korrekt miteinander vergleichen?"
   ]
  },
  {
   "cell_type": "code",
   "execution_count": null,
   "metadata": {},
   "outputs": [],
   "source": []
  },
  {
   "cell_type": "markdown",
   "metadata": {},
   "source": [
    "## Aufgabe 12.2\n",
    "\n",
    "In dieser Aufgabe behandeln wir die vierteljährliche Bierproduktion in Australien.\n",
    "\n",
    "### a)\n",
    "Lesen Sie die Datei AustralianBeer.csv in Python ein, und konvertieren Sie die Daten in das Zeitreihenformat. Zeichnen Sie die Daten auf.\n",
    "\n",
    "__Hinweis__: Um die Daten in Python in eine Zeitreihe zu konvertieren, benützen Sie\n",
    "```python\n",
    "AusBeer = pd.read_csv(\".../AustralianBeer.csv\",sep=\";\",header=0)\n",
    "AusBeer.head()\n",
    "AusBeer[\"Quarter\"] = pd.DatetimeIndex(AusBeer[\"Quarter\"])\n",
    "AusBeer.set_index(\"Quarter\", inplace=True)\n",
    "AusBeer.columns=[\"Megalitres\"]\n",
    "AusBeer.head()\n",
    "AusBeer.describe()\n",
    "AusBeer.plot()\n",
    "plt.ylabel(\"Megalitres Beer\")\n",
    "```"
   ]
  },
  {
   "cell_type": "code",
   "execution_count": null,
   "metadata": {},
   "outputs": [],
   "source": []
  },
  {
   "cell_type": "markdown",
   "metadata": {},
   "source": [
    "### b)\n",
    "\n",
    "Zeichnen Sie die aggregierten jährlichen Reihen auf und die Boxplots, welche die beobachteten Daten im Vierteljahr-Zyklus zusammenfassen. Kommentieren Sie Ihre Beobachtungen der Graphiken.\n",
    "\n",
    "__Hinweis__:\n",
    "```python\n",
    "AusBeer.resample(\"A\").mean().plot()\n",
    "AusBeer['quarter'] = AusBeer.index.quarter\n",
    "AusBeer.boxplot(by=\"quarter\")\n",
    "```"
   ]
  },
  {
   "cell_type": "code",
   "execution_count": null,
   "metadata": {},
   "outputs": [],
   "source": []
  },
  {
   "cell_type": "markdown",
   "metadata": {},
   "source": [
    "### c)\n",
    "\n",
    "Zerlegen Sie die Zeitreihe in die Komponenten _trend, saisonalen Effekt_ und _Residuen_\n",
    "mit Hilfe der Funktion `seasonal_decompose()`. Kommentieren Sie die Resultate. Denken Sie, eine Datentransformation vor der Zerlegung wäre angebracht?\n",
    "\n",
    "__Hinweis__:\n",
    "```python\n",
    "from statsmodels.tsa.seasonal import seasonal_decompose\n",
    "seasonal_decompose(AusBeer, model=\"additive\", freq=4).plot()\n",
    "```"
   ]
  },
  {
   "cell_type": "code",
   "execution_count": null,
   "metadata": {},
   "outputs": [],
   "source": []
  },
  {
   "cell_type": "markdown",
   "metadata": {},
   "source": [
    "## Aufgabe 12.3\n",
    "\n",
    "In dieser Aufgabe behandeln wir die vierteljährliche Produktion von Elektrizität.\n",
    "\n",
    "### a)\n",
    "Lesen Sie die Datei `AustralianElectricity.csv` in __Python__ ein, und konvertieren Sie die Daten in das Zeitreihenformat. Zeichnen Sie die Daten auf.\n",
    "\n",
    "__Hinweis__: Um die Daten in Python in eine Zeitreihe zu konvertieren, benützen Sie\n",
    "\n",
    "```python\n",
    "Electricity = pd.read_csv(\".../AustralianElectricity.csv\", sep=\";\", header=0)\n",
    "Electricity.head()\n",
    "Electricity[\"Quarter\"] = pd.DatetimeIndex(Electricity[\"Quarter\"])\n",
    "Electricity.set_index(\"Quarter\", inplace=True)\n",
    "Electricity.columns=[\"Electricity production Australia\"]\n",
    "Electricity.head()\n",
    "Electricity.plot()\n",
    "plt.ylabel(\"Million Kilowatthours\")\n",
    "```"
   ]
  },
  {
   "cell_type": "code",
   "execution_count": null,
   "metadata": {},
   "outputs": [],
   "source": []
  },
  {
   "cell_type": "markdown",
   "metadata": {},
   "source": [
    "### b)\n",
    "Wenden Sie eine passende Daten-Transformation an, so dass sich die Varianz der Zeitreihe stabilisiert wird.\n",
    "\n",
    "__Hinweis__: Wenden Sie die Funktion `box.cox` an, und bestimmen Sie einen optimalen Wert für `lambda`, indem Sie die Graphik der transformierten Zeitreihe betrachten. Hier ist der Code mit `lambda = 1.3`:\n",
    "\n",
    "```python\n",
    "def boxcox(x,lambd):\n",
    "    return np.log(x) if (lambd==0) else (x ** lambd-1)/lambd\n",
    "\n",
    "# replace \"yourSeries\" by the name of your series\n",
    "yourSeries_tr = boxcox(yourSeries, 1.3)\n",
    "yourSeries_tr.plot()\n",
    "plt.show()\n",
    "```"
   ]
  },
  {
   "cell_type": "code",
   "execution_count": null,
   "metadata": {},
   "outputs": [],
   "source": []
  },
  {
   "cell_type": "markdown",
   "metadata": {},
   "source": [
    "### c)\n",
    "\n",
    "Zerlegen Sie die Zeitreihe in die Komponenten _trend, saisonale Effekte_ und _Residuen_ mit Hilfe der Funktion `seasonal_decompose()`. Kommentieren Sie die Resultate. Denken Sie, eine Datentransformation vor der Zerlegung wäre angebracht?\n",
    "\n",
    "__Hinweis__:\n",
    "```python\n",
    "from statsmodels.tsa.seasonal import seasonal_decompose\n",
    "seasonal_decompose(Electricity_tr, model=\"additive\", freq=4).plot()\n",
    "plt.show()\n",
    "```"
   ]
  },
  {
   "cell_type": "code",
   "execution_count": null,
   "metadata": {},
   "outputs": [],
   "source": []
  },
  {
   "cell_type": "markdown",
   "metadata": {},
   "source": [
    "### d)\n",
    "Zerlegen Sie die Zeitreihe erneut, indem Sie die Funktion `decompose()` aus dem Paket `stldecompose` benützen. Wählen Sie einen geeigneten Wert für den Parameter `period`. Vergleichen Sie die Resultate mit denjenigen der Teilaufgabe c)."
   ]
  },
  {
   "cell_type": "code",
   "execution_count": null,
   "metadata": {},
   "outputs": [],
   "source": []
  }
 ],
 "metadata": {
  "kernelspec": {
   "display_name": "Python 3",
   "language": "python",
   "name": "python3"
  },
  "language_info": {
   "codemirror_mode": {
    "name": "ipython",
    "version": 3
   },
   "file_extension": ".py",
   "mimetype": "text/x-python",
   "name": "python",
   "nbconvert_exporter": "python",
   "pygments_lexer": "ipython3",
   "version": "3.7.0"
  }
 },
 "nbformat": 4,
 "nbformat_minor": 2
}
