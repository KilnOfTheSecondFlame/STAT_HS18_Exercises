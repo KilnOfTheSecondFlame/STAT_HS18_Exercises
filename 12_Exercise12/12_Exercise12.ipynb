{
 "cells": [
  {
   "cell_type": "markdown",
   "metadata": {},
   "source": [
    "# Serie 12\n",
    "\n",
    "## Aufgabe 12.1\n",
    "Das Bundesamt für Statistik stellt eine sehr grosse Anzahl von Datensätzen auf ihrer Webseite zur Verfügung. Mit Hilfe des Tools `STAT-TAB` ist es relativ einfach, nach bestimmten Datensätze Ausschau zu halten and spezifische Tabellen herunterzuladen und individuell zusammenzustellen.\n",
    "\n",
    "### a)\n",
    "Besuchen Sie die Webseite\n",
    "[STAT TAB](https://www.bfs.admin.ch/bfs/en/home/services/recherche/stat-tab-online-data-search.html)\n",
    "und versuchen Sie, mit dem Datenbrowser zurechtzukommen.\n",
    "\n",
    "Hinweis: Konsultieren Sie folgendes Hilfsmenu: _Guideline for online data search_, welches Sie am Ende der Seite herunterladen können.\n",
    "\n",
    "### b)\n",
    "Die Mehrzahl der Datensätze auf dieser Webseite beinhalten tatsächlich Zeitreihen. Versuchen Sie die Zeitreihe zu finden, welche die Anzahl Elektro-Personenwagen(PW) von 1990-2017 enthält (separat für jeden Kanton). Laden Sie die entsprechende Tabelle als `.csv` Datei herunter.\n",
    "\n",
    "### c) Lesen Sie die Datei in Python ein, und definieren Sie eine Zeitreihe für die\n",
    "Anzahl Elektro-Autos in Luzern. Erstellen Sie eine Graphik der Zeitreihe.\n",
    "\n",
    "__Hinweis__: Die Dateien, welche mit Hilfe von `STAT-TAB` generiert werden, enthalten manchmal zusätzliche Informationen neben den regulären Headern mit den Variablennamen. Schauen Sie sich die `.csv` Datei in einem Texteditoran. Finden Sie heraus, wieviele Zeilen dem tatsächlichen Datensatz vorangehen (ausgenommen vom Header). Dann können Sie mit der Python-Funktion `pd.read_csv()` die Daten einlesen, wobei Sie mit Hilfe des Parameters `skiprows=k` die ersten `k` Zeilen überspringen können:\n",
    "\n",
    "```python\n",
    "import matplotlib.pyplot as plt\n",
    "import pandas as pd\n",
    "from pandas import DataFrame\n",
    "\n",
    "pw_electric = pd.read_csv('.../PW_electric.csv', sep=',',\n",
    "    skiprows=2, header=0,\n",
    "    encoding = \"utf-8\",\n",
    "    index_col=0)\n",
    "\n",
    "pw_electric.head()\n",
    "pw_electric_luzern = DataFrame(pw_electric.ix[\"Luzern\",1:])\n",
    "pw_electric_luzern\n",
    "pw_electric_luzern[\"Year\"] = pd.DatetimeIndex(pw_electric_luzern.index)\n",
    "pw_electric_luzern.set_index(\"Year\", inplace=True)\n",
    "pw_electric_luzern.plot()\n",
    "plt.xlabel(\"Jahr\")\n",
    "plt.ylabel(\"Anzahl Elektro-Autos Luzern\")\n",
    "plt.show()\n",
    "```"
   ]
  },
  {
   "cell_type": "code",
   "execution_count": 2,
   "metadata": {},
   "outputs": [],
   "source": [
    "import matplotlib.pyplot as plt\n",
    "import pandas as pd\n",
    "from pandas import DataFrame"
   ]
  },
  {
   "cell_type": "code",
   "execution_count": 15,
   "metadata": {},
   "outputs": [],
   "source": [
    "pw_electric = pd.read_csv(r'./PW_electric.csv', sep=',',\n",
    "    skiprows=2, header=0,\n",
    "    encoding = \"utf-8\",\n",
    "    index_col=0)"
   ]
  },
  {
   "cell_type": "code",
   "execution_count": 16,
   "metadata": {
    "scrolled": true
   },
   "outputs": [
    {
     "data": {
      "text/html": [
       "<div>\n",
       "<style scoped>\n",
       "    .dataframe tbody tr th:only-of-type {\n",
       "        vertical-align: middle;\n",
       "    }\n",
       "\n",
       "    .dataframe tbody tr th {\n",
       "        vertical-align: top;\n",
       "    }\n",
       "\n",
       "    .dataframe thead th {\n",
       "        text-align: right;\n",
       "    }\n",
       "</style>\n",
       "<table border=\"1\" class=\"dataframe\">\n",
       "  <thead>\n",
       "    <tr style=\"text-align: right;\">\n",
       "      <th></th>\n",
       "      <th>Treibstoff</th>\n",
       "      <th>1990</th>\n",
       "      <th>1991</th>\n",
       "      <th>1992</th>\n",
       "      <th>1993</th>\n",
       "      <th>1994</th>\n",
       "      <th>1995</th>\n",
       "      <th>1996</th>\n",
       "      <th>1997</th>\n",
       "      <th>1998</th>\n",
       "      <th>...</th>\n",
       "      <th>2008</th>\n",
       "      <th>2009</th>\n",
       "      <th>2010</th>\n",
       "      <th>2011</th>\n",
       "      <th>2012</th>\n",
       "      <th>2013</th>\n",
       "      <th>2014</th>\n",
       "      <th>2015</th>\n",
       "      <th>2016</th>\n",
       "      <th>2017</th>\n",
       "    </tr>\n",
       "    <tr>\n",
       "      <th>Kanton</th>\n",
       "      <th></th>\n",
       "      <th></th>\n",
       "      <th></th>\n",
       "      <th></th>\n",
       "      <th></th>\n",
       "      <th></th>\n",
       "      <th></th>\n",
       "      <th></th>\n",
       "      <th></th>\n",
       "      <th></th>\n",
       "      <th></th>\n",
       "      <th></th>\n",
       "      <th></th>\n",
       "      <th></th>\n",
       "      <th></th>\n",
       "      <th></th>\n",
       "      <th></th>\n",
       "      <th></th>\n",
       "      <th></th>\n",
       "      <th></th>\n",
       "      <th></th>\n",
       "    </tr>\n",
       "  </thead>\n",
       "  <tbody>\n",
       "    <tr>\n",
       "      <th>Zürich</th>\n",
       "      <td>Electricity</td>\n",
       "      <td>64</td>\n",
       "      <td>120</td>\n",
       "      <td>161</td>\n",
       "      <td>153</td>\n",
       "      <td>153</td>\n",
       "      <td>150</td>\n",
       "      <td>139</td>\n",
       "      <td>131</td>\n",
       "      <td>121</td>\n",
       "      <td>...</td>\n",
       "      <td>32</td>\n",
       "      <td>42</td>\n",
       "      <td>150</td>\n",
       "      <td>211</td>\n",
       "      <td>428</td>\n",
       "      <td>737</td>\n",
       "      <td>1201</td>\n",
       "      <td>2201</td>\n",
       "      <td>2855</td>\n",
       "      <td>3743</td>\n",
       "    </tr>\n",
       "    <tr>\n",
       "      <th>Bern / Berne</th>\n",
       "      <td>Electricity</td>\n",
       "      <td>75</td>\n",
       "      <td>130</td>\n",
       "      <td>132</td>\n",
       "      <td>134</td>\n",
       "      <td>113</td>\n",
       "      <td>113</td>\n",
       "      <td>108</td>\n",
       "      <td>101</td>\n",
       "      <td>99</td>\n",
       "      <td>...</td>\n",
       "      <td>42</td>\n",
       "      <td>42</td>\n",
       "      <td>46</td>\n",
       "      <td>108</td>\n",
       "      <td>177</td>\n",
       "      <td>269</td>\n",
       "      <td>428</td>\n",
       "      <td>682</td>\n",
       "      <td>971</td>\n",
       "      <td>1343</td>\n",
       "    </tr>\n",
       "    <tr>\n",
       "      <th>Luzern</th>\n",
       "      <td>Electricity</td>\n",
       "      <td>12</td>\n",
       "      <td>21</td>\n",
       "      <td>25</td>\n",
       "      <td>24</td>\n",
       "      <td>23</td>\n",
       "      <td>20</td>\n",
       "      <td>21</td>\n",
       "      <td>18</td>\n",
       "      <td>14</td>\n",
       "      <td>...</td>\n",
       "      <td>5</td>\n",
       "      <td>3</td>\n",
       "      <td>10</td>\n",
       "      <td>38</td>\n",
       "      <td>79</td>\n",
       "      <td>118</td>\n",
       "      <td>196</td>\n",
       "      <td>350</td>\n",
       "      <td>530</td>\n",
       "      <td>719</td>\n",
       "    </tr>\n",
       "    <tr>\n",
       "      <th>Uri</th>\n",
       "      <td>Electricity</td>\n",
       "      <td>0</td>\n",
       "      <td>0</td>\n",
       "      <td>0</td>\n",
       "      <td>0</td>\n",
       "      <td>0</td>\n",
       "      <td>0</td>\n",
       "      <td>0</td>\n",
       "      <td>0</td>\n",
       "      <td>0</td>\n",
       "      <td>...</td>\n",
       "      <td>1</td>\n",
       "      <td>1</td>\n",
       "      <td>1</td>\n",
       "      <td>2</td>\n",
       "      <td>4</td>\n",
       "      <td>5</td>\n",
       "      <td>10</td>\n",
       "      <td>12</td>\n",
       "      <td>22</td>\n",
       "      <td>29</td>\n",
       "    </tr>\n",
       "    <tr>\n",
       "      <th>Schwyz</th>\n",
       "      <td>Electricity</td>\n",
       "      <td>1</td>\n",
       "      <td>5</td>\n",
       "      <td>7</td>\n",
       "      <td>8</td>\n",
       "      <td>9</td>\n",
       "      <td>10</td>\n",
       "      <td>11</td>\n",
       "      <td>11</td>\n",
       "      <td>12</td>\n",
       "      <td>...</td>\n",
       "      <td>0</td>\n",
       "      <td>2</td>\n",
       "      <td>7</td>\n",
       "      <td>15</td>\n",
       "      <td>37</td>\n",
       "      <td>54</td>\n",
       "      <td>112</td>\n",
       "      <td>195</td>\n",
       "      <td>292</td>\n",
       "      <td>387</td>\n",
       "    </tr>\n",
       "  </tbody>\n",
       "</table>\n",
       "<p>5 rows × 29 columns</p>\n",
       "</div>"
      ],
      "text/plain": [
       "               Treibstoff  1990  1991  1992  1993  1994  1995  1996  1997  \\\n",
       "Kanton                                                                      \n",
       "Zürich        Electricity    64   120   161   153   153   150   139   131   \n",
       "Bern / Berne  Electricity    75   130   132   134   113   113   108   101   \n",
       "Luzern        Electricity    12    21    25    24    23    20    21    18   \n",
       "Uri           Electricity     0     0     0     0     0     0     0     0   \n",
       "Schwyz        Electricity     1     5     7     8     9    10    11    11   \n",
       "\n",
       "              1998  ...   2008  2009  2010  2011  2012  2013  2014  2015  \\\n",
       "Kanton              ...                                                    \n",
       "Zürich         121  ...     32    42   150   211   428   737  1201  2201   \n",
       "Bern / Berne    99  ...     42    42    46   108   177   269   428   682   \n",
       "Luzern          14  ...      5     3    10    38    79   118   196   350   \n",
       "Uri              0  ...      1     1     1     2     4     5    10    12   \n",
       "Schwyz          12  ...      0     2     7    15    37    54   112   195   \n",
       "\n",
       "              2016  2017  \n",
       "Kanton                    \n",
       "Zürich        2855  3743  \n",
       "Bern / Berne   971  1343  \n",
       "Luzern         530   719  \n",
       "Uri             22    29  \n",
       "Schwyz         292   387  \n",
       "\n",
       "[5 rows x 29 columns]"
      ]
     },
     "execution_count": 16,
     "metadata": {},
     "output_type": "execute_result"
    }
   ],
   "source": [
    "pw_electric.head()"
   ]
  },
  {
   "cell_type": "code",
   "execution_count": 18,
   "metadata": {},
   "outputs": [
    {
     "data": {
      "text/plain": [
       "1990     12\n",
       "1991     21\n",
       "1992     25\n",
       "1993     24\n",
       "1994     23\n",
       "1995     20\n",
       "1996     21\n",
       "1997     18\n",
       "1998     14\n",
       "1999     12\n",
       "2000     12\n",
       "2001     13\n",
       "2002      9\n",
       "2003      8\n",
       "2004      5\n",
       "2005      3\n",
       "2006      2\n",
       "2007      3\n",
       "2008      5\n",
       "2009      3\n",
       "2010     10\n",
       "2011     38\n",
       "2012     79\n",
       "2013    118\n",
       "2014    196\n",
       "2015    350\n",
       "2016    530\n",
       "2017    719\n",
       "Name: Luzern, dtype: object"
      ]
     },
     "execution_count": 18,
     "metadata": {},
     "output_type": "execute_result"
    }
   ],
   "source": [
    "pw_electric.loc[\"Luzern\",\"1990\":\"2017\"]"
   ]
  },
  {
   "cell_type": "code",
   "execution_count": 68,
   "metadata": {},
   "outputs": [
    {
     "data": {
      "image/png": "[encoded data removed]",
      "text/plain": [
       "<Figure size 432x288 with 1 Axes>"
      ]
     },
     "metadata": {
      "needs_background": "light"
     },
     "output_type": "display_data"
    }
   ],
   "source": [
    "pw_electric_luzern = DataFrame(pw_electric.loc[\"Luzern\",\"1990\":\"2017\"])\n",
    "pw_electric_luzern\n",
    "pw_electric_luzern[\"Year\"] = pd.DatetimeIndex(pw_electric_luzern.index)\n",
    "pw_electric_luzern.set_index(\"Year\", inplace=True)\n",
    "pw_electric_luzern.plot()\n",
    "plt.xlabel(\"Jahr\")\n",
    "plt.ylabel(\"Anzahl Elektro-Autos Luzern\")\n",
    "plt.show()"
   ]
  },
  {
   "cell_type": "markdown",
   "metadata": {},
   "source": [
    " ### d)\n",
    " Wiederholen Sie die Vorgehensweise aus Teilaufgabe (c) für den Kanton Zürich."
   ]
  },
  {
   "cell_type": "code",
   "execution_count": 69,
   "metadata": {},
   "outputs": [
    {
     "data": {
      "image/png": "[encoded data removed]",
      "text/plain": [
       "<Figure size 432x288 with 1 Axes>"
      ]
     },
     "metadata": {
      "needs_background": "light"
     },
     "output_type": "display_data"
    }
   ],
   "source": [
    "pw_electric_zurich = DataFrame(pw_electric.loc[\"Zürich\",\"1990\":\"2017\"])\n",
    "pw_electric_zurich\n",
    "pw_electric_zurich[\"Year\"] = pd.DatetimeIndex(pw_electric_zurich.index)\n",
    "pw_electric_zurich.set_index(\"Year\", inplace=True)\n",
    "pw_electric_zurich.plot()\n",
    "plt.xlabel(\"Jahr\")\n",
    "plt.ylabel(\"Anzahl Elektro-Autos Zürich\")\n",
    "plt.show()"
   ]
  },
  {
   "cell_type": "code",
   "execution_count": 76,
   "metadata": {},
   "outputs": [
    {
     "data": {
      "text/plain": [
       "DatetimeIndex(['1990-01-01', '1991-01-01', '1992-01-01', '1993-01-01',\n",
       "               '1994-01-01', '1995-01-01', '1996-01-01', '1997-01-01',\n",
       "               '1998-01-01', '1999-01-01', '2000-01-01', '2001-01-01',\n",
       "               '2002-01-01', '2003-01-01', '2004-01-01', '2005-01-01',\n",
       "               '2006-01-01', '2007-01-01', '2008-01-01', '2009-01-01',\n",
       "               '2010-01-01', '2011-01-01', '2012-01-01', '2013-01-01',\n",
       "               '2014-01-01', '2015-01-01', '2016-01-01', '2017-01-01'],\n",
       "              dtype='datetime64[ns]', name='Year', freq=None)"
      ]
     },
     "execution_count": 76,
     "metadata": {},
     "output_type": "execute_result"
    }
   ],
   "source": [
    "\n",
    "pw_electric_zurich.index"
   ]
  },
  {
   "cell_type": "markdown",
   "metadata": {},
   "source": [
    "### e) \n",
    "Wie können Sie die Daten zwischen den Kantonen Luzern und Zürich korrekt miteinander vergleichen?"
   ]
  },
  {
   "cell_type": "code",
   "execution_count": 85,
   "metadata": {},
   "outputs": [
    {
     "data": {
      "image/png": "[encoded data removed]",
      "text/plain": [
       "<Figure size 432x288 with 1 Axes>"
      ]
     },
     "metadata": {
      "needs_background": "light"
     },
     "output_type": "display_data"
    }
   ],
   "source": [
    "plt.plot(pw_electric_zurich.index,pw_electric_luzern[\"Luzern\"], 'c-', label=\"Luzern\")\n",
    "plt.plot(pw_electric_zurich.index,pw_electric_zurich[\"Zürich\"], 'b-', label=\"Zürich\")\n",
    "plt.xlabel(\"Jahr\")\n",
    "plt.ylabel(\"Anzahl Elektro-Autos\")\n",
    "plt.legend(loc='best')\n",
    "plt.show()"
   ]
  },
  {
   "cell_type": "markdown",
   "metadata": {},
   "source": [
    "## Aufgabe 12.2\n",
    "\n",
    "In dieser Aufgabe behandeln wir die vierteljährliche Bierproduktion in Australien.\n",
    "\n",
    "### a)\n",
    "Lesen Sie die Datei AustralianBeer.csv in Python ein, und konvertieren Sie die Daten in das Zeitreihenformat. Zeichnen Sie die Daten auf.\n",
    "\n",
    "__Hinweis__: Um die Daten in Python in eine Zeitreihe zu konvertieren, benützen Sie\n",
    "```python\n",
    "AusBeer = pd.read_csv(\".../AustralianBeer.csv\",sep=\";\",header=0)\n",
    "AusBeer.head()\n",
    "AusBeer[\"Quarter\"] = pd.DatetimeIndex(AusBeer[\"Quarter\"])\n",
    "AusBeer.set_index(\"Quarter\", inplace=True)\n",
    "AusBeer.columns=[\"Megalitres\"]\n",
    "AusBeer.head()\n",
    "AusBeer.describe()\n",
    "AusBeer.plot()\n",
    "plt.ylabel(\"Megalitres Beer\")\n",
    "```"
   ]
  },
  {
   "cell_type": "code",
   "execution_count": null,
   "metadata": {},
   "outputs": [],
   "source": []
  },
  {
   "cell_type": "markdown",
   "metadata": {},
   "source": [
    "### b)\n",
    "\n",
    "Zeichnen Sie die aggregierten jährlichen Reihen auf und die Boxplots, welche die beobachteten Daten im Vierteljahr-Zyklus zusammenfassen. Kommentieren Sie Ihre Beobachtungen der Graphiken.\n",
    "__Hinweis__:\n",
    "```python\n",
    "AusBeer.resample(\"A\").mean().plot()\n",
    "AusBeer['quarter'] = AusBeer.index.quarter\n",
    "AusBeer.boxplot(by=\"quarter\")\n",
    "```"
   ]
  },
  {
   "cell_type": "code",
   "execution_count": null,
   "metadata": {},
   "outputs": [],
   "source": []
  },
  {
   "cell_type": "markdown",
   "metadata": {},
   "source": [
    "### c)\n",
    "\n",
    "Zerlegen Sie die Zeitreihe in die Komponenten _trend, saisonalen Effekt_ und _Residuen_\n",
    "mit Hilfe der Funktion `seasonal_decompose()`. Kommentieren Sie die Resultate. Denken Sie, eine Datentransformation vor der Zerlegung wäre angebracht?\n",
    "\n",
    "__Hinweis__:\n",
    "```python\n",
    "from statsmodels.tsa.seasonal import seasonal_decompose\n",
    "seasonal_decompose(AusBeer1, model=\"additive\", freq=4).plot()\n",
    "```"
   ]
  },
  {
   "cell_type": "code",
   "execution_count": null,
   "metadata": {},
   "outputs": [],
   "source": []
  },
  {
   "cell_type": "markdown",
   "metadata": {},
   "source": [
    "## Aufgabe 12.3\n",
    "\n",
    "In dieser Aufgabe behandeln wir die vierteljährliche Produktion von Elektrizität.\n",
    "\n",
    "### a)\n",
    "Lesen Sie die Datei `AustralianElectricity.csv` in __Python__ ein, und konvertieren Sie die Daten in das Zeitreihenformat. Zeichnen Sie die Daten auf.\n",
    "\n",
    "__Hinweis__: Um die Daten in Python in eine Zeitreihe zu konvertieren, benützen Sie\n",
    "\n",
    "```python\n",
    "Electricity = pd.read_csv(\".../AustralianElectricity.csv\", sep=\";\", header=0)\n",
    "Electricity.head()\n",
    "Electricity[\"Quarter\"] = pd.DatetimeIndex(Electricity[\"Quarter\"])\n",
    "Electricity.set_index(\"Quarter\", inplace=True)\n",
    "Electricity.columns=[\"Electricity production Australia\"]\n",
    "Electricity.head()\n",
    "Electricity.plot()\n",
    "plt.ylabel(\"Million Kilowatthours\")\n",
    "```"
   ]
  },
  {
   "cell_type": "code",
   "execution_count": null,
   "metadata": {},
   "outputs": [],
   "source": []
  },
  {
   "cell_type": "markdown",
   "metadata": {},
   "source": [
    "### b)\n",
    "Wenden Sie eine passende Daten-Transformation an, so dass sich die Varianz der Zeitreihe stabilisiert wird.\n",
    "\n",
    "__Hinweis__: Wenden Sie die Funktion `box.cox` an, und bestimmen Sie einen optimalen Wert für `lambda`, indem Sie die Graphik der transformierten Zeitreihe betrachten. Hier ist der Code mit `lambda = 1.3`:\n",
    "\n",
    "```python\n",
    "def boxcox(x,lambd):\n",
    "    return np.log(x) if (lambd==0) else (x ** lambd-1)/lambd\n",
    "\n",
    "# replace \"yourSeries\" by the name of your series\n",
    "yourSeries_tr = boxcox(yourSeries, 1.3)\n",
    "yourSeries_tr.plot()\n",
    "plt.show()\n",
    "```"
   ]
  },
  {
   "cell_type": "code",
   "execution_count": null,
   "metadata": {},
   "outputs": [],
   "source": []
  },
  {
   "cell_type": "markdown",
   "metadata": {},
   "source": [
    "### c)\n",
    "\n",
    "Zerlegen Sie die Zeitreihe in die Komponenten _trend, saisonale Effekte_ und _Residuen_ mit Hilfe der Funktion `seasonal_decompose()`. Kommentieren Sie die Resultate. Denken Sie, eine Datentransformation vor der Zerlegung wäre angebracht?\n",
    "\n",
    "__Hinweis__:\n",
    "```python\n",
    "from statsmodels.tsa.seasonal import seasonal_decompose\n",
    "seasonal_decompose(Electricity_tr, model=\"additive\", freq=4).plot()\n",
    "plt.show()\n",
    "```"
   ]
  },
  {
   "cell_type": "code",
   "execution_count": null,
   "metadata": {},
   "outputs": [],
   "source": []
  },
  {
   "cell_type": "markdown",
   "metadata": {},
   "source": [
    "### d)\n",
    "Zerlegen Sie die Zeitreihe erneut, indem Sie die Funktion `decompose()` aus dem Paket `stldecompose` benützen. Wählen Sie einen geeigneten Wert für den Parameter `period`. Vergleichen Sie die Resultate mit denjenigen der Teilaufgabe c)."
   ]
  },
  {
   "cell_type": "markdown",
   "metadata": {},
   "source": []
  }
 ],
 "metadata": {
  "kernelspec": {
   "display_name": "Python 3",
   "language": "python",
   "name": "python3"
  },
  "language_info": {
   "codemirror_mode": {
    "name": "ipython",
    "version": 3
   },
   "file_extension": ".py",
   "mimetype": "text/x-python",
   "name": "python",
   "nbconvert_exporter": "python",
   "pygments_lexer": "ipython3",
   "version": "3.7.0"
  }
 },
 "nbformat": 4,
 "nbformat_minor": 2
}
