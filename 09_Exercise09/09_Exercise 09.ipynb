{
 "cells": [
  {
   "cell_type": "markdown",
   "metadata": {},
   "source": [
    "# Serie 9\n",
    "\n",
    "## Aufgabe 9.1\n",
    "\n",
    "Ein Experiment ist geplant, um drei Behandlungsmethoden von Hemden miteinander zu vergleichen, wobei das Ziel der Behandlungsmethoden darin besteht, knitterfreie Hemden durch ein strapazierfähiges Pressverfahren zu produzieren. In der Vergangenheit wurde Formaldehyd benutzt, um knitterfreie Hemden zu produzieren, allerdings hatte diese chemische Behandlung unerwünschte Effekte. Diese Studie betrachtet drei alternative chemische Behandlungssubstanzen:\n",
    "\n",
    "1. PCA (1-2-3 propane tricarbolic acid),\n",
    "2. BTCA (butane tetracarboxilic acid)\n",
    "3. CA (citric acid)\n",
    "\n",
    "Vier Hemden werden für jede Behandlung benützt. Zuerst werden die Hemden den drei Behandlungen unterzogen, worauf die Hemden in einer Simulationsmaschine einem Verfahren ausgesetzt werden, die das Tragen und Waschen von Hemden nachahmt. Die chemischen Behandlungen beeinflussen, resp. kontaminieren einander nicht, falls alle zusammen in derselben Simulationsmaschine getestet werden.\n",
    "Die Maschine hat Platz für ein bis vier Hemden pro Simulationslauf. Nach Beendigung des Simulationslaufs wird jedes der vier Hemden auf Risse und Reissfestigkeit ausgemessen, und es wird bestimmt, wie knitterfrei die Hemden sind, nachdem diese dem simulierten Trag- und Waschvorgang unterworfen wurden.\n",
    "Die Vergleiche zwischen den unterschiedlichen Behandlungsmethoden können durch folgende Faktoren beeinflusst werden:\n",
    "\n",
    "1. natürliche Variation zwischen Hemden\n",
    "2. Variation in der Anwendung des strapazierfähigen Pressverfahrens\n",
    "3. Variation beim simulierten Trag- und Waschvorgang\n",
    "\n",
    "und natürlich auch durch Messfehler. Im Folgenden sind drei Methoden beschrieben, wie das Testexperiment durchgeführt werden kann.\n",
    "\n",
    "__Methode 1__: Die Hemden sind zuällig in drei Gruppen bestehend aus vier Hemden aufgeteilt. Jede Gruppe wird einem der drei strapazierfähigen Pressverfahren unterzogen, und zwar als ein Batch. Jeder Batch wird darauf in einem Simulationslauf in der Maschine behandelt. Jeder Simulationslauf in der Maschine wird folglich mit vier Hemden durchgeführt, die alle dieselbe Behandlung erhalten haben. Im Gesamten gibt es drei Simulationsläufe.\n",
    "\n",
    "__Methode 2__: Die Hemden sind zufällig in drei Behandlungsgruppen bestehend aus jeweils vier Hemden aufgeteilt. Das strapazierfähige Pressverfahren wird für jedes einzelne Hemd unabhänig angewendet. Die Hemden sind in vier Gruppen bestehend ausdrei Hemdenaufgeteilt, wobei ein Hemd von jedem derdrei Pressverfahren stammt. Jede der vier Gruppen erfährt denselben Durchlauf in der Simulationsmaschine. Im Gesamten gibt es also vier Läufe der Simulationsmaschine.\n",
    "\n",
    "__Methode 3__: Die Hemden sind zufällig aufgeteilt in drei Gruppen bestehend aus vier Hemden. Die chemischen Behandlungen beim Pressverfahren werden unabhängig an jedem einzelnen Hemd angewendet. Der Durchlauf in der Simulationsmaschine erfolgt gleich wie in Methode 1.\n",
    "\n",
    "Beantworten Sie die folgenden Fragen: Welche der drei Methoden bevorzugen Sie und warum? Was sind die Nachteile der anderen beiden Methoden?\n",
    "(Quelle: Robert O. Kuehl. Design of Experiments: Statistical Principles of Research Design and Analysis. Duxbury Press at Brooks/Cole, 2 edition, 2000, p. 34, Exercise 6.)"
   ]
  },
  {
   "cell_type": "code",
   "execution_count": null,
   "metadata": {},
   "outputs": [],
   "source": []
  },
  {
   "cell_type": "code",
   "execution_count": null,
   "metadata": {},
   "outputs": [],
   "source": []
  }
 ],
 "metadata": {
  "kernelspec": {
   "display_name": "Python 3",
   "language": "python",
   "name": "python3"
  },
  "language_info": {
   "codemirror_mode": {
    "name": "ipython",
    "version": 3
   },
   "file_extension": ".py",
   "mimetype": "text/x-python",
   "name": "python",
   "nbconvert_exporter": "python",
   "pygments_lexer": "ipython3",
   "version": "3.7.0"
  }
 },
 "nbformat": 4,
 "nbformat_minor": 2
}
