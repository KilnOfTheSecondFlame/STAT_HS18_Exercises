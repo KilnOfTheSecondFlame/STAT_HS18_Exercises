{
 "cells": [
  {
   "cell_type": "markdown",
   "metadata": {},
   "source": [
    "# Serie 4\n",
    "\n",
    "## Aufgabe 4.1\n",
    "\n",
    "### a)\n",
    "Gegeben sind zwei unabhängige Zufallsvariable $X$ und $Y$ mit den Kennwerten $\\mu_X = 40$, $\\sigma_X = 15$, $\\mu_Y = 85$ und $\\sigma_Y = 18$. Berechnen Sie $E ( X + 2Y )$ , $Var ( X + 2Y )$ und $E ( X 2 )$."
   ]
  },
  {
   "cell_type": "code",
   "execution_count": null,
   "metadata": {},
   "outputs": [],
   "source": []
  },
  {
   "cell_type": "markdown",
   "metadata": {},
   "source": [
    "### b)\n",
    "Ein Werk produziert rechteckige Glasscheiben, deren Länge $X$ und Breite $Y$ (in mm gemessen) von einander unabhängig produktionsbedingten Schwankungen unterliegen. Es gilt $\\mu_X = 1000$, $\\sigma_X = 0.02$, $\\mu_Y = 500$, $\\sigma_Y = 0.01$. Wie gross sind Erwartungswert und Standardabweichung des Umfangs $U$?"
   ]
  },
  {
   "cell_type": "code",
   "execution_count": null,
   "metadata": {},
   "outputs": [],
   "source": []
  },
  {
   "cell_type": "markdown",
   "metadata": {},
   "source": [
    "## Aufgabe 4.2\n",
    "\n",
    "Erzeugen Sie mit `norm.rvs()` $m = 500$ Stichproben aus einer Standardnormalverteilung mit Umfang $n = 5$. Speichern Sie die Stichproben als $( n × m )$− Matrix ab.\n",
    "```python\n",
    "import matplotlib.pyplot as plt\n",
    "from scipy.stats import norm\n",
    "import numpy as np\n",
    "\n",
    "n = 5\n",
    "m = 500\n",
    "\n",
    "ran = np.array(norm.rvs(size=n * m))\n",
    "sim = ran.reshape((n,m))\n",
    "```"
   ]
  },
  {
   "cell_type": "code",
   "execution_count": 1,
   "metadata": {},
   "outputs": [],
   "source": [
    "import matplotlib.pyplot as plt\n",
    "from scipy.stats import norm\n",
    "import numpy as np\n",
    "n = 5\n",
    "m = 500\n",
    "ran = np.array(norm.rvs(size=n * m))\n",
    "sim = ran.reshape((n,m))"
   ]
  },
  {
   "cell_type": "markdown",
   "metadata": {},
   "source": [
    "### a)\n",
    "Stellen Sie die Stichproben als Runs graphisch dar, und staunen Sie über die zahlreichen möglichen Verläufe.\n",
    "\n",
    "```python\n",
    "plt.plot(sim)\n",
    "plt.show()\n",
    "```"
   ]
  },
  {
   "cell_type": "code",
   "execution_count": null,
   "metadata": {},
   "outputs": [],
   "source": []
  },
  {
   "cell_type": "markdown",
   "metadata": {},
   "source": [
    "### b)\n",
    "Berechnen Sie nun für jede Stichprobe den Mittelwert $\\bar{x}$ und erzeugen Sie ein Histogramm der Mittelwerte. Aus der Theorie wissen Sie, dass die Mittelwerte normalverteilt mit Parameter $µ = 0$ und Standardabweichung $σ = \\frac{1}{\\sqrt{n}}$ seinmüssten. Überprüfen Sie dies graphisch mit Hilfe von Histogrammen und der theoretischen Wahrscheinlichkeitsdichtekurve\n",
    "\n",
    "```python\n",
    "plt.hist(sim.T, bins=20, density=True, edgecolor=\"black\",facecolor=\"white\")\n",
    "\n",
    "x = np.linspace(-4, 4, num=100)\n",
    "y = norm.pdf(x)\n",
    "\n",
    "plt.plot(x,y)\n",
    "plt.title(\"Histogramm sim\")\n",
    "plt.show()\n",
    "\n",
    "sim_mean = sim.mean(axis=0)\n",
    "\n",
    "plt.hist(sim_mean, density=True, edgecolor=\"black\",facecolor=\"white\")\n",
    "\n",
    "x = np.linspace(-4, 4, num=100)\n",
    "\n",
    "y = norm.pdf(x, loc=0, scale=1/np.sqrt(n))\n",
    "\n",
    "plt.plot(x,y)\n",
    "plt.title(\"Histogramm sim_mean\")\n",
    "\n",
    "plt.show()\n",
    "```"
   ]
  },
  {
   "cell_type": "code",
   "execution_count": null,
   "metadata": {},
   "outputs": [],
   "source": []
  },
  {
   "cell_type": "markdown",
   "metadata": {},
   "source": [
    "### c)\n",
    "Wiederholen Sie die Aufgabe für $n = 2,10,100$."
   ]
  },
  {
   "cell_type": "code",
   "execution_count": null,
   "metadata": {},
   "outputs": [],
   "source": []
  },
  {
   "cell_type": "markdown",
   "metadata": {},
   "source": [
    "## Aufgabe 4.3\n",
    "\n",
    "### a)\n",
    " Eine Elektronik-Firma stellt Widerstände her, die einen mittleren Widerstand von 100Ω und eine Standardabweichung von 10Ω haben. Die Widerstände sind normalverteilt. Bestimmen Sie die Wahrscheinlichkeit, dass sich für eine zufällige Stichprobe von n = 25 Widerständen ein mittlerer Widerstand unter 95Ω ergibt."
   ]
  },
  {
   "cell_type": "code",
   "execution_count": null,
   "metadata": {},
   "outputs": [],
   "source": []
  },
  {
   "cell_type": "markdown",
   "metadata": {},
   "source": [
    "### b)\n",
    "Nehmen Sie an, dass eine Zufallsvariable $X$ einer uniformen Verteilung folgt, und zwar $X ∼ Uniform [ 4,6 ]$ . Wie lautet die Verteilung der Zufallsvariablen $\\bar{X}_{40}$ , also des Mittelwertes einer Stichprobe vom Umfang n = 40."
   ]
  },
  {
   "cell_type": "code",
   "execution_count": null,
   "metadata": {},
   "outputs": [],
   "source": []
  },
  {
   "cell_type": "markdown",
   "metadata": {},
   "source": [
    "## Aufgabe 4.4\n",
    "\n",
    "Es seien ${ X_i }_{1 ≤ i ≤ 50}$ unabhängige und normalverteilte Zufallsvariablen mit Erwartungswert $µ = 1$ und Standardabweichung $σ = 2$. Darüber hinaus sind folgende\n",
    "Zufallsvariablen definiert:\n",
    "\n",
    "$$S_n = X_1 + X_2 + \\cdots + X_n$$\n",
    "\n",
    "und\n",
    "\n",
    "$$\\overline{X_n} = \\frac{1}{n}( X_1 + X_2 + \\cdots + X_n ) = \\frac{S_n}{n}$$\n",
    "\n",
    "Dabei ist $n = 50$.\n",
    "\n",
    "### a)\n",
    "Bestimmen Sie die Parameter der Normalverteilung von $S_n$ sowie $\\overline{X_n}$."
   ]
  },
  {
   "cell_type": "code",
   "execution_count": null,
   "metadata": {},
   "outputs": [],
   "source": []
  },
  {
   "cell_type": "markdown",
   "metadata": {},
   "source": [
    "### b)\n",
    "\n",
    "Berechnen Sie die Wahrscheinlichkeit $P ( E [ X_1 ] − 1 ≤ X_1 ≤ E [ X_1 ] + 1 )$\n",
    "\n",
    "$X_1$ ist normalverteilt mit $N(\\mu=1, \\sigma^2=4)$"
   ]
  },
  {
   "cell_type": "code",
   "execution_count": null,
   "metadata": {},
   "outputs": [],
   "source": []
  },
  {
   "cell_type": "markdown",
   "metadata": {},
   "source": [
    "### c)\n",
    "Berechnen Sie $P ( E [ S n ] − 1 ≤ S n ≤ E [ S n ] + 1 )$.\n",
    "\n",
    "$S_N$ ist normalverteilt mit $N (\\mu_{S_n} = 50, \\sigma_{S_n}^2 = 200)$"
   ]
  },
  {
   "cell_type": "code",
   "execution_count": null,
   "metadata": {},
   "outputs": [],
   "source": []
  },
  {
   "cell_type": "markdown",
   "metadata": {},
   "source": [
    "### d)\n",
    "Berechnen Sie $P( E [ X_n ] − 1 ≤ X_n ≤ E [ X_n ] + 1)$\n",
    "\n",
    "$\\overline{X_n}$ ist normalverteilt mit $N(\\mu=1,\\sigma^2=\\frac{4}{n})$"
   ]
  },
  {
   "cell_type": "code",
   "execution_count": null,
   "metadata": {},
   "outputs": [],
   "source": []
  },
  {
   "cell_type": "markdown",
   "metadata": {},
   "source": [
    "## Aufgabe 4.5\n",
    "\n",
    "Wir betrachten einen Datensatz, bei welchem zwei Methoden zur Bestimmung der\n",
    "latenten Schmelzwärme von Eis verglichen werden. Wiederholte Messungen der\n",
    "freigesetzten Wärme beim Übergang von Eis bei −0.7°C zu Wasser bei 0°C ergaben\n",
    "die folgenden Werte (in cal/g):\n",
    "\n",
    "![Methodenliste](Methoden.png)"
   ]
  },
  {
   "cell_type": "markdown",
   "metadata": {},
   "source": [
    "### a)\n",
    "Berechnen Sie die arithmetischen Mittelwerte der beiden Methoden und geben Sie für jede Methode den absoluten Fehler an"
   ]
  },
  {
   "cell_type": "code",
   "execution_count": null,
   "metadata": {},
   "outputs": [],
   "source": []
  },
  {
   "cell_type": "markdown",
   "metadata": {},
   "source": [
    "### b)\n",
    "Wie lauten die relativen Fehler?"
   ]
  },
  {
   "cell_type": "code",
   "execution_count": null,
   "metadata": {},
   "outputs": [],
   "source": []
  }
 ],
 "metadata": {
  "kernelspec": {
   "display_name": "Python 3",
   "language": "python",
   "name": "python3"
  },
  "language_info": {
   "codemirror_mode": {
    "name": "ipython",
    "version": 3
   },
   "file_extension": ".py",
   "mimetype": "text/x-python",
   "name": "python",
   "nbconvert_exporter": "python",
   "pygments_lexer": "ipython3",
   "version": "3.7.0"
  }
 },
 "nbformat": 4,
 "nbformat_minor": 2
}
