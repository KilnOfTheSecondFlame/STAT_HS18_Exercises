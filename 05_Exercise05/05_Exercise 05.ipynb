{
 "cells": [
  {
   "cell_type": "markdown",
   "metadata": {},
   "source": [
    "# Serie 5\n",
    "\n",
    "## Aufgabe 5.1\n",
    "\n",
    "Mit folgender Simulationsaufgabe sollen Sie mit dem Normalplot vertraut werden.\n",
    "\n",
    "### a)\n",
    "Simulieren Sie $n = 10,20,50$ und $100$ (standard-) normalverteilte Zufallszahlen und betrachten Sie die jeweilige Folge mit einem Normalplot.\n",
    "WiederholenSie diese Simulationen einige Male, bis Sie abschätzen können, wie weit zufällige Abweichungen von einer Geraden im Normalplot üblich sind.\n",
    "\n",
    "__Python__-Hinweise:\n",
    "\n",
    "```python\n",
    "import matplotlib.pyplot as plt\n",
    "import numpy as np\n",
    "import scipy.stats as st\n",
    "\n",
    "x = st.norm.rvs(size=10)\n",
    "st.probplot(x,plot=plt)\n",
    "```"
   ]
  },
  {
   "cell_type": "code",
   "execution_count": 14,
   "metadata": {},
   "outputs": [],
   "source": [
    "import matplotlib.pyplot as plt\n",
    "import scipy.stats as st\n",
    "import seaborn as sns\n",
    "import pandas as pd\n",
    "import numpy as np"
   ]
  },
  {
   "cell_type": "code",
   "execution_count": null,
   "metadata": {},
   "outputs": [],
   "source": []
  },
  {
   "cell_type": "markdown",
   "metadata": {},
   "source": [
    "### b)\n",
    "_Langschwänzige Verteilung_: Simulieren Sie je $n = 20$ und $100$ _t_-verteilte Zufallszahlen mit $\\upsilon = 20,7$ und $3$ Freiheitsgraden. Wiederholen Sie diese Simulationen einige Male, bis Sie abschätzen können, wie gross Abweichungen von einer Geraden im Normalplot üblich sind.\n",
    "\n",
    "__Python__-Hinweise:\n",
    "\n",
    "```python\n",
    "x = st.t.rvs(size=10, df=20)\n",
    "```"
   ]
  },
  {
   "cell_type": "code",
   "execution_count": null,
   "metadata": {},
   "outputs": [],
   "source": []
  },
  {
   "cell_type": "markdown",
   "metadata": {},
   "source": [
    "### c)\n",
    "_Schiefe Verteilung_: Simulieren Sie je $n = 20$ und $100$  chiquadrat-verteilte  Zufallszahlen mit $\\upsilon = 20$ und $1$ Freiheitsgraden. Wiederholen Sie diese Simulationen einige Male, bis Sie abschätzen können, wie gross Abweichungen von einer Geraden im Normalplot üblich sind.\n",
    "\n",
    "__Python__-Hinweise:\n",
    "\n",
    "```python\n",
    "x = st.chi2.rvs(size=10, df=20)\n",
    "```"
   ]
  },
  {
   "cell_type": "code",
   "execution_count": null,
   "metadata": {},
   "outputs": [],
   "source": []
  },
  {
   "cell_type": "markdown",
   "metadata": {},
   "source": [
    "## Aufgabe 5.2\n",
    "\n",
    "In dieser Aufgabe untersuchen Sie die Wirkung des Zentralen Grenzwertsatzes mittels Simulation. Gehen Sie von einer Zufallsvariablen X aus, die folgendermassen verteilt ist: die Werte $0, 10$ und $11$ werden je mit einer Wahrscheinlichkeit $\\frac{1}{3}$ angenommen. Simulieren Sie nun die Verteilung von $X$ sowie die Verteilung des Mittelwerts $\\overline{X}_n$ von mehreren $X$."
   ]
  },
  {
   "cell_type": "markdown",
   "metadata": {},
   "source": [
    "### a)\n",
    "\n",
    "Simulieren Sie X. Stellen Sie die Verteilung von $X$ mittels eines Histogramms von $1000$ Realisierungen von $X$ dar, und vergleichen Sie sie mittels des Normalplots mit der Normalverteilung.\n",
    "\n",
    "```python\n",
    "# moegliche Werte von X\n",
    "werte = np.array([0,10,11])\n",
    "\n",
    "# X simulieren\n",
    "sim = Series(np.random.choice(werte, size=1000, replace=True))\n",
    "\n",
    "# Mehrere Grafiken neben- und untereinander\n",
    "plt.subplot(4,2,1)\n",
    "\n",
    "# Histogramm erstellen\n",
    "sim.hist(bins=[0,1,10,11,12], edgecolor=\"black\")\n",
    "plt.title(\"Original\")\n",
    "plt.subplot(4,2,2)\n",
    "\n",
    "# Normalplot erstellen\n",
    "st.probplot(sim,plot=plt)\n",
    "plt.title(\"Normal Q-Q Plot\")\n",
    "```"
   ]
  },
  {
   "cell_type": "code",
   "execution_count": null,
   "metadata": {},
   "outputs": [],
   "source": []
  },
  {
   "cell_type": "markdown",
   "metadata": {},
   "source": [
    "### b)\n",
    "Simulieren Sie nun $\\overline{X}_5 = \\frac{X_1 + X_2 + X_3 + X_4 + X_5}{5}$, wobei die $X_i$ die gleiche Verteilung haben wie $X$ und unabhängig sind. Stellen Sie die Verteilung von $\\overline{X}_5$ anhand\n",
    "von 1000 Realisierungen von X 5 dar, und vergleichen Sie mit der Normalverteilung.\n",
    "\n",
    "```python\n",
    "n = 5\n",
    "\n",
    "# X_1,...,X_n simulieren und in einer n-spaltigen\n",
    "# Matrix (mit 1000 Zeilen) anordnen\n",
    "sim = np.random.choice(werte, size=n * 1000, replace=True)\n",
    "sim = DataFrame(np.reshape(sim,(n,1000)))\n",
    "\n",
    "#In jeder Matrixzeile Mittelwert berechnen\n",
    "sim_mean = sim.mean()\n",
    "plt.subplot(4,2,3)\n",
    "sim_mean.hist(edgecolor=\"black\")\n",
    "plt.title(\"Mittelwerte von 5 Beobachtungen\")\n",
    "plt.subplot(4,2,4)\n",
    "st.probplot(sim_mean,plot=plt)\n",
    "plt.title(\"Normal Q-Q Plot\")\n",
    "```"
   ]
  },
  {
   "cell_type": "code",
   "execution_count": null,
   "metadata": {},
   "outputs": [],
   "source": []
  },
  {
   "cell_type": "markdown",
   "metadata": {},
   "source": [
    "### c)\n",
    "\n",
    "Simulieren Sie nun die Verteilung von $\\overline{X}_n$ auch für die Fälle, wo $\\overline{X}_n$ das Mittel von $n = 10$ resp. $n = 200$ $X_i$ ist."
   ]
  },
  {
   "cell_type": "code",
   "execution_count": null,
   "metadata": {},
   "outputs": [],
   "source": []
  },
  {
   "cell_type": "markdown",
   "metadata": {},
   "source": [
    "### d)\n",
    "\n",
    "Geben Sie die Verteilung von $\\overline{X}_{200}$ an, zusammen mit den Werten der Verteilungsparameter."
   ]
  },
  {
   "cell_type": "code",
   "execution_count": null,
   "metadata": {},
   "outputs": [],
   "source": []
  },
  {
   "cell_type": "markdown",
   "metadata": {},
   "source": [
    "## Aufgabe 5.3\n",
    "\n",
    "In einer Studie wurde untersucht, wie bei Mäusen die Aufnahme von Eisen ($\\text{Fe}^{3+}$) von der Dosis abhängt. Dazu wurden 54 Mäuse zufällig in 3 Gruppen zu je 18 Mäusen eingeteilt und jeweils mit Dosis hoch, mittel und tief gefüttert (hoch = 10.2 millimolar, mittel=1.2 millimolar, tief=0.3 millimolar). Mittels radioaktiver Markierung wurde der Anteil des zurückgehaltenen Eisens in Prozent nach einer gewissen Zeit bestimmt.\n",
    "Die Daten sind auf Ilias in der Datei __ironF3.dat__ abgelegt; Sie können sie einlesen mit dem Befehl\n",
    "\n",
    "```python\n",
    "iron = pd.read_table(\"./ironF3.dat\",sep=\" \",index_col=False)\n",
    "```\n",
    "\n",
    "Für * muss der gesamte Pfad stehen, wo Sie ihre Datei abgespeichert haben."
   ]
  },
  {
   "cell_type": "code",
   "execution_count": 8,
   "metadata": {},
   "outputs": [
    {
     "data": {
      "text/html": [
       "<div>\n",
       "<style scoped>\n",
       "    .dataframe tbody tr th:only-of-type {\n",
       "        vertical-align: middle;\n",
       "    }\n",
       "\n",
       "    .dataframe tbody tr th {\n",
       "        vertical-align: top;\n",
       "    }\n",
       "\n",
       "    .dataframe thead th {\n",
       "        text-align: right;\n",
       "    }\n",
       "</style>\n",
       "<table border=\"1\" class=\"dataframe\">\n",
       "  <thead>\n",
       "    <tr style=\"text-align: right;\">\n",
       "      <th></th>\n",
       "      <th>high</th>\n",
       "      <th>medium</th>\n",
       "      <th>low</th>\n",
       "    </tr>\n",
       "  </thead>\n",
       "  <tbody>\n",
       "    <tr>\n",
       "      <th>0</th>\n",
       "      <td>0.71</td>\n",
       "      <td>2.20</td>\n",
       "      <td>2.25</td>\n",
       "    </tr>\n",
       "    <tr>\n",
       "      <th>1</th>\n",
       "      <td>1.66</td>\n",
       "      <td>2.93</td>\n",
       "      <td>3.93</td>\n",
       "    </tr>\n",
       "    <tr>\n",
       "      <th>2</th>\n",
       "      <td>2.01</td>\n",
       "      <td>3.08</td>\n",
       "      <td>5.08</td>\n",
       "    </tr>\n",
       "    <tr>\n",
       "      <th>3</th>\n",
       "      <td>2.16</td>\n",
       "      <td>3.49</td>\n",
       "      <td>5.82</td>\n",
       "    </tr>\n",
       "    <tr>\n",
       "      <th>4</th>\n",
       "      <td>2.42</td>\n",
       "      <td>4.11</td>\n",
       "      <td>5.84</td>\n",
       "    </tr>\n",
       "  </tbody>\n",
       "</table>\n",
       "</div>"
      ],
      "text/plain": [
       "   high  medium   low\n",
       "0  0.71    2.20  2.25\n",
       "1  1.66    2.93  3.93\n",
       "2  2.01    3.08  5.08\n",
       "3  2.16    3.49  5.82\n",
       "4  2.42    4.11  5.84"
      ]
     },
     "execution_count": 8,
     "metadata": {},
     "output_type": "execute_result"
    }
   ],
   "source": [
    "import pandas as pd\n",
    "\n",
    "iron = pd.read_table(\"./ironF3.dat\",sep=\" \",index_col=False)\n",
    "iron.head()"
   ]
  },
  {
   "cell_type": "markdown",
   "metadata": {},
   "source": [
    "### a)\n",
    "Erstellen Sie für jede der 3 Versuchsbedingungen einen Boxplot, am besten gerade nebeneinander. Wie unterscheiden sich die Daten der verschiedenen Versuchsbedingungen?"
   ]
  },
  {
   "cell_type": "code",
   "execution_count": null,
   "metadata": {},
   "outputs": [],
   "source": []
  },
  {
   "cell_type": "markdown",
   "metadata": {},
   "source": [
    "### b)\n",
    "\n",
    "Transformieren Sie alle Werte mit dem Logarithmus und erstellen Sie wieder die 3 Boxplots wie bei Aufgabe a). Was hat sich durch die Transformation geändert?\n",
    "\n",
    "Die Mittelwerte haben sich nach \"oben\" verschoben."
   ]
  },
  {
   "cell_type": "code",
   "execution_count": null,
   "metadata": {},
   "outputs": [],
   "source": []
  },
  {
   "cell_type": "markdown",
   "metadata": {},
   "source": [
    "### c)\n",
    "\n",
    "Erstellen Sie einen Normalplot der Daten bei mittlerer Dosis vor und nach dem Logarithmieren. Wann passt die Normalverteilung besser? Verwenden Sie die __Python__-Funktion\n",
    "\n",
    "```python\n",
    "st.probplot(...)\n",
    "```"
   ]
  },
  {
   "cell_type": "code",
   "execution_count": null,
   "metadata": {},
   "outputs": [],
   "source": []
  },
  {
   "cell_type": "markdown",
   "metadata": {},
   "source": [
    "### d)\n",
    "\n",
    "Unter der Annahme, dass die Daten bei mittlerer Dosis normalverteilt sind, schätzen Sie die Parameter $\\mu$ und $\\sigma^2$ . Wie gross ist die Wahrscheinlichkeit, dass eine Maus mehr als 10% Eisen zurückhält."
   ]
  },
  {
   "cell_type": "code",
   "execution_count": null,
   "metadata": {},
   "outputs": [],
   "source": []
  },
  {
   "cell_type": "markdown",
   "metadata": {},
   "source": [
    "## Aufgabe 5.4\n",
    "\n",
    "Ein Statistiker beobachtet, dass ein Angler innerhalb von 2 Stunden 15 Fische fängt. Er nimmt an, dass es sich um einen Poissonprozess handelt und überlegt sich:\n",
    "\n",
    "### a)\n",
    "\n",
    "Mit welcher Wahrscheinlichkeit dauert es länger als 12 Minuten, bis der nächste Fisch anbeisst? _Hinweis_: Benützen Sie die Momentenmethode, um Parameter zu schätzen."
   ]
  },
  {
   "cell_type": "code",
   "execution_count": null,
   "metadata": {},
   "outputs": [],
   "source": []
  },
  {
   "cell_type": "markdown",
   "metadata": {},
   "source": [
    "### b)\n",
    "Mit welcher Wahrscheinlichkeit beissen innerhalb der nächsten 12 Minuten genau 2 Fische an?"
   ]
  },
  {
   "cell_type": "code",
   "execution_count": null,
   "metadata": {},
   "outputs": [],
   "source": []
  },
  {
   "cell_type": "markdown",
   "metadata": {},
   "source": [
    "### c)\n",
    "Ein Fischer hat die Wartezeiten zwischen zwei Fischfängen aufgeschrieben. Erstellen Sie einen QQ-Plot für die angegebenen Zeitdifferenzen. Tragen Sie dazu die empirischen Quantile der Messungen gegen die theoretischen Quantile der $e^1$-Verteilung auf. Passt die Exponentialverteilung zu den Messdaten? Bestimmen Sie die Steigung der Regressionsgeraden im QQ-Plot. Was ist die Bedeutung von der Steigung der Regressionsgeraden in diesem QQ-Plot? Schätzen Sie aufgrund der Steigung den Parameter $\\lambda$ der $e^\\lambda$-Verteilung.\n",
    "\n",
    "![Tabelle Fangzeiten](img/fischer.png)"
   ]
  },
  {
   "cell_type": "code",
   "execution_count": null,
   "metadata": {},
   "outputs": [],
   "source": []
  },
  {
   "cell_type": "markdown",
   "metadata": {},
   "source": [
    "## Aufgabe 5.5\n",
    "\n",
    "In dieser Aufgabe geht es um Parameterschätzung. Wir betrachten eine stetige Verteilung mit folgender Dichte:\n",
    "\n",
    "$$\n",
    "f(x) = \\left\\{\n",
    "\\begin{matrix}\n",
    "\\frac{\\alpha}{x^{\\alpha+1}} && x \\geq 1 \\\\\n",
    "0 && x < 1\n",
    "\\end{matrix}\n",
    "\\right.\n",
    "$$\n",
    "\n",
    "wobei $\\alpha > 0$ ein unbekannter Parameter ist. Wir wollen den Parameter $\\alpha$ aus einer Stichprobe schätzen"
   ]
  },
  {
   "cell_type": "markdown",
   "metadata": {},
   "source": [
    "### a)\n",
    "Bestimmen Sie die Likelihood- und die Log-Likelihood-Funktion basierend auf $n$ unabhängigen identisch verteilten Beobachtungen $x_1 ,..., x_n$ einer Zufallsvariablen mit obiger Dichte."
   ]
  },
  {
   "cell_type": "code",
   "execution_count": null,
   "metadata": {},
   "outputs": [],
   "source": []
  },
  {
   "cell_type": "markdown",
   "metadata": {},
   "source": [
    "### b)\n",
    "Bestimmen Sie den zugehörigen Maximum-Likelihood-Schätzer für $\\alpha$. Schreiben Sie zuerst die allgemeine Formel für $n$ Beobachtungen hin und berechnen Sie den Schätzer dann für die folgende konkrete Stichprobe:\n",
    "![Stichproben](img/Stichproben.png)"
   ]
  },
  {
   "cell_type": "code",
   "execution_count": null,
   "metadata": {},
   "outputs": [],
   "source": []
  },
  {
   "cell_type": "markdown",
   "metadata": {},
   "source": [
    "### c)\n",
    "Bestimmen Sie den Momentenschätzer für $\\alpha$, wieder zuerst allgemein basierend auf $n$ unabhängigen Beobachtungen $x_1,..., x_n$ und dann für obige Stichprobe.\n",
    "\n",
    "_Hinweise_: Der Erwartungswert einer Zufallsvariablen $X$ mit obiger Dichte $\\mathcal{f}$ ist\n",
    "\n",
    "$$ \\text{E}[ X ] =\\frac{\\alpha}{\\alpha − 1}\\ \\text{für}\\ \\alpha > 1$$\n",
    "\n",
    "Für $\\alpha \\leq 1$ ist der Erwartungswert gleich $\\infty$ und der Momentenschätzer ist nicht definiert. Sie müssen für diese Teilaufgabe also annehmen, dass $\\alpha > 1$."
   ]
  },
  {
   "cell_type": "code",
   "execution_count": null,
   "metadata": {},
   "outputs": [],
   "source": []
  },
  {
   "cell_type": "markdown",
   "metadata": {},
   "source": [
    "### d)\n",
    "Vergleichen Sie den Maximum-Likelihood und den Momentenschätzer für obige Stichprobe. Ist der Momentenschätzer hier sinnvoll?"
   ]
  },
  {
   "cell_type": "code",
   "execution_count": null,
   "metadata": {},
   "outputs": [],
   "source": []
  },
  {
   "cell_type": "markdown",
   "metadata": {},
   "source": [
    "## Aufgabe 5.6\n",
    "Die Inkubationszeit eines Virus ist definiert als die Zeitspanne (gemessen in Tagen) von der Ansteckung bis zum Ausbruch der Krankheit. Diese Inkubationszeit wird mit folgender Dichte beschrieben:\n",
    "\n",
    "$$\n",
    "f(x) = \\left\\{\n",
    "\\begin{matrix}\n",
    "0 && x \\leq 0 \\\\\n",
    "\\frac{1}{x\\sqrt{2\\pi}\\cdot\\sigma}\\cdot e^{-\\frac{(log(x)-1)^2}{2\\sigma^2}} && x > 0\n",
    "\\end{matrix}\n",
    "\\right.\n",
    "$$\n",
    "\n",
    "wobei wir mit $log (\\cdot)$ den natürlichen Logarithmus bezeichnen. Hier ist $\\sigma > 0$ der unbekannte Parameter, welchen es zu schätzen gilt. Wir möchten nun den Parameter der Verteilung kennen, dazu nehmen wir eine Stichprobe. Das Ziel ist, diesen unbekannten Parameter daraus zu schätzen, um somit zum Beispiel die Dauer von Quarantänemassnahmen für ein neuartiges Virusabschätzen zu können. Wir betrachten die Daten (in Tagen):\n",
    "\n",
    "![Stichproben #2](img\\Stichproben2.png)\n",
    "\n",
    "_Hinweis_: Für eine Zufallsvariable $X$ mit obiger Dichte gilt\n",
    "$$ \\text{E}[ X ] = e^{\\frac{1 + \\sigma^2}{2}}$$\n",
    "\n",
    "### a)\n",
    "Bestimmen Sie die Likelihood- und die log-Likelihood-Funktion basierend auf $n$ unabhängigen identisch verteilten Beobachtungen $x_1 ,..., x_n$ einer Zufallsvariable mit obiger Dichte. Berechnen Sie daraus den Maximum-Likelihood Schätzer für den unbekannten Parameter $\\sigma$. Die konkreten Werte brauchen Sie nicht einzusetzen."
   ]
  },
  {
   "cell_type": "code",
   "execution_count": null,
   "metadata": {},
   "outputs": [],
   "source": []
  },
  {
   "cell_type": "markdown",
   "metadata": {},
   "source": [
    "### b)\n",
    "Bestimmen Sie den Momentenschätzer für $\\sigma$, sowohl basierend auf $n$ unabhängigen Beobachtungen $x_1 ,..., x_n$, wie auch den realisierten Wert für die gegebene Stichprobe."
   ]
  },
  {
   "cell_type": "code",
   "execution_count": null,
   "metadata": {},
   "outputs": [],
   "source": []
  },
  {
   "cell_type": "markdown",
   "metadata": {},
   "source": [
    "### c)\n",
    "Nehmen wir für diese Teilaufgabe an, dass wir folgende Daten beobachtet haben:\n",
    "Welcher Schätzer (Momentenschätzer oder Maximum-Likelihood Schätzer) ist\n",
    "\n",
    "![Stichproben #3](img\\Stichproben3.png)\n",
    "\n",
    "bei diesen Daten zu bevorzugen? Begründen Sie."
   ]
  },
  {
   "cell_type": "code",
   "execution_count": null,
   "metadata": {},
   "outputs": [],
   "source": []
  }
 ],
 "metadata": {
  "kernelspec": {
   "display_name": "Python 3",
   "language": "python",
   "name": "python3"
  },
  "language_info": {
   "codemirror_mode": {
    "name": "ipython",
    "version": 3
   },
   "file_extension": ".py",
   "mimetype": "text/x-python",
   "name": "python",
   "nbconvert_exporter": "python",
   "pygments_lexer": "ipython3",
   "version": "3.7.0"
  }
 },
 "nbformat": 4,
 "nbformat_minor": 2
}
