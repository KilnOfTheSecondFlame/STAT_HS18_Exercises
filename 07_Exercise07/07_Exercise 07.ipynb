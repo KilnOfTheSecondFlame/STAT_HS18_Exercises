{
 "cells": [
  {
   "cell_type": "markdown",
   "metadata": {},
   "source": [
    "# Serie 7\n",
    "\n",
    "## Aufgabe 7.1\n",
    "\n",
    "Old Faithful ist ein Geysir im Yellowstone National Park in Wyoming:\n",
    "[https://en.wikipedia.org/wiki/Old_Faithful](https://en.wikipedia.org/wiki/Old_Faithful)\n",
    "Im Datensatz oldfaithful.txt sind Längen von 272 aufeinanderfolgenden Ausbrüchen aufgeführt. Hier ist ein Histogramm der Daten.\n",
    "![Histogramm old Faithful](OldFaithful.png)\n",
    "\n",
    "### a)\n",
    "\n",
    "Schätzen Sie den Mittelwert der Eruptionsdauern abund geben Sie ein 95% Vertrauensintervall mit dem vereinfachten Bootstrap-Verfahren im Skript an. Verwenden Sie dazu 1000 Bootstraps.\n",
    "Setzen Sie für ∗ den Pfad, wo sich Ihr `oldfaithful.txt` befindet\n",
    "```python\n",
    "import numpy as np\n",
    "\n",
    "x = np.loadtxt(r\" * /oldfaithful.txt\")\n",
    "\n",
    "n = np.mean(x)\n",
    "\n",
    "nboot = ....\n",
    "\n",
    "tmpdata = np.random.choice(x, n * nboot, replace=True)\n",
    "\n",
    "bootstrapsample = np.reshape(tmpdata, (n, nboot))\n",
    "\n",
    "xbarstar = np.mean(bootstrapsample, axis=0)\n",
    "\n",
    "d = np.percentile(xbarstar, q=[2.5, 97.5])\n",
    "\n",
    "print('Vertrauensintervall: ',d)\n",
    "```"
   ]
  },
  {
   "cell_type": "code",
   "execution_count": 1,
   "metadata": {
    "scrolled": true
   },
   "outputs": [],
   "source": [
    "import matplotlib.pyplot as plt\n",
    "import scipy.stats as st\n",
    "import seaborn as sns\n",
    "import pandas as pd\n",
    "import numpy as np"
   ]
  },
  {
   "cell_type": "code",
   "execution_count": null,
   "metadata": {},
   "outputs": [],
   "source": []
  },
  {
   "cell_type": "markdown",
   "metadata": {},
   "source": [
    "### b)\n",
    "Machen Sie dasselbe für den Median."
   ]
  },
  {
   "cell_type": "code",
   "execution_count": null,
   "metadata": {},
   "outputs": [],
   "source": []
  },
  {
   "cell_type": "markdown",
   "metadata": {},
   "source": [
    "### c)\n",
    "Schätzen Sie die Wahrscheinlichkeit $P (| \\overline{x} − µ | > 5 )$ ab.\n",
    "Ersetzen Sie zur Abschätzung $µ$ durch den Mittelwert der Daten und $\\overline{x}$ durch die Bootstraps."
   ]
  },
  {
   "cell_type": "code",
   "execution_count": null,
   "metadata": {},
   "outputs": [],
   "source": []
  },
  {
   "cell_type": "markdown",
   "metadata": {},
   "source": [
    "## Aufgabe 7.2\n",
    "\n",
    "Aus der uniformen Verteilung X ∼ Uniform ([ 0,10 ]) soll eine Stichprobe vom Umfang $n$ gezogen werden.\n",
    "\n",
    "### a)\n",
    "Es sei n = 60. Bestimmen Sie ein symmetrisches Intervall $I = [ \\mu_X − e,\\mu_X + e ]$ um den Erwartungswert $\\mu_X$ so, dass sich das arithmetische Mittel der Stichprobe, also $\\overline{X_{60}}$ , mit der Wahrscheinlichkeit von 95% in I befindet. Ein solches\n",
    "Intervall heisst Prognoseintervall. Hinweis: Standardisieren Sie das arithmetische Mittel $\\overline{X_n}$ und benützen Sie den Zentralen Grenzwertsatz und $P ( \\overline{X_n} \\in I ) = 0.95$."
   ]
  },
  {
   "cell_type": "code",
   "execution_count": null,
   "metadata": {},
   "outputs": [],
   "source": []
  },
  {
   "cell_type": "markdown",
   "metadata": {},
   "source": [
    "### b)\n",
    "Umgekehrt: Wie gross muss n gewählt werden, damit $e = 0.2$ wird?"
   ]
  },
  {
   "cell_type": "code",
   "execution_count": null,
   "metadata": {},
   "outputs": [],
   "source": []
  },
  {
   "cell_type": "markdown",
   "metadata": {},
   "source": [
    "### c)\n",
    "Überprüfen Sie a) experimentell, d.h. mit Python : ziehen Sie viele Stichproben (z.B. 200) und zählen Sie, wie viele ausserhalb von I liegen. \n",
    "`Python`-Hinweise:\n",
    "\n",
    "```python\n",
    "from scipy.stats import uniform\n",
    "import matplotlib.pyplot as plt\n",
    "import numpy as np\n",
    "\n",
    "n = 60 # Anzahl Stichproben\n",
    "\n",
    "# X_1,...,X_n simulieren und in einer\n",
    "# n-spaltigen Matrix (mit 200 Zeilen) anordnen\n",
    "sim = uniform.rvs(size=200 * n, loc=0, scale=10)\n",
    "sim = sim.reshape(200, n)\n",
    "\n",
    "#In jeder Matrixzeile Mittelwert berechnen\n",
    "sim_mean = sim.mean(axis=1)\n",
    "plt.plot(np.arange(1,201,1),sim_mean)\n",
    "\n",
    "# Zeichnen Sie mit axhline(y=...) die\n",
    "# Intervallgrenzen des Prognoseintervalls\n",
    "# in der obigen Graphik ein.\n",
    "```"
   ]
  },
  {
   "cell_type": "code",
   "execution_count": null,
   "metadata": {},
   "outputs": [],
   "source": []
  },
  {
   "cell_type": "markdown",
   "metadata": {},
   "source": [
    "## Aufgabe 7.3\n",
    "Aufgrund langjähriger Untersuchungen ist bekannt, dass der Bleigehalt X von gewissen Bodenproben annähernd normal-verteilt ist $X ∼ N( µ,σ^2 )$\n",
    "\n",
    "### a)\n",
    "Es wurden in 10 Bodenproben der Bleigehalt X gemessen. Dabei wurde ein Mittelwert von $\\bar{x}_{10} = 31 ppb$ erhalten. Die Standardabweichung sei bekannt und beträgt 6ppb.\n",
    "\n",
    "Geben Sie das zweiseitige 99% Vertrauensintervall für den Mittelwert an."
   ]
  },
  {
   "cell_type": "code",
   "execution_count": null,
   "metadata": {},
   "outputs": [],
   "source": []
  },
  {
   "cell_type": "markdown",
   "metadata": {},
   "source": [
    "### b)\n",
    "\n",
    "Wie viele Beobachtungen sind nötig, um die Breite des in Teilaufgabe a) bestimmten zweiseitigen Vertrauensintervalls auf die Hälfte zu reduzieren?\n",
    "\n",
    "Wie viele (unabhängige) Bestimmungen des Bleigehalts müssen geplant werden, falls der Bleigehalt mit einer Stichprobe „1ppb genau” bestimmt werden soll, d.h., wenn die Breite des 99% des Konfidenzintervalls nicht grösser als\n",
    "1ppb sein soll?"
   ]
  },
  {
   "cell_type": "code",
   "execution_count": null,
   "metadata": {},
   "outputs": [],
   "source": []
  },
  {
   "cell_type": "markdown",
   "metadata": {},
   "source": [
    "### c)\n",
    "Normalerweise ist die Standardabweichung σ unbekannt. Um welchen Faktor verändert sich die Breite des zweiseitigen Vertrauensintervalls in Teilaufgabe a), wenn man die Standardabweichung aus den Daten geschätzt hat, also $\\hat{\\sigma} = 6$?"
   ]
  },
  {
   "cell_type": "code",
   "execution_count": null,
   "metadata": {},
   "outputs": [],
   "source": []
  },
  {
   "cell_type": "markdown",
   "metadata": {},
   "source": [
    "## Aufgabe 7.4\n",
    "\n",
    "Im National Bureau of Standards (USA) wurden regelmässig Wägungen des 10-Gramm-Standardgewichtstücks durchgeführt. Bei 9 Wägungen erhielt man als durchschnittliche Differenz − 403 Mikrogramm vom 10 Gramm-Sollgewicht und eine Standardabweichung von 3.127 Mikrogramm für eine einzelne Wägung.\n",
    "\n",
    "### a)\n",
    "Geben Sie das exakte, zweiseitige 95%-Vertrauensintervall für die wahre Differenz an, unter der Annahme, dass die Messfehler normalverteilt sind."
   ]
  },
  {
   "cell_type": "code",
   "execution_count": null,
   "metadata": {},
   "outputs": [],
   "source": []
  },
  {
   "cell_type": "markdown",
   "metadata": {},
   "source": [
    "### b)\n",
    "Könnte die wahre Differenz − 400.0$\\mu g$ betragen? Entscheiden Sie aufgrund des Resultats in Aufgabe a)."
   ]
  },
  {
   "cell_type": "code",
   "execution_count": null,
   "metadata": {},
   "outputs": [],
   "source": []
  },
  {
   "cell_type": "markdown",
   "metadata": {},
   "source": [
    "## Aufgabe 7.5\n",
    "\n",
    "Eine Brücke soll aufgrund des höheren Verkehrsaufkommens renoviert werden. Im Bau wurden damals Schrauben mit einer mittleren Festigkeit von 500$\\frac{N}{mm^2}$ benutzt. Da dies für nicht mehr sicher genug gehalten wird, sollen diese nun durch Schrauben mit einer mittleren Festigkeit von mehr als 500$\\frac{N}{mm^2}$ ersetzt werden.\n",
    "\n",
    "Um diesen Anforderungen gerecht zu werden, hat der alte Schraubenlieferant ein neues Verfahren entwickelt. Zur Baustelle werden allerdings unbeschriftete Schrauben geliefert, aus denen nicht sofort hervorgeht, ob es sich um die alten 500er oder um die neuen verbesserten Schrauben handelt.\n",
    "\n",
    "Vor dem Verbau will der leitende Ingenieur zuerst sicherstellen, dass es sich um die besseren Schrauben handelt. Um dies herauszufinden, werden einige der Schrauben vermessen und ein statistischer Test durchgeführt. Je nach Ergebnis sollen die Schrauben verbaut oder zurückgeschickt werden.\n",
    "\n",
    "| Titel | 1 | 2 | 3 | 4 | 5 |\n",
    "| :---  | :--- | :--- | :--- | :--- | :--- |\n",
    "| Schraubenfestigkeit ($X_i$) | 520 | 512 | 499 | 524 | 505 |\n",
    "\n",
    "Für den empirischen Mittelwert und empirische Varianzergeben sich bei obiger Stichprobe $\\bar{x}_5$ = 512 und $s_x^2 $= 106.5.\n",
    "\n",
    "Wir modellieren die Daten mit einer Normalverteilung, d.h. $X_i \\text{i.i.d.} \\sim \\mathcal{N}( \\mu,\\sigma^2)$.\n",
    "\n",
    "### a)\n",
    "Stellen Sie die geeigneten Null- und Alternativhypothesen auf und begründen Sie Ihre Wahl."
   ]
  },
  {
   "cell_type": "code",
   "execution_count": null,
   "metadata": {},
   "outputs": [],
   "source": []
  },
  {
   "cell_type": "markdown",
   "metadata": {},
   "source": [
    "### b)\n",
    "Sie führen nun einen einseitigen $t$-Test zum Niveau $\\alpha = 0.05$ durch (unabhängig von Ihrer obigen Antwort). Stellen Sie die Teststatistik T auf und berechnen Sie deren Wert. Geben Sie die Verteilung der Teststatistik $T$ unter $H_0$ und den Verwerfungsbereich des Tests an. Was ist der Testentscheid?\n"
   ]
  },
  {
   "cell_type": "code",
   "execution_count": null,
   "metadata": {},
   "outputs": [],
   "source": []
  },
  {
   "cell_type": "markdown",
   "metadata": {},
   "source": [
    "### c)\n",
    "Berechnen Sie ein (zweiseitiges) 95%-Vertrauensintervall für $\\mu$."
   ]
  },
  {
   "cell_type": "code",
   "execution_count": null,
   "metadata": {},
   "outputs": [],
   "source": []
  },
  {
   "cell_type": "markdown",
   "metadata": {},
   "source": [
    "### d)\n",
    "Wie würde das entsprechende Vertrauensintervall von c) aussehen, wenn wir die Streuung als bekannt voraussetzen würden (mit dem gleichen Wert wie der beobachtete)?"
   ]
  },
  {
   "cell_type": "code",
   "execution_count": null,
   "metadata": {},
   "outputs": [],
   "source": []
  },
  {
   "cell_type": "markdown",
   "metadata": {},
   "source": [
    "### e)\n",
    "Betrachten Sie (unabhängig von dem oben aufgeführten Beispiel) einen einseitigen $t$-Test von $H_0$ : $\\mu = 0$ gegen $H_A$ : $\\mu > 0$ zum Niveau 0.05.\n",
    "\n",
    "Obwohl die beobachteten $n$ Datenpunkte einen empirischen Mittelwert grösser Null haben, ergeben die Berechnungen, dass die Nullhypothese nicht verworfen wird.\n",
    "\n",
    "Entscheiden Sie, ob folgende Aussagen wahr oder falsch sind.\n",
    "\n",
    "| Frage | Richtig | Falsch |\n",
    "| :--- | :--- | :--- |\n",
    "| Man verwirft $H_0$ für kein Niveau $\\alpha < 0.05$ | [ ] | [ ] |\n",
    "| Es gibt ein Niveau $\\alpha < 1$, bei dem man $H_0$ verwirft. | [ ] | [ ] |\n",
    "| Der p-Wert ist strikt kleiner als 0.5. | [ ] | [ ] |\n",
    "| Führt man statt eines einseitigen einen zweiseitigen Test zum Niveau 0.05 durch, verwirft man $H_0$ nicht. | [ ] | [ ] |\n",
    "| Wenn man die Daten immer öfter kopiert (d.h., man betrachtet jeden Datenpunkt $k$-Mal, so dass man insgesamt $k \\cdot n$ Datenpunkte erhält), verwirft man $H_0$ für ein grosses $k$ beim Niveau 0.05 | [ ] | [ ] |"
   ]
  }
 ],
 "metadata": {
  "kernelspec": {
   "display_name": "Python 3",
   "language": "python",
   "name": "python3"
  },
  "language_info": {
   "codemirror_mode": {
    "name": "ipython",
    "version": 3
   },
   "file_extension": ".py",
   "mimetype": "text/x-python",
   "name": "python",
   "nbconvert_exporter": "python",
   "pygments_lexer": "ipython3",
   "version": "3.7.0"
  }
 },
 "nbformat": 4,
 "nbformat_minor": 2
}
