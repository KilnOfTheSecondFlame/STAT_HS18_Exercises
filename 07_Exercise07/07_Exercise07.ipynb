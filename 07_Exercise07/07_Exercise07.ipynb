{
 "cells": [
  {
   "cell_type": "markdown",
   "metadata": {},
   "source": [
    "# Serie 7\n",
    "\n",
    "## Aufgabe 7.1\n",
    "\n",
    "Old Faithful ist ein Geysir im Yellowstone National Park in Wyoming:\n",
    "[https://en.wikipedia.org/wiki/Old_Faithful](https://en.wikipedia.org/wiki/Old_Faithful)\n",
    "Im Datensatz oldfaithful.txt sind Längen von 272 aufeinanderfolgenden Ausbrüchen aufgeführt. Hier ist ein Histogramm der Daten.\n",
    "![Histogramm old Faithful](OldFaithful.png)\n",
    "\n",
    "### a)\n",
    "\n",
    "Schätzen Sie den Mittelwert der Eruptionsdauern abund geben Sie ein 95% Vertrauensintervall mit dem vereinfachten Bootstrap-Verfahren im Skript an. Verwenden Sie dazu 1000 Bootstraps.\n",
    "Setzen Sie für ∗ den Pfad, wo sich Ihr `oldfaithful.txt` befindet\n",
    "```python\n",
    "import numpy as np\n",
    "\n",
    "x = np.loadtxt(r\" * /oldfaithful.txt\")\n",
    "\n",
    "n = np.mean(x)\n",
    "\n",
    "nboot = ....\n",
    "\n",
    "tmpdata = np.random.choice(x, n * nboot, replace=True)\n",
    "\n",
    "bootstrapsample = np.reshape(tmpdata, (n, nboot))\n",
    "\n",
    "xbarstar = np.mean(bootstrapsample, axis=0)\n",
    "\n",
    "d = np.percentile(xbarstar, q=[2.5, 97.5])\n",
    "\n",
    "print('Vertrauensintervall: ',d)\n",
    "```"
   ]
  },
  {
   "cell_type": "code",
   "execution_count": 4,
   "metadata": {
    "scrolled": true
   },
   "outputs": [],
   "source": [
    "import matplotlib.pyplot as plt\n",
    "import scipy.stats as st\n",
    "import seaborn as sns\n",
    "import pandas as pd\n",
    "import numpy as np"
   ]
  },
  {
   "cell_type": "code",
   "execution_count": 26,
   "metadata": {},
   "outputs": [
    {
     "name": "stdout",
     "output_type": "stream",
     "text": [
      "Mittelwert:  209\n",
      "Vertrauensintervall:  [200.21901914 217.62811005]\n"
     ]
    }
   ],
   "source": [
    "x = np.loadtxt(r\"oldfaithful.txt\")\n",
    "\n",
    "np.random.seed(1)\n",
    "\n",
    "n = (int) (np.mean(x))\n",
    "\n",
    "nboot = 1000\n",
    "\n",
    "tmpdata = np.random.choice(x, n * nboot, replace=True)\n",
    "\n",
    "bootstrapsample = np.reshape(tmpdata, (n, nboot))\n",
    "\n",
    "xbarstar = np.mean(bootstrapsample, axis=0)\n",
    "\n",
    "d = np.percentile(xbarstar, q=[2.5, 97.5])\n",
    "\n",
    "print('Mittelwert: ' ,n)\n",
    "print('Vertrauensintervall: ',d)"
   ]
  },
  {
   "cell_type": "markdown",
   "metadata": {},
   "source": [
    "### b)\n",
    "Machen Sie dasselbe für den Median."
   ]
  },
  {
   "cell_type": "code",
   "execution_count": 27,
   "metadata": {},
   "outputs": [
    {
     "name": "stdout",
     "output_type": "stream",
     "text": [
      "Median:  240\n",
      "Vertrauensintervall:  [229.5    247.0125]\n"
     ]
    }
   ],
   "source": [
    "n = (int) (np.median(x))\n",
    "\n",
    "nboot = 1000\n",
    "\n",
    "tmpdata = np.random.choice(x, n * nboot, replace=True)\n",
    "\n",
    "bootstrapsample = np.reshape(tmpdata, (n, nboot))\n",
    "\n",
    "xbarstar = np.median(bootstrapsample, axis=0)\n",
    "\n",
    "d = np.percentile(xbarstar, q=[2.5, 97.5])\n",
    "\n",
    "print('Median: ' ,n)\n",
    "print('Vertrauensintervall: ',d)"
   ]
  },
  {
   "cell_type": "markdown",
   "metadata": {},
   "source": [
    "### c)\n",
    "Schätzen Sie die Wahrscheinlichkeit $P (| \\overline{x} − µ | > 5 )$ ab.\n",
    "Ersetzen Sie zur Abschätzung $µ$ durch den Mittelwert der Daten und $\\overline{x}$ durch die Bootstraps."
   ]
  },
  {
   "cell_type": "code",
   "execution_count": 29,
   "metadata": {},
   "outputs": [
    {
     "name": "stdout",
     "output_type": "stream",
     "text": [
      "0.228\n"
     ]
    }
   ],
   "source": [
    "n = x.size\n",
    "\n",
    "nboot = 1000\n",
    "\n",
    "tmpdata = np.random.choice(x, n * nboot, replace=True)\n",
    "\n",
    "bootstrapsample = np.reshape(tmpdata, (n, nboot))\n",
    "\n",
    "x_diff = np.mean(bootstrapsample, axis=0) - np.mean(x)\n",
    "\n",
    "lower_quantile = np.sum(x_diff < -5)\n",
    "upper_quantile = np.sum(x_diff > 5)\n",
    "\n",
    "print(str((lower_quantile + upper_quantile)/nboot))"
   ]
  },
  {
   "cell_type": "markdown",
   "metadata": {},
   "source": [
    "## Aufgabe 7.2\n",
    "\n",
    "Aus der uniformen Verteilung X ∼ Uniform ([ 0,10 ]) soll eine Stichprobe vom Umfang $n$ gezogen werden.\n",
    "\n",
    "### a)\n",
    "Es sei n = 60. Bestimmen Sie ein symmetrisches Intervall $I = [ µ_X − e,µ_X + e ]$ um den Erwartungswert $µ_X$ so, dass sich das arithmetische Mittel der Stichprobe, also $\\overline{X_{60}}$ , mit der Wahrscheinlichkeit von 95% in I befindet. Ein solches\n",
    "Intervall heisst Prognoseintervall. Hinweis: Standardisieren Sie das arithmetische Mittel $\\overline{X_n}$ und benützen Sie den Zentralen Grenzwertsatz und $P ( \\overline{X_n} ∈ I ) = 0.95$."
   ]
  },
  {
   "cell_type": "markdown",
   "metadata": {},
   "source": [
    "$$\\mu_X = \\frac{0+10}{2} = 5$$\n",
    "$$\\sigma_X = \\frac{10-0}{\\sqrt{12}} = 2.8868$$"
   ]
  },
  {
   "cell_type": "code",
   "execution_count": 35,
   "metadata": {},
   "outputs": [
    {
     "name": "stdout",
     "output_type": "stream",
     "text": [
      "sigma:  2.886751345948129\n",
      "4.269564549519515\n",
      "5.730435450480485\n"
     ]
    }
   ],
   "source": [
    "sigma = 10/np.sqrt(12)\n",
    "print(\"sigma: \", sigma)\n",
    "print(str(st.norm.ppf(q=0.025, loc=5, scale = sigma/np.sqrt(60))))\n",
    "print(str(st.norm.ppf(q=0.975, loc=5, scale = sigma/np.sqrt(60))))"
   ]
  },
  {
   "cell_type": "code",
   "execution_count": 36,
   "metadata": {},
   "outputs": [
    {
     "data": {
      "text/plain": [
       "(4.269564549519515, 5.730435450480485)"
      ]
     },
     "execution_count": 36,
     "metadata": {},
     "output_type": "execute_result"
    }
   ],
   "source": [
    "st.norm.interval(alpha=0.95, loc=5,\n",
    "scale=sigma/np.sqrt(60))"
   ]
  },
  {
   "cell_type": "markdown",
   "metadata": {},
   "source": [
    "### b)\n",
    "Umgekehrt: Wie gross muss n gewählt werden, damit $e = 0.2$ wird?"
   ]
  },
  {
   "cell_type": "markdown",
   "metadata": {},
   "source": [
    "$0.2 = \\frac{5}{\\sqrt{3\\cdot n}} \\rightarrow n = 800$"
   ]
  },
  {
   "cell_type": "markdown",
   "metadata": {},
   "source": [
    "### c)\n",
    "Überprüfen Sie a) experimentell, d.h. mit Python : ziehen Sie viele Stichproben (z.B. 200) und zählen Sie, wie viele ausserhalb von I liegen. \n",
    "`Python`-Hinweise:\n",
    "\n",
    "```python\n",
    "from scipy.stats import uniform\n",
    "import matplotlib.pyplot as plt\n",
    "import numpy as np\n",
    "\n",
    "n = 60 # Anzahl Stichproben\n",
    "\n",
    "# X_1,...,X_n simulieren und in einer\n",
    "# n-spaltigen Matrix (mit 200 Zeilen) anordnen\n",
    "sim = uniform.rvs(size=200 * n, loc=0, scale=10)\n",
    "sim = sim.reshape(200, n)\n",
    "\n",
    "#In jeder Matrixzeile Mittelwert berechnen\n",
    "sim_mean = sim.mean(axis=1)\n",
    "plt.plot(np.arange(1,201,1),sim_mean)\n",
    "\n",
    "# Zeichnen Sie mit axhline(y=...) die\n",
    "# Intervallgrenzen des Prognoseintervalls\n",
    "# in der obigen Graphik ein.\n",
    "```"
   ]
  },
  {
   "cell_type": "code",
   "execution_count": 40,
   "metadata": {},
   "outputs": [
    {
     "name": "stdout",
     "output_type": "stream",
     "text": [
      "Stichproben ausserhalb:  11\n"
     ]
    }
   ],
   "source": [
    "n = 60 # Anzahl Stichproben\n",
    "\n",
    "# X_1,...,X_n simulieren und in einer\n",
    "# n-spaltigen Matrix (mit 200 Zeilen) anordnen\n",
    "sim = st.uniform.rvs(size=200 * n, loc=0, scale=10)\n",
    "sim = sim.reshape(200, n)\n",
    "\n",
    "#In jeder Matrixzeile Mittelwert berechnen\n",
    "sim_mean = sim.mean(axis=1)\n",
    "outliers = np.sum(sim_mean>5.73) + np.sum(sim_mean<4.27)\n",
    "print(\"Stichproben ausserhalb: \",outliers)"
   ]
  },
  {
   "cell_type": "markdown",
   "metadata": {},
   "source": [
    "## Aufgabe 7.3\n",
    "Aufgrund langjähriger Untersuchungen ist bekannt, dass der Bleigehalt X von gewissen Bodenproben annähernd normal-verteilt ist $X ∼ N( µ,σ^2 )$\n",
    "\n",
    "### a)\n",
    "Es wurden in 10 Bodenproben der Bleigehalt X gemessen. Dabei wurde ein Mittelwert von $\\bar{x}_{10} = 31 ppb$ erhalten. Die Standardabweichung sei bekannt und beträgt 6ppb.\n",
    "\n",
    "Geben Sie das zweiseitige 99% Vertrauensintervall für den Mittelwert an."
   ]
  },
  {
   "cell_type": "code",
   "execution_count": 37,
   "metadata": {},
   "outputs": [
    {
     "data": {
      "text/plain": [
       "(26.112707522188142, 35.887292477811854)"
      ]
     },
     "execution_count": 37,
     "metadata": {},
     "output_type": "execute_result"
    }
   ],
   "source": [
    "st.norm.interval(alpha=0.99, loc=31, scale=6/np.sqrt(10))"
   ]
  },
  {
   "cell_type": "markdown",
   "metadata": {},
   "source": [
    "### b)\n",
    "\n",
    "Wie viele Beobachtungen sind nötig, um die Breite des in Teilaufgabe a) bestimmten zweiseitigen Vertrauensintervalls auf die Hälfte zu reduzieren?\n",
    "\n",
    "Wie viele (unabhängige) Bestimmungen des Bleigehalts müssen geplant werden, falls der Bleigehalt mit einer Stichprobe „1ppb genau” bestimmt werden soll, d.h., wenn die Breite des 99% des Konfidenzintervalls nicht grösser als\n",
    "1ppb sein soll?"
   ]
  },
  {
   "cell_type": "markdown",
   "metadata": {},
   "source": [
    "Das $\\sqrt{n}$-Gesetz besagt, dass wenn wir den Standardfehler halbieren wollen, wir viermal soviele Proben nehmen müssen."
   ]
  },
  {
   "cell_type": "markdown",
   "metadata": {},
   "source": [
    "Grenzen: \n",
    "$$X +- \\frac{\\phi^{-1}(Perzentil)}{\\sigma_X/\\sqrt{n}}$$\n",
    "\n",
    "Differenz obere/untere Grenze = 1\n",
    "\n",
    "$$ 1 = 2 \\cdot \\frac{2.58}{6/\\sqrt{n}}$$\n",
    "$$ 1 = 2 \\cdot 2.58\\frac{6}{\\sqrt{n}}$$\n",
    "\n",
    "$$ n = 959$$"
   ]
  },
  {
   "cell_type": "markdown",
   "metadata": {},
   "source": []
  },
  {
   "cell_type": "markdown",
   "metadata": {},
   "source": []
  },
  {
   "cell_type": "markdown",
   "metadata": {},
   "source": []
  },
  {
   "cell_type": "markdown",
   "metadata": {},
   "source": []
  },
  {
   "cell_type": "markdown",
   "metadata": {},
   "source": []
  },
  {
   "cell_type": "markdown",
   "metadata": {},
   "source": []
  },
  {
   "cell_type": "markdown",
   "metadata": {},
   "source": []
  },
  {
   "cell_type": "markdown",
   "metadata": {},
   "source": []
  },
  {
   "cell_type": "markdown",
   "metadata": {},
   "source": []
  },
  {
   "cell_type": "markdown",
   "metadata": {},
   "source": []
  }
 ],
 "metadata": {
  "kernelspec": {
   "display_name": "Python 3",
   "language": "python",
   "name": "python3"
  },
  "language_info": {
   "codemirror_mode": {
    "name": "ipython",
    "version": 3
   },
   "file_extension": ".py",
   "mimetype": "text/x-python",
   "name": "python",
   "nbconvert_exporter": "python",
   "pygments_lexer": "ipython3",
   "version": "3.7.0"
  }
 },
 "nbformat": 4,
 "nbformat_minor": 2
}
